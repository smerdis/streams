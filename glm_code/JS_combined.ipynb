{
 "cells": [
  {
   "cell_type": "code",
   "execution_count": 1,
   "metadata": {
    "ExecuteTime": {
     "end_time": "2020-08-28T16:44:23.892127Z",
     "start_time": "2020-08-28T16:44:23.850145Z"
    },
    "scrolled": true
   },
   "outputs": [],
   "source": [
    "%load_ext autoreload\n",
    "%autoreload 2"
   ]
  },
  {
   "cell_type": "code",
   "execution_count": 2,
   "metadata": {
    "ExecuteTime": {
     "end_time": "2020-08-28T16:44:30.534247Z",
     "start_time": "2020-08-28T16:44:24.433003Z"
    },
    "scrolled": true
   },
   "outputs": [],
   "source": [
    "import utils # stuff I've written for this project\n",
    "\n",
    "import os, sys, datetime, glob, re\n",
    "import os.path as op\n",
    "\n",
    "import numpy as np\n",
    "np.set_printoptions(precision=4)\n",
    "import pandas as pd\n",
    "import matplotlib.pyplot as plt\n",
    "import matplotlib.mlab as mlab\n",
    "import shutil\n",
    "\n",
    "import nibabel as nib\n",
    "\n",
    "import nilearn\n",
    "from nilearn.masking import apply_mask\n",
    "from nilearn.plotting import plot_img, plot_epi, plot_roi, plot_stat_map, view_img, plot_anat\n",
    "from nilearn.image import load_img, threshold_img, math_img, resample_to_img, new_img_like\n",
    "from nilearn.input_data import NiftiMasker\n",
    "\n",
    "import nitime\n",
    "import nitime.fmri.io as nfio\n",
    "import nitime.timeseries as ts\n",
    "import nitime.analysis as nta\n",
    "import nitime.utils as ntu\n",
    "import nitime.viz as ntv\n",
    "import nitime.algorithms as ntalg\n",
    "\n",
    "import scipy\n",
    "\n",
    "from bids import BIDSLayout"
   ]
  },
  {
   "cell_type": "code",
   "execution_count": 3,
   "metadata": {
    "ExecuteTime": {
     "end_time": "2020-08-28T16:44:30.611464Z",
     "start_time": "2020-08-28T16:44:30.537190Z"
    },
    "scrolled": true
   },
   "outputs": [],
   "source": [
    "%matplotlib inline"
   ]
  },
  {
   "cell_type": "code",
   "execution_count": 4,
   "metadata": {
    "ExecuteTime": {
     "end_time": "2020-08-28T16:44:30.683866Z",
     "start_time": "2020-08-28T16:44:30.614803Z"
    },
    "scrolled": true
   },
   "outputs": [
    {
     "name": "stdout",
     "output_type": "stream",
     "text": [
      " numpy:  1.20.0 \n",
      " nibabel:  3.2.1 \n",
      " nilearn:  0.7.0 \n",
      " nitime:  0.9 \n",
      " scipy:  1.6.0\n"
     ]
    }
   ],
   "source": [
    "print(' numpy: ', np.__version__, '\\n',\n",
    "      'nibabel: ', nib.__version__, '\\n',\n",
    "      'nilearn: ', nilearn.__version__, '\\n',\n",
    "      'nitime: ', nitime.__version__, '\\n',\n",
    "      'scipy: ', scipy.__version__)"
   ]
  },
  {
   "cell_type": "markdown",
   "metadata": {},
   "source": [
    "### Initial definitions (before any preprocessing)\n",
    "\n",
    " * conn_ref_vol should be the first volume of the first run of the connectivity task\n",
    " * hemi_ref_vol should be the first volume of the first run of the hemifield task IN THE SAME SESSION\n",
    "   * changed for this subject to have more explicit names for hemifield tasks from each session\n",
    "     * lgn_hemi_ref_vol is the hemifield runs from the lgn session\n",
    " * lgn_ref_vol should be the reference volume of the LGN scans, a separate session (20191221 in this case)"
   ]
  },
  {
   "cell_type": "code",
   "execution_count": 5,
   "metadata": {},
   "outputs": [
    {
     "name": "stderr",
     "output_type": "stream",
     "text": [
      "//anaconda/envs/streams/lib/python3.7/site-packages/bids/layout/models.py:152: FutureWarning: The 'extension' entity currently excludes the leading dot ('.'). As of version 0.14.0, it will include the leading dot. To suppress this warning and include the leading dot, use `bids.config.set_option('extension_initial_dot', True)`.\n",
      "  FutureWarning)\n"
     ]
    }
   ],
   "source": [
    "sub = \"JS\"\n",
    "ses_lgn = \"20210505\"\n",
    "#ses_prf = \"20201215\"\n",
    "#ses_conn = ???\n",
    "\n",
    "raw_data_dir = os.path.abspath(\"/Users/smerdis/data/LGN/BIDS/JS_combined/sub-JS/\")\n",
    "raw_layout = BIDSLayout(raw_data_dir, validate=False, derivatives=False)\n",
    "derivs_dir = os.path.abspath(\"/Users/smerdis/data/LGN/BIDS/JS_combined/derivatives/streams\")\n",
    "out_dir = os.path.abspath(f\"{derivs_dir}/sub-{sub}\")\n",
    "if not os.path.isdir(out_dir):\n",
    "    os.makedirs(out_dir)\n",
    "#conn_ref_vol_name = f\"sub-{sub}_ses-{ses_conn}_task-conn_refvol\"\n",
    "#conn_ref_vol_path = os.path.abspath(f\"{out_dir}/{conn_ref_vol_name}.nii.gz\")\n",
    "#conn_mask_file = os.path.join(out_dir, f\"sub-{sub}_ses-{ses_conn}_task-conn_mask.nii.gz\")\n",
    "lgn_hemi_ref_vol_name = f\"sub-{sub}_ses-{ses_lgn}_task-hemi_refvol\"\n",
    "lgn_hemi_ref_vol_path = os.path.abspath(f\"{out_dir}/{lgn_hemi_ref_vol_name}.nii.gz\")\n",
    "lgn_hemi_mask_file = os.path.join(out_dir, f\"sub-{sub}_ses-{ses_lgn}_task-hemi_mask.nii.gz\")\n",
    "#prf_ref_vol_name = f\"sub-{sub}_ses-{ses_prf}_refvol.nii.gz\"\n",
    "#prf_ref_vol_path = os.path.abspath(f\"{out_dir}/{prf_ref_vol_name}\")"
   ]
  },
  {
   "cell_type": "code",
   "execution_count": 6,
   "metadata": {},
   "outputs": [
    {
     "name": "stdout",
     "output_type": "stream",
     "text": [
      "\u001b[34msub-JS_ses-20210505_task-hemi_run-01_desc-mcflirt_bold.mat\u001b[m\u001b[m\r\n",
      "sub-JS_ses-20210505_task-hemi_run-01_desc-mcflirt_bold.nii.gz\r\n",
      "sub-JS_ses-20210505_task-hemi_run-01_desc-mcflirt_bold.par\r\n",
      "\u001b[34msub-JS_ses-20210505_task-hemi_run-02_desc-mcflirt_bold.mat\u001b[m\u001b[m\r\n",
      "sub-JS_ses-20210505_task-hemi_run-02_desc-mcflirt_bold.nii.gz\r\n",
      "sub-JS_ses-20210505_task-hemi_run-02_desc-mcflirt_bold.par\r\n",
      "\u001b[34msub-JS_ses-20210505_task-mp_run-01_desc-mcflirt_bold.mat\u001b[m\u001b[m\r\n",
      "sub-JS_ses-20210505_task-mp_run-01_desc-mcflirt_bold.nii.gz\r\n",
      "sub-JS_ses-20210505_task-mp_run-01_desc-mcflirt_bold.par\r\n",
      "\u001b[34msub-JS_ses-20210505_task-mp_run-02_desc-mcflirt_bold.mat\u001b[m\u001b[m\r\n",
      "sub-JS_ses-20210505_task-mp_run-02_desc-mcflirt_bold.nii.gz\r\n",
      "sub-JS_ses-20210505_task-mp_run-02_desc-mcflirt_bold.par\r\n",
      "\u001b[34msub-JS_ses-20210505_task-mp_run-03_desc-mcflirt_bold.mat\u001b[m\u001b[m\r\n",
      "sub-JS_ses-20210505_task-mp_run-03_desc-mcflirt_bold.nii.gz\r\n",
      "sub-JS_ses-20210505_task-mp_run-03_desc-mcflirt_bold.par\r\n",
      "\u001b[34msub-JS_ses-20210505_task-mp_run-04_desc-mcflirt_bold.mat\u001b[m\u001b[m\r\n",
      "sub-JS_ses-20210505_task-mp_run-04_desc-mcflirt_bold.nii.gz\r\n",
      "sub-JS_ses-20210505_task-mp_run-04_desc-mcflirt_bold.par\r\n",
      "\u001b[34msub-JS_ses-20210505_task-mp_run-05_desc-mcflirt_bold.mat\u001b[m\u001b[m\r\n",
      "sub-JS_ses-20210505_task-mp_run-05_desc-mcflirt_bold.nii.gz\r\n",
      "sub-JS_ses-20210505_task-mp_run-05_desc-mcflirt_bold.par\r\n",
      "\u001b[34msub-JS_ses-20210505_task-mp_run-06_desc-mcflirt_bold.mat\u001b[m\u001b[m\r\n",
      "sub-JS_ses-20210505_task-mp_run-06_desc-mcflirt_bold.nii.gz\r\n",
      "sub-JS_ses-20210505_task-mp_run-06_desc-mcflirt_bold.par\r\n",
      "\u001b[34msub-JS_ses-20210505_task-mp_run-07_desc-mcflirt_bold.mat\u001b[m\u001b[m\r\n",
      "sub-JS_ses-20210505_task-mp_run-07_desc-mcflirt_bold.nii.gz\r\n",
      "sub-JS_ses-20210505_task-mp_run-07_desc-mcflirt_bold.par\r\n",
      "\u001b[34msub-JS_ses-20210505_task-mp_run-08_desc-mcflirt_bold.mat\u001b[m\u001b[m\r\n",
      "sub-JS_ses-20210505_task-mp_run-08_desc-mcflirt_bold.nii.gz\r\n",
      "sub-JS_ses-20210505_task-mp_run-08_desc-mcflirt_bold.par\r\n"
     ]
    }
   ],
   "source": [
    "#!ls \"{raw_data_dir}/ses-{ses_lgn}/func\"\n",
    "!ls \"{derivs_dir}/sub-{sub}/ses-{ses_lgn}/func\""
   ]
  },
  {
   "cell_type": "markdown",
   "metadata": {},
   "source": [
    "### Begin Preprocessing"
   ]
  },
  {
   "cell_type": "markdown",
   "metadata": {
    "heading_collapsed": true
   },
   "source": [
    "#### Make ref_vol from first dicom"
   ]
  },
  {
   "cell_type": "code",
   "execution_count": null,
   "metadata": {
    "ExecuteTime": {
     "end_time": "2020-01-29T22:54:07.665170Z",
     "start_time": "2020-01-29T22:54:07.611446Z"
    },
    "hidden": true,
    "scrolled": true
   },
   "outputs": [],
   "source": [
    "### need to escape spaces!\n",
    "### Do for each type of scan, e.g. MB3, hemifield\n",
    "#first_dicom_conn = \"/Users/smerdis/data/LGN/Nb_20201029_Conn/Silver_Arjun\\ -\\ 1/mb_bold_mb3_1p75mm_PSN_1p75slice_7/IM-0007-0001.dcm\"\n",
    "first_dicom_hemi = \"/Users/smerdis/data/LGN/Js_Lgn_20210505/Silver_Arjun\\ -\\ 1/sb_bold_1p75mmISO_PSN_3/IM-0003-0001.dcm\"\n",
    "# first_dicom = \"/Users/smerdis/data/LGN/Nb_20191221/Silver_Arjun - 1/sb_bold_1p75mmISO_PSN_6/IM-0006-0001.dcm\""
   ]
  },
  {
   "cell_type": "code",
   "execution_count": null,
   "metadata": {
    "ExecuteTime": {
     "end_time": "2020-01-29T22:54:08.497099Z",
     "start_time": "2020-01-29T22:54:08.306179Z"
    },
    "hidden": true,
    "scrolled": true
   },
   "outputs": [],
   "source": [
    "#!ls {first_dicom_conn}\n",
    "!ls {first_dicom_hemi}"
   ]
  },
  {
   "cell_type": "code",
   "execution_count": null,
   "metadata": {
    "ExecuteTime": {
     "end_time": "2020-01-29T22:54:20.815606Z",
     "start_time": "2020-01-29T22:54:20.643774Z"
    },
    "hidden": true,
    "scrolled": true
   },
   "outputs": [],
   "source": [
    "dcm2niix_cmd = f\"dcm2niix -v 2 -s y -f {conn_ref_vol_name} -z y -o {out_dir} {first_dicom_conn}\"\n",
    "print(dcm2niix_cmd)\n",
    "#os.system(dcm2niix_cmd)"
   ]
  },
  {
   "cell_type": "code",
   "execution_count": null,
   "metadata": {},
   "outputs": [],
   "source": [
    "dcm2niix_cmd = f\"dcm2niix -v 2 -s y -f {lgn_hemi_ref_vol_name} -z y -o {out_dir} {first_dicom_hemi}\"\n",
    "print(dcm2niix_cmd)"
   ]
  },
  {
   "cell_type": "code",
   "execution_count": null,
   "metadata": {
    "ExecuteTime": {
     "end_time": "2020-01-25T20:47:03.276428Z",
     "start_time": "2020-01-25T20:47:03.093980Z"
    },
    "hidden": true,
    "scrolled": true
   },
   "outputs": [],
   "source": [
    "!ls {out_dir}"
   ]
  },
  {
   "cell_type": "markdown",
   "metadata": {},
   "source": [
    "### Define refence volume"
   ]
  },
  {
   "cell_type": "code",
   "execution_count": null,
   "metadata": {},
   "outputs": [],
   "source": [
    "#conn_ref_vol_img = load_img(conn_ref_vol_path)\n",
    "# lgn_hemi_ref_vol_img = load_img(lgn_hemi_ref_vol_path)\n",
    "# because hemifield and mp use the same sequence and are collected in the same session, just use the same refvol\n",
    "# mp_ref_vol_img = lgn_hemi_ref_vol_img\n",
    "#prf_ref_vol_img = load_img(prf_ref_vol_path)"
   ]
  },
  {
   "cell_type": "code",
   "execution_count": null,
   "metadata": {
    "ExecuteTime": {
     "end_time": "2020-01-27T20:01:49.922292Z",
     "start_time": "2020-01-27T20:01:48.627760Z"
    },
    "hidden": true,
    "scrolled": true
   },
   "outputs": [],
   "source": [
    "#raw_bolds_conn = sorted([f for f in raw_layout.get(subject=sub, session=ses, task='conn', suffix='bold',\n",
    "#            extension=['nii.gz'], return_type='file')])\n",
    "raw_bolds_hemi = sorted([f for f in raw_layout.get(subject=sub, session=ses_lgn, task='hemi', suffix='bold',\n",
    "            extension=['nii.gz'], return_type='file')])\n",
    "raw_bolds_mp = sorted([f for f in raw_layout.get(subject=sub, session=ses_lgn, task='mp', suffix='bold',\n",
    "            extension=['nii.gz'], return_type='file')])"
   ]
  },
  {
   "cell_type": "code",
   "execution_count": null,
   "metadata": {},
   "outputs": [],
   "source": [
    "!ls {lgn_hemi_ref_vol_path}"
   ]
  },
  {
   "cell_type": "code",
   "execution_count": null,
   "metadata": {},
   "outputs": [],
   "source": [
    "print(raw_bolds_mp)"
   ]
  },
  {
   "cell_type": "markdown",
   "metadata": {
    "heading_collapsed": true
   },
   "source": [
    "#### mcflirt the bold files using ref_vol as the reference image, save them as _preproc"
   ]
  },
  {
   "cell_type": "code",
   "execution_count": null,
   "metadata": {
    "ExecuteTime": {
     "end_time": "2020-01-27T20:01:51.006474Z",
     "start_time": "2020-01-27T20:01:50.940631Z"
    },
    "hidden": true,
    "scrolled": true
   },
   "outputs": [],
   "source": [
    "print(\"\\n\".join(raw_bolds_hemi))"
   ]
  },
  {
   "cell_type": "code",
   "execution_count": null,
   "metadata": {},
   "outputs": [],
   "source": [
    "def make_preproc_name(this_epi, part='desc-preproc', index=-1):\n",
    "    epi_name = os.path.basename(this_epi)\n",
    "    epi_stub = epi_name.split('.')[0]\n",
    "    epi_stub_parts = epi_stub.split('_')\n",
    "    epi_stub_parts.insert(index, part)\n",
    "    epi_stub_mcf = '_'.join(epi_stub_parts)\n",
    "    return epi_stub_mcf\n",
    "    "
   ]
  },
  {
   "cell_type": "code",
   "execution_count": null,
   "metadata": {
    "ExecuteTime": {
     "end_time": "2020-01-27T20:16:55.516992Z",
     "start_time": "2020-01-27T20:12:48.776666Z"
    },
    "code_folding": [],
    "hidden": true,
    "scrolled": true
   },
   "outputs": [],
   "source": [
    "for this_epi in raw_bolds_conn:\n",
    "    align_to = 'refvol' #'refvol' # or 'anat'\n",
    "    epi_stub_mcf = make_preproc_name(this_epi)\n",
    "    if not os.path.isdir(os.path.join(out_dir, f\"ses-{ses}\", \"func\")):\n",
    "        os.makedirs(os.path.join(out_dir, f\"ses-{ses}\", \"func\"))\n",
    "    full_outpath = os.path.join(out_dir, f\"ses-{ses}\", \"func\", epi_stub_mcf)\n",
    "    if align_to == 'refvol':\n",
    "        mcflirt_cmd = f\"mcflirt -reffile {conn_ref_vol_path} -mats -plots -report -cost mutualinfo -smooth 16 -in {this_epi} -o {full_outpath}\"\n",
    "    elif align_to == 'anat':\n",
    "        mcflirt_cmd = f\"mcflirt -reffile {anat_file} -mats -plots -report -cost mutualinfo -smooth 16 -in {this_epi} -o {full_outpath}_anatalign\"\n",
    "    print(mcflirt_cmd)\n",
    "    #os.system(mcflirt_cmd)"
   ]
  },
  {
   "cell_type": "code",
   "execution_count": null,
   "metadata": {},
   "outputs": [],
   "source": [
    "for this_epi in raw_bolds_hemi:\n",
    "    align_to = 'refvol' #'refvol' # or 'anat'\n",
    "    epi_stub_mcf = make_preproc_name(this_epi, 'desc-mcflirt', -1)\n",
    "    if not os.path.isdir(os.path.join(out_dir, f\"ses-{ses_lgn}\", \"func\")):\n",
    "        os.makedirs(os.path.join(out_dir, f\"ses-{ses_lgn}\", \"func\"))\n",
    "    full_outpath = os.path.join(out_dir, f\"ses-{ses_lgn}\", \"func\", epi_stub_mcf)\n",
    "    if align_to == 'refvol':\n",
    "        mcflirt_cmd = f\"mcflirt -reffile {lgn_hemi_ref_vol_path} -mats -plots -report -cost mutualinfo -smooth 16 -in {this_epi} -o {full_outpath}\"\n",
    "    elif align_to == 'anat':\n",
    "        mcflirt_cmd = f\"mcflirt -reffile {anat_file} -mats -plots -report -cost mutualinfo -smooth 16 -in {this_epi} -o {full_outpath}_anatalign\"\n",
    "    print(mcflirt_cmd)\n",
    "    os.system(mcflirt_cmd)"
   ]
  },
  {
   "cell_type": "code",
   "execution_count": null,
   "metadata": {},
   "outputs": [],
   "source": [
    "for this_epi in raw_bolds_mp:\n",
    "    align_to = 'refvol' #'refvol' # or 'anat'\n",
    "    epi_stub_mcf = make_preproc_name(this_epi, 'desc-mcflirt', -1)\n",
    "    if not os.path.isdir(os.path.join(out_dir, f\"ses-{ses_lgn}\", \"func\")):\n",
    "        os.makedirs(os.path.join(out_dir, f\"ses-{ses_lgn}\", \"func\"))\n",
    "    full_outpath = os.path.join(out_dir, f\"ses-{ses_lgn}\", \"func\", epi_stub_mcf)\n",
    "    if align_to == 'refvol':\n",
    "        mcflirt_cmd = f\"mcflirt -reffile {lgn_hemi_ref_vol_path} -mats -plots -report -cost mutualinfo -smooth 16 -in {this_epi} -o {full_outpath}\"\n",
    "    elif align_to == 'anat':\n",
    "        mcflirt_cmd = f\"mcflirt -reffile {anat_file} -mats -plots -report -cost mutualinfo -smooth 16 -in {this_epi} -o {full_outpath}_anatalign\"\n",
    "    print(mcflirt_cmd)\n",
    "    os.system(mcflirt_cmd)"
   ]
  },
  {
   "cell_type": "code",
   "execution_count": null,
   "metadata": {},
   "outputs": [],
   "source": [
    "!ls {out_dir}/ses-{ses_lgn}/func"
   ]
  },
  {
   "cell_type": "markdown",
   "metadata": {
    "heading_collapsed": true,
    "hidden": true
   },
   "source": [
    "#### make brainmask if it doesn't exist already"
   ]
  },
  {
   "cell_type": "code",
   "execution_count": null,
   "metadata": {},
   "outputs": [],
   "source": [
    "raw_bolds_conn"
   ]
  },
  {
   "cell_type": "code",
   "execution_count": null,
   "metadata": {},
   "outputs": [],
   "source": [
    "conn_ref_bold_run = raw_bolds_conn[0]\n",
    "conn_TR = raw_layout.get_tr(conn_ref_bold_run)\n"
   ]
  },
  {
   "cell_type": "code",
   "execution_count": null,
   "metadata": {},
   "outputs": [],
   "source": [
    "conn_TR, hemi_TR"
   ]
  },
  {
   "cell_type": "code",
   "execution_count": null,
   "metadata": {
    "ExecuteTime": {
     "end_time": "2020-01-27T20:31:31.246207Z",
     "start_time": "2020-01-27T20:31:31.189935Z"
    },
    "hidden": true,
    "scrolled": true
   },
   "outputs": [],
   "source": [
    "conn_masker = NiftiMasker(detrend=False, standardize=False, mask_strategy=\"epi\", t_r=conn_TR)\n",
    "conn_masker.fit(conn_ref_bold_run)\n",
    "conn_masker.mask_img_.to_filename(conn_mask_file)\n",
    "conn_mask_img = conn_masker.mask_img_\n",
    "print(conn_mask_file, conn_mask_img.shape)"
   ]
  },
  {
   "cell_type": "code",
   "execution_count": null,
   "metadata": {
    "ExecuteTime": {
     "end_time": "2020-01-27T20:31:48.188187Z",
     "start_time": "2020-01-27T20:31:48.129585Z"
    },
    "hidden": true,
    "scrolled": true
   },
   "outputs": [],
   "source": [
    "hemi_ref_bold_run = raw_bolds_hemi[0]\n",
    "hemi_TR = raw_layout.get_tr(hemi_ref_bold_run)\n",
    "hemi_masker = NiftiMasker(detrend=False, standardize=False, mask_strategy=\"epi\", t_r=hemi_TR)\n",
    "hemi_masker.fit(hemi_ref_bold_run)\n",
    "hemi_masker.mask_img_.to_filename(hemi_mask_file)\n",
    "hemi_mask_img = hemi_masker.mask_img_\n",
    "print(hemi_mask_file, hemi_mask_img.shape)"
   ]
  },
  {
   "cell_type": "markdown",
   "metadata": {
    "heading_collapsed": true
   },
   "source": [
    "#### Move event and json files"
   ]
  },
  {
   "cell_type": "code",
   "execution_count": null,
   "metadata": {
    "ExecuteTime": {
     "end_time": "2020-01-27T19:19:32.675087Z",
     "start_time": "2020-01-27T19:19:32.623862Z"
    },
    "hidden": true,
    "scrolled": true
   },
   "outputs": [],
   "source": [
    "#events_glob = f\"{raw_data_dir}/ses-{ses_lgn}/func/*events*.tsv\"\n",
    "for ef in glob.glob(events_glob):\n",
    "    parts = ef.split('_')\n",
    "    for i, part in enumerate(parts):\n",
    "        #print(i, part)\n",
    "        if 'sub-js' in part:\n",
    "            parts[i] = part.replace('sub-js', 'sub-JS')\n",
    "    [lastpart, ext] = parts[-1].split('.')\n",
    "    #print(parts, lastpart, ext, lastpart.isnumeric())\n",
    "    if lastpart.isnumeric(): # the event file has a suffix indicating the time it was written, remove it\n",
    "        parts[-2] = parts[-2] + '.' + ext\n",
    "        out_fn = '_'.join(parts[:-1])\n",
    "        cmd = f\"cp {ef} {out_fn}\"\n",
    "        print(cmd)\n",
    "        os.system(cmd)\n",
    "#task_json_glob = f\"{raw_data_dir}/ses-{ses_lgn}/func/*task*json\"\n",
    "#print(\"\\n\".join(glob.glob(task_json_glob)))"
   ]
  },
  {
   "cell_type": "markdown",
   "metadata": {},
   "source": [
    "### Define paths etc"
   ]
  },
  {
   "cell_type": "code",
   "execution_count": 7,
   "metadata": {},
   "outputs": [
    {
     "name": "stdout",
     "output_type": "stream",
     "text": [
      "\u001b[34mses-20210505\u001b[m\u001b[m\r\n",
      "sub-JS_ses-20210505_desc-LLGNv2M80_roi.nii.gz\r\n",
      "sub-JS_ses-20210505_desc-LLGNv2P80_roi.nii.gz\r\n",
      "sub-JS_ses-20210505_desc-LLGNv2_roi.nii.gz\r\n",
      "sub-JS_ses-20210505_desc-RLGNv2M80_roi.nii.gz\r\n",
      "sub-JS_ses-20210505_desc-RLGNv2P80_roi.nii.gz\r\n",
      "sub-JS_ses-20210505_desc-RLGNv2_roi.nii.gz\r\n",
      "sub-JS_ses-20210505_task-hemi_desc-betaLR_map.nii.gz\r\n",
      "sub-JS_ses-20210505_task-hemi_desc-betaRL_map.nii.gz\r\n",
      "sub-JS_ses-20210505_task-hemi_mask.nii.gz\r\n",
      "sub-JS_ses-20210505_task-hemi_refvol.json\r\n",
      "sub-JS_ses-20210505_task-hemi_refvol.nii.gz\r\n",
      "sub-JS_ses-20210505_task-mp_desc-betaMP_map.nii.gz\r\n"
     ]
    }
   ],
   "source": [
    "!ls {out_dir}"
   ]
  },
  {
   "cell_type": "code",
   "execution_count": 8,
   "metadata": {
    "ExecuteTime": {
     "end_time": "2020-08-28T16:44:33.547536Z",
     "start_time": "2020-08-28T16:44:32.947982Z"
    },
    "scrolled": true
   },
   "outputs": [
    {
     "name": "stdout",
     "output_type": "stream",
     "text": [
      "LGN rois (including M/P):\n",
      "/Users/smerdis/data/LGN/BIDS/JS_combined/derivatives/streams/sub-JS/sub-JS_ses-20210505_desc-LLGNv2_roi.nii.gz\n",
      "/Users/smerdis/data/LGN/BIDS/JS_combined/derivatives/streams/sub-JS/sub-JS_ses-20210505_desc-LLGNv2M80_roi.nii.gz\n",
      "/Users/smerdis/data/LGN/BIDS/JS_combined/derivatives/streams/sub-JS/sub-JS_ses-20210505_desc-LLGNv2P80_roi.nii.gz\n",
      "/Users/smerdis/data/LGN/BIDS/JS_combined/derivatives/streams/sub-JS/sub-JS_ses-20210505_desc-RLGNv2_roi.nii.gz\n",
      "/Users/smerdis/data/LGN/BIDS/JS_combined/derivatives/streams/sub-JS/sub-JS_ses-20210505_desc-RLGNv2M80_roi.nii.gz\n",
      "/Users/smerdis/data/LGN/BIDS/JS_combined/derivatives/streams/sub-JS/sub-JS_ses-20210505_desc-RLGNv2P80_roi.nii.gz\n",
      "LGN rois (LGN only):\n",
      "/Users/smerdis/data/LGN/BIDS/JS_combined/derivatives/streams/sub-JS/sub-JS_ses-20210505_desc-LLGNv2_roi.nii.gz\n",
      "/Users/smerdis/data/LGN/BIDS/JS_combined/derivatives/streams/sub-JS/sub-JS_ses-20210505_desc-RLGNv2_roi.nii.gz\n",
      "Cortical rois: \n",
      "\n",
      "LGN session refvol: \n",
      "/Users/smerdis/data/LGN/BIDS/JS_combined/derivatives/streams/sub-JS/sub-JS_ses-20210505_task-hemi_refvol.nii.gz\n",
      "LGN session brainmask: \n",
      "/Users/smerdis/data/LGN/BIDS/JS_combined/derivatives/streams/sub-JS/sub-JS_ses-20210505_task-hemi_mask.nii.gz\n",
      "anat file: \n",
      "/Users/smerdis/data/LGN/BIDS/JS_combined/sub-JS/ses-20210505/anat/sub-JS_ses-20210505_T1w.nii.gz\n"
     ]
    }
   ],
   "source": [
    "preproc_layout = BIDSLayout(out_dir, validate=False)\n",
    "# get only the big LGN masks, not any smaller M/P rois already assigned\n",
    "rois = [f for f in\n",
    "        preproc_layout.get(subject=sub, extension=['.nii.gz'], suffix='roi', return_type='file')\n",
    "        if (\"desc-LLGN\" in f or \"desc-RLGN\" in f) and ('T1w' not in f)]\n",
    "big_rois = [f for f in\n",
    "        preproc_layout.get(subject=sub, extension=['.nii.gz'], suffix='roi', return_type='file')\n",
    "        if (\"desc-LLGN\" in f or \"desc-RLGN\" in f) and ('P' not in f and 'M' not in f and 'T1w' not in f)]\n",
    "cortical_rois = [f for f in\n",
    "        preproc_layout.get(subject=sub, extension=['.nii.gz'], suffix='roi', return_type='file')\n",
    "        if (\"desc-Lcortex\" in f or \"desc-Rcortex\" in f)]\n",
    "lgn_ref_vol = lgn_hemi_ref_vol_path # using hemifield ref vol as refvol for all lgn scans (ses 20210505)\n",
    "lgn_ref_img = load_img(lgn_ref_vol)\n",
    "lgn_mask_file = lgn_hemi_mask_file # and hemifield mask as mask for all lgn scans (ses 20210505)\n",
    "#lgn_coh_fn = os.path.join(out_dir, f\"sub-{sub}_ses-20191221_task-hemi_desc-LGNcoherence_map.nii\")\n",
    "#hemi_coh_fn = os.path.join(out_dir, f\"sub-{sub}_ses-{ses}_task-hemi_desc-LGNcoherence_map.nii\")\n",
    "#cortex_coh_fn = os.path.join(out_dir, f\"sub-{sub}_ses-20191221_task-hemi_desc-cortexcoherence_map.nii\")\n",
    "anat_file = raw_layout.get(subject=sub, session=ses_lgn, extension=['nii.gz'], suffix=\"T1w\", return_type='file')[0]\n",
    "anat_img = load_img(anat_file)\n",
    "\n",
    "print(\"LGN rois (including M/P):\", '\\n'.join(rois),\n",
    "      \"LGN rois (LGN only):\", '\\n'.join(big_rois),\n",
    "      \"Cortical rois: \", '\\n'.join(cortical_rois),\n",
    "#      \"Reference BOLD volume for connectivity:\", conn_ref_vol_path,\n",
    "#      \"Brainmask for connectivity\", conn_mask_file,\n",
    "#      \"Reference BOLD volume for hemifield scans in connectivity session:\", hemi_ref_vol_path,\n",
    "#      \"Brainmask for hemifield scans in connectivity session\", hemi_mask_file,\n",
    "      \"LGN session refvol: \", lgn_ref_vol,\n",
    "      \"LGN session brainmask: \", lgn_mask_file,\n",
    "      \"anat file: \", anat_file, sep=\"\\n\")"
   ]
  },
  {
   "cell_type": "code",
   "execution_count": 9,
   "metadata": {},
   "outputs": [
    {
     "name": "stdout",
     "output_type": "stream",
     "text": [
      "fsleyes /Users/smerdis/data/LGN/BIDS/JS_combined/sub-JS/ses-20210505/anat/sub-JS_ses-20210505_T1w.nii.gz /Users/smerdis/data/LGN/BIDS/JS_combined/derivatives/streams/sub-JS/sub-JS_ses-20210505_task-hemi_refvol.nii.gz\n"
     ]
    }
   ],
   "source": [
    "print(f\"fsleyes {anat_file} {lgn_ref_vol}\")"
   ]
  },
  {
   "cell_type": "markdown",
   "metadata": {},
   "source": [
    "### FLIRT to get everything in the same space"
   ]
  },
  {
   "cell_type": "markdown",
   "metadata": {},
   "source": [
    "#### flirt first MB3 epi to T1"
   ]
  },
  {
   "cell_type": "code",
   "execution_count": null,
   "metadata": {},
   "outputs": [],
   "source": [
    "print(out_dir)"
   ]
  },
  {
   "cell_type": "code",
   "execution_count": null,
   "metadata": {},
   "outputs": [],
   "source": [
    "bold_to_t1_xfm_path = f\"{out_dir}/mb3fmri2t1.mat\"\n",
    "t1_to_bold_xfm_path = f\"{out_dir}/t12mb3fmri.mat\""
   ]
  },
  {
   "cell_type": "code",
   "execution_count": null,
   "metadata": {},
   "outputs": [],
   "source": [
    "flirt_cmd = f\"flirt -in {conn_ref_vol_path} -ref {anat_file} -omat {bold_to_t1_xfm_path} -out {out_dir}/mb3refvol2t1\"\n",
    "print(flirt_cmd)\n",
    "os.system(flirt_cmd)"
   ]
  },
  {
   "cell_type": "code",
   "execution_count": null,
   "metadata": {},
   "outputs": [],
   "source": [
    "inverse_cmd = f\"convert_xfm -omat {t1_to_bold_xfm_path} -inverse {bold_to_t1_xfm_path}\"\n",
    "os.system(inverse_cmd)"
   ]
  },
  {
   "cell_type": "markdown",
   "metadata": {},
   "source": [
    "#### flirt ROIs to T1 using reference volume of LGN scan"
   ]
  },
  {
   "cell_type": "code",
   "execution_count": null,
   "metadata": {},
   "outputs": [],
   "source": [
    "!ls {lgn_ref_vol}"
   ]
  },
  {
   "cell_type": "code",
   "execution_count": null,
   "metadata": {},
   "outputs": [],
   "source": [
    "roi_to_t1_xfm_path = f\"{out_dir}/lgnfmri2t1.mat\"\n",
    "t1_to_roi_xfm_path = f\"{out_dir}/t12lgnfmri.mat\""
   ]
  },
  {
   "cell_type": "code",
   "execution_count": null,
   "metadata": {},
   "outputs": [],
   "source": [
    "flirt_cmd = f\"flirt -in {roi_ref_vol} -ref {anat_file} -omat {roi_to_t1_xfm_path} -out {out_dir}/lgnfmri2t1\"\n",
    "print(flirt_cmd)\n",
    "os.system(flirt_cmd)"
   ]
  },
  {
   "cell_type": "code",
   "execution_count": null,
   "metadata": {},
   "outputs": [],
   "source": [
    "inverse_cmd = f\"convert_xfm -omat {t1_to_roi_xfm_path} -inverse {roi_to_t1_xfm_path}\"\n",
    "os.system(inverse_cmd)"
   ]
  },
  {
   "cell_type": "markdown",
   "metadata": {},
   "source": [
    "#### Convert rois to space of structural T1 scan"
   ]
  },
  {
   "cell_type": "code",
   "execution_count": null,
   "metadata": {},
   "outputs": [],
   "source": [
    "## 10/9 - this doesn't appear to work right, but the resampling using nilearn below does\n",
    "## 10-28 It looks like the FLIRT alignment of this small FOV to the anatomical is totally FUBAR\n",
    "#### But the headers are slightly better with flirt + applyxfm than with nilearn resampling (i.e. dims correct in mm)"
   ]
  },
  {
   "cell_type": "code",
   "execution_count": null,
   "metadata": {},
   "outputs": [],
   "source": [
    "# for roi in rois:\n",
    "#     roi_fn_parts = roi.split('_')\n",
    "#     roi_fn_parts.insert(-1, 'space-T1w')\n",
    "#     resampled_roi_fn = '_'.join(roi_fn_parts)\n",
    "#     roi_flirt_cmd = f\"flirt -ref {anat_file} -in {roi} -applyxfm -init {roi_to_t1_xfm_path} -out\\\n",
    "#                 {resampled_roi_fn}\"\n",
    "#     print(roi_flirt_cmd)\n",
    "#     os.system(roi_flirt_cmd)"
   ]
  },
  {
   "cell_type": "code",
   "execution_count": null,
   "metadata": {},
   "outputs": [],
   "source": [
    "print(f\"fsleyes {anat_file} {ref_vol_path} {roi_ref_vol}\")"
   ]
  },
  {
   "cell_type": "markdown",
   "metadata": {},
   "source": [
    "#### resample ROIs using nilearn"
   ]
  },
  {
   "cell_type": "code",
   "execution_count": null,
   "metadata": {},
   "outputs": [],
   "source": [
    "!ls {out_dir}"
   ]
  },
  {
   "cell_type": "code",
   "execution_count": null,
   "metadata": {},
   "outputs": [],
   "source": [
    "resampled_rois = []\n",
    "for roi in rois:\n",
    "    roi_img = load_img(roi)\n",
    "    print(roi_img.shape, roi_img.affine, sep='\\n')\n",
    "    roi_fn_parts = roi.split('_')\n",
    "    roi_fn_parts.insert(-1, 'space-T1w_nilearn')\n",
    "    resampled_roi_fn = '_'.join(roi_fn_parts)\n",
    "    resampled_roi_img = resample_to_img(roi_img, anat_img, 'nearest')\n",
    "    resampled_roi_img.to_filename(resampled_roi_fn)\n",
    "    resampled_rois.append(resampled_roi_fn)\n",
    "    print(resampled_roi_img.shape, resampled_roi_img.affine, sep='\\n')\n",
    "    plot_roi(resampled_roi_img, bg_img=anat_img)"
   ]
  },
  {
   "cell_type": "code",
   "execution_count": null,
   "metadata": {},
   "outputs": [],
   "source": [
    "try:\n",
    "    if resampled_rois:\n",
    "        pass\n",
    "    else:\n",
    "        resampled_rois = [f for f in\n",
    "        preproc_layout.get(subject=sub, extension=['.nii.gz'], suffix='roi', return_type='file')\n",
    "        if (\"desc-LLGN\" in f or \"desc-RLGN\" in f) and ('T1w_nilearn' in f)]\n",
    "except NameError:\n",
    "    resampled_rois = [f for f in\n",
    "        preproc_layout.get(subject=sub, extension=['.nii.gz'], suffix='roi', return_type='file')\n",
    "        if (\"desc-LLGN\" in f or \"desc-RLGN\" in f) and ('T1w_nilearn' in f)]\n",
    "print('\\n'.join(resampled_rois))"
   ]
  },
  {
   "cell_type": "markdown",
   "metadata": {
    "heading_collapsed": true
   },
   "source": [
    "#### For testing BIDS names"
   ]
  },
  {
   "cell_type": "code",
   "execution_count": null,
   "metadata": {
    "ExecuteTime": {
     "end_time": "2020-02-11T00:43:08.776178Z",
     "start_time": "2020-02-11T00:43:08.686747Z"
    },
    "hidden": true
   },
   "outputs": [],
   "source": [
    "utils.isBIDSFile(lgn_mask_file)\n",
    "utils.isBIDSFile(conn_ref_vol_path)\n",
    "for roi in rois:\n",
    "    utils.isBIDSFile(roi)"
   ]
  },
  {
   "cell_type": "markdown",
   "metadata": {
    "heading_collapsed": true
   },
   "source": [
    "### Write hemifield event files (they are all identical)"
   ]
  },
  {
   "cell_type": "code",
   "execution_count": null,
   "metadata": {
    "ExecuteTime": {
     "end_time": "2020-01-27T19:15:15.775666Z",
     "start_time": "2020-01-27T19:15:15.715528Z"
    },
    "hidden": true,
    "scrolled": true
   },
   "outputs": [],
   "source": [
    "utils.write_hemifield_localizer_event_file(f\"{raw_data_dir}/ses-{ses}/func/sub-{sub}_ses-{ses}_task-hemi_run-01_events.tsv\")\n",
    "utils.write_hemifield_localizer_event_file(f\"{raw_data_dir}/ses-{ses}/func/sub-{sub}_ses-{ses}_task-hemi_run-02_events.tsv\")"
   ]
  },
  {
   "cell_type": "code",
   "execution_count": null,
   "metadata": {
    "ExecuteTime": {
     "end_time": "2020-01-24T21:48:08.043327Z",
     "start_time": "2020-01-24T21:48:07.983094Z"
    },
    "code_folding": [
     0
    ],
    "hidden": true,
    "scrolled": true
   },
   "outputs": [],
   "source": [
    "for e in glob.glob(events_glob):\n",
    "    fileparts = op.split(e)[-1].split('_')[:-1]\n",
    "    fileparts[0] = f\"sub-{sub}\"\n",
    "    #runpart = fileparts[-2]\n",
    "    #print('_'.join(fileparts), fileparts[-2])\n",
    "    fn = '_'.join(fileparts)\n",
    "    new_file_name = f\"{raw_data_dir}/ses-{ses}/func/{fn}.tsv\"\n",
    "    print(e, new_file_name, sep=\"\\n\")\n",
    "    #shutil.copyfile(e, new_file_name)"
   ]
  },
  {
   "cell_type": "code",
   "execution_count": null,
   "metadata": {
    "ExecuteTime": {
     "end_time": "2019-12-03T19:40:16.653586Z",
     "start_time": "2019-12-03T19:40:16.584357Z"
    },
    "code_folding": [
     1
    ],
    "hidden": true,
    "scrolled": true
   },
   "outputs": [],
   "source": [
    "for e in glob.glob(task_json_glob):\n",
    "    fn = os.path.split(e)[-1]\n",
    "    new_file_name = f\"{raw_data_dir}/ses-{ses}/func/{fn}\"\n",
    "    print(e, new_file_name, sep=\"\\n\")\n",
    "    #shutil.copyfile(e, new_file_name)"
   ]
  },
  {
   "cell_type": "code",
   "execution_count": null,
   "metadata": {
    "ExecuteTime": {
     "end_time": "2020-01-27T19:17:02.994282Z",
     "start_time": "2020-01-27T19:17:02.936705Z"
    },
    "code_folding": [],
    "hidden": true,
    "scrolled": true
   },
   "outputs": [],
   "source": [
    "blocks_in_order = ['L', 'R']\n",
    "for thisrun in [1]:\n",
    "    events_fn = f\"{raw_data_dir}/ses-{ses}/func/sub-{sub}_ses-{ses}_task-hemi_run-{thisrun:02d}_events.tsv\"\n",
    "    events_file_contents = f\"onset\\tduration\\ttrial_type\\n\"\n",
    "    time_between_onsets = 13.5\n",
    "    for i in range(22):\n",
    "        events_file_contents += f\"{i*time_between_onsets:.2f}\\t{time_between_onsets}\\t{blocks_in_order[i%(len(blocks_in_order))]}\\n\"\n",
    "    #with open(events_fn, 'w') as f:\n",
    "        #f.write(events_file_contents)\n",
    "    print(events_fn, '\\n', events_file_contents)"
   ]
  },
  {
   "cell_type": "markdown",
   "metadata": {},
   "source": [
    "## GLM invocation from a cell"
   ]
  },
  {
   "cell_type": "markdown",
   "metadata": {
    "heading_collapsed": true
   },
   "source": [
    "### Individual GLMs\n",
    "\n",
    "Run the GLMs for each task using all runs"
   ]
  },
  {
   "cell_type": "code",
   "execution_count": 10,
   "metadata": {
    "ExecuteTime": {
     "end_time": "2020-03-10T20:30:55.980181Z",
     "start_time": "2020-03-10T20:29:58.008266Z"
    },
    "hidden": true,
    "scrolled": true
   },
   "outputs": [
    {
     "name": "stdout",
     "output_type": "stream",
     "text": [
      "210811-23:48:51,473 nipype.interface WARNING:\n",
      "\t Unable to import ['nipy']; Trim interface may fail to run\n",
      "210811-23:48:54,425 nipype.workflow INFO:\n",
      "\t Generated workflow graph: /Users/smerdis/data/LGN/BIDS/JS_combined/derivatives/streams/nipype_JS_20210505_hemi_20210520/fixedeffects/graph.png (graph2use=hierarchical, simple_form=True).\n",
      "210811-23:48:54,589 nipype.workflow INFO:\n",
      "\t Workflow fixedeffects settings: ['check', 'execution', 'logging', 'monitoring']\n",
      "210811-23:48:54,645 nipype.workflow INFO:\n",
      "\t Running in parallel.\n",
      "210811-23:48:54,667 nipype.workflow INFO:\n",
      "\t [MultiProc] Running 0 tasks, and 1 jobs ready. Free memory (GB): 14.40/14.40, Free processors: 3/3.\n",
      "210811-23:48:54,872 nipype.workflow INFO:\n",
      "\t [Job 0] Cached (fixedeffects.BIDSDataGrabber).\n",
      "210811-23:48:56,666 nipype.workflow INFO:\n",
      "\t [MultiProc] Running 0 tasks, and 3 jobs ready. Free memory (GB): 14.40/14.40, Free processors: 3/3.\n",
      "210811-23:48:56,867 nipype.workflow INFO:\n",
      "\t [Job 1] Cached (fixedeffects.modelfit.maskemerge).\n",
      "210811-23:48:58,675 nipype.workflow INFO:\n",
      "\t [MultiProc] Running 0 tasks, and 4 jobs ready. Free memory (GB): 14.40/14.40, Free processors: 3/3.\n",
      "210811-23:48:58,844 nipype.workflow INFO:\n",
      "\t [Job 14] Cached (_trim0).\n",
      "210811-23:48:58,854 nipype.workflow INFO:\n",
      "\t [Job 15] Cached (_trim1).\n",
      "210811-23:48:58,859 nipype.workflow INFO:\n",
      "\t [Job 16] Cached (_tsv2subjinfo0).\n",
      "210811-23:49:00,678 nipype.workflow INFO:\n",
      "\t [MultiProc] Running 0 tasks, and 2 jobs ready. Free memory (GB): 14.40/14.40, Free processors: 3/3.\n",
      "210811-23:49:00,808 nipype.workflow INFO:\n",
      "\t [Job 2] Cached (fixedeffects.modelfit.trim).\n",
      "210811-23:49:00,812 nipype.workflow INFO:\n",
      "\t [Job 17] Cached (_tsv2subjinfo1).\n",
      "210811-23:49:02,825 nipype.workflow INFO:\n",
      "\t [Job 4] Cached (fixedeffects.modelfit.tsv2subjinfo).\n",
      "210811-23:49:04,677 nipype.workflow INFO:\n",
      "\t [MultiProc] Running 0 tasks, and 3 jobs ready. Free memory (GB): 14.40/14.40, Free processors: 3/3.\n",
      "210811-23:49:04,848 nipype.workflow INFO:\n",
      "\t [Job 18] Cached (_applymask0).\n",
      "210811-23:49:04,857 nipype.workflow INFO:\n",
      "\t [Job 19] Cached (_applymask1).\n",
      "210811-23:49:06,799 nipype.workflow INFO:\n",
      "\t [Job 3] Cached (fixedeffects.modelfit.applymask).\n",
      "210811-23:49:06,808 nipype.workflow INFO:\n",
      "\t [Job 20] Cached (_modelspec0).\n",
      "210811-23:49:06,813 nipype.workflow INFO:\n",
      "\t [Job 21] Cached (_modelspec1).\n",
      "210811-23:49:08,678 nipype.workflow INFO:\n",
      "\t [MultiProc] Running 0 tasks, and 1 jobs ready. Free memory (GB): 14.40/14.40, Free processors: 3/3.\n",
      "210811-23:49:08,776 nipype.workflow INFO:\n",
      "\t [Job 5] Cached (fixedeffects.modelfit.modelspec).\n",
      "210811-23:49:12,684 nipype.workflow INFO:\n",
      "\t [MultiProc] Running 0 tasks, and 2 jobs ready. Free memory (GB): 14.40/14.40, Free processors: 3/3.\n",
      "210811-23:49:12,790 nipype.workflow INFO:\n",
      "\t [Job 22] Cached (_level1design0).\n",
      "210811-23:49:12,797 nipype.workflow INFO:\n",
      "\t [Job 23] Cached (_level1design1).\n",
      "210811-23:49:14,687 nipype.workflow INFO:\n",
      "\t [MultiProc] Running 0 tasks, and 1 jobs ready. Free memory (GB): 14.40/14.40, Free processors: 3/3.\n",
      "210811-23:49:14,815 nipype.workflow INFO:\n",
      "\t [Job 6] Cached (fixedeffects.modelfit.level1design).\n",
      "210811-23:49:18,695 nipype.workflow INFO:\n",
      "\t [MultiProc] Running 0 tasks, and 2 jobs ready. Free memory (GB): 14.40/14.40, Free processors: 3/3.\n",
      "210811-23:49:18,878 nipype.workflow INFO:\n",
      "\t [Job 24] Cached (_modelgen0).\n",
      "210811-23:49:18,885 nipype.workflow INFO:\n",
      "\t [Job 25] Cached (_modelgen1).\n",
      "210811-23:49:20,696 nipype.workflow INFO:\n",
      "\t [MultiProc] Running 0 tasks, and 1 jobs ready. Free memory (GB): 14.40/14.40, Free processors: 3/3.\n",
      "210811-23:49:20,833 nipype.workflow INFO:\n",
      "\t [Job 7] Cached (fixedeffects.modelfit.modelgen).\n",
      "210811-23:49:24,700 nipype.workflow INFO:\n",
      "\t [MultiProc] Running 0 tasks, and 2 jobs ready. Free memory (GB): 14.40/14.40, Free processors: 3/3.\n",
      "210811-23:49:24,812 nipype.workflow INFO:\n",
      "\t [Job 26] Cached (_modelestimate0).\n",
      "210811-23:49:24,817 nipype.workflow INFO:\n",
      "\t [Job 27] Cached (_modelestimate1).\n",
      "210811-23:49:26,703 nipype.workflow INFO:\n",
      "\t [MultiProc] Running 0 tasks, and 1 jobs ready. Free memory (GB): 14.40/14.40, Free processors: 3/3.\n",
      "210811-23:49:26,795 nipype.workflow INFO:\n",
      "\t [Job 8] Cached (fixedeffects.modelfit.modelestimate).\n",
      "210811-23:49:28,705 nipype.workflow INFO:\n",
      "\t [MultiProc] Running 0 tasks, and 3 jobs ready. Free memory (GB): 14.40/14.40, Free processors: 3/3.\n",
      "210811-23:49:28,810 nipype.workflow INFO:\n",
      "\t [Job 9] Cached (fixedeffects.modelfit.l2model).\n",
      "210811-23:49:30,710 nipype.workflow INFO:\n",
      "\t [MultiProc] Running 0 tasks, and 4 jobs ready. Free memory (GB): 14.40/14.40, Free processors: 3/3.\n",
      "210811-23:49:30,809 nipype.workflow INFO:\n",
      "\t [Job 28] Cached (_varcopemerge0).\n",
      "210811-23:49:30,813 nipype.workflow INFO:\n",
      "\t [Job 29] Cached (_varcopemerge1).\n",
      "210811-23:49:30,817 nipype.workflow INFO:\n",
      "\t [Job 30] Cached (_copemerge0).\n",
      "210811-23:49:32,713 nipype.workflow INFO:\n",
      "\t [MultiProc] Running 0 tasks, and 2 jobs ready. Free memory (GB): 14.40/14.40, Free processors: 3/3.\n",
      "210811-23:49:32,820 nipype.workflow INFO:\n",
      "\t [Job 10] Cached (fixedeffects.modelfit.varcopemerge).\n",
      "210811-23:49:32,824 nipype.workflow INFO:\n",
      "\t [Job 31] Cached (_copemerge1).\n",
      "210811-23:49:34,714 nipype.workflow INFO:\n",
      "\t [MultiProc] Running 0 tasks, and 1 jobs ready. Free memory (GB): 14.40/14.40, Free processors: 3/3.\n",
      "210811-23:49:34,890 nipype.workflow INFO:\n",
      "\t [Job 11] Cached (fixedeffects.modelfit.copemerge).\n",
      "210811-23:49:38,718 nipype.workflow INFO:\n",
      "\t [MultiProc] Running 0 tasks, and 2 jobs ready. Free memory (GB): 14.40/14.40, Free processors: 3/3.\n",
      "210811-23:49:38,830 nipype.workflow INFO:\n",
      "\t [Job 32] Cached (_flameo0).\n",
      "210811-23:49:38,847 nipype.workflow INFO:\n",
      "\t [Job 33] Cached (_flameo1).\n",
      "210811-23:49:40,724 nipype.workflow INFO:\n",
      "\t [MultiProc] Running 0 tasks, and 1 jobs ready. Free memory (GB): 14.40/14.40, Free processors: 3/3.\n",
      "210811-23:49:40,924 nipype.workflow INFO:\n",
      "\t [Job 12] Cached (fixedeffects.modelfit.flameo).\n",
      "210811-23:49:42,846 nipype.workflow INFO:\n",
      "\t [Node] Setting-up \"fixedeffects.modelfit.datasink\" in \"/Users/smerdis/Dropbox/data/LGN/BIDS/JS_combined/derivatives/streams/nipype_JS_20210505_hemi_20210520/fixedeffects/modelfit/datasink\".\n",
      "210811-23:49:42,892 nipype.workflow INFO:\n",
      "\t [Node] Running \"datasink\" (\"nipype.interfaces.io.DataSink\")\n",
      "210811-23:49:43,998 nipype.workflow INFO:\n",
      "\t [Node] Finished \"fixedeffects.modelfit.datasink\".\n",
      "210811-23:49:44,727 nipype.workflow INFO:\n",
      "\t [Job 13] Completed (fixedeffects.modelfit.datasink).\n",
      "210811-23:49:44,732 nipype.workflow INFO:\n",
      "\t [MultiProc] Running 0 tasks, and 0 jobs ready. Free memory (GB): 14.40/14.40, Free processors: 3/3.\n",
      "CPU times: user 4.84 s, sys: 527 ms, total: 5.36 s\n",
      "Wall time: 57.7 s\n"
     ]
    }
   ],
   "source": [
    "%%time\n",
    "hemi_workdir = utils.run_fixedeffects_glm(sub, ses_lgn, \"hemi\", [1, 2], raw_data_dir, out_dir,\n",
    "                                          working_dir_suffix='20210520')"
   ]
  },
  {
   "cell_type": "code",
   "execution_count": 11,
   "metadata": {
    "ExecuteTime": {
     "end_time": "2020-02-24T21:51:55.588204Z",
     "start_time": "2020-02-24T21:51:55.363559Z"
    },
    "hidden": true,
    "scrolled": true
   },
   "outputs": [
    {
     "name": "stdout",
     "output_type": "stream",
     "text": [
      "/Users/smerdis/data/LGN/BIDS/JS_combined/derivatives/streams/nipype_JS_20210505_hemi_20210520\n",
      "/Users/smerdis/data/LGN/BIDS/JS_combined/derivatives/streams/nipype_JS_20210505_hemi_20210520/fixedeffects/modelfit/datasink\n",
      "_0x2619ab7742314658d2cbaf7524d77d39.json\n",
      "_inputs.pklz\n",
      "_node.pklz\n",
      "\u001b[34m_report\u001b[m\u001b[m\n",
      "\u001b[34mdesign_file\u001b[m\u001b[m\n",
      "\u001b[34mdesign_image\u001b[m\u001b[m\n",
      "\u001b[34mepi_masked_trimmed\u001b[m\u001b[m\n",
      "result_datasink.pklz\n",
      "\u001b[34mresults_dir\u001b[m\u001b[m\n",
      "\u001b[34mstats_dir\u001b[m\u001b[m\n",
      "/Users/smerdis/data/LGN/BIDS/JS_combined/derivatives/streams/nipype_JS_20210505_hemi_20210520/fixedeffects/modelfit/datasink/stats_dir/_flameo0/stats/cope1.nii.gz\n"
     ]
    }
   ],
   "source": [
    "hemi_datasink = f\"{hemi_workdir}/fixedeffects/modelfit/datasink\"\n",
    "print(hemi_workdir, hemi_datasink, sep=\"\\n\")\n",
    "!ls {hemi_datasink}\n",
    "hemi_RL_l1, hemi_RL_l2 = utils.get_model_outputs(hemi_datasink, [1])\n",
    "hemi_LR_l1, hemi_LR_l2 = utils.get_model_outputs(hemi_datasink, [2])\n",
    "beta_RL = hemi_RL_l2[0]\n",
    "beta_LR = hemi_LR_l2[0]\n",
    "print(beta_RL)"
   ]
  },
  {
   "cell_type": "code",
   "execution_count": 12,
   "metadata": {},
   "outputs": [
    {
     "name": "stdout",
     "output_type": "stream",
     "text": [
      "fsleyes /Users/smerdis/data/LGN/BIDS/JS_combined/derivatives/streams/sub-JS/sub-JS_ses-20210505_task-hemi_refvol.nii.gz /Users/smerdis/data/LGN/BIDS/JS_combined/derivatives/streams/nipype_JS_20210505_hemi_20210520/fixedeffects/modelfit/datasink/stats_dir/_flameo0/stats/cope1.nii.gz\n"
     ]
    }
   ],
   "source": [
    "print(f\"fsleyes {lgn_hemi_ref_vol_path} {beta_RL}\")"
   ]
  },
  {
   "cell_type": "code",
   "execution_count": 13,
   "metadata": {
    "ExecuteTime": {
     "end_time": "2020-02-24T21:53:20.803973Z",
     "start_time": "2020-02-24T21:51:55.593713Z"
    },
    "hidden": true,
    "scrolled": true
   },
   "outputs": [
    {
     "name": "stdout",
     "output_type": "stream",
     "text": [
      "210811-23:49:47,849 nipype.workflow INFO:\n",
      "\t Generated workflow graph: /Users/smerdis/data/LGN/BIDS/JS_combined/derivatives/streams/nipype_JS_20210505_mp_20210520/fixedeffects/graph.png (graph2use=hierarchical, simple_form=True).\n",
      "210811-23:49:47,892 nipype.workflow INFO:\n",
      "\t Workflow fixedeffects settings: ['check', 'execution', 'logging', 'monitoring']\n",
      "210811-23:49:47,922 nipype.workflow INFO:\n",
      "\t Running in parallel.\n",
      "210811-23:49:47,931 nipype.workflow INFO:\n",
      "\t [MultiProc] Running 0 tasks, and 1 jobs ready. Free memory (GB): 14.40/14.40, Free processors: 3/3.\n",
      "210811-23:49:48,75 nipype.workflow INFO:\n",
      "\t [Job 0] Cached (fixedeffects.BIDSDataGrabber).\n",
      "210811-23:49:49,935 nipype.workflow INFO:\n",
      "\t [MultiProc] Running 0 tasks, and 3 jobs ready. Free memory (GB): 14.40/14.40, Free processors: 3/3.\n",
      "210811-23:49:50,21 nipype.workflow INFO:\n",
      "\t [Job 1] Cached (fixedeffects.modelfit.maskemerge).\n",
      "210811-23:49:51,935 nipype.workflow INFO:\n",
      "\t [MultiProc] Running 0 tasks, and 16 jobs ready. Free memory (GB): 14.40/14.40, Free processors: 3/3.\n",
      "210811-23:49:52,25 nipype.workflow INFO:\n",
      "\t [Job 14] Cached (_trim0).\n",
      "210811-23:49:52,30 nipype.workflow INFO:\n",
      "\t [Job 15] Cached (_trim1).\n",
      "210811-23:49:52,35 nipype.workflow INFO:\n",
      "\t [Job 16] Cached (_trim2).\n",
      "210811-23:49:53,941 nipype.workflow INFO:\n",
      "\t [MultiProc] Running 0 tasks, and 13 jobs ready. Free memory (GB): 14.40/14.40, Free processors: 3/3.\n",
      "210811-23:49:54,119 nipype.workflow INFO:\n",
      "\t [Job 17] Cached (_trim3).\n",
      "210811-23:49:54,127 nipype.workflow INFO:\n",
      "\t [Job 18] Cached (_trim4).\n",
      "210811-23:49:54,144 nipype.workflow INFO:\n",
      "\t [Job 19] Cached (_trim5).\n",
      "210811-23:49:55,951 nipype.workflow INFO:\n",
      "\t [MultiProc] Running 0 tasks, and 10 jobs ready. Free memory (GB): 14.40/14.40, Free processors: 3/3.\n",
      "210811-23:49:56,86 nipype.workflow INFO:\n",
      "\t [Job 20] Cached (_trim6).\n",
      "210811-23:49:56,97 nipype.workflow INFO:\n",
      "\t [Job 21] Cached (_trim7).\n",
      "210811-23:49:56,112 nipype.workflow INFO:\n",
      "\t [Job 22] Cached (_tsv2subjinfo0).\n",
      "210811-23:49:57,947 nipype.workflow INFO:\n",
      "\t [MultiProc] Running 0 tasks, and 8 jobs ready. Free memory (GB): 14.40/14.40, Free processors: 3/3.\n",
      "210811-23:49:58,142 nipype.workflow INFO:\n",
      "\t [Job 2] Cached (fixedeffects.modelfit.trim).\n",
      "210811-23:49:58,152 nipype.workflow INFO:\n",
      "\t [Job 23] Cached (_tsv2subjinfo1).\n",
      "210811-23:49:58,168 nipype.workflow INFO:\n",
      "\t [Job 24] Cached (_tsv2subjinfo2).\n",
      "210811-23:49:59,949 nipype.workflow INFO:\n",
      "\t [MultiProc] Running 0 tasks, and 6 jobs ready. Free memory (GB): 14.40/14.40, Free processors: 3/3.\n",
      "210811-23:50:00,92 nipype.workflow INFO:\n",
      "\t [Job 25] Cached (_tsv2subjinfo3).\n",
      "210811-23:50:00,96 nipype.workflow INFO:\n",
      "\t [Job 26] Cached (_tsv2subjinfo4).\n",
      "210811-23:50:00,101 nipype.workflow INFO:\n",
      "\t [Job 27] Cached (_tsv2subjinfo5).\n",
      "210811-23:50:01,951 nipype.workflow INFO:\n",
      "\t [MultiProc] Running 0 tasks, and 10 jobs ready. Free memory (GB): 14.40/14.40, Free processors: 3/3.\n",
      "210811-23:50:02,103 nipype.workflow INFO:\n",
      "\t [Job 28] Cached (_tsv2subjinfo6).\n",
      "210811-23:50:02,108 nipype.workflow INFO:\n",
      "\t [Job 29] Cached (_tsv2subjinfo7).\n",
      "210811-23:50:02,113 nipype.workflow INFO:\n",
      "\t [Job 30] Cached (_applymask0).\n",
      "210811-23:50:03,951 nipype.workflow INFO:\n",
      "\t [MultiProc] Running 0 tasks, and 8 jobs ready. Free memory (GB): 14.40/14.40, Free processors: 3/3.\n",
      "210811-23:50:04,94 nipype.workflow INFO:\n",
      "\t [Job 4] Cached (fixedeffects.modelfit.tsv2subjinfo).\n",
      "210811-23:50:04,105 nipype.workflow INFO:\n",
      "\t [Job 31] Cached (_applymask1).\n",
      "210811-23:50:04,110 nipype.workflow INFO:\n",
      "\t [Job 32] Cached (_applymask2).\n",
      "210811-23:50:05,953 nipype.workflow INFO:\n",
      "\t [MultiProc] Running 0 tasks, and 6 jobs ready. Free memory (GB): 14.40/14.40, Free processors: 3/3.\n",
      "210811-23:50:06,254 nipype.workflow INFO:\n",
      "\t [Job 33] Cached (_applymask3).\n",
      "210811-23:50:06,266 nipype.workflow INFO:\n",
      "\t [Job 34] Cached (_applymask4).\n",
      "210811-23:50:06,270 nipype.workflow INFO:\n",
      "\t [Job 35] Cached (_applymask5).\n",
      "210811-23:50:07,957 nipype.workflow INFO:\n",
      "\t [MultiProc] Running 0 tasks, and 10 jobs ready. Free memory (GB): 14.40/14.40, Free processors: 3/3.\n",
      "210811-23:50:08,63 nipype.workflow INFO:\n",
      "\t [Job 36] Cached (_applymask6).\n",
      "210811-23:50:08,67 nipype.workflow INFO:\n",
      "\t [Job 37] Cached (_applymask7).\n",
      "210811-23:50:08,75 nipype.workflow INFO:\n",
      "\t [Job 38] Cached (_modelspec0).\n",
      "210811-23:50:09,963 nipype.workflow INFO:\n",
      "\t [MultiProc] Running 0 tasks, and 8 jobs ready. Free memory (GB): 14.40/14.40, Free processors: 3/3.\n",
      "210811-23:50:10,354 nipype.workflow INFO:\n",
      "\t [Job 3] Cached (fixedeffects.modelfit.applymask).\n",
      "210811-23:50:10,387 nipype.workflow INFO:\n",
      "\t [Job 39] Cached (_modelspec1).\n",
      "210811-23:50:10,395 nipype.workflow INFO:\n",
      "\t [Job 40] Cached (_modelspec2).\n",
      "210811-23:50:11,961 nipype.workflow INFO:\n",
      "\t [MultiProc] Running 0 tasks, and 5 jobs ready. Free memory (GB): 14.40/14.40, Free processors: 3/3.\n",
      "210811-23:50:12,80 nipype.workflow INFO:\n",
      "\t [Job 41] Cached (_modelspec3).\n",
      "210811-23:50:12,87 nipype.workflow INFO:\n",
      "\t [Job 42] Cached (_modelspec4).\n",
      "210811-23:50:12,94 nipype.workflow INFO:\n",
      "\t [Job 43] Cached (_modelspec5).\n",
      "210811-23:50:13,962 nipype.workflow INFO:\n",
      "\t [MultiProc] Running 0 tasks, and 2 jobs ready. Free memory (GB): 14.40/14.40, Free processors: 3/3.\n",
      "210811-23:50:14,92 nipype.workflow INFO:\n",
      "\t [Job 44] Cached (_modelspec6).\n",
      "210811-23:50:14,98 nipype.workflow INFO:\n",
      "\t [Job 45] Cached (_modelspec7).\n",
      "210811-23:50:15,966 nipype.workflow INFO:\n",
      "\t [MultiProc] Running 0 tasks, and 1 jobs ready. Free memory (GB): 14.40/14.40, Free processors: 3/3.\n",
      "210811-23:50:16,126 nipype.workflow INFO:\n",
      "\t [Job 5] Cached (fixedeffects.modelfit.modelspec).\n",
      "210811-23:50:19,973 nipype.workflow INFO:\n",
      "\t [MultiProc] Running 0 tasks, and 8 jobs ready. Free memory (GB): 14.40/14.40, Free processors: 3/3.\n",
      "210811-23:50:20,95 nipype.workflow INFO:\n",
      "\t [Job 46] Cached (_level1design0).\n",
      "210811-23:50:20,101 nipype.workflow INFO:\n",
      "\t [Job 47] Cached (_level1design1).\n",
      "210811-23:50:20,108 nipype.workflow INFO:\n",
      "\t [Job 48] Cached (_level1design2).\n",
      "210811-23:50:21,977 nipype.workflow INFO:\n",
      "\t [MultiProc] Running 0 tasks, and 5 jobs ready. Free memory (GB): 14.40/14.40, Free processors: 3/3.\n",
      "210811-23:50:22,96 nipype.workflow INFO:\n",
      "\t [Job 49] Cached (_level1design3).\n",
      "210811-23:50:22,103 nipype.workflow INFO:\n",
      "\t [Job 50] Cached (_level1design4).\n",
      "210811-23:50:22,118 nipype.workflow INFO:\n",
      "\t [Job 51] Cached (_level1design5).\n",
      "210811-23:50:23,982 nipype.workflow INFO:\n",
      "\t [MultiProc] Running 0 tasks, and 2 jobs ready. Free memory (GB): 14.40/14.40, Free processors: 3/3.\n",
      "210811-23:50:24,114 nipype.workflow INFO:\n",
      "\t [Job 52] Cached (_level1design6).\n",
      "210811-23:50:24,120 nipype.workflow INFO:\n",
      "\t [Job 53] Cached (_level1design7).\n",
      "210811-23:50:25,987 nipype.workflow INFO:\n",
      "\t [MultiProc] Running 0 tasks, and 1 jobs ready. Free memory (GB): 14.40/14.40, Free processors: 3/3.\n",
      "210811-23:50:26,161 nipype.workflow INFO:\n",
      "\t [Job 6] Cached (fixedeffects.modelfit.level1design).\n",
      "210811-23:50:29,993 nipype.workflow INFO:\n",
      "\t [MultiProc] Running 0 tasks, and 8 jobs ready. Free memory (GB): 14.40/14.40, Free processors: 3/3.\n",
      "210811-23:50:30,170 nipype.workflow INFO:\n",
      "\t [Job 54] Cached (_modelgen0).\n",
      "210811-23:50:30,175 nipype.workflow INFO:\n",
      "\t [Job 55] Cached (_modelgen1).\n",
      "210811-23:50:30,184 nipype.workflow INFO:\n",
      "\t [Job 56] Cached (_modelgen2).\n",
      "210811-23:50:31,995 nipype.workflow INFO:\n",
      "\t [MultiProc] Running 0 tasks, and 5 jobs ready. Free memory (GB): 14.40/14.40, Free processors: 3/3.\n",
      "210811-23:50:32,274 nipype.workflow INFO:\n",
      "\t [Job 57] Cached (_modelgen3).\n",
      "210811-23:50:32,291 nipype.workflow INFO:\n",
      "\t [Job 58] Cached (_modelgen4).\n",
      "210811-23:50:32,296 nipype.workflow INFO:\n",
      "\t [Job 59] Cached (_modelgen5).\n",
      "210811-23:50:33,997 nipype.workflow INFO:\n",
      "\t [MultiProc] Running 0 tasks, and 2 jobs ready. Free memory (GB): 14.40/14.40, Free processors: 3/3.\n",
      "210811-23:50:34,89 nipype.workflow INFO:\n",
      "\t [Job 60] Cached (_modelgen6).\n",
      "210811-23:50:34,94 nipype.workflow INFO:\n",
      "\t [Job 61] Cached (_modelgen7).\n",
      "210811-23:50:36,2 nipype.workflow INFO:\n",
      "\t [MultiProc] Running 0 tasks, and 1 jobs ready. Free memory (GB): 14.40/14.40, Free processors: 3/3.\n",
      "210811-23:50:36,109 nipype.workflow INFO:\n",
      "\t [Job 7] Cached (fixedeffects.modelfit.modelgen).\n",
      "210811-23:50:40,5 nipype.workflow INFO:\n",
      "\t [MultiProc] Running 0 tasks, and 8 jobs ready. Free memory (GB): 14.40/14.40, Free processors: 3/3.\n"
     ]
    },
    {
     "name": "stdout",
     "output_type": "stream",
     "text": [
      "210811-23:50:40,106 nipype.workflow INFO:\n",
      "\t [Job 62] Cached (_modelestimate0).\n",
      "210811-23:50:40,110 nipype.workflow INFO:\n",
      "\t [Job 63] Cached (_modelestimate1).\n",
      "210811-23:50:40,115 nipype.workflow INFO:\n",
      "\t [Job 64] Cached (_modelestimate2).\n",
      "210811-23:50:42,6 nipype.workflow INFO:\n",
      "\t [MultiProc] Running 0 tasks, and 5 jobs ready. Free memory (GB): 14.40/14.40, Free processors: 3/3.\n",
      "210811-23:50:42,100 nipype.workflow INFO:\n",
      "\t [Job 65] Cached (_modelestimate3).\n",
      "210811-23:50:42,104 nipype.workflow INFO:\n",
      "\t [Job 66] Cached (_modelestimate4).\n",
      "210811-23:50:42,108 nipype.workflow INFO:\n",
      "\t [Job 67] Cached (_modelestimate5).\n",
      "210811-23:50:44,8 nipype.workflow INFO:\n",
      "\t [MultiProc] Running 0 tasks, and 2 jobs ready. Free memory (GB): 14.40/14.40, Free processors: 3/3.\n",
      "210811-23:50:44,107 nipype.workflow INFO:\n",
      "\t [Job 68] Cached (_modelestimate6).\n",
      "210811-23:50:44,112 nipype.workflow INFO:\n",
      "\t [Job 69] Cached (_modelestimate7).\n",
      "210811-23:50:46,12 nipype.workflow INFO:\n",
      "\t [MultiProc] Running 0 tasks, and 1 jobs ready. Free memory (GB): 14.40/14.40, Free processors: 3/3.\n",
      "210811-23:50:46,269 nipype.workflow INFO:\n",
      "\t [Job 8] Cached (fixedeffects.modelfit.modelestimate).\n",
      "210811-23:50:48,17 nipype.workflow INFO:\n",
      "\t [MultiProc] Running 0 tasks, and 3 jobs ready. Free memory (GB): 14.40/14.40, Free processors: 3/3.\n",
      "210811-23:50:48,114 nipype.workflow INFO:\n",
      "\t [Job 9] Cached (fixedeffects.modelfit.l2model).\n",
      "210811-23:50:50,21 nipype.workflow INFO:\n",
      "\t [MultiProc] Running 0 tasks, and 6 jobs ready. Free memory (GB): 14.40/14.40, Free processors: 3/3.\n",
      "210811-23:50:50,131 nipype.workflow INFO:\n",
      "\t [Job 70] Cached (_varcopemerge0).\n",
      "210811-23:50:50,135 nipype.workflow INFO:\n",
      "\t [Job 71] Cached (_varcopemerge1).\n",
      "210811-23:50:50,140 nipype.workflow INFO:\n",
      "\t [Job 72] Cached (_varcopemerge2).\n",
      "210811-23:50:52,23 nipype.workflow INFO:\n",
      "\t [MultiProc] Running 0 tasks, and 4 jobs ready. Free memory (GB): 14.40/14.40, Free processors: 3/3.\n",
      "210811-23:50:52,133 nipype.workflow INFO:\n",
      "\t [Job 10] Cached (fixedeffects.modelfit.varcopemerge).\n",
      "210811-23:50:52,139 nipype.workflow INFO:\n",
      "\t [Job 73] Cached (_copemerge0).\n",
      "210811-23:50:52,143 nipype.workflow INFO:\n",
      "\t [Job 74] Cached (_copemerge1).\n",
      "210811-23:50:54,24 nipype.workflow INFO:\n",
      "\t [MultiProc] Running 0 tasks, and 1 jobs ready. Free memory (GB): 14.40/14.40, Free processors: 3/3.\n",
      "210811-23:50:54,113 nipype.workflow INFO:\n",
      "\t [Job 75] Cached (_copemerge2).\n",
      "210811-23:50:56,218 nipype.workflow INFO:\n",
      "\t [Job 11] Cached (fixedeffects.modelfit.copemerge).\n",
      "210811-23:51:00,33 nipype.workflow INFO:\n",
      "\t [MultiProc] Running 0 tasks, and 3 jobs ready. Free memory (GB): 14.40/14.40, Free processors: 3/3.\n",
      "210811-23:51:00,134 nipype.workflow INFO:\n",
      "\t [Job 76] Cached (_flameo0).\n",
      "210811-23:51:00,139 nipype.workflow INFO:\n",
      "\t [Job 77] Cached (_flameo1).\n",
      "210811-23:51:00,144 nipype.workflow INFO:\n",
      "\t [Job 78] Cached (_flameo2).\n",
      "210811-23:51:02,35 nipype.workflow INFO:\n",
      "\t [MultiProc] Running 0 tasks, and 1 jobs ready. Free memory (GB): 14.40/14.40, Free processors: 3/3.\n",
      "210811-23:51:02,138 nipype.workflow INFO:\n",
      "\t [Job 12] Cached (fixedeffects.modelfit.flameo).\n",
      "210811-23:51:04,174 nipype.workflow INFO:\n",
      "\t [Node] Setting-up \"fixedeffects.modelfit.datasink\" in \"/Users/smerdis/Dropbox/data/LGN/BIDS/JS_combined/derivatives/streams/nipype_JS_20210505_mp_20210520/fixedeffects/modelfit/datasink\".\n",
      "210811-23:51:04,319 nipype.workflow INFO:\n",
      "\t [Node] Running \"datasink\" (\"nipype.interfaces.io.DataSink\")\n",
      "210811-23:51:06,41 nipype.workflow INFO:\n",
      "\t [MultiProc] Running 1 tasks, and 0 jobs ready. Free memory (GB): 14.20/14.40, Free processors: 2/3.\n",
      "                     Currently running:\n",
      "                       * fixedeffects.modelfit.datasink\n",
      "210811-23:51:09,482 nipype.workflow INFO:\n",
      "\t [Node] Finished \"fixedeffects.modelfit.datasink\".\n",
      "210811-23:51:10,43 nipype.workflow INFO:\n",
      "\t [Job 13] Completed (fixedeffects.modelfit.datasink).\n",
      "210811-23:51:10,46 nipype.workflow INFO:\n",
      "\t [MultiProc] Running 0 tasks, and 0 jobs ready. Free memory (GB): 14.40/14.40, Free processors: 3/3.\n",
      "CPU times: user 5.76 s, sys: 445 ms, total: 6.21 s\n",
      "Wall time: 1min 24s\n"
     ]
    }
   ],
   "source": [
    "%%time\n",
    "mp_workdir = utils.run_fixedeffects_glm(sub, ses_lgn, \"mp\", [1, 2, 3, 4, 5, 6, 7, 8], raw_data_dir, out_dir,\n",
    "                                        working_dir_suffix='20210520')"
   ]
  },
  {
   "cell_type": "code",
   "execution_count": 14,
   "metadata": {
    "ExecuteTime": {
     "end_time": "2020-02-24T21:53:21.033620Z",
     "start_time": "2020-02-24T21:53:20.809001Z"
    },
    "hidden": true,
    "scrolled": true
   },
   "outputs": [
    {
     "name": "stdout",
     "output_type": "stream",
     "text": [
      "/Users/smerdis/data/LGN/BIDS/JS_combined/derivatives/streams/nipype_JS_20210505_mp_20210520\n",
      "/Users/smerdis/data/LGN/BIDS/JS_combined/derivatives/streams/nipype_JS_20210505_mp_20210520/fixedeffects/modelfit/datasink\n",
      "_0x27225e5031d2cc7dc813941dc81d2ae3.json\n",
      "_inputs.pklz\n",
      "_node.pklz\n",
      "\u001b[34m_report\u001b[m\u001b[m\n",
      "\u001b[34mdesign_file\u001b[m\u001b[m\n",
      "\u001b[34mdesign_image\u001b[m\u001b[m\n",
      "\u001b[34mepi_masked_trimmed\u001b[m\u001b[m\n",
      "result_datasink.pklz\n",
      "\u001b[34mresults_dir\u001b[m\u001b[m\n",
      "\u001b[34mstats_dir\u001b[m\u001b[m\n"
     ]
    }
   ],
   "source": [
    "mp_datasink = f\"{mp_workdir}/fixedeffects/modelfit/datasink\"\n",
    "print(mp_workdir, mp_datasink, sep=\"\\n\")\n",
    "!ls {mp_datasink}"
   ]
  },
  {
   "cell_type": "code",
   "execution_count": 15,
   "metadata": {
    "ExecuteTime": {
     "end_time": "2020-02-24T21:53:21.126707Z",
     "start_time": "2020-02-24T21:53:21.038566Z"
    },
    "hidden": true,
    "scrolled": true
   },
   "outputs": [],
   "source": [
    "mp_l1, mp_l2 = utils.get_model_outputs(mp_datasink, [1])\n",
    "pm_l1, pm_l2 = utils.get_model_outputs(mp_datasink, [2])\n"
   ]
  },
  {
   "cell_type": "code",
   "execution_count": 16,
   "metadata": {
    "ExecuteTime": {
     "end_time": "2020-02-27T23:47:11.605262Z",
     "start_time": "2020-02-27T23:47:11.514339Z"
    },
    "hidden": true,
    "scrolled": true
   },
   "outputs": [],
   "source": [
    "beta_MP = mp_l2[0]\n",
    "beta_PM = pm_l2[0]\n",
    "beta_MP_img = load_img(beta_MP)"
   ]
  },
  {
   "cell_type": "code",
   "execution_count": 17,
   "metadata": {
    "ExecuteTime": {
     "end_time": "2020-02-24T21:53:21.364728Z",
     "start_time": "2020-02-24T21:53:21.295931Z"
    },
    "hidden": true,
    "scrolled": true
   },
   "outputs": [
    {
     "name": "stdout",
     "output_type": "stream",
     "text": [
      "/Users/smerdis/data/LGN/BIDS/JS_combined/derivatives/streams/nipype_JS_20210505_hemi_20210520/fixedeffects/modelfit/datasink/stats_dir/_flameo0/stats/cope1.nii.gz\n",
      "/Users/smerdis/data/LGN/BIDS/JS_combined/derivatives/streams/nipype_JS_20210505_hemi_20210520/fixedeffects/modelfit/datasink/stats_dir/_flameo1/stats/cope1.nii.gz\n",
      "/Users/smerdis/data/LGN/BIDS/JS_combined/derivatives/streams/nipype_JS_20210505_mp_20210520/fixedeffects/modelfit/datasink/stats_dir/_flameo0/stats/cope1.nii.gz\n"
     ]
    }
   ],
   "source": [
    "print(beta_RL, beta_LR, beta_MP, sep='\\n')"
   ]
  },
  {
   "cell_type": "code",
   "execution_count": 18,
   "metadata": {},
   "outputs": [
    {
     "data": {
      "text/plain": [
       "0"
      ]
     },
     "execution_count": 18,
     "metadata": {},
     "output_type": "execute_result"
    }
   ],
   "source": [
    "beta_RL_fn = f\"{out_dir}/sub-{sub}_ses-{ses_lgn}_task-hemi_desc-betaRL_map.nii.gz\"\n",
    "beta_LR_fn = f\"{out_dir}/sub-{sub}_ses-{ses_lgn}_task-hemi_desc-betaLR_map.nii.gz\"\n",
    "os.system(f\"cp {beta_RL} {beta_RL_fn}\")\n",
    "os.system(f\"cp {beta_LR} {beta_LR_fn}\")"
   ]
  },
  {
   "cell_type": "code",
   "execution_count": 19,
   "metadata": {},
   "outputs": [
    {
     "data": {
      "text/plain": [
       "0"
      ]
     },
     "execution_count": 19,
     "metadata": {},
     "output_type": "execute_result"
    }
   ],
   "source": [
    "beta_MP_fn = f\"{out_dir}/sub-{sub}_ses-{ses_lgn}_task-mp_desc-betaMP_map.nii.gz\"\n",
    "os.system((f\"cp {beta_MP} {beta_MP_fn}\"))"
   ]
  },
  {
   "cell_type": "code",
   "execution_count": 20,
   "metadata": {
    "ExecuteTime": {
     "end_time": "2020-02-24T21:53:21.206747Z",
     "start_time": "2020-02-24T21:53:21.131153Z"
    },
    "hidden": true,
    "scrolled": true
   },
   "outputs": [
    {
     "name": "stdout",
     "output_type": "stream",
     "text": [
      "fsleyes /Users/smerdis/data/LGN/BIDS/JS_combined/sub-JS/ses-20210505/anat/sub-JS_ses-20210505_T1w.nii.gz /Users/smerdis/data/LGN/BIDS/JS_combined/derivatives/streams/sub-JS/sub-JS_ses-20210505_task-hemi_refvol.nii.gz /Users/smerdis/data/LGN/BIDS/JS_combined/derivatives/streams/sub-JS/sub-JS_ses-20210505_task-hemi_desc-betaRL_map.nii.gz /Users/smerdis/data/LGN/BIDS/JS_combined/derivatives/streams/sub-JS/sub-JS_ses-20210505_task-hemi_desc-betaLR_map.nii.gz /Users/smerdis/data/LGN/BIDS/JS_combined/derivatives/streams/sub-JS/sub-JS_ses-20210505_task-mp_desc-betaMP_map.nii.gz\n"
     ]
    }
   ],
   "source": [
    "print(f\"fsleyes {anat_file} {lgn_ref_vol} {beta_RL_fn} {beta_LR_fn} {beta_MP_fn}\")"
   ]
  },
  {
   "cell_type": "markdown",
   "metadata": {},
   "source": [
    "### Grab the affine transformation matrix so we can convert EPI to scanner space"
   ]
  },
  {
   "cell_type": "code",
   "execution_count": null,
   "metadata": {},
   "outputs": [],
   "source": [
    "# epi_vox_center = (np.array(ref_vol_img.get_fdata().shape) - 1) / 2.\n",
    "# print('epi vox center: ', epi_vox_center)\n",
    "# print(ref_vol_path)"
   ]
  },
  {
   "cell_type": "markdown",
   "metadata": {},
   "source": [
    "### Assign 80/20 or whatever"
   ]
  },
  {
   "cell_type": "code",
   "execution_count": 77,
   "metadata": {},
   "outputs": [
    {
     "name": "stdout",
     "output_type": "stream",
     "text": [
      "/Users/smerdis/data/LGN/BIDS/JS_combined/derivatives/streams/sub-JS/sub-JS_ses-20210505_desc-LLGNv2_roi.nii.gz\n",
      "/Users/smerdis/data/LGN/BIDS/JS_combined/derivatives/streams/sub-JS/sub-JS_ses-20210505_desc-LLGNv2M80_roi.nii.gz\n",
      "/Users/smerdis/data/LGN/BIDS/JS_combined/derivatives/streams/sub-JS/sub-JS_ses-20210505_desc-LLGNv2P80_roi.nii.gz\n",
      "/Users/smerdis/data/LGN/BIDS/JS_combined/derivatives/streams/sub-JS/sub-JS_ses-20210505_desc-RLGNv2_roi.nii.gz\n",
      "/Users/smerdis/data/LGN/BIDS/JS_combined/derivatives/streams/sub-JS/sub-JS_ses-20210505_desc-RLGNv2M80_roi.nii.gz\n",
      "/Users/smerdis/data/LGN/BIDS/JS_combined/derivatives/streams/sub-JS/sub-JS_ses-20210505_desc-RLGNv2P80_roi.nii.gz\n"
     ]
    }
   ],
   "source": [
    "print('\\n'.join(rois))"
   ]
  },
  {
   "cell_type": "code",
   "execution_count": 78,
   "metadata": {},
   "outputs": [
    {
     "name": "stdout",
     "output_type": "stream",
     "text": [
      "/Users/smerdis/data/LGN/BIDS/JS_combined/derivatives/streams/sub-JS/sub-JS_ses-20210505_task-hemi_refvol.nii.gz\n"
     ]
    }
   ],
   "source": [
    "print(lgn_ref_vol)"
   ]
  },
  {
   "cell_type": "code",
   "execution_count": 106,
   "metadata": {
    "scrolled": false
   },
   "outputs": [
    {
     "name": "stdout",
     "output_type": "stream",
     "text": [
      "/Users/smerdis/data/LGN/BIDS/JS_combined/derivatives/streams/sub-JS/sub-JS_ses-20210505_desc-LLGNv2_roi.nii.gz\n",
      "(87, 3)\n",
      "ROI max and min coords [70 64 11] [63 58  8]\n",
      "ROI extent (total voxel span and max/min distance from center): \n",
      "[8 7 4]\n",
      "[3.011 3.425 1.356]\n",
      "[-3.989 -2.575 -1.644]\n",
      "ROI center in EPI and real-world coordinates: \n",
      "[66.989 60.575  9.644]\n",
      "[-18.225   5.546   3.522]\n",
      "****\n",
      "/Users/smerdis/data/LGN/BIDS/JS_combined/derivatives/streams/sub-JS/sub-JS_ses-20210505_desc-LLGNv2M80_roi.nii.gz\n",
      "(18, 3)\n",
      "ROI max and min coords [68 62 11] [65 60  8]\n",
      "ROI extent (total voxel span and max/min distance from center): \n",
      "[4 3 4]\n",
      "[1.111 0.944 1.778]\n",
      "[-1.889 -1.056 -1.222]\n",
      "ROI center in EPI and real-world coordinates: \n",
      "[66.889 61.056  9.222]\n",
      "[-18.051   6.521   2.972]\n",
      "****\n",
      "/Users/smerdis/data/LGN/BIDS/JS_combined/derivatives/streams/sub-JS/sub-JS_ses-20210505_desc-LLGNv2P80_roi.nii.gz\n",
      "(69, 3)\n",
      "ROI max and min coords [70 64 11] [63 58  8]\n",
      "ROI extent (total voxel span and max/min distance from center): \n",
      "[8 7 4]\n",
      "[2.986 3.551 1.246]\n",
      "[-4.014 -2.449 -1.754]\n",
      "ROI center in EPI and real-world coordinates: \n",
      "[67.014 60.449  9.754]\n",
      "[-18.27    5.292   3.665]\n",
      "****\n",
      "/Users/smerdis/data/LGN/BIDS/JS_combined/derivatives/streams/sub-JS/sub-JS_ses-20210505_desc-RLGNv2_roi.nii.gz\n",
      "(67, 3)\n",
      "ROI max and min coords [45 64 13] [39 59 10]\n",
      "ROI extent (total voxel span and max/min distance from center): \n",
      "[7 6 4]\n",
      "[2.925 2.896 1.567]\n",
      "[-3.075 -2.104 -1.433]\n",
      "ROI center in EPI and real-world coordinates: \n",
      "[42.075 61.104 11.433]\n",
      "[25.374  5.813  6.776]\n",
      "****\n",
      "/Users/smerdis/data/LGN/BIDS/JS_combined/derivatives/streams/sub-JS/sub-JS_ses-20210505_desc-RLGNv2M80_roi.nii.gz\n",
      "(14, 3)\n",
      "ROI max and min coords [44 62 12] [40 60 10]\n",
      "ROI extent (total voxel span and max/min distance from center): \n",
      "[5 3 3]\n",
      "[1.857 0.786 1.214]\n",
      "[-2.143 -1.214 -0.786]\n",
      "ROI center in EPI and real-world coordinates: \n",
      "[42.143 61.214 10.786]\n",
      "[25.255  6.233  5.707]\n",
      "****\n",
      "/Users/smerdis/data/LGN/BIDS/JS_combined/derivatives/streams/sub-JS/sub-JS_ses-20210505_desc-RLGNv2P80_roi.nii.gz\n",
      "(53, 3)\n",
      "ROI max and min coords [45 64 13] [39 59 10]\n",
      "ROI extent (total voxel span and max/min distance from center): \n",
      "[7 6 4]\n",
      "[2.943 2.925 1.396]\n",
      "[-3.057 -2.075 -1.604]\n",
      "ROI center in EPI and real-world coordinates: \n",
      "[42.057 61.075 11.604]\n",
      "[25.406  5.703  7.059]\n",
      "****\n"
     ]
    }
   ],
   "source": [
    "for roi in rois:\n",
    "    utils.roi_stats({roi:load_img(roi)}, load_img(lgn_ref_vol))"
   ]
  },
  {
   "cell_type": "code",
   "execution_count": 80,
   "metadata": {},
   "outputs": [
    {
     "data": {
      "text/plain": [
       "['/Users/smerdis/data/LGN/BIDS/JS_combined/derivatives/streams/sub-JS/sub-JS_ses-20210505_desc-LLGNv2_roi.nii.gz',\n",
       " '/Users/smerdis/data/LGN/BIDS/JS_combined/derivatives/streams/sub-JS/sub-JS_ses-20210505_desc-RLGNv2_roi.nii.gz']"
      ]
     },
     "execution_count": 80,
     "metadata": {},
     "output_type": "execute_result"
    }
   ],
   "source": [
    "big_rois"
   ]
  },
  {
   "cell_type": "code",
   "execution_count": 81,
   "metadata": {},
   "outputs": [],
   "source": [
    "final_big_rois = big_rois # select the ones you want to subdivide"
   ]
  },
  {
   "cell_type": "code",
   "execution_count": 82,
   "metadata": {},
   "outputs": [],
   "source": [
    "# for roi in resampled_rois:\n",
    "#     utils.roi_stats({roi:load_img(roi)}, anat_img)"
   ]
  },
  {
   "cell_type": "code",
   "execution_count": 83,
   "metadata": {},
   "outputs": [],
   "source": [
    "# _, mp_l2 = utils.get_model_outputs(mp_datasink, [1])\n",
    "# beta_MP_img = load_img(beta_MP)"
   ]
  },
  {
   "cell_type": "code",
   "execution_count": 105,
   "metadata": {
    "scrolled": false
   },
   "outputs": [
    {
     "name": "stdout",
     "output_type": "stream",
     "text": [
      "/Users/smerdis/data/LGN/BIDS/JS_combined/derivatives/streams/sub-JS/sub-JS_ses-20210505_desc-LLGNv2_roi.nii.gz\n",
      "(87, 3)\n",
      "ROI max and min coords [70 64 11] [63 58  8]\n",
      "ROI extent (total voxel span and max/min distance from center): \n",
      "[8 7 4]\n",
      "[3.011 3.425 1.356]\n",
      "[-3.989 -2.575 -1.644]\n",
      "ROI center in EPI and real-world coordinates: \n",
      "[66.989 60.575  9.644]\n",
      "[-18.225   5.546   3.522]\n",
      "****\n",
      "****\n",
      "****\n",
      "Given the LGN mask \n",
      "/Users/smerdis/data/LGN/BIDS/JS_combined/derivatives/streams/sub-JS/sub-JS_ses-20210505_desc-LLGNv2_roi.nii.gz\n",
      "which extends from [70 64 11] to [63 58  8]\n",
      "will partition at 80% and create\n",
      "/Users/smerdis/data/LGN/BIDS/JS_combined/derivatives/streams/sub-JS/sub-JS_ses-20210505_desc-LLGNv2P80_roi.nii.gz\n",
      "/Users/smerdis/data/LGN/BIDS/JS_combined/derivatives/streams/sub-JS/sub-JS_ses-20210505_desc-LLGNv2M80_roi.nii.gz\n",
      "Mask contains 87 voxels and 80th percentile is 2.2381420135498047\n"
     ]
    },
    {
     "data": {
      "image/png": "[encoded data removed]",
      "text/plain": [
       "<Figure size 432x288 with 1 Axes>"
      ]
     },
     "metadata": {
      "needs_background": "light"
     },
     "output_type": "display_data"
    },
    {
     "name": "stdout",
     "output_type": "stream",
     "text": [
      "/Users/smerdis/data/LGN/BIDS/JS_combined/derivatives/streams/sub-JS/sub-JS_ses-20210505_desc-LLGNv2M80_roi.nii.gz: 18 voxels\n",
      "/Users/smerdis/data/LGN/BIDS/JS_combined/derivatives/streams/sub-JS/sub-JS_ses-20210505_desc-LLGNv2P80_roi.nii.gz: 69 voxels\n",
      "[69, 18, 84143]\n",
      "[69, 18, 87]\n",
      "beta_masked: (128, 128, 21)\n"
     ]
    },
    {
     "data": {
      "image/png": "[encoded data removed]",
      "text/plain": [
       "<Figure size 1152x432 with 5 Axes>"
      ]
     },
     "metadata": {
      "needs_background": "light"
     },
     "output_type": "display_data"
    },
    {
     "data": {
      "image/png": "[encoded data removed]",
      "text/plain": [
       "<Figure size 1152x432 with 7 Axes>"
      ]
     },
     "metadata": {},
     "output_type": "display_data"
    },
    {
     "name": "stdout",
     "output_type": "stream",
     "text": [
      "M\n",
      "(18, 3)\n",
      "ROI max and min coords [68 62 11] [65 60  8]\n",
      "ROI extent (total voxel span and max/min distance from center): \n",
      "[4 3 4]\n",
      "[1.111 0.944 1.778]\n",
      "[-1.889 -1.056 -1.222]\n",
      "ROI center in EPI and real-world coordinates: \n",
      "[66.889 61.056  9.222]\n",
      "[-18.051   6.521   2.972]\n",
      "****\n",
      "P\n",
      "(69, 3)\n",
      "ROI max and min coords [70 64 11] [63 58  8]\n",
      "ROI extent (total voxel span and max/min distance from center): \n",
      "[8 7 4]\n",
      "[2.986 3.551 1.246]\n",
      "[-4.014 -2.449 -1.754]\n",
      "ROI center in EPI and real-world coordinates: \n",
      "[67.014 60.449  9.754]\n",
      "[-18.27    5.292   3.665]\n",
      "****\n",
      "/Users/smerdis/data/LGN/BIDS/JS_combined/derivatives/streams/sub-JS/sub-JS_ses-20210505_desc-RLGNv2_roi.nii.gz\n",
      "(67, 3)\n",
      "ROI max and min coords [45 64 13] [39 59 10]\n",
      "ROI extent (total voxel span and max/min distance from center): \n",
      "[7 6 4]\n",
      "[2.925 2.896 1.567]\n",
      "[-3.075 -2.104 -1.433]\n",
      "ROI center in EPI and real-world coordinates: \n",
      "[42.075 61.104 11.433]\n",
      "[25.374  5.813  6.776]\n",
      "****\n",
      "****\n",
      "****\n",
      "Given the LGN mask \n",
      "/Users/smerdis/data/LGN/BIDS/JS_combined/derivatives/streams/sub-JS/sub-JS_ses-20210505_desc-RLGNv2_roi.nii.gz\n",
      "which extends from [45 64 13] to [39 59 10]\n",
      "will partition at 80% and create\n",
      "/Users/smerdis/data/LGN/BIDS/JS_combined/derivatives/streams/sub-JS/sub-JS_ses-20210505_desc-RLGNv2P80_roi.nii.gz\n",
      "/Users/smerdis/data/LGN/BIDS/JS_combined/derivatives/streams/sub-JS/sub-JS_ses-20210505_desc-RLGNv2M80_roi.nii.gz\n",
      "Mask contains 67 voxels and 80th percentile is 3.288507175445557\n"
     ]
    },
    {
     "data": {
      "image/png": "[encoded data removed]",
      "text/plain": [
       "<Figure size 432x288 with 1 Axes>"
      ]
     },
     "metadata": {
      "needs_background": "light"
     },
     "output_type": "display_data"
    },
    {
     "name": "stdout",
     "output_type": "stream",
     "text": [
      "/Users/smerdis/data/LGN/BIDS/JS_combined/derivatives/streams/sub-JS/sub-JS_ses-20210505_desc-RLGNv2M80_roi.nii.gz: 14 voxels\n",
      "/Users/smerdis/data/LGN/BIDS/JS_combined/derivatives/streams/sub-JS/sub-JS_ses-20210505_desc-RLGNv2P80_roi.nii.gz: 53 voxels\n",
      "[53, 14, 84143]\n",
      "[53, 14, 67]\n",
      "beta_masked: (128, 128, 21)\n"
     ]
    },
    {
     "data": {
      "image/png": "[encoded data removed]",
      "text/plain": [
       "<Figure size 1152x432 with 5 Axes>"
      ]
     },
     "metadata": {
      "needs_background": "light"
     },
     "output_type": "display_data"
    },
    {
     "data": {
      "image/png": "[encoded data removed]",
      "text/plain": [
       "<Figure size 1152x432 with 6 Axes>"
      ]
     },
     "metadata": {},
     "output_type": "display_data"
    },
    {
     "name": "stdout",
     "output_type": "stream",
     "text": [
      "M\n",
      "(14, 3)\n",
      "ROI max and min coords [44 62 12] [40 60 10]\n",
      "ROI extent (total voxel span and max/min distance from center): \n",
      "[5 3 3]\n",
      "[1.857 0.786 1.214]\n",
      "[-2.143 -1.214 -0.786]\n",
      "ROI center in EPI and real-world coordinates: \n",
      "[42.143 61.214 10.786]\n",
      "[25.255  6.233  5.707]\n",
      "****\n",
      "P\n",
      "(53, 3)\n",
      "ROI max and min coords [45 64 13] [39 59 10]\n",
      "ROI extent (total voxel span and max/min distance from center): \n",
      "[7 6 4]\n",
      "[2.943 2.925 1.396]\n",
      "[-3.057 -2.075 -1.604]\n",
      "ROI center in EPI and real-world coordinates: \n",
      "[42.057 61.075 11.604]\n",
      "[25.406  5.703  7.059]\n",
      "****\n"
     ]
    }
   ],
   "source": [
    "for roi in final_big_rois:\n",
    "    utils.roi_stats({roi:load_img(roi)}, lgn_ref_img)\n",
    "    if 'desc-L' in roi:\n",
    "        M_roi, P_roi, threshold = utils.assign_roi_percentile(roi, beta_MP_img, 80, lgn_ref_img, 'L')\n",
    "    elif 'desc-R' in roi:\n",
    "        M_roi, P_roi, threshold = utils.assign_roi_percentile(roi, beta_MP_img, 80, lgn_ref_img, 'R')\n",
    "    else:\n",
    "        print('Error - not sure which hemisphere roi is in')\n",
    "    utils.roi_stats({'M':load_img(M_roi), 'P':load_img(P_roi)}, lgn_ref_img)"
   ]
  },
  {
   "cell_type": "code",
   "execution_count": 96,
   "metadata": {
    "scrolled": false
   },
   "outputs": [
    {
     "name": "stdout",
     "output_type": "stream",
     "text": [
      "desc-LLGNv2 ['/Users/smerdis/data/LGN/BIDS/JS_combined/derivatives/streams/sub-JS/sub-JS_ses-20210505_desc-LLGNv2M80_roi.nii.gz', '/Users/smerdis/data/LGN/BIDS/JS_combined/derivatives/streams/sub-JS/sub-JS_ses-20210505_desc-LLGNv2P80_roi.nii.gz']\n",
      "Big roi extends from [-11.245   1.724  -0.215] to [-23.495  10.928   7.071]\n",
      "Extent is [-12.25    9.205   7.286] and center is [-18.225   5.546   3.522]\n",
      "/Users/smerdis/data/LGN/BIDS/JS_combined/derivatives/streams/sub-JS/sub-JS_ses-20210505_desc-LLGNv2M80_roi.nii.gz\n",
      "[-18.051   6.521   2.972]\n",
      "[0.444 0.479 0.563]\n",
      "/Users/smerdis/data/LGN/BIDS/JS_combined/derivatives/streams/sub-JS/sub-JS_ses-20210505_desc-LLGNv2P80_roi.nii.gz\n",
      "[-18.27    5.292   3.665]\n",
      "[0.427 0.612 0.467]\n",
      "desc-RLGNv2 ['/Users/smerdis/data/LGN/BIDS/JS_combined/derivatives/streams/sub-JS/sub-JS_ses-20210505_desc-RLGNv2M80_roi.nii.gz', '/Users/smerdis/data/LGN/BIDS/JS_combined/derivatives/streams/sub-JS/sub-JS_ses-20210505_desc-RLGNv2P80_roi.nii.gz']\n",
      "Big roi extends from [30.755  2.721  3.569] to [20.255 10.213 10.497]\n",
      "Extent is [-10.5     7.491   6.928] and center is [25.374  5.813  6.776]\n",
      "/Users/smerdis/data/LGN/BIDS/JS_combined/derivatives/streams/sub-JS/sub-JS_ses-20210505_desc-RLGNv2M80_roi.nii.gz\n",
      "[25.255  6.233  5.707]\n",
      "[0.476 0.531 0.691]\n",
      "/Users/smerdis/data/LGN/BIDS/JS_combined/derivatives/streams/sub-JS/sub-JS_ses-20210505_desc-RLGNv2P80_roi.nii.gz\n",
      "[25.406  5.703  7.059]\n",
      "[0.491 0.602 0.496]\n"
     ]
    },
    {
     "data": {
      "image/png": "[encoded data removed]",
      "text/plain": [
       "<Figure size 432x288 with 1 Axes>"
      ]
     },
     "metadata": {
      "needs_background": "light"
     },
     "output_type": "display_data"
    },
    {
     "data": {
      "image/png": "[encoded data removed]",
      "text/plain": [
       "<Figure size 432x288 with 1 Axes>"
      ]
     },
     "metadata": {
      "needs_background": "light"
     },
     "output_type": "display_data"
    }
   ],
   "source": [
    "for roi in final_big_rois:\n",
    "    big_roi_stub = op.basename(roi).split('_')[-2]\n",
    "    subdivision_rois = [f for f in rois if big_roi_stub in f and ('P' in f or 'M' in f)]\n",
    "    print(big_roi_stub, subdivision_rois)\n",
    "    utils.roi_centers(roi, subdivision_rois, load_img(lgn_ref_vol))"
   ]
  },
  {
   "cell_type": "markdown",
   "metadata": {},
   "source": [
    "### Cross-validation"
   ]
  },
  {
   "cell_type": "code",
   "execution_count": null,
   "metadata": {
    "ExecuteTime": {
     "end_time": "2020-08-30T17:39:05.928141Z",
     "start_time": "2020-08-30T17:39:05.857568Z"
    },
    "scrolled": true
   },
   "outputs": [],
   "source": [
    "# add code to:\n",
    "# compute threshold statistics (variance etc) across xval runs\n",
    "# \n",
    "def cross_val_glm(sub, ses, task, runs, raw_layout, preproc_layout):\n",
    "    print(raw_layout, preproc_layout, sep=\"\\n\")\n",
    "    raw_data_dir = raw_layout.root\n",
    "    out_dir = preproc_layout.root\n",
    "    working_dirs = []\n",
    "    for i,r in enumerate(runs):\n",
    "        other_runs = [*runs[0:i], *runs[i+1:]]\n",
    "        print(i, r, other_runs)\n",
    "        wdir = utils.run_fixedeffects_glm(sub, ses, task, other_runs,\n",
    "                    raw_data_dir, out_dir, working_dir_suffix=f\"excrun{r}\")\n",
    "        working_dirs.append(wdir)\n",
    "    return working_dirs"
   ]
  },
  {
   "cell_type": "code",
   "execution_count": null,
   "metadata": {},
   "outputs": [],
   "source": [
    "# beta_imgs = []\n",
    "# threshold = 6.0\n",
    "# for workdir in hemi_xval_outputs:\n",
    "#     datasink = f\"{workdir}/fixedeffects/modelfit/datasink\"\n",
    "#     xval_suffix = op.split(workdir)[-1].split('_')[-1] # e.g. 'excrun1'\n",
    "#     print(\"xvalRUN\", workdir) #, datasink, sep=\"\\n\")\n",
    "#     #!ls {mp_datasink}\n",
    "#     l1, l2 = utils.get_model_outputs(datasink, [1])\n",
    "#     beta = l2[0]\n",
    "#     beta_img = load_img(beta)\n",
    "#     print(beta, beta_img.shape)\n",
    "#     #thresholded_beta = threshold_img(beta_img, threshold, copy=True)\n",
    "#     bin_beta = math_img(f'img > {threshold}', img=beta_img)\n",
    "#     bin_beta.to_filename(f\"{out_dir}/sub-{sub}_ses-{ses}_hemi_mask_{xval_suffix}_thr{threshold:.0f}.nii.gz\")\n",
    "#     #print(np.count_nonzero(thresholded_beta.get_fdata()), np.count_nonzero(bin_beta.get_fdata()))\n",
    "#     beta_imgs.append(bin_beta)\n",
    "# print(beta_imgs)\n",
    "# intersect_img = nilearn.masking.intersect_masks(beta_imgs, threshold=1)\n",
    "# intersect_img.to_filename(f\"{out_dir}/sub-{sub}-ses-{ses}_hemi_intersect_mask_thr{threshold:.0f}.nii.gz\")\n",
    "# print((np.logical_and(*[b.get_fdata() for b in beta_imgs])).to_filename)"
   ]
  },
  {
   "cell_type": "code",
   "execution_count": null,
   "metadata": {
    "ExecuteTime": {
     "end_time": "2020-08-30T19:14:08.160927Z",
     "start_time": "2020-08-30T17:39:06.515893Z"
    }
   },
   "outputs": [],
   "source": [
    "mp_xval_outputs = cross_val_glm(sub, \"20191221\", \"mp\", [1, 2, 3, 4, 5, 6, 7, 8], raw_layout, preproc_layout)"
   ]
  },
  {
   "cell_type": "code",
   "execution_count": null,
   "metadata": {
    "ExecuteTime": {
     "end_time": "2020-08-30T19:17:43.464874Z",
     "start_time": "2020-08-30T19:17:43.251682Z"
    },
    "scrolled": true
   },
   "outputs": [],
   "source": [
    "mp_xval_outputs"
   ]
  },
  {
   "cell_type": "code",
   "execution_count": null,
   "metadata": {
    "ExecuteTime": {
     "end_time": "2020-08-30T19:17:48.689438Z",
     "start_time": "2020-08-30T19:17:48.358902Z"
    }
   },
   "outputs": [],
   "source": [
    "plt.imshow(ref_vol_img.get_data()[:,:,13])"
   ]
  },
  {
   "cell_type": "code",
   "execution_count": null,
   "metadata": {
    "ExecuteTime": {
     "end_time": "2020-08-31T23:05:26.709716Z",
     "start_time": "2020-08-31T23:05:26.391244Z"
    },
    "scrolled": false
   },
   "outputs": [],
   "source": [
    "thresholds = np.empty((2, len(mp_xval_outputs)))\n",
    "for (i, mp_workdir) in enumerate(mp_xval_outputs):\n",
    "    mp_datasink = f\"{mp_workdir}/fixedeffects/modelfit/datasink\"\n",
    "    print(\"xvalRUN\", mp_workdir, mp_datasink, sep=\"\\n\")\n",
    "    #!ls {mp_datasink}\n",
    "    _, mp_l2 = utils.get_model_outputs(mp_datasink, [1])\n",
    "    beta_MP = mp_l2[0]\n",
    "    beta_MP_img = load_img(beta_MP)\n",
    "    print(\"Left:\")\n",
    "    LP_roi, LM_roi, Lthreshold = utils.assign_roi_percentile(rois[0], beta_MP, 20, ref_vol_img, 'L')\n",
    "    thresholds[0, i] = Lthreshold\n",
    "    print(\"Right:\")\n",
    "    RP_roi, RM_roi, Rthreshold = utils.assign_roi_percentile(rois[1], beta_MP, 20, ref_vol_img, 'R')\n",
    "    thresholds[1, i] = Rthreshold\n",
    "    print(\"*********\\n\")"
   ]
  },
  {
   "cell_type": "code",
   "execution_count": null,
   "metadata": {},
   "outputs": [],
   "source": [
    "np.mean(thresholds, axis=1)"
   ]
  },
  {
   "cell_type": "code",
   "execution_count": null,
   "metadata": {},
   "outputs": [],
   "source": [
    "np.std(thresholds, axis=1)"
   ]
  },
  {
   "cell_type": "markdown",
   "metadata": {
    "collapsed": true
   },
   "source": [
    "## Coherence analysis to identify LGN voxels responding at flicker frequency"
   ]
  },
  {
   "cell_type": "markdown",
   "metadata": {
    "heading_collapsed": true
   },
   "source": [
    "### Use the actual utils.py function"
   ]
  },
  {
   "cell_type": "code",
   "execution_count": null,
   "metadata": {
    "ExecuteTime": {
     "end_time": "2020-02-13T23:16:19.386723Z",
     "start_time": "2020-02-13T23:16:11.672124Z"
    },
    "hidden": true,
    "scrolled": true
   },
   "outputs": [],
   "source": [
    "hemi_bolds, hemi_masks, hemi_eventfiles, hemi_TR, hemi_confounds = utils.get_files(sub, \"20201029\", \"hemi\",\n",
    "    raw_data_dir, out_dir, run=[1, 2])"
   ]
  },
  {
   "cell_type": "markdown",
   "metadata": {
    "heading_collapsed": true
   },
   "source": [
    "### Define hemifield alternation time series etc"
   ]
  },
  {
   "cell_type": "code",
   "execution_count": null,
   "metadata": {
    "ExecuteTime": {
     "end_time": "2020-01-27T20:34:21.626664Z",
     "start_time": "2020-01-27T20:34:21.366456Z"
    },
    "hidden": true,
    "scrolled": false
   },
   "outputs": [],
   "source": [
    "cycle_duration = 27 # (should be 27s)\n",
    "hemi_freq = (1.0/cycle_duration) # of hemifield alternation, in hertz\n",
    "n_trs_func = 139 # Length, in TRs, on a functional scan\n",
    "total_len = n_trs_func*hemi_TR # seconds\n",
    "Fs = 1/hemi_TR # Sampling freq\n",
    "trs_exc_beg = 6\n",
    "trs_exc_end = 1\n",
    "nfft = 61 #Number of time points to use in the window - 61 gives a band centered at .037037...\n",
    "#nperseg = n_trs_func - trs_exc_beg - trs_exc_end\n",
    "\n",
    "# frequency band of physiological relevance\n",
    "f_lb = 0.02\n",
    "f_ub = 0.15\n",
    "\n",
    "# frequency band within which hemifield alternation related activity exists\n",
    "f_lb_hemi = 0.035\n",
    "f_ub_hemi = 0.038\n",
    "\n",
    "print(hemi_freq)\n",
    "\n",
    "t = np.arange(0.0, total_len, hemi_TR)\n",
    "t_trim = np.arange((trs_exc_beg-1)*hemi_TR, (total_len - trs_exc_beg - trs_exc_end)+1, hemi_TR)\n",
    "hemifield_alternation_sinusoid = np.sin(hemi_freq*2*np.pi*t)\n",
    "hemi_alt_trim = hemifield_alternation_sinusoid[trs_exc_beg:(-1*trs_exc_end)]\n",
    "print(t, hemifield_alternation_sinusoid.shape)\n",
    "\n",
    "hemi_ts = ts.TimeSeries(data=hemifield_alternation_sinusoid,\n",
    "                         sampling_interval=hemi_TR)\n",
    "hemi_ts_trim = ts.TimeSeries(data=hemi_alt_trim,\n",
    "                         sampling_interval=hemi_TR)\n",
    "\n",
    "fig, ax = plt.subplots(1)\n",
    "ax.set_xlim(0, 50)\n",
    "ax.plot(t, hemifield_alternation_sinusoid)\n",
    "#ax.plot(t_trim, hemi_alt_trim)\n",
    "ax.set_xlabel(\"Time (sec)\")\n",
    "ax.set_ylabel(\"Hemifield alternation\")"
   ]
  },
  {
   "cell_type": "code",
   "execution_count": null,
   "metadata": {},
   "outputs": [],
   "source": [
    "print(final_big_rois)"
   ]
  },
  {
   "cell_type": "code",
   "execution_count": null,
   "metadata": {},
   "outputs": [],
   "source": [
    "roi = hemi_masks[0]"
   ]
  },
  {
   "cell_type": "markdown",
   "metadata": {},
   "source": [
    "##### Run 1 of hemifield"
   ]
  },
  {
   "cell_type": "code",
   "execution_count": null,
   "metadata": {},
   "outputs": [],
   "source": [
    "_, lgn_ts_run1 = utils.get_timeseries_from_file(hemi_bolds[0], roi, hemi_TR,\n",
    "                                detrend=True, standardize='psc', high_pass=f_lb, low_pass=f_ub)"
   ]
  },
  {
   "cell_type": "code",
   "execution_count": null,
   "metadata": {},
   "outputs": [],
   "source": [
    "_, (hemi_coh_by_voxel, hemi_phase_by_voxel) = utils.seed_coherence_timeseries(hemi_ts, lgn_ts_run1, f_ub, f_lb, dict(NFFT=nfft))"
   ]
  },
  {
   "cell_type": "markdown",
   "metadata": {},
   "source": [
    "##### Run 2 of hemifield"
   ]
  },
  {
   "cell_type": "markdown",
   "metadata": {},
   "source": [
    "##### No detrending or standardization"
   ]
  },
  {
   "cell_type": "code",
   "execution_count": null,
   "metadata": {},
   "outputs": [],
   "source": [
    "lgn_masker, lgn_ts_run2 = utils.get_timeseries_from_file(hemi_bolds[1], roi, hemi_TR,\n",
    "                                detrend=False, standardize=False, high_pass=f_lb, low_pass=f_ub)\n",
    "_, (hemi_coh_by_voxel, hemi_phase_by_voxel) = utils.seed_coherence_timeseries(hemi_ts, lgn_ts_run2, f_ub, f_lb, dict(NFFT=nfft))"
   ]
  },
  {
   "cell_type": "markdown",
   "metadata": {},
   "source": [
    "##### Detrended but no standardization"
   ]
  },
  {
   "cell_type": "code",
   "execution_count": null,
   "metadata": {},
   "outputs": [],
   "source": [
    "lgn_masker, lgn_ts_run2 = utils.get_timeseries_from_file(hemi_bolds[1], roi, hemi_TR,\n",
    "                                detrend=True, standardize=False, high_pass=f_lb, low_pass=f_ub)\n",
    "_, (hemi_coh_by_voxel, hemi_phase_by_voxel) = utils.seed_coherence_timeseries(hemi_ts, lgn_ts_run2, f_ub, f_lb, dict(NFFT=nfft))"
   ]
  },
  {
   "cell_type": "markdown",
   "metadata": {},
   "source": [
    "##### With detrending and conversion to percent signal change"
   ]
  },
  {
   "cell_type": "code",
   "execution_count": null,
   "metadata": {},
   "outputs": [],
   "source": [
    "lgn_masker, lgn_ts_run2 = utils.get_timeseries_from_file(hemi_bolds[1], roi, hemi_TR,\n",
    "                                detrend=True, standardize='psc', high_pass=f_lb, low_pass=f_ub)\n",
    "_, (hemi_coh_by_voxel, hemi_phase_by_voxel) = utils.seed_coherence_timeseries(hemi_ts, lgn_ts_run2, f_ub, f_lb, dict(NFFT=nfft))"
   ]
  },
  {
   "cell_type": "markdown",
   "metadata": {},
   "source": [
    "#### Average the runs for better SNR"
   ]
  },
  {
   "cell_type": "code",
   "execution_count": null,
   "metadata": {},
   "outputs": [],
   "source": [
    "lgn_masker"
   ]
  },
  {
   "cell_type": "code",
   "execution_count": null,
   "metadata": {
    "ExecuteTime": {
     "end_time": "2020-01-25T21:46:32.630821Z",
     "start_time": "2020-01-25T21:45:55.534961Z"
    },
    "hidden": true,
    "scrolled": true
   },
   "outputs": [],
   "source": [
    "mean_bold_timeseries = utils.average_timeseries(hemi_bolds, lgn_masker)"
   ]
  },
  {
   "cell_type": "code",
   "execution_count": null,
   "metadata": {
    "ExecuteTime": {
     "end_time": "2020-01-25T21:46:32.754830Z",
     "start_time": "2020-01-25T21:46:32.633525Z"
    },
    "hidden": true,
    "scrolled": true
   },
   "outputs": [],
   "source": [
    "mean_bold_timeseries.shape"
   ]
  },
  {
   "cell_type": "code",
   "execution_count": null,
   "metadata": {
    "ExecuteTime": {
     "end_time": "2020-01-25T21:46:33.506888Z",
     "start_time": "2020-01-25T21:46:33.390924Z"
    },
    "hidden": true,
    "scrolled": true
   },
   "outputs": [],
   "source": [
    "trim_bold_nm = mean_bold_timeseries[trs_exc_beg:(-1*trs_exc_end),:] # note we are using the mean of the two runs\n",
    "trim_bold_nm.shape"
   ]
  },
  {
   "cell_type": "code",
   "execution_count": null,
   "metadata": {},
   "outputs": [],
   "source": [
    "mean_ts = ts.TimeSeries(data=trim_bold_nm.T, sampling_interval=hemi_TR)\n",
    "hemi_analyzer, (hemi_coh_by_voxel, hemi_phase_by_voxel) = utils.seed_coherence_timeseries(hemi_ts_trim, mean_ts, f_ub, f_lb, dict(NFFT=nfft))"
   ]
  },
  {
   "cell_type": "markdown",
   "metadata": {},
   "source": [
    "##### Run it again but this time with a narrow frequency range for just hemifield alternation"
   ]
  },
  {
   "cell_type": "code",
   "execution_count": null,
   "metadata": {},
   "outputs": [],
   "source": [
    "hemi_analyzer, (hemi_coh_by_voxel, hemi_phase_by_voxel) = utils.seed_coherence_timeseries(hemi_ts_trim, mean_ts,\n",
    "                                                                   f_ub_hemi, f_lb_hemi, dict(NFFT=nfft))"
   ]
  },
  {
   "cell_type": "markdown",
   "metadata": {
    "hidden": true
   },
   "source": [
    "#### Write coherence values to Nifti file"
   ]
  },
  {
   "cell_type": "code",
   "execution_count": null,
   "metadata": {},
   "outputs": [],
   "source": [
    "lgn_masker"
   ]
  },
  {
   "cell_type": "code",
   "execution_count": null,
   "metadata": {},
   "outputs": [],
   "source": [
    "lgn_masker.get_params()"
   ]
  },
  {
   "cell_type": "code",
   "execution_count": null,
   "metadata": {},
   "outputs": [],
   "source": [
    "len(hemi_coh_by_voxel)"
   ]
  },
  {
   "cell_type": "code",
   "execution_count": null,
   "metadata": {
    "ExecuteTime": {
     "end_time": "2020-01-22T17:54:23.313468Z",
     "start_time": "2020-01-22T17:54:23.250220Z"
    },
    "hidden": true,
    "scrolled": true
   },
   "outputs": [],
   "source": [
    "coherence_img = lgn_masker.inverse_transform(hemi_coh_by_voxel)\n",
    "coherence_img.shape"
   ]
  },
  {
   "cell_type": "code",
   "execution_count": null,
   "metadata": {},
   "outputs": [],
   "source": [
    "phase_img = lgn_masker.inverse_transform(hemi_phase_by_voxel)\n",
    "phase_img.shape"
   ]
  },
  {
   "cell_type": "code",
   "execution_count": null,
   "metadata": {
    "ExecuteTime": {
     "end_time": "2020-01-22T17:54:24.449809Z",
     "start_time": "2020-01-22T17:54:24.391167Z"
    },
    "hidden": true,
    "scrolled": true
   },
   "outputs": [],
   "source": [
    "hemi_coh_fn = os.path.join(out_dir, f\"sub-{sub}_ses-{ses}_task-hemi_desc-hemialtCoh_map.nii\")\n",
    "hemi_phase_fn = os.path.join(out_dir, f\"sub-{sub}_ses-{ses}_task-hemi_desc-hemialtPhase_map.nii\")"
   ]
  },
  {
   "cell_type": "code",
   "execution_count": null,
   "metadata": {
    "ExecuteTime": {
     "end_time": "2020-01-22T17:54:27.974412Z",
     "start_time": "2020-01-22T17:54:27.910600Z"
    },
    "hidden": true,
    "scrolled": true
   },
   "outputs": [],
   "source": [
    "coherence_img.to_filename(hemi_coh_fn)\n",
    "phase_img.to_filename(hemi_phase_fn)"
   ]
  },
  {
   "cell_type": "markdown",
   "metadata": {},
   "source": [
    "#### Look at cortical ROI coherence with hemifield alternations"
   ]
  },
  {
   "cell_type": "code",
   "execution_count": null,
   "metadata": {},
   "outputs": [],
   "source": [
    "cortical_masker, cortical_ts_run2 = utils.get_timeseries_from_file(hemi_bolds[1], cortical_rois[0], hemi_TR,\n",
    "                                detrend=False, standardize='zscore', high_pass=f_lb, low_pass=f_ub)\n",
    "_, (hemi_coh_by_voxel_cortex, hemi_phase_by_voxel_cortex) = utils.seed_coherence_timeseries(hemi_ts, cortical_ts_run2, f_ub_hemi, f_lb_hemi, dict(NFFT=nfft))"
   ]
  },
  {
   "cell_type": "markdown",
   "metadata": {
    "hidden": true
   },
   "source": [
    "#### Write coherence values to Nifti file"
   ]
  },
  {
   "cell_type": "code",
   "execution_count": null,
   "metadata": {
    "ExecuteTime": {
     "end_time": "2020-01-22T17:54:23.313468Z",
     "start_time": "2020-01-22T17:54:23.250220Z"
    },
    "hidden": true,
    "scrolled": true
   },
   "outputs": [],
   "source": [
    "coherence_img = cortical_masker.inverse_transform(hemi_coh_by_voxel_cortex)\n",
    "coherence_img.shape"
   ]
  },
  {
   "cell_type": "code",
   "execution_count": null,
   "metadata": {
    "ExecuteTime": {
     "end_time": "2020-01-22T17:54:24.449809Z",
     "start_time": "2020-01-22T17:54:24.391167Z"
    },
    "hidden": true,
    "scrolled": true
   },
   "outputs": [],
   "source": [
    "print(cortex_coh_fn)"
   ]
  },
  {
   "cell_type": "code",
   "execution_count": null,
   "metadata": {
    "ExecuteTime": {
     "end_time": "2020-01-22T17:54:27.974412Z",
     "start_time": "2020-01-22T17:54:27.910600Z"
    },
    "hidden": true,
    "scrolled": true
   },
   "outputs": [],
   "source": [
    "coherence_img.to_filename(cortex_coh_fn)"
   ]
  },
  {
   "cell_type": "markdown",
   "metadata": {
    "hidden": true
   },
   "source": [
    "#### SpectralAnalyzer - view and plot FFT, PSD, etc."
   ]
  },
  {
   "cell_type": "code",
   "execution_count": null,
   "metadata": {
    "ExecuteTime": {
     "end_time": "2020-01-25T22:02:53.630910Z",
     "start_time": "2020-01-25T22:02:53.570465Z"
    },
    "hidden": true,
    "scrolled": true
   },
   "outputs": [],
   "source": [
    "def plot_spectra(S_original, voxid):\n",
    "    fig01 = plt.figure()\n",
    "    ax01 = fig01.add_subplot(1, 1, 1)\n",
    "    if voxid is None:\n",
    "        ax01.plot(S_original.psd[0],\n",
    "                  S_original.psd[1],\n",
    "                  label='PSD')\n",
    "        ax01.plot(S_original.spectrum_fourier[0],\n",
    "              np.abs(S_original.spectrum_fourier[1]),\n",
    "              label='FFT')\n",
    "#         ax01.plot(S_original.periodogram[0],\n",
    "#               np.abs(S_original.periodogram[1]),\n",
    "#               label='Periodogram')\n",
    "\n",
    "#         ax01.plot(S_original.spectrum_multi_taper[0],\n",
    "#               np.abs(S_original.spectrum_multi_taper[1]),\n",
    "#               label='Multitaper')\n",
    "        \n",
    "    else:\n",
    "        ax01.plot(S_original.psd[0],\n",
    "                  S_original.psd[1][voxid],\n",
    "                  label='PSD')\n",
    "        ax01.plot(S_original.spectrum_fourier[0],\n",
    "              np.abs(S_original.spectrum_fourier[1][voxid]),\n",
    "              label='FFT')\n",
    "#         ax01.plot(S_original.spectrum_multi_taper[0],\n",
    "#               np.abs(S_original.spectrum_multi_taper[1][voxid]),\n",
    "#               label='Multitaper')\n",
    "    print(S_original.psd[0], S_original.psd[1], len(S_original.psd[1]), sep='\\n')\n",
    "\n",
    "    ax01.set_xlabel('Frequency (Hz)')\n",
    "    ax01.set_ylabel('Power')\n",
    "\n",
    "    ax01.legend()"
   ]
  },
  {
   "cell_type": "code",
   "execution_count": null,
   "metadata": {},
   "outputs": [],
   "source": [
    "roi_mean_timeseries = ts.TimeSeries(np.mean(mean_ts.data, axis=0), sampling_interval=hemi_TR)"
   ]
  },
  {
   "cell_type": "code",
   "execution_count": null,
   "metadata": {},
   "outputs": [],
   "source": [
    "roi_mean_timeseries.data.shape"
   ]
  },
  {
   "cell_type": "code",
   "execution_count": null,
   "metadata": {},
   "outputs": [],
   "source": [
    "plot_spectra(\n",
    "    nta.SpectralAnalyzer(hemi_ts_trim, method={#'this_method':'welch',\n",
    "                                                        'NFFT':132,\n",
    "                                                        'Fs':hemi_ts_trim.sampling_rate})\n",
    "    , None)\n",
    "plot_spectra(\n",
    "    nta.SpectralAnalyzer(roi_mean_timeseries, method={#'this_method':'welch',\n",
    "                                                        'NFFT':132,\n",
    "                                                        'Fs':hemi_ts_trim.sampling_rate}), None)"
   ]
  },
  {
   "cell_type": "markdown",
   "metadata": {},
   "source": [
    "### Mean across voxels of ROI timerseries but with nfft bins"
   ]
  },
  {
   "cell_type": "code",
   "execution_count": null,
   "metadata": {},
   "outputs": [],
   "source": [
    "plot_spectra(\n",
    "    nta.SpectralAnalyzer(hemi_ts_trim, method={#'this_method':'welch',\n",
    "                                                        'NFFT':nfft,\n",
    "                                                        'Fs':hemi_ts_trim.sampling_rate})\n",
    "    , None)\n",
    "plot_spectra(\n",
    "    nta.SpectralAnalyzer(roi_mean_timeseries, method={#'this_method':'welch',\n",
    "                                                        'NFFT':nfft,\n",
    "                                                        'Fs':hemi_ts_trim.sampling_rate}), None)"
   ]
  },
  {
   "cell_type": "markdown",
   "metadata": {},
   "source": [
    "### SeedCoherenceAnalyzer for connectivity"
   ]
  },
  {
   "cell_type": "code",
   "execution_count": null,
   "metadata": {},
   "outputs": [],
   "source": [
    "# Broken due to BIDS change?\n",
    "# conn_bolds, conn_masks, conn_eventfiles, conn_TR, conn_confounds = utils.get_files(sub, ses, \"conn\",\n",
    "#     raw_data_dir, out_dir, run=[1, 5,])\n",
    "\n",
    "conn_bolds = ['/Users/smerdis/data/LGN/BIDS/NB_2020/derivatives/streams/sub-NB/ses-20201029/func/sub-NB_ses-20201029_task-conn_run-01_desc-preproc_bold.nii.gz', '/Users/smerdis/data/LGN/BIDS/NB_2020/derivatives/streams/sub-NB/ses-20201029/func/sub-NB_ses-20201029_task-conn_run-05_desc-preproc_bold.nii.gz']\n",
    "conn_masks = ['/Users/smerdis/data/LGN/BIDS/NB_2020/derivatives/streams/sub-NB/sub-NB_ses-20201029_task-conn_mask.nii.gz', '/Users/smerdis/data/LGN/BIDS/NB_2020/derivatives/streams/sub-NB/sub-NB_ses-20201029_task-conn_mask.nii.gz']\n",
    "conn_TR = 2.25"
   ]
  },
  {
   "cell_type": "code",
   "execution_count": null,
   "metadata": {},
   "outputs": [],
   "source": [
    "f_lb = 0.025\n",
    "f_ub = 0.15"
   ]
  },
  {
   "cell_type": "code",
   "execution_count": null,
   "metadata": {},
   "outputs": [],
   "source": [
    "print(rois)"
   ]
  },
  {
   "cell_type": "code",
   "execution_count": null,
   "metadata": {},
   "outputs": [],
   "source": [
    "cortical_rois\n",
    "cortical_roi = cortical_rois[0]"
   ]
  },
  {
   "cell_type": "code",
   "execution_count": null,
   "metadata": {},
   "outputs": [],
   "source": [
    "left_lgn_rois = ['/Users/smerdis/data/LGN/BIDS/NB_2020/derivatives/streams/sub-NB/sub-NB_ses-20191221_desc-LLGNsmallM80_roi.nii.gz',\n",
    "                 '/Users/smerdis/data/LGN/BIDS/NB_2020/derivatives/streams/sub-NB/sub-NB_ses-20191221_desc-LLGNsmallP80_roi.nii.gz']"
   ]
  },
  {
   "cell_type": "code",
   "execution_count": null,
   "metadata": {
    "scrolled": false
   },
   "outputs": [],
   "source": [
    "for roi in left_lgn_rois:\n",
    "    #if 'M' in roi or 'P' in roi:\n",
    "    bn = op.basename(roi)\n",
    "    parts = bn.split('_')\n",
    "    print(parts)\n",
    "    cohs = []\n",
    "    phases = []\n",
    "    for i, bold in enumerate(conn_bolds):\n",
    "        print(i, bold)\n",
    "        bbn = op.basename(bold)\n",
    "        runpart = [p for p in bbn.split('_') if 'run-' in p][0]\n",
    "        conn_coh_fn = os.path.join(out_dir, f\"sub-{sub}_ses-{ses}_task-conn_{runpart}_{parts[-2]}_coherence_map.nii\")\n",
    "        conn_phase_fn = os.path.join(out_dir, f\"sub-{sub}_ses-{ses}_task-conn_{runpart}_{parts[-2]}_phase_map.nii\")\n",
    "        print(conn_coh_fn, conn_phase_fn, sep='\\n')\n",
    "        #below: wholebrain mask with mean of seed roi\n",
    "        # 2/3/21: cahnged to use cortical roi instead of wholebrain\n",
    "        a, target_masker, coherence_by_voxel, phase_by_voxel = utils.seed_coherence_analysis(bold, cortical_roi, roi,\n",
    "                          conn_TR, f_ub, f_lb, mean_seed=True, method=dict(NFFT=64))\n",
    "        coherence_map_img = target_masker.inverse_transform(coherence_by_voxel)\n",
    "        phase_img = target_masker.inverse_transform(phase_by_voxel)\n",
    "        coherence_map_img.to_filename(conn_coh_fn)\n",
    "        phase_img.to_filename(conn_phase_fn)\n",
    "        # below: roi with the mean of that roi\n",
    "        #a = utils.seed_coherence_analysis(bold, roi, roi,\n",
    "        #      conn_TR, f_ub, f_lb, conn_coh_fn, mean_seed=True)\n",
    "        # below: cortical roi (hand-defined and hardcoded) with mean of seed ROI\n",
    "#         a, _ = utils.seed_coherence_analysis(bold, cortical_rois[0], roi,\n",
    "#               conn_TR, f_ub, f_lb, conn_coh_fn, mean_seed=True)\n",
    "\n",
    "        cohs.append(a.coherence)\n",
    "        phases.append(a.relative_phases)    "
   ]
  },
  {
   "cell_type": "code",
   "execution_count": null,
   "metadata": {},
   "outputs": [],
   "source": [
    "img1 = '/Users/smerdis/data/LGN/BIDS/NB_2020/derivatives/streams/sub-NB/sub-NB_ses-20201029_task-conn_run-01_desc-LLGNsmallM80_phase_map.nii'\n",
    "img2 = '/Users/smerdis/data/LGN/BIDS/NB_2020/derivatives/streams/sub-NB/sub-NB_ses-20201029_task-conn_run-05_desc-LLGNsmallM80_phase_map.nii'\n"
   ]
  },
  {
   "cell_type": "code",
   "execution_count": null,
   "metadata": {},
   "outputs": [],
   "source": [
    "phase_diff_img = math_img(f\"img1 - img2\", img1=img1, img2=img2)\n",
    "phase_diff_path = f\"{out_dir}/sub-NB_ses-20201029_task-conn_desc-LLGNsmallM80_leftM_phasediff_map.nii\"\n",
    "phase_diff_img.to_filename(phase_diff_path)"
   ]
  },
  {
   "cell_type": "code",
   "execution_count": null,
   "metadata": {},
   "outputs": [],
   "source": [
    "print(f\"fsleyes {conn_ref_vol_path} {phase_diff_path}\")"
   ]
  },
  {
   "cell_type": "code",
   "execution_count": null,
   "metadata": {},
   "outputs": [],
   "source": [
    "cohs[0].shape"
   ]
  },
  {
   "cell_type": "code",
   "execution_count": null,
   "metadata": {},
   "outputs": [],
   "source": []
  }
 ],
 "metadata": {
  "kernelspec": {
   "display_name": "Python 3",
   "language": "python",
   "name": "python3"
  },
  "language_info": {
   "codemirror_mode": {
    "name": "ipython",
    "version": 3
   },
   "file_extension": ".py",
   "mimetype": "text/x-python",
   "name": "python",
   "nbconvert_exporter": "python",
   "pygments_lexer": "ipython3",
   "version": "3.7.9"
  },
  "varInspector": {
   "cols": {
    "lenName": 16,
    "lenType": 16,
    "lenVar": 40
   },
   "kernels_config": {
    "python": {
     "delete_cmd_postfix": "",
     "delete_cmd_prefix": "del ",
     "library": "var_list.py",
     "varRefreshCmd": "print(var_dic_list())"
    },
    "r": {
     "delete_cmd_postfix": ") ",
     "delete_cmd_prefix": "rm(",
     "library": "var_list.r",
     "varRefreshCmd": "cat(var_dic_list()) "
    }
   },
   "types_to_exclude": [
    "module",
    "function",
    "builtin_function_or_method",
    "instance",
    "_Feature"
   ],
   "window_display": false
  }
 },
 "nbformat": 4,
 "nbformat_minor": 2
}
