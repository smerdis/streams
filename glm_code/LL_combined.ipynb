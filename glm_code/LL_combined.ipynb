{
 "cells": [
  {
   "cell_type": "code",
   "execution_count": 1,
   "metadata": {
    "ExecuteTime": {
     "end_time": "2020-08-28T16:44:23.892127Z",
     "start_time": "2020-08-28T16:44:23.850145Z"
    },
    "scrolled": true
   },
   "outputs": [],
   "source": [
    "%load_ext autoreload\n",
    "%autoreload 2"
   ]
  },
  {
   "cell_type": "code",
   "execution_count": 2,
   "metadata": {
    "ExecuteTime": {
     "end_time": "2020-08-28T16:44:30.534247Z",
     "start_time": "2020-08-28T16:44:24.433003Z"
    },
    "scrolled": true
   },
   "outputs": [],
   "source": [
    "import utils # stuff I've written for this project\n",
    "\n",
    "import os, sys, datetime, glob, re\n",
    "import os.path as op\n",
    "\n",
    "import numpy as np\n",
    "np.set_printoptions(precision=4)\n",
    "import pandas as pd\n",
    "import matplotlib.pyplot as plt\n",
    "import matplotlib.mlab as mlab\n",
    "import shutil\n",
    "\n",
    "import nibabel as nib\n",
    "\n",
    "import nilearn\n",
    "from nilearn.masking import apply_mask\n",
    "from nilearn.plotting import plot_img, plot_epi, plot_roi, plot_stat_map, view_img, plot_anat\n",
    "from nilearn.image import load_img, math_img, resample_to_img, new_img_like\n",
    "from nilearn.input_data import NiftiMasker\n",
    "\n",
    "import nitime\n",
    "import nitime.fmri.io as nfio\n",
    "import nitime.timeseries as ts\n",
    "import nitime.analysis as nta\n",
    "import nitime.utils as ntu\n",
    "import nitime.viz as ntv\n",
    "import nitime.algorithms as ntalg\n",
    "\n",
    "import scipy\n",
    "\n",
    "from bids import BIDSLayout"
   ]
  },
  {
   "cell_type": "code",
   "execution_count": 3,
   "metadata": {
    "ExecuteTime": {
     "end_time": "2020-08-28T16:44:30.611464Z",
     "start_time": "2020-08-28T16:44:30.537190Z"
    },
    "scrolled": true
   },
   "outputs": [],
   "source": [
    "%matplotlib inline"
   ]
  },
  {
   "cell_type": "code",
   "execution_count": 4,
   "metadata": {
    "ExecuteTime": {
     "end_time": "2020-08-28T16:44:30.683866Z",
     "start_time": "2020-08-28T16:44:30.614803Z"
    },
    "scrolled": true
   },
   "outputs": [
    {
     "name": "stdout",
     "output_type": "stream",
     "text": [
      " numpy:  1.20.0 \n",
      " nibabel:  3.2.1 \n",
      " nilearn:  0.7.0 \n",
      " nitime:  0.9 \n",
      " scipy:  1.6.0\n"
     ]
    }
   ],
   "source": [
    "print(' numpy: ', np.__version__, '\\n',\n",
    "      'nibabel: ', nib.__version__, '\\n',\n",
    "      'nilearn: ', nilearn.__version__, '\\n',\n",
    "      'nitime: ', nitime.__version__, '\\n',\n",
    "      'scipy: ', scipy.__version__,)"
   ]
  },
  {
   "cell_type": "markdown",
   "metadata": {},
   "source": [
    "### Initial definitions (before any preprocessing)\n",
    "\n",
    " * conn_ref_vol should be the first volume of the first run of the connectivity task\n",
    " * hemi_ref_vol should be the first volume of the first run of the hemifield task IN THE SAME SESSION\n",
    "   * changed for this subject to have more explicit names for hemifield tasks from each session\n",
    "     * lgn_hemi_ref_vol is the hemifield runs from the lgn session\n",
    " * lgn_ref_vol should be the reference volume of the LGN scans, a separate session (20191221 in this case)"
   ]
  },
  {
   "cell_type": "code",
   "execution_count": 5,
   "metadata": {},
   "outputs": [
    {
     "name": "stderr",
     "output_type": "stream",
     "text": [
      "//anaconda/envs/streams/lib/python3.7/site-packages/bids/layout/models.py:152: FutureWarning: The 'extension' entity currently excludes the leading dot ('.'). As of version 0.14.0, it will include the leading dot. To suppress this warning and include the leading dot, use `bids.config.set_option('extension_initial_dot', True)`.\n",
      "  FutureWarning)\n"
     ]
    }
   ],
   "source": [
    "sub = \"LL\"\n",
    "ses_lgn = \"20210511\"\n",
    "ses_prf = \"20210810\"\n",
    "ses_conn = \"20210909\"\n",
    "\n",
    "raw_data_dir = os.path.abspath(\"/Users/smerdis/data/LGN/BIDS/LL_combined/sub-LL/\")\n",
    "raw_layout = BIDSLayout(raw_data_dir, validate=False, derivatives=False)\n",
    "derivs_dir = os.path.abspath(\"/Users/smerdis/data/LGN/BIDS/LL_combined/derivatives/streams\")\n",
    "out_dir = os.path.abspath(f\"{derivs_dir}/sub-{sub}\")\n",
    "if not os.path.isdir(out_dir):\n",
    "    os.makedirs(out_dir)\n",
    "conn_ref_vol_name = f\"sub-{sub}_ses-{ses_conn}_task-conn_refvol\"\n",
    "conn_ref_vol_path = os.path.abspath(f\"{out_dir}/{conn_ref_vol_name}.nii.gz\")\n",
    "conn_mask_file = os.path.join(out_dir, f\"sub-{sub}_ses-{ses_conn}_task-conn_mask.nii.gz\")\n",
    "lgn_hemi_ref_vol_name = f\"sub-{sub}_ses-{ses_lgn}_task-hemi_refvol\"\n",
    "lgn_hemi_ref_vol_path = os.path.abspath(f\"{out_dir}/{lgn_hemi_ref_vol_name}.nii.gz\")\n",
    "lgn_hemi_mask_file = os.path.join(out_dir, f\"sub-{sub}_ses-{ses_lgn}_task-hemi_mask.nii.gz\")\n",
    "prf_ref_vol_name = f\"sub-{sub}_ses-{ses_prf}_task-prf_refvol.nii.gz\"\n",
    "prf_ref_vol_path = os.path.abspath(f\"{out_dir}/{prf_ref_vol_name}\")\n",
    "lgn_hemi_ref_vol_img = load_img(lgn_hemi_ref_vol_path) # will fail if refvol not created yet\n",
    "prf_ref_vol_img = load_img(prf_ref_vol_path) # will fail if refvol not created yet\n",
    "conn_ref_vol_img = load_img(conn_ref_vol_path) # will fail if refvol not created yet"
   ]
  },
  {
   "cell_type": "markdown",
   "metadata": {},
   "source": [
    "### Begin Preprocessing"
   ]
  },
  {
   "cell_type": "markdown",
   "metadata": {
    "heading_collapsed": true
   },
   "source": [
    "#### Make ref_vol from first dicom"
   ]
  },
  {
   "cell_type": "code",
   "execution_count": null,
   "metadata": {
    "ExecuteTime": {
     "end_time": "2020-01-29T22:54:07.665170Z",
     "start_time": "2020-01-29T22:54:07.611446Z"
    },
    "hidden": true,
    "scrolled": true
   },
   "outputs": [],
   "source": [
    "### need to escape spaces!\n",
    "### Do for each sequence\n",
    "first_dicom_hemi = \"/Users/smerdis/data/LGN/Ll_Lgn_20210511/Silver_Arjun\\ -\\ 1/sb_bold_1p75mmISO_PSN_3/IM-0003-0001.dcm\"\n",
    "first_dicom_prf = \"/Users/smerdis/data/LGN/Nb_20191221/Silver_Arjun\\ -\\ 1/sb_bold_1p75mmISO_PSN_7/IM-0007-0001.dcm\"\n",
    "first_dicom_conn = \"/Users/smerdis/data/LGN/Ll_Mpconn_20210909/Silver_Arjun\\ -\\ 1/mb_bold_mb3_1p75mm_PSN_1p75slice_4/IM-0004-0001.dcm\""
   ]
  },
  {
   "cell_type": "code",
   "execution_count": null,
   "metadata": {
    "ExecuteTime": {
     "end_time": "2020-01-29T22:54:08.497099Z",
     "start_time": "2020-01-29T22:54:08.306179Z"
    },
    "hidden": true,
    "scrolled": true
   },
   "outputs": [],
   "source": [
    "!ls {first_dicom_conn}\n",
    "#!ls {first_dicom_hemi}\n",
    "#!ls {first_dicom_prf}"
   ]
  },
  {
   "cell_type": "code",
   "execution_count": null,
   "metadata": {
    "ExecuteTime": {
     "end_time": "2020-01-29T22:54:20.815606Z",
     "start_time": "2020-01-29T22:54:20.643774Z"
    },
    "hidden": true,
    "scrolled": true
   },
   "outputs": [],
   "source": [
    "dcm2niix_cmd = f\"dcm2niix -v 2 -s y -f {conn_ref_vol_name} -z y -o {out_dir} {first_dicom_conn}\"\n",
    "# dcm2niix_cmd = f\"dcm2niix -v 2 -s y -f {prf_ref_vol_name} -z y -o {out_dir} {first_dicom_prf}\"\n",
    "#dcm2niix_cmd = f\"dcm2niix -v 2 -s y -f {lgn_hemi_ref_vol_name} -z y -o {out_dir} {first_dicom_hemi}\"\n",
    "print(dcm2niix_cmd)\n",
    "os.system(dcm2niix_cmd)"
   ]
  },
  {
   "cell_type": "code",
   "execution_count": null,
   "metadata": {},
   "outputs": [],
   "source": [
    "# dcm2niix_cmd = f\"dcm2niix -v 2 -s y -f {lgn_hemi_ref_vol_name} -z y -o {out_dir} {first_dicom_hemi}\"\n",
    "# print(dcm2niix_cmd)"
   ]
  },
  {
   "cell_type": "code",
   "execution_count": null,
   "metadata": {
    "ExecuteTime": {
     "end_time": "2020-01-25T20:47:03.276428Z",
     "start_time": "2020-01-25T20:47:03.093980Z"
    },
    "hidden": true,
    "scrolled": true
   },
   "outputs": [],
   "source": [
    "!ls {out_dir}"
   ]
  },
  {
   "cell_type": "markdown",
   "metadata": {},
   "source": [
    "### Define refence volume"
   ]
  },
  {
   "cell_type": "code",
   "execution_count": null,
   "metadata": {},
   "outputs": [],
   "source": [
    "#conn_ref_vol_img = load_img(conn_ref_vol_path)\n",
    "# lgn_hemi_ref_vol_img = load_img(lgn_hemi_ref_vol_path)\n",
    "# because hemifield and mp use the same sequence and are collected in the same session, just use the same refvol\n",
    "# mp_ref_vol_img = lgn_hemi_ref_vol_img\n",
    "#prf_ref_vol_img = load_img(prf_ref_vol_path)"
   ]
  },
  {
   "cell_type": "code",
   "execution_count": null,
   "metadata": {
    "ExecuteTime": {
     "end_time": "2020-01-27T20:01:49.922292Z",
     "start_time": "2020-01-27T20:01:48.627760Z"
    },
    "hidden": true,
    "scrolled": true
   },
   "outputs": [],
   "source": [
    "raw_bolds_conn = sorted([f for f in raw_layout.get(subject=sub, session=ses_conn, task='conn', suffix='bold',\n",
    "            extension=['nii.gz'], return_type='file')])\n",
    "raw_bolds_hemi = sorted([f for f in raw_layout.get(subject=sub, session=ses_lgn, task='hemi', suffix='bold',\n",
    "            extension=['nii.gz'], return_type='file')])\n",
    "raw_bolds_mp = sorted([f for f in raw_layout.get(subject=sub, session=ses_lgn, task='mp', suffix='bold',\n",
    "            extension=['nii.gz'], return_type='file')])"
   ]
  },
  {
   "cell_type": "code",
   "execution_count": null,
   "metadata": {},
   "outputs": [],
   "source": [
    "!ls {lgn_hemi_ref_vol_path}"
   ]
  },
  {
   "cell_type": "code",
   "execution_count": null,
   "metadata": {},
   "outputs": [],
   "source": [
    "print(raw_bolds_hemi, raw_bolds_conn)"
   ]
  },
  {
   "cell_type": "markdown",
   "metadata": {
    "heading_collapsed": true
   },
   "source": [
    "#### mcflirt the bold files using ref_vol as the reference image, save them as _preproc"
   ]
  },
  {
   "cell_type": "code",
   "execution_count": null,
   "metadata": {
    "ExecuteTime": {
     "end_time": "2020-01-27T20:01:51.006474Z",
     "start_time": "2020-01-27T20:01:50.940631Z"
    },
    "hidden": true,
    "scrolled": true
   },
   "outputs": [],
   "source": [
    "print(\"\\n\".join(raw_bolds_conn))"
   ]
  },
  {
   "cell_type": "code",
   "execution_count": null,
   "metadata": {},
   "outputs": [],
   "source": [
    "def make_preproc_name(this_epi, part='desc-preproc', index=-1):\n",
    "    epi_name = os.path.basename(this_epi)\n",
    "    epi_stub = epi_name.split('.')[0]\n",
    "    epi_stub_parts = epi_stub.split('_')\n",
    "    epi_stub_parts.insert(index, part)\n",
    "    epi_stub_mcf = '_'.join(epi_stub_parts)\n",
    "    return epi_stub_mcf"
   ]
  },
  {
   "cell_type": "code",
   "execution_count": null,
   "metadata": {
    "ExecuteTime": {
     "end_time": "2020-01-27T20:16:55.516992Z",
     "start_time": "2020-01-27T20:12:48.776666Z"
    },
    "code_folding": [],
    "hidden": true,
    "scrolled": true
   },
   "outputs": [],
   "source": [
    "for this_epi in raw_bolds_conn:\n",
    "    align_to = 'refvol' #'refvol' # or 'anat'\n",
    "    epi_stub_mcf = utils.change_bids_description(this_epi, 'desc-mcflirt')   \n",
    "    if not os.path.isdir(os.path.join(out_dir, f\"ses-{ses_conn}\", \"func\")):\n",
    "        os.makedirs(os.path.join(out_dir, f\"ses-{ses_conn}\", \"func\"))\n",
    "    full_outpath = os.path.join(out_dir, f\"ses-{ses_conn}\", \"func\", epi_stub_mcf)\n",
    "    if align_to == 'refvol':\n",
    "        mcflirt_cmd = f\"mcflirt -reffile {conn_ref_vol_path} -mats -plots -report -cost mutualinfo -smooth 16 -in {this_epi} -o {full_outpath}\"\n",
    "    elif align_to == 'anat':\n",
    "        mcflirt_cmd = f\"mcflirt -reffile {anat_file} -mats -plots -report -cost mutualinfo -smooth 16 -in {this_epi} -o {full_outpath}_anatalign\"\n",
    "    print(mcflirt_cmd)\n",
    "    #os.system(mcflirt_cmd)"
   ]
  },
  {
   "cell_type": "code",
   "execution_count": null,
   "metadata": {},
   "outputs": [],
   "source": [
    "for this_epi in raw_bolds_hemi:\n",
    "    align_to = 'refvol' #'refvol' # or 'anat'\n",
    "    epi_stub_mcf = utils.change_bids_description(this_epi, 'desc-mcflirt')   \n",
    "    if not os.path.isdir(os.path.join(out_dir, f\"ses-{ses_lgn}\", \"func\")):\n",
    "        os.makedirs(os.path.join(out_dir, f\"ses-{ses_lgn}\", \"func\"))\n",
    "    full_outpath = os.path.join(out_dir, f\"ses-{ses_lgn}\", \"func\", epi_stub_mcf)\n",
    "    if align_to == 'refvol':\n",
    "        mcflirt_cmd = f\"mcflirt -reffile {lgn_hemi_ref_vol_path} -mats -plots -report -cost mutualinfo -smooth 16 -in {this_epi} -o {full_outpath}\"\n",
    "    elif align_to == 'anat':\n",
    "        mcflirt_cmd = f\"mcflirt -reffile {anat_file} -mats -plots -report -cost mutualinfo -smooth 16 -in {this_epi} -o {full_outpath}_anatalign\"\n",
    "    print(mcflirt_cmd)\n",
    "    os.system(mcflirt_cmd)"
   ]
  },
  {
   "cell_type": "code",
   "execution_count": null,
   "metadata": {},
   "outputs": [],
   "source": [
    "for this_epi in raw_bolds_mp:\n",
    "    align_to = 'refvol' #'refvol' # or 'anat'\n",
    "    epi_stub_mcf = utils.change_bids_description(this_epi, 'desc-mcflirt')   \n",
    "    if not os.path.isdir(os.path.join(out_dir, f\"ses-{ses_lgn}\", \"func\")):\n",
    "        os.makedirs(os.path.join(out_dir, f\"ses-{ses_lgn}\", \"func\"))\n",
    "    full_outpath = os.path.join(out_dir, f\"ses-{ses_lgn}\", \"func\", epi_stub_mcf)\n",
    "    if align_to == 'refvol':\n",
    "        mcflirt_cmd = f\"mcflirt -reffile {lgn_hemi_ref_vol_path} -mats -plots -report -cost mutualinfo -smooth 16 -in {this_epi} -o {full_outpath}\"\n",
    "    elif align_to == 'anat':\n",
    "        mcflirt_cmd = f\"mcflirt -reffile {anat_file} -mats -plots -report -cost mutualinfo -smooth 16 -in {this_epi} -o {full_outpath}_anatalign\"\n",
    "    print(mcflirt_cmd)\n",
    "    os.system(mcflirt_cmd)"
   ]
  },
  {
   "cell_type": "code",
   "execution_count": null,
   "metadata": {},
   "outputs": [],
   "source": [
    "!ls /Users/smerdis/data/LGN/BIDS/LL_combined/derivatives/streams/sub-LL/ses-20210909/func/sub-LL_ses-20210909_task-conn_run-02_desc-mcflirt_bold.nii.gz"
   ]
  },
  {
   "cell_type": "markdown",
   "metadata": {
    "heading_collapsed": true,
    "hidden": true
   },
   "source": [
    "#### make brainmask if it doesn't exist already"
   ]
  },
  {
   "cell_type": "code",
   "execution_count": null,
   "metadata": {},
   "outputs": [],
   "source": [
    "raw_layout.get_tr??"
   ]
  },
  {
   "cell_type": "code",
   "execution_count": null,
   "metadata": {},
   "outputs": [],
   "source": [
    "conn_ref_bold_run = raw_bolds_conn[0]\n",
    "conn_TR = raw_layout.get_metadata(conn_ref_bold_run)['RepetitionTime'] # instead of get_tr()\n",
    "#conn_TR = raw_layout.get_tr(filename=conn_ref_bold_run)"
   ]
  },
  {
   "cell_type": "code",
   "execution_count": null,
   "metadata": {},
   "outputs": [],
   "source": [
    "conn_TR #, hemi_TR"
   ]
  },
  {
   "cell_type": "code",
   "execution_count": null,
   "metadata": {},
   "outputs": [],
   "source": [
    "!ls {conn_mask_file}"
   ]
  },
  {
   "cell_type": "code",
   "execution_count": null,
   "metadata": {
    "ExecuteTime": {
     "end_time": "2020-01-27T20:31:31.246207Z",
     "start_time": "2020-01-27T20:31:31.189935Z"
    },
    "hidden": true,
    "scrolled": true
   },
   "outputs": [],
   "source": [
    "conn_masker = NiftiMasker(detrend=False, standardize=False, mask_strategy=\"epi\", t_r=conn_TR)\n",
    "conn_masker.fit(conn_ref_bold_run)\n",
    "conn_masker.mask_img_.to_filename(conn_mask_file)\n",
    "conn_mask_img = conn_masker.mask_img_\n",
    "print(conn_mask_file, conn_mask_img.shape)"
   ]
  },
  {
   "cell_type": "code",
   "execution_count": null,
   "metadata": {},
   "outputs": [],
   "source": [
    "raw_layout.get_sessions()"
   ]
  },
  {
   "cell_type": "code",
   "execution_count": null,
   "metadata": {},
   "outputs": [],
   "source": [
    "raw_layout.get(task='hemi', session='20210511', suffix='bold', datatype='func', scope='all', extension=['.nii', '.nii.gz'])"
   ]
  },
  {
   "cell_type": "code",
   "execution_count": null,
   "metadata": {
    "ExecuteTime": {
     "end_time": "2020-01-27T20:31:48.188187Z",
     "start_time": "2020-01-27T20:31:48.129585Z"
    },
    "hidden": true,
    "scrolled": true
   },
   "outputs": [],
   "source": [
    "hemi_ref_bold_run = raw_bolds_hemi[0]\n",
    "print(hemi_ref_bold_run)\n",
    "hemi_TR = raw_layout.get_metadata(task='hemi', session='20210511')['RepetitionTime']\n",
    "hemi_masker = NiftiMasker(detrend=False, standardize=False, mask_strategy=\"epi\", t_r=hemi_TR)\n",
    "hemi_masker.fit(hemi_ref_bold_run)\n",
    "hemi_masker.mask_img_.to_filename(lgn_hemi_mask_file)\n",
    "hemi_mask_img = hemi_masker.mask_img_\n",
    "print(lgn_hemi_mask_file, hemi_mask_img.shape)"
   ]
  },
  {
   "cell_type": "markdown",
   "metadata": {
    "heading_collapsed": true
   },
   "source": [
    "#### Move event and json files"
   ]
  },
  {
   "cell_type": "code",
   "execution_count": null,
   "metadata": {},
   "outputs": [],
   "source": [
    "!ls \"{raw_data_dir}/ses-{ses_lgn}/func/\""
   ]
  },
  {
   "cell_type": "code",
   "execution_count": null,
   "metadata": {
    "ExecuteTime": {
     "end_time": "2020-01-27T19:19:32.675087Z",
     "start_time": "2020-01-27T19:19:32.623862Z"
    },
    "hidden": true,
    "scrolled": true
   },
   "outputs": [],
   "source": [
    "events_glob = f\"{raw_data_dir}/ses-{ses_lgn}/func/*events*.tsv\"\n",
    "for ef in glob.glob(events_glob):\n",
    "    parts = ef.split('_')\n",
    "    for i, part in enumerate(parts):\n",
    "        #print(i, part)\n",
    "        if 'sub-js' in part:\n",
    "            parts[i] = part.replace('sub-js', 'sub-JS')\n",
    "    [lastpart, ext] = parts[-1].split('.')\n",
    "    print(parts, lastpart, ext, lastpart.isnumeric())\n",
    "    if lastpart.isnumeric(): # the event file has a suffix indicating the time it was written, remove it\n",
    "        parts[-2] = parts[-2] + '.' + ext\n",
    "        out_fn = '_'.join(parts[:-1])\n",
    "        cmd = f\"cp {ef} {out_fn}\"\n",
    "        print(cmd)\n",
    "        os.system(cmd)\n",
    "task_json_glob = f\"{raw_data_dir}/ses-{ses_lgn}/func/*task*json\"\n",
    "print(\"\\n\".join(glob.glob(task_json_glob)))"
   ]
  },
  {
   "cell_type": "markdown",
   "metadata": {},
   "source": [
    "### Define paths etc"
   ]
  },
  {
   "cell_type": "code",
   "execution_count": 6,
   "metadata": {
    "ExecuteTime": {
     "end_time": "2020-08-28T16:44:33.547536Z",
     "start_time": "2020-08-28T16:44:32.947982Z"
    },
    "scrolled": true
   },
   "outputs": [
    {
     "name": "stdout",
     "output_type": "stream",
     "text": [
      "LGN rois (including M/P):\n",
      "/Users/smerdis/data/LGN/BIDS/LL_combined/derivatives/streams/sub-LL/sub-LL_ses-20210511_desc-LLGN_space-lgn_roi.nii.gz\n",
      "/Users/smerdis/data/LGN/BIDS/LL_combined/derivatives/streams/sub-LL/sub-LL_ses-20210511_desc-LLGNM80_space-lgn_roi.nii.gz\n",
      "/Users/smerdis/data/LGN/BIDS/LL_combined/derivatives/streams/sub-LL/sub-LL_ses-20210511_desc-LLGNP80_space-lgn_roi.nii.gz\n",
      "/Users/smerdis/data/LGN/BIDS/LL_combined/derivatives/streams/sub-LL/sub-LL_ses-20210511_desc-RLGN_space-lgn_roi.nii.gz\n",
      "/Users/smerdis/data/LGN/BIDS/LL_combined/derivatives/streams/sub-LL/sub-LL_ses-20210511_desc-RLGNM80_space-lgn_roi.nii.gz\n",
      "/Users/smerdis/data/LGN/BIDS/LL_combined/derivatives/streams/sub-LL/sub-LL_ses-20210511_desc-RLGNP80_space-lgn_roi.nii.gz\n",
      "LGN rois (LGN only):\n",
      "/Users/smerdis/data/LGN/BIDS/LL_combined/derivatives/streams/sub-LL/sub-LL_ses-20210511_desc-LLGN_space-lgn_roi.nii.gz\n",
      "/Users/smerdis/data/LGN/BIDS/LL_combined/derivatives/streams/sub-LL/sub-LL_ses-20210511_desc-RLGN_space-lgn_roi.nii.gz\n",
      "Cortical rois: \n",
      "/Users/smerdis/data/LGN/BIDS/LL_combined/derivatives/streams/sub-LL/sub-LL_ses-20210909_desc-Lcortextest_space-conn_roi.nii.gz\n",
      "Reference BOLD volume for connectivity:\n",
      "/Users/smerdis/data/LGN/BIDS/LL_combined/derivatives/streams/sub-LL/sub-LL_ses-20210909_task-conn_refvol.nii.gz\n",
      "Brainmask for connectivity\n",
      "/Users/smerdis/data/LGN/BIDS/LL_combined/derivatives/streams/sub-LL/sub-LL_ses-20210909_task-conn_mask.nii.gz\n",
      "LGN session refvol: \n",
      "/Users/smerdis/data/LGN/BIDS/LL_combined/derivatives/streams/sub-LL/sub-LL_ses-20210511_task-hemi_refvol.nii.gz\n",
      "LGN session brainmask: \n",
      "/Users/smerdis/data/LGN/BIDS/LL_combined/derivatives/streams/sub-LL/sub-LL_ses-20210511_task-hemi_mask.nii.gz\n",
      "anat file: \n",
      "/Users/smerdis/data/LGN/BIDS/LL_combined/sub-LL/ses-20210511/anat/sub-LL_ses-20210511_T1w.nii.gz\n"
     ]
    }
   ],
   "source": [
    "preproc_layout = BIDSLayout(out_dir, validate=False)\n",
    "# get only the big LGN masks, not any smaller M/P rois already assigned\n",
    "rois = [f for f in\n",
    "        preproc_layout.get(subject=sub, extension=['.nii.gz'], suffix='roi', return_type='file', space='lgn')\n",
    "        if (\"desc-LLGN\" in f or \"desc-RLGN\" in f) and ('T1w' not in f)]\n",
    "big_rois = [f for f in\n",
    "        preproc_layout.get(subject=sub, extension=['.nii.gz'], suffix='roi', return_type='file', space='lgn')\n",
    "        if (\"desc-LLGN\" in f or \"desc-RLGN\" in f) and ('P' not in f and 'M' not in f and 'T1w' not in f)]\n",
    "cortical_rois = [f for f in\n",
    "        preproc_layout.get(subject=sub, extension=['.nii.gz'], suffix='roi', return_type='file')\n",
    "        if (\"desc-Lcortex\" in f or \"desc-Rcortex\" in f)]\n",
    "lgn_ref_vol = lgn_hemi_ref_vol_path # using hemifield ref vol as refvol for all lgn scans (ses 20210505)\n",
    "lgn_ref_img = load_img(lgn_ref_vol)\n",
    "lgn_mask_file = lgn_hemi_mask_file # and hemifield mask as mask for all lgn scans (ses 20210505)\n",
    "#lgn_coh_fn = os.path.join(out_dir, f\"sub-{sub}_ses-20191221_task-hemi_desc-LGNcoherence_map.nii\")\n",
    "#hemi_coh_fn = os.path.join(out_dir, f\"sub-{sub}_ses-{ses}_task-hemi_desc-LGNcoherence_map.nii\")\n",
    "#cortex_coh_fn = os.path.join(out_dir, f\"sub-{sub}_ses-20191221_task-hemi_desc-cortexcoherence_map.nii\")\n",
    "anat_file = raw_layout.get(subject=sub, session=ses_lgn, extension=['nii.gz'], suffix=\"T1w\", return_type='file')[0]\n",
    "anat_img = load_img(anat_file)\n",
    "\n",
    "print(\"LGN rois (including M/P):\", '\\n'.join(rois),\n",
    "      \"LGN rois (LGN only):\", '\\n'.join(big_rois),\n",
    "      \"Cortical rois: \", '\\n'.join(cortical_rois),\n",
    "      \"Reference BOLD volume for connectivity:\", conn_ref_vol_path,\n",
    "      \"Brainmask for connectivity\", conn_mask_file,\n",
    "#      \"Reference BOLD volume for hemifield scans in connectivity session:\", hemi_ref_vol_path,\n",
    "#      \"Brainmask for hemifield scans in connectivity session\", hemi_mask_file,\n",
    "      \"LGN session refvol: \", lgn_ref_vol,\n",
    "      \"LGN session brainmask: \", lgn_mask_file,\n",
    "      \"anat file: \", anat_file, sep=\"\\n\")"
   ]
  },
  {
   "cell_type": "code",
   "execution_count": 7,
   "metadata": {},
   "outputs": [
    {
     "name": "stdout",
     "output_type": "stream",
     "text": [
      "fsleyes /Users/smerdis/data/LGN/BIDS/LL_combined/sub-LL/ses-20210511/anat/sub-LL_ses-20210511_T1w.nii.gz /Users/smerdis/data/LGN/BIDS/LL_combined/derivatives/streams/sub-LL/sub-LL_ses-20210511_task-hemi_refvol.nii.gz /Users/smerdis/data/LGN/BIDS/LL_combined/derivatives/streams/sub-LL/sub-LL_ses-20210810_task-prf_refvol.nii.gz /Users/smerdis/data/LGN/BIDS/LL_combined/derivatives/streams/sub-LL/sub-LL_ses-20210909_task-conn_refvol.nii.gz\n"
     ]
    }
   ],
   "source": [
    "print(f\"fsleyes {anat_file} {lgn_ref_vol} {prf_ref_vol_path} {conn_ref_vol_path}\")"
   ]
  },
  {
   "cell_type": "markdown",
   "metadata": {},
   "source": [
    "### FLIRT to get everything in the same space"
   ]
  },
  {
   "cell_type": "code",
   "execution_count": 8,
   "metadata": {},
   "outputs": [],
   "source": [
    "fslmaths_roi_threshold = 0.5\n",
    "\n",
    "conn_to_t1_xfm_path = f\"{out_dir}/sub-{sub}_from-conn_to-T1w_mode-image_xfm.txt\"\n",
    "t1_to_conn_xfm_path = f\"{out_dir}/sub-{sub}_from-T1w_to-conn_mode-image_xfm.txt\"\n",
    "\n",
    "lgn_to_conn_xfm_path = f\"{out_dir}/sub-{sub}_from-lgn_to-conn_mode-image_xfm.txt\"\n",
    "conn_to_lgn_xfm_path = f\"{out_dir}/sub-{sub}_from-conn_to-lgn_mode-image_xfm.txt\"\n",
    "\n",
    "prf_to_conn_xfm_path = f\"{out_dir}/sub-{sub}_from-prf_to-conn_mode-image_xfm.txt\"\n",
    "conn_to_prf_xfm_path = f\"{out_dir}/sub-{sub}_from-conn_to-prf_mode-image_xfm.txt\"\n",
    "\n",
    "prf_to_lgn_xfm_path = f\"{out_dir}/sub-{sub}_from-prf_to-lgn_mode-image_xfm.txt\"\n",
    "lgn_to_prf_xfm_path = f\"{out_dir}/sub-{sub}_from-lgn_to-prf_mode-image_xfm.txt\""
   ]
  },
  {
   "cell_type": "markdown",
   "metadata": {},
   "source": [
    "#### register (FLIRT) first MB3 (MPConn) epi to T1"
   ]
  },
  {
   "cell_type": "code",
   "execution_count": null,
   "metadata": {},
   "outputs": [],
   "source": [
    "flirt_cmd = f\"flirt -in {conn_ref_vol_path} -ref {anat_file} -omat {conn_to_t1_xfm_path} -out {out_dir}/sub-{sub}_ses-{ses_conn}_task-conn_refvol_space-T1w.nii.gz\"\n",
    "print(flirt_cmd)\n",
    "os.system(flirt_cmd)\n",
    "\n",
    "inverse_cmd = f\"convert_xfm -omat {t1_to_conn_xfm_path} -inverse {conn_to_t1_xfm_path}\"\n",
    "os.system(inverse_cmd)"
   ]
  },
  {
   "cell_type": "markdown",
   "metadata": {},
   "source": [
    "#### flirt LGN MP localizer to MPConn (MB3)\n",
    "\n",
    " * 2021-09-08: problems, because FLIRT doesn't handle the restricted FOV of the LGN scan well\n",
    " * 2021-09-11: trying 2-step LGN scan -> connectivity scan (MB3 wholebrain) -> T1"
   ]
  },
  {
   "cell_type": "code",
   "execution_count": 21,
   "metadata": {},
   "outputs": [
    {
     "name": "stdout",
     "output_type": "stream",
     "text": [
      "flirt -in /Users/smerdis/data/LGN/BIDS/LL_combined/derivatives/streams/sub-LL/sub-LL_ses-20210511_task-hemi_refvol.nii.gz -ref /Users/smerdis/data/LGN/BIDS/LL_combined/derivatives/streams/sub-LL/sub-LL_ses-20210909_task-conn_refvol.nii.gz -omat /Users/smerdis/data/LGN/BIDS/LL_combined/derivatives/streams/sub-LL/sub-LL_from-lgn_to-conn_mode-image_xfm.txt -out /Users/smerdis/data/LGN/BIDS/LL_combined/derivatives/streams/sub-LL/sub-LL_ses-20210511_task-lgn_refvol_space-conn.nii.gz\n"
     ]
    },
    {
     "data": {
      "text/plain": [
       "0"
      ]
     },
     "execution_count": 21,
     "metadata": {},
     "output_type": "execute_result"
    }
   ],
   "source": [
    "flirt_cmd = f\"flirt -in {lgn_ref_vol} -ref {conn_ref_vol_path} -omat {lgn_to_conn_xfm_path} -out {out_dir}/sub-{sub}_ses-{ses_lgn}_task-lgn_refvol_space-conn.nii.gz\"\n",
    "print(flirt_cmd)\n",
    "os.system(flirt_cmd)\n",
    "\n",
    "inverse_cmd = f\"convert_xfm -omat {conn_to_lgn_xfm_path} -inverse {lgn_to_conn_xfm_path}\"\n",
    "os.system(inverse_cmd)"
   ]
  },
  {
   "cell_type": "markdown",
   "metadata": {},
   "source": [
    "#### Convert rois to space of MPConn MB3 scan"
   ]
  },
  {
   "cell_type": "code",
   "execution_count": null,
   "metadata": {},
   "outputs": [],
   "source": [
    "## 10/9/20 - this doesn't appear to work right, but the resampling using nilearn below does\n",
    "## 10/28/20 It looks like the FLIRT alignment of this small FOV to the anatomical is totally FUBAR\n",
    "## 09/13/21 - FLIRT LGN -> MB3 works! and presumably MB3 -> T1 would also!\n",
    "#### But the headers are slightly better with flirt + applyxfm than with nilearn resampling (i.e. dims correct in mm)"
   ]
  },
  {
   "cell_type": "code",
   "execution_count": null,
   "metadata": {},
   "outputs": [],
   "source": [
    "for roi in big_rois:\n",
    "    roi_fn_parts = roi.split('_')\n",
    "    roi_fn_parts.insert(-1, 'space-conn')\n",
    "    resampled_roi_fn = '_'.join(roi_fn_parts)\n",
    "    roi_flirt_cmd = f\"flirt -ref {conn_ref_vol_path} -in {roi} -applyxfm -init {lgn_to_conn_xfm_path} -out\\\n",
    "                {resampled_roi_fn}\"\n",
    "    print(roi_flirt_cmd)\n",
    "    os.system(roi_flirt_cmd)"
   ]
  },
  {
   "cell_type": "code",
   "execution_count": null,
   "metadata": {},
   "outputs": [],
   "source": [
    "!fslinfo /Users/smerdis/data/LGN/BIDS/LL_combined/derivatives/streams/sub-LL/sub-LL_ses-20210511_desc-RLGN_space-conn_roi.nii.gz"
   ]
  },
  {
   "cell_type": "code",
   "execution_count": null,
   "metadata": {},
   "outputs": [],
   "source": [
    "print(f\"fsleyes {anat_file} {ref_vol_path} {roi_ref_vol}\")"
   ]
  },
  {
   "cell_type": "markdown",
   "metadata": {},
   "source": [
    "#### FLIRT prf <--> conn (MB3)"
   ]
  },
  {
   "cell_type": "code",
   "execution_count": 20,
   "metadata": {},
   "outputs": [
    {
     "name": "stdout",
     "output_type": "stream",
     "text": [
      "flirt -in /Users/smerdis/data/LGN/BIDS/LL_combined/derivatives/streams/sub-LL/sub-LL_ses-20210810_task-prf_refvol.nii.gz -ref /Users/smerdis/data/LGN/BIDS/LL_combined/derivatives/streams/sub-LL/sub-LL_ses-20210909_task-conn_refvol.nii.gz -omat /Users/smerdis/data/LGN/BIDS/LL_combined/derivatives/streams/sub-LL/sub-LL_from-prf_to-conn_mode-image_xfm.txt -out /Users/smerdis/data/LGN/BIDS/LL_combined/derivatives/streams/sub-LL/sub-LL_ses-20210810_task-prf_refvol_space-conn.nii.gz\n"
     ]
    },
    {
     "data": {
      "text/plain": [
       "0"
      ]
     },
     "execution_count": 20,
     "metadata": {},
     "output_type": "execute_result"
    }
   ],
   "source": [
    "flirt_cmd = f\"flirt -in {prf_ref_vol_path} -ref {conn_ref_vol_path} -omat {prf_to_conn_xfm_path} -out {out_dir}/sub-{sub}_ses-{ses_prf}_task-prf_refvol_space-conn.nii.gz\"\n",
    "print(flirt_cmd)\n",
    "os.system(flirt_cmd)\n",
    "\n",
    "inverse_cmd = f\"convert_xfm -omat {conn_to_prf_xfm_path} -inverse {prf_to_conn_xfm_path}\"\n",
    "os.system(inverse_cmd)"
   ]
  },
  {
   "cell_type": "markdown",
   "metadata": {},
   "source": [
    "#### Concat LGN <---> MB3 (Conn) <----> pRF"
   ]
  },
  {
   "cell_type": "code",
   "execution_count": 24,
   "metadata": {},
   "outputs": [
    {
     "name": "stdout",
     "output_type": "stream",
     "text": [
      "convert_xfm -omat /Users/smerdis/data/LGN/BIDS/LL_combined/derivatives/streams/sub-LL/sub-LL_from-lgn_to-prf_mode-image_xfm.txt -concat /Users/smerdis/data/LGN/BIDS/LL_combined/derivatives/streams/sub-LL/sub-LL_from-conn_to-prf_mode-image_xfm.txt /Users/smerdis/data/LGN/BIDS/LL_combined/derivatives/streams/sub-LL/sub-LL_from-lgn_to-conn_mode-image_xfm.txt\n"
     ]
    },
    {
     "data": {
      "text/plain": [
       "0"
      ]
     },
     "execution_count": 24,
     "metadata": {},
     "output_type": "execute_result"
    }
   ],
   "source": [
    "# convert_xfm -omat AtoC.mat -concat BtoC.mat AtoB.mat\n",
    "\n",
    "concat_cmd = f\"convert_xfm -omat {lgn_to_prf_xfm_path} -concat {conn_to_prf_xfm_path} {lgn_to_conn_xfm_path}\"\n",
    "print(concat_cmd)\n",
    "os.system(concat_cmd)"
   ]
  },
  {
   "cell_type": "markdown",
   "metadata": {},
   "source": [
    "#### Now FLIRT the ROIs (from their native LGN EPI space) to pRF space"
   ]
  },
  {
   "cell_type": "code",
   "execution_count": 36,
   "metadata": {},
   "outputs": [
    {
     "name": "stdout",
     "output_type": "stream",
     "text": [
      "flirt -ref /Users/smerdis/data/LGN/BIDS/LL_combined/derivatives/streams/sub-LL/sub-LL_ses-20210810_task-prf_refvol.nii.gz -in /Users/smerdis/data/LGN/BIDS/LL_combined/derivatives/streams/sub-LL/sub-LL_ses-20210511_desc-LLGN_space-conn_roi.nii.gz -applyxfm -init /Users/smerdis/data/LGN/BIDS/LL_combined/derivatives/streams/sub-LL/sub-LL_from-lgn_to-prf_mode-image_xfm.txt -out                /Users/smerdis/data/LGN/BIDS/LL_combined/derivatives/streams/sub-LL/sub-LL_ses-20210511_desc-LLGN_space-prf_roi && fslmaths /Users/smerdis/data/LGN/BIDS/LL_combined/derivatives/streams/sub-LL/sub-LL_ses-20210511_desc-LLGN_space-prf_roi -thr 0.5 -bin /Users/smerdis/data/LGN/BIDS/LL_combined/derivatives/streams/sub-LL/sub-LL_ses-20210511_desc-LLGN_space-prf_roi\n",
      "flirt -ref /Users/smerdis/data/LGN/BIDS/LL_combined/derivatives/streams/sub-LL/sub-LL_ses-20210810_task-prf_refvol.nii.gz -in /Users/smerdis/data/LGN/BIDS/LL_combined/derivatives/streams/sub-LL/sub-LL_ses-20210511_desc-LLGN_space-lgn_roi.nii.gz -applyxfm -init /Users/smerdis/data/LGN/BIDS/LL_combined/derivatives/streams/sub-LL/sub-LL_from-lgn_to-prf_mode-image_xfm.txt -out                /Users/smerdis/data/LGN/BIDS/LL_combined/derivatives/streams/sub-LL/sub-LL_ses-20210511_desc-LLGN_space-prf_roi && fslmaths /Users/smerdis/data/LGN/BIDS/LL_combined/derivatives/streams/sub-LL/sub-LL_ses-20210511_desc-LLGN_space-prf_roi -thr 0.5 -bin /Users/smerdis/data/LGN/BIDS/LL_combined/derivatives/streams/sub-LL/sub-LL_ses-20210511_desc-LLGN_space-prf_roi\n",
      "flirt -ref /Users/smerdis/data/LGN/BIDS/LL_combined/derivatives/streams/sub-LL/sub-LL_ses-20210810_task-prf_refvol.nii.gz -in /Users/smerdis/data/LGN/BIDS/LL_combined/derivatives/streams/sub-LL/sub-LL_ses-20210511_desc-RLGN_space-conn_roi.nii.gz -applyxfm -init /Users/smerdis/data/LGN/BIDS/LL_combined/derivatives/streams/sub-LL/sub-LL_from-lgn_to-prf_mode-image_xfm.txt -out                /Users/smerdis/data/LGN/BIDS/LL_combined/derivatives/streams/sub-LL/sub-LL_ses-20210511_desc-RLGN_space-prf_roi && fslmaths /Users/smerdis/data/LGN/BIDS/LL_combined/derivatives/streams/sub-LL/sub-LL_ses-20210511_desc-RLGN_space-prf_roi -thr 0.5 -bin /Users/smerdis/data/LGN/BIDS/LL_combined/derivatives/streams/sub-LL/sub-LL_ses-20210511_desc-RLGN_space-prf_roi\n",
      "flirt -ref /Users/smerdis/data/LGN/BIDS/LL_combined/derivatives/streams/sub-LL/sub-LL_ses-20210810_task-prf_refvol.nii.gz -in /Users/smerdis/data/LGN/BIDS/LL_combined/derivatives/streams/sub-LL/sub-LL_ses-20210511_desc-RLGN_space-lgn_roi.nii.gz -applyxfm -init /Users/smerdis/data/LGN/BIDS/LL_combined/derivatives/streams/sub-LL/sub-LL_from-lgn_to-prf_mode-image_xfm.txt -out                /Users/smerdis/data/LGN/BIDS/LL_combined/derivatives/streams/sub-LL/sub-LL_ses-20210511_desc-RLGN_space-prf_roi && fslmaths /Users/smerdis/data/LGN/BIDS/LL_combined/derivatives/streams/sub-LL/sub-LL_ses-20210511_desc-RLGN_space-prf_roi -thr 0.5 -bin /Users/smerdis/data/LGN/BIDS/LL_combined/derivatives/streams/sub-LL/sub-LL_ses-20210511_desc-RLGN_space-prf_roi\n"
     ]
    }
   ],
   "source": [
    "for roi in big_rois:\n",
    "    resampled_roi_fn = f\"{out_dir}/{utils.change_bids_description(roi, 'space-prf', 'space')}\"\n",
    "    roi_flirt_cmd = f\"flirt -ref {prf_ref_vol_path} -in {roi} -applyxfm -init {lgn_to_prf_xfm_path} -out\\\n",
    "                {resampled_roi_fn} && fslmaths {resampled_roi_fn} -thr {fslmaths_roi_threshold} -bin {resampled_roi_fn}\"\n",
    "    print(roi_flirt_cmd)\n",
    "    os.system(roi_flirt_cmd)"
   ]
  },
  {
   "cell_type": "markdown",
   "metadata": {},
   "source": [
    "#### resample ROIs using nilearn"
   ]
  },
  {
   "cell_type": "code",
   "execution_count": null,
   "metadata": {},
   "outputs": [],
   "source": [
    "# resampled_rois = []\n",
    "# for roi in final_big_rois:\n",
    "#     roi_img = load_img(roi)\n",
    "#     print(roi_img.shape, roi_img.affine, sep='\\n')\n",
    "#     roi_fn_parts = roi.split('_')\n",
    "#     roi_fn_parts.insert(-1, 'space-T1w')\n",
    "#     resampled_roi_fn = '_'.join(roi_fn_parts)\n",
    "#     resampled_roi_img = resample_to_img(roi_img, anat_img, 'nearest')\n",
    "#     resampled_roi_img.to_filename(resampled_roi_fn)\n",
    "#     resampled_rois.append(resampled_roi_fn)\n",
    "#     print(resampled_roi_img.shape, resampled_roi_img.affine, sep='\\n')\n",
    "#     plot_roi(resampled_roi_img, bg_img=anat_img)"
   ]
  },
  {
   "cell_type": "code",
   "execution_count": null,
   "metadata": {},
   "outputs": [],
   "source": [
    "# try:\n",
    "#     if resampled_rois:\n",
    "#         pass\n",
    "#     else:\n",
    "#         resampled_rois = [f for f in\n",
    "#         preproc_layout.get(subject=sub, extension=['.nii.gz'], suffix='roi', return_type='file')\n",
    "#         if (\"desc-LLGN\" in f or \"desc-RLGN\" in f) and ('T1w_nilearn' in f)]\n",
    "# except NameError:\n",
    "#     resampled_rois = [f for f in\n",
    "#         preproc_layout.get(subject=sub, extension=['.nii.gz'], suffix='roi', return_type='file')\n",
    "#         if (\"desc-LLGN\" in f or \"desc-RLGN\" in f) and ('T1w_nilearn' in f)]\n",
    "# print('\\n'.join(resampled_rois))"
   ]
  },
  {
   "cell_type": "markdown",
   "metadata": {
    "heading_collapsed": true
   },
   "source": [
    "### Write hemifield event files (they are all identical)"
   ]
  },
  {
   "cell_type": "code",
   "execution_count": null,
   "metadata": {
    "ExecuteTime": {
     "end_time": "2020-01-27T19:15:15.775666Z",
     "start_time": "2020-01-27T19:15:15.715528Z"
    },
    "hidden": true,
    "scrolled": true
   },
   "outputs": [],
   "source": [
    "utils.write_hemifield_localizer_event_file(f\"{raw_data_dir}/ses-{ses_lgn}/func/sub-{sub}_ses-{ses_lgn}_task-hemi_run-01_events.tsv\")\n",
    "utils.write_hemifield_localizer_event_file(f\"{raw_data_dir}/ses-{ses_lgn}/func/sub-{sub}_ses-{ses_lgn}_task-hemi_run-02_events.tsv\")"
   ]
  },
  {
   "cell_type": "code",
   "execution_count": null,
   "metadata": {
    "ExecuteTime": {
     "end_time": "2020-01-24T21:48:08.043327Z",
     "start_time": "2020-01-24T21:48:07.983094Z"
    },
    "code_folding": [
     0
    ],
    "hidden": true,
    "scrolled": true
   },
   "outputs": [],
   "source": [
    "for e in glob.glob(events_glob):\n",
    "    fileparts = op.split(e)[-1].split('_')[:-1]\n",
    "    fileparts[0] = f\"sub-{sub}\"\n",
    "    #runpart = fileparts[-2]\n",
    "    #print('_'.join(fileparts), fileparts[-2])\n",
    "    fn = '_'.join(fileparts)\n",
    "    new_file_name = f\"{raw_data_dir}/ses-{ses}/func/{fn}.tsv\"\n",
    "    print(e, new_file_name, sep=\"\\n\")\n",
    "    #shutil.copyfile(e, new_file_name)"
   ]
  },
  {
   "cell_type": "code",
   "execution_count": null,
   "metadata": {
    "ExecuteTime": {
     "end_time": "2019-12-03T19:40:16.653586Z",
     "start_time": "2019-12-03T19:40:16.584357Z"
    },
    "code_folding": [
     1
    ],
    "hidden": true,
    "scrolled": true
   },
   "outputs": [],
   "source": [
    "for e in glob.glob(task_json_glob):\n",
    "    fn = os.path.split(e)[-1]\n",
    "    new_file_name = f\"{raw_data_dir}/ses-{ses}/func/{fn}\"\n",
    "    print(e, new_file_name, sep=\"\\n\")\n",
    "    #shutil.copyfile(e, new_file_name)"
   ]
  },
  {
   "cell_type": "code",
   "execution_count": null,
   "metadata": {
    "ExecuteTime": {
     "end_time": "2020-01-27T19:17:02.994282Z",
     "start_time": "2020-01-27T19:17:02.936705Z"
    },
    "code_folding": [],
    "hidden": true,
    "scrolled": true
   },
   "outputs": [],
   "source": [
    "blocks_in_order = ['L', 'R']\n",
    "for thisrun in [1]:\n",
    "    events_fn = f\"{raw_data_dir}/ses-{ses}/func/sub-{sub}_ses-{ses}_task-hemi_run-{thisrun:02d}_events.tsv\"\n",
    "    events_file_contents = f\"onset\\tduration\\ttrial_type\\n\"\n",
    "    time_between_onsets = 13.5\n",
    "    for i in range(22):\n",
    "        events_file_contents += f\"{i*time_between_onsets:.2f}\\t{time_between_onsets}\\t{blocks_in_order[i%(len(blocks_in_order))]}\\n\"\n",
    "    #with open(events_fn, 'w') as f:\n",
    "        #f.write(events_file_contents)\n",
    "    print(events_fn, '\\n', events_file_contents)"
   ]
  },
  {
   "cell_type": "markdown",
   "metadata": {},
   "source": [
    "## GLM invocation from a cell"
   ]
  },
  {
   "cell_type": "markdown",
   "metadata": {
    "heading_collapsed": true
   },
   "source": [
    "### Individual GLMs\n",
    "\n",
    "Run the GLMs for each task using all runs"
   ]
  },
  {
   "cell_type": "code",
   "execution_count": 15,
   "metadata": {
    "ExecuteTime": {
     "end_time": "2020-03-10T20:30:55.980181Z",
     "start_time": "2020-03-10T20:29:58.008266Z"
    },
    "hidden": true,
    "scrolled": true
   },
   "outputs": [
    {
     "name": "stdout",
     "output_type": "stream",
     "text": [
      "210914-14:20:53,18 nipype.interface WARNING:\n",
      "\t Unable to import ['nipy']; Trim interface may fail to run\n",
      "210914-14:20:53,721 nipype.workflow INFO:\n",
      "\t Generated workflow graph: /Users/smerdis/data/LGN/BIDS/LL_combined/derivatives/streams/nipype_LL_20210511_hemi/fixedeffects/graph.png (graph2use=hierarchical, simple_form=True).\n",
      "210914-14:20:53,793 nipype.workflow INFO:\n",
      "\t Workflow fixedeffects settings: ['check', 'execution', 'logging', 'monitoring']\n",
      "210914-14:20:53,845 nipype.workflow INFO:\n",
      "\t Running in parallel.\n",
      "210914-14:20:53,853 nipype.workflow INFO:\n",
      "\t [MultiProc] Running 0 tasks, and 1 jobs ready. Free memory (GB): 14.40/14.40, Free processors: 3/3.\n",
      "210914-14:20:54,15 nipype.workflow INFO:\n",
      "\t [Job 0] Cached (fixedeffects.BIDSDataGrabber).\n",
      "210914-14:20:55,853 nipype.workflow INFO:\n",
      "\t [MultiProc] Running 0 tasks, and 3 jobs ready. Free memory (GB): 14.40/14.40, Free processors: 3/3.\n",
      "210914-14:20:55,983 nipype.workflow INFO:\n",
      "\t [Job 1] Cached (fixedeffects.modelfit.maskemerge).\n",
      "210914-14:20:57,857 nipype.workflow INFO:\n",
      "\t [MultiProc] Running 0 tasks, and 4 jobs ready. Free memory (GB): 14.40/14.40, Free processors: 3/3.\n",
      "210914-14:20:57,946 nipype.workflow INFO:\n",
      "\t [Job 14] Cached (_trim0).\n",
      "210914-14:20:57,949 nipype.workflow INFO:\n",
      "\t [Job 15] Cached (_trim1).\n",
      "210914-14:20:57,954 nipype.workflow INFO:\n",
      "\t [Job 16] Cached (_tsv2subjinfo0).\n",
      "210914-14:20:59,857 nipype.workflow INFO:\n",
      "\t [MultiProc] Running 0 tasks, and 2 jobs ready. Free memory (GB): 14.40/14.40, Free processors: 3/3.\n",
      "210914-14:20:59,949 nipype.workflow INFO:\n",
      "\t [Job 2] Cached (fixedeffects.modelfit.trim).\n",
      "210914-14:20:59,953 nipype.workflow INFO:\n",
      "\t [Job 17] Cached (_tsv2subjinfo1).\n",
      "210914-14:21:01,941 nipype.workflow INFO:\n",
      "\t [Job 4] Cached (fixedeffects.modelfit.tsv2subjinfo).\n",
      "210914-14:21:03,867 nipype.workflow INFO:\n",
      "\t [MultiProc] Running 0 tasks, and 3 jobs ready. Free memory (GB): 14.40/14.40, Free processors: 3/3.\n",
      "210914-14:21:03,959 nipype.workflow INFO:\n",
      "\t [Job 18] Cached (_applymask0).\n",
      "210914-14:21:03,962 nipype.workflow INFO:\n",
      "\t [Job 19] Cached (_applymask1).\n",
      "210914-14:21:05,949 nipype.workflow INFO:\n",
      "\t [Job 3] Cached (fixedeffects.modelfit.applymask).\n",
      "210914-14:21:05,953 nipype.workflow INFO:\n",
      "\t [Job 20] Cached (_modelspec0).\n",
      "210914-14:21:05,957 nipype.workflow INFO:\n",
      "\t [Job 21] Cached (_modelspec1).\n",
      "210914-14:21:07,877 nipype.workflow INFO:\n",
      "\t [MultiProc] Running 0 tasks, and 1 jobs ready. Free memory (GB): 14.40/14.40, Free processors: 3/3.\n",
      "210914-14:21:07,996 nipype.workflow INFO:\n",
      "\t [Job 5] Cached (fixedeffects.modelfit.modelspec).\n",
      "210914-14:21:11,880 nipype.workflow INFO:\n",
      "\t [MultiProc] Running 0 tasks, and 2 jobs ready. Free memory (GB): 14.40/14.40, Free processors: 3/3.\n",
      "210914-14:21:11,964 nipype.workflow INFO:\n",
      "\t [Job 22] Cached (_level1design0).\n",
      "210914-14:21:11,970 nipype.workflow INFO:\n",
      "\t [Job 23] Cached (_level1design1).\n",
      "210914-14:21:13,885 nipype.workflow INFO:\n",
      "\t [MultiProc] Running 0 tasks, and 1 jobs ready. Free memory (GB): 14.40/14.40, Free processors: 3/3.\n",
      "210914-14:21:14,24 nipype.workflow INFO:\n",
      "\t [Job 6] Cached (fixedeffects.modelfit.level1design).\n",
      "210914-14:21:17,890 nipype.workflow INFO:\n",
      "\t [MultiProc] Running 0 tasks, and 2 jobs ready. Free memory (GB): 14.40/14.40, Free processors: 3/3.\n",
      "210914-14:21:17,969 nipype.workflow INFO:\n",
      "\t [Job 24] Cached (_modelgen0).\n",
      "210914-14:21:17,972 nipype.workflow INFO:\n",
      "\t [Job 25] Cached (_modelgen1).\n",
      "210914-14:21:19,894 nipype.workflow INFO:\n",
      "\t [MultiProc] Running 0 tasks, and 1 jobs ready. Free memory (GB): 14.40/14.40, Free processors: 3/3.\n",
      "210914-14:21:19,983 nipype.workflow INFO:\n",
      "\t [Job 7] Cached (fixedeffects.modelfit.modelgen).\n",
      "210914-14:21:23,904 nipype.workflow INFO:\n",
      "\t [MultiProc] Running 0 tasks, and 2 jobs ready. Free memory (GB): 14.40/14.40, Free processors: 3/3.\n",
      "210914-14:21:23,987 nipype.workflow INFO:\n",
      "\t [Job 26] Cached (_modelestimate0).\n",
      "210914-14:21:23,991 nipype.workflow INFO:\n",
      "\t [Job 27] Cached (_modelestimate1).\n",
      "210914-14:21:25,910 nipype.workflow INFO:\n",
      "\t [MultiProc] Running 0 tasks, and 1 jobs ready. Free memory (GB): 14.40/14.40, Free processors: 3/3.\n",
      "210914-14:21:25,991 nipype.workflow INFO:\n",
      "\t [Job 8] Cached (fixedeffects.modelfit.modelestimate).\n",
      "210914-14:21:27,915 nipype.workflow INFO:\n",
      "\t [MultiProc] Running 0 tasks, and 3 jobs ready. Free memory (GB): 14.40/14.40, Free processors: 3/3.\n",
      "210914-14:21:27,995 nipype.workflow INFO:\n",
      "\t [Job 9] Cached (fixedeffects.modelfit.l2model).\n",
      "210914-14:21:29,920 nipype.workflow INFO:\n",
      "\t [MultiProc] Running 0 tasks, and 4 jobs ready. Free memory (GB): 14.40/14.40, Free processors: 3/3.\n",
      "210914-14:21:30,7 nipype.workflow INFO:\n",
      "\t [Job 28] Cached (_varcopemerge0).\n",
      "210914-14:21:30,10 nipype.workflow INFO:\n",
      "\t [Job 29] Cached (_varcopemerge1).\n",
      "210914-14:21:30,13 nipype.workflow INFO:\n",
      "\t [Job 30] Cached (_copemerge0).\n",
      "210914-14:21:31,926 nipype.workflow INFO:\n",
      "\t [MultiProc] Running 0 tasks, and 2 jobs ready. Free memory (GB): 14.40/14.40, Free processors: 3/3.\n",
      "210914-14:21:32,6 nipype.workflow INFO:\n",
      "\t [Job 10] Cached (fixedeffects.modelfit.varcopemerge).\n",
      "210914-14:21:32,9 nipype.workflow INFO:\n",
      "\t [Job 31] Cached (_copemerge1).\n",
      "210914-14:21:33,926 nipype.workflow INFO:\n",
      "\t [MultiProc] Running 0 tasks, and 1 jobs ready. Free memory (GB): 14.40/14.40, Free processors: 3/3.\n",
      "210914-14:21:34,23 nipype.workflow INFO:\n",
      "\t [Job 11] Cached (fixedeffects.modelfit.copemerge).\n",
      "210914-14:21:37,927 nipype.workflow INFO:\n",
      "\t [MultiProc] Running 0 tasks, and 2 jobs ready. Free memory (GB): 14.40/14.40, Free processors: 3/3.\n",
      "210914-14:21:38,53 nipype.workflow INFO:\n",
      "\t [Job 32] Cached (_flameo0).\n",
      "210914-14:21:38,57 nipype.workflow INFO:\n",
      "\t [Job 33] Cached (_flameo1).\n",
      "210914-14:21:39,928 nipype.workflow INFO:\n",
      "\t [MultiProc] Running 0 tasks, and 1 jobs ready. Free memory (GB): 14.40/14.40, Free processors: 3/3.\n",
      "210914-14:21:40,41 nipype.workflow INFO:\n",
      "\t [Job 12] Cached (fixedeffects.modelfit.flameo).\n",
      "210914-14:21:42,85 nipype.workflow INFO:\n",
      "\t [Node] Setting-up \"fixedeffects.modelfit.datasink\" in \"/Users/smerdis/Dropbox/data/LGN/BIDS/LL_combined/derivatives/streams/nipype_LL_20210511_hemi/fixedeffects/modelfit/datasink\".\n",
      "210914-14:21:42,131 nipype.workflow INFO:\n",
      "\t [Node] Running \"datasink\" (\"nipype.interfaces.io.DataSink\")\n",
      "210914-14:21:43,934 nipype.workflow INFO:\n",
      "\t [MultiProc] Running 1 tasks, and 0 jobs ready. Free memory (GB): 14.20/14.40, Free processors: 2/3.\n",
      "                     Currently running:\n",
      "                       * fixedeffects.modelfit.datasink\n",
      "210914-14:21:46,37 nipype.workflow INFO:\n",
      "\t [Node] Finished \"fixedeffects.modelfit.datasink\".\n",
      "210914-14:21:47,934 nipype.workflow INFO:\n",
      "\t [Job 13] Completed (fixedeffects.modelfit.datasink).\n",
      "210914-14:21:47,939 nipype.workflow INFO:\n",
      "\t [MultiProc] Running 0 tasks, and 0 jobs ready. Free memory (GB): 14.40/14.40, Free processors: 3/3.\n",
      "CPU times: user 3.3 s, sys: 391 ms, total: 3.69 s\n",
      "Wall time: 57.8 s\n"
     ]
    }
   ],
   "source": [
    "%%time\n",
    "hemi_workdir = utils.run_fixedeffects_glm(sub, ses_lgn, \"hemi\", [1, 2], raw_data_dir, out_dir)"
   ]
  },
  {
   "cell_type": "code",
   "execution_count": 16,
   "metadata": {
    "ExecuteTime": {
     "end_time": "2020-02-24T21:51:55.588204Z",
     "start_time": "2020-02-24T21:51:55.363559Z"
    },
    "hidden": true,
    "scrolled": true
   },
   "outputs": [
    {
     "name": "stdout",
     "output_type": "stream",
     "text": [
      "/Users/smerdis/data/LGN/BIDS/LL_combined/derivatives/streams/nipype_LL_20210511_hemi\n",
      "/Users/smerdis/data/LGN/BIDS/LL_combined/derivatives/streams/nipype_LL_20210511_hemi/fixedeffects/modelfit/datasink\n",
      "_0x462f9e7c63428352f8e4c93d9a2e4a16.json\n",
      "_inputs.pklz\n",
      "_node.pklz\n",
      "\u001b[34m_report\u001b[m\u001b[m\n",
      "\u001b[34mdesign_file\u001b[m\u001b[m\n",
      "\u001b[34mdesign_image\u001b[m\u001b[m\n",
      "\u001b[34mepi_masked_trimmed\u001b[m\u001b[m\n",
      "result_datasink.pklz\n",
      "\u001b[34mresults_dir\u001b[m\u001b[m\n",
      "\u001b[34mstats_dir\u001b[m\u001b[m\n",
      "/Users/smerdis/data/LGN/BIDS/LL_combined/derivatives/streams/nipype_LL_20210511_hemi/fixedeffects/modelfit/datasink/stats_dir/_flameo0/stats/cope1.nii.gz\n"
     ]
    }
   ],
   "source": [
    "hemi_datasink = f\"{hemi_workdir}/fixedeffects/modelfit/datasink\"\n",
    "print(hemi_workdir, hemi_datasink, sep=\"\\n\")\n",
    "!ls {hemi_datasink}\n",
    "hemi_RL_l1, hemi_RL_l2 = utils.get_model_outputs(hemi_datasink, [1])\n",
    "hemi_LR_l1, hemi_LR_l2 = utils.get_model_outputs(hemi_datasink, [2])\n",
    "beta_RL = hemi_RL_l2[0]\n",
    "beta_LR = hemi_LR_l2[0]\n",
    "print(beta_RL)"
   ]
  },
  {
   "cell_type": "code",
   "execution_count": 17,
   "metadata": {},
   "outputs": [
    {
     "name": "stdout",
     "output_type": "stream",
     "text": [
      "fsleyes /Users/smerdis/data/LGN/BIDS/LL_combined/derivatives/streams/sub-LL/sub-LL_ses-20210511_task-hemi_refvol.nii.gz /Users/smerdis/data/LGN/BIDS/LL_combined/derivatives/streams/nipype_LL_20210511_hemi/fixedeffects/modelfit/datasink/stats_dir/_flameo0/stats/cope1.nii.gz\n"
     ]
    }
   ],
   "source": [
    "print(f\"fsleyes {lgn_hemi_ref_vol_path} {beta_RL}\")"
   ]
  },
  {
   "cell_type": "code",
   "execution_count": 18,
   "metadata": {
    "ExecuteTime": {
     "end_time": "2020-02-24T21:53:20.803973Z",
     "start_time": "2020-02-24T21:51:55.593713Z"
    },
    "hidden": true,
    "scrolled": true
   },
   "outputs": [
    {
     "name": "stdout",
     "output_type": "stream",
     "text": [
      "210914-14:21:51,811 nipype.workflow INFO:\n",
      "\t Generated workflow graph: /Users/smerdis/data/LGN/BIDS/LL_combined/derivatives/streams/nipype_LL_20210511_mp_20210825/fixedeffects/graph.png (graph2use=hierarchical, simple_form=True).\n",
      "210914-14:21:51,887 nipype.workflow INFO:\n",
      "\t Workflow fixedeffects settings: ['check', 'execution', 'logging', 'monitoring']\n",
      "210914-14:21:51,951 nipype.workflow INFO:\n",
      "\t Running in parallel.\n",
      "210914-14:21:52,12 nipype.workflow INFO:\n",
      "\t [MultiProc] Running 0 tasks, and 1 jobs ready. Free memory (GB): 14.40/14.40, Free processors: 3/3.\n",
      "210914-14:21:52,309 nipype.workflow INFO:\n",
      "\t [Job 0] Cached (fixedeffects.BIDSDataGrabber).\n",
      "210914-14:21:53,995 nipype.workflow INFO:\n",
      "\t [MultiProc] Running 0 tasks, and 3 jobs ready. Free memory (GB): 14.40/14.40, Free processors: 3/3.\n",
      "210914-14:21:54,231 nipype.workflow INFO:\n",
      "\t [Job 1] Cached (fixedeffects.modelfit.maskemerge).\n",
      "210914-14:21:56,1 nipype.workflow INFO:\n",
      "\t [MultiProc] Running 0 tasks, and 16 jobs ready. Free memory (GB): 14.40/14.40, Free processors: 3/3.\n",
      "210914-14:21:56,88 nipype.workflow INFO:\n",
      "\t [Job 14] Cached (_trim0).\n",
      "210914-14:21:56,90 nipype.workflow INFO:\n",
      "\t [Job 15] Cached (_trim1).\n",
      "210914-14:21:56,93 nipype.workflow INFO:\n",
      "\t [Job 16] Cached (_trim2).\n",
      "210914-14:21:58,5 nipype.workflow INFO:\n",
      "\t [MultiProc] Running 0 tasks, and 13 jobs ready. Free memory (GB): 14.40/14.40, Free processors: 3/3.\n",
      "210914-14:21:58,122 nipype.workflow INFO:\n",
      "\t [Job 17] Cached (_trim3).\n",
      "210914-14:21:58,126 nipype.workflow INFO:\n",
      "\t [Job 18] Cached (_trim4).\n",
      "210914-14:21:58,131 nipype.workflow INFO:\n",
      "\t [Job 19] Cached (_trim5).\n",
      "210914-14:22:00,7 nipype.workflow INFO:\n",
      "\t [MultiProc] Running 0 tasks, and 10 jobs ready. Free memory (GB): 14.40/14.40, Free processors: 3/3.\n",
      "210914-14:22:00,82 nipype.workflow INFO:\n",
      "\t [Job 20] Cached (_trim6).\n",
      "210914-14:22:00,85 nipype.workflow INFO:\n",
      "\t [Job 21] Cached (_trim7).\n",
      "210914-14:22:00,89 nipype.workflow INFO:\n",
      "\t [Job 22] Cached (_tsv2subjinfo0).\n",
      "210914-14:22:02,7 nipype.workflow INFO:\n",
      "\t [MultiProc] Running 0 tasks, and 8 jobs ready. Free memory (GB): 14.40/14.40, Free processors: 3/3.\n",
      "210914-14:22:02,92 nipype.workflow INFO:\n",
      "\t [Job 2] Cached (fixedeffects.modelfit.trim).\n",
      "210914-14:22:02,96 nipype.workflow INFO:\n",
      "\t [Job 23] Cached (_tsv2subjinfo1).\n",
      "210914-14:22:02,100 nipype.workflow INFO:\n",
      "\t [Job 24] Cached (_tsv2subjinfo2).\n",
      "210914-14:22:04,12 nipype.workflow INFO:\n",
      "\t [MultiProc] Running 0 tasks, and 6 jobs ready. Free memory (GB): 14.40/14.40, Free processors: 3/3.\n",
      "210914-14:22:04,108 nipype.workflow INFO:\n",
      "\t [Job 25] Cached (_tsv2subjinfo3).\n",
      "210914-14:22:04,111 nipype.workflow INFO:\n",
      "\t [Job 26] Cached (_tsv2subjinfo4).\n",
      "210914-14:22:04,115 nipype.workflow INFO:\n",
      "\t [Job 27] Cached (_tsv2subjinfo5).\n",
      "210914-14:22:06,14 nipype.workflow INFO:\n",
      "\t [MultiProc] Running 0 tasks, and 10 jobs ready. Free memory (GB): 14.40/14.40, Free processors: 3/3.\n",
      "210914-14:22:06,129 nipype.workflow INFO:\n",
      "\t [Job 28] Cached (_tsv2subjinfo6).\n",
      "210914-14:22:06,132 nipype.workflow INFO:\n",
      "\t [Job 29] Cached (_tsv2subjinfo7).\n",
      "210914-14:22:06,137 nipype.workflow INFO:\n",
      "\t [Job 30] Cached (_applymask0).\n",
      "210914-14:22:08,16 nipype.workflow INFO:\n",
      "\t [MultiProc] Running 0 tasks, and 8 jobs ready. Free memory (GB): 14.40/14.40, Free processors: 3/3.\n",
      "210914-14:22:08,96 nipype.workflow INFO:\n",
      "\t [Job 4] Cached (fixedeffects.modelfit.tsv2subjinfo).\n",
      "210914-14:22:08,100 nipype.workflow INFO:\n",
      "\t [Job 31] Cached (_applymask1).\n",
      "210914-14:22:08,103 nipype.workflow INFO:\n",
      "\t [Job 32] Cached (_applymask2).\n",
      "210914-14:22:10,15 nipype.workflow INFO:\n",
      "\t [MultiProc] Running 0 tasks, and 6 jobs ready. Free memory (GB): 14.40/14.40, Free processors: 3/3.\n",
      "210914-14:22:10,153 nipype.workflow INFO:\n",
      "\t [Job 33] Cached (_applymask3).\n",
      "210914-14:22:10,156 nipype.workflow INFO:\n",
      "\t [Job 34] Cached (_applymask4).\n",
      "210914-14:22:10,159 nipype.workflow INFO:\n",
      "\t [Job 35] Cached (_applymask5).\n",
      "210914-14:22:12,19 nipype.workflow INFO:\n",
      "\t [MultiProc] Running 0 tasks, and 10 jobs ready. Free memory (GB): 14.40/14.40, Free processors: 3/3.\n",
      "210914-14:22:12,163 nipype.workflow INFO:\n",
      "\t [Job 36] Cached (_applymask6).\n",
      "210914-14:22:12,170 nipype.workflow INFO:\n",
      "\t [Job 37] Cached (_applymask7).\n",
      "210914-14:22:12,190 nipype.workflow INFO:\n",
      "\t [Job 38] Cached (_modelspec0).\n",
      "210914-14:22:14,20 nipype.workflow INFO:\n",
      "\t [MultiProc] Running 0 tasks, and 8 jobs ready. Free memory (GB): 14.40/14.40, Free processors: 3/3.\n",
      "210914-14:22:14,139 nipype.workflow INFO:\n",
      "\t [Job 3] Cached (fixedeffects.modelfit.applymask).\n",
      "210914-14:22:14,145 nipype.workflow INFO:\n",
      "\t [Job 39] Cached (_modelspec1).\n",
      "210914-14:22:14,152 nipype.workflow INFO:\n",
      "\t [Job 40] Cached (_modelspec2).\n",
      "210914-14:22:16,22 nipype.workflow INFO:\n",
      "\t [MultiProc] Running 0 tasks, and 5 jobs ready. Free memory (GB): 14.40/14.40, Free processors: 3/3.\n",
      "210914-14:22:16,104 nipype.workflow INFO:\n",
      "\t [Job 41] Cached (_modelspec3).\n",
      "210914-14:22:16,108 nipype.workflow INFO:\n",
      "\t [Job 42] Cached (_modelspec4).\n",
      "210914-14:22:16,112 nipype.workflow INFO:\n",
      "\t [Job 43] Cached (_modelspec5).\n",
      "210914-14:22:18,22 nipype.workflow INFO:\n",
      "\t [MultiProc] Running 0 tasks, and 2 jobs ready. Free memory (GB): 14.40/14.40, Free processors: 3/3.\n",
      "210914-14:22:18,98 nipype.workflow INFO:\n",
      "\t [Job 44] Cached (_modelspec6).\n",
      "210914-14:22:18,101 nipype.workflow INFO:\n",
      "\t [Job 45] Cached (_modelspec7).\n",
      "210914-14:22:20,23 nipype.workflow INFO:\n",
      "\t [MultiProc] Running 0 tasks, and 1 jobs ready. Free memory (GB): 14.40/14.40, Free processors: 3/3.\n",
      "210914-14:22:20,113 nipype.workflow INFO:\n",
      "\t [Job 5] Cached (fixedeffects.modelfit.modelspec).\n",
      "210914-14:22:24,27 nipype.workflow INFO:\n",
      "\t [MultiProc] Running 0 tasks, and 8 jobs ready. Free memory (GB): 14.40/14.40, Free processors: 3/3.\n",
      "210914-14:22:24,124 nipype.workflow INFO:\n",
      "\t [Job 46] Cached (_level1design0).\n",
      "210914-14:22:24,128 nipype.workflow INFO:\n",
      "\t [Job 47] Cached (_level1design1).\n",
      "210914-14:22:24,131 nipype.workflow INFO:\n",
      "\t [Job 48] Cached (_level1design2).\n",
      "210914-14:22:26,35 nipype.workflow INFO:\n",
      "\t [MultiProc] Running 0 tasks, and 5 jobs ready. Free memory (GB): 14.40/14.40, Free processors: 3/3.\n",
      "210914-14:22:26,207 nipype.workflow INFO:\n",
      "\t [Job 49] Cached (_level1design3).\n",
      "210914-14:22:26,223 nipype.workflow INFO:\n",
      "\t [Job 50] Cached (_level1design4).\n",
      "210914-14:22:26,232 nipype.workflow INFO:\n",
      "\t [Job 51] Cached (_level1design5).\n",
      "210914-14:22:28,35 nipype.workflow INFO:\n",
      "\t [MultiProc] Running 0 tasks, and 2 jobs ready. Free memory (GB): 14.40/14.40, Free processors: 3/3.\n",
      "210914-14:22:28,118 nipype.workflow INFO:\n",
      "\t [Job 52] Cached (_level1design6).\n",
      "210914-14:22:28,122 nipype.workflow INFO:\n",
      "\t [Job 53] Cached (_level1design7).\n",
      "210914-14:22:30,39 nipype.workflow INFO:\n",
      "\t [MultiProc] Running 0 tasks, and 1 jobs ready. Free memory (GB): 14.40/14.40, Free processors: 3/3.\n",
      "210914-14:22:30,127 nipype.workflow INFO:\n",
      "\t [Job 6] Cached (fixedeffects.modelfit.level1design).\n",
      "210914-14:22:34,43 nipype.workflow INFO:\n",
      "\t [MultiProc] Running 0 tasks, and 8 jobs ready. Free memory (GB): 14.40/14.40, Free processors: 3/3.\n",
      "210914-14:22:34,156 nipype.workflow INFO:\n",
      "\t [Job 54] Cached (_modelgen0).\n",
      "210914-14:22:34,159 nipype.workflow INFO:\n",
      "\t [Job 55] Cached (_modelgen1).\n",
      "210914-14:22:34,166 nipype.workflow INFO:\n",
      "\t [Job 56] Cached (_modelgen2).\n",
      "210914-14:22:36,44 nipype.workflow INFO:\n",
      "\t [MultiProc] Running 0 tasks, and 5 jobs ready. Free memory (GB): 14.40/14.40, Free processors: 3/3.\n",
      "210914-14:22:36,123 nipype.workflow INFO:\n",
      "\t [Job 57] Cached (_modelgen3).\n",
      "210914-14:22:36,127 nipype.workflow INFO:\n",
      "\t [Job 58] Cached (_modelgen4).\n",
      "210914-14:22:36,130 nipype.workflow INFO:\n",
      "\t [Job 59] Cached (_modelgen5).\n",
      "210914-14:22:38,50 nipype.workflow INFO:\n",
      "\t [MultiProc] Running 0 tasks, and 2 jobs ready. Free memory (GB): 14.40/14.40, Free processors: 3/3.\n",
      "210914-14:22:38,132 nipype.workflow INFO:\n",
      "\t [Job 60] Cached (_modelgen6).\n",
      "210914-14:22:38,135 nipype.workflow INFO:\n",
      "\t [Job 61] Cached (_modelgen7).\n",
      "210914-14:22:40,50 nipype.workflow INFO:\n",
      "\t [MultiProc] Running 0 tasks, and 1 jobs ready. Free memory (GB): 14.40/14.40, Free processors: 3/3.\n",
      "210914-14:22:40,158 nipype.workflow INFO:\n",
      "\t [Job 7] Cached (fixedeffects.modelfit.modelgen).\n",
      "210914-14:22:44,58 nipype.workflow INFO:\n",
      "\t [MultiProc] Running 0 tasks, and 8 jobs ready. Free memory (GB): 14.40/14.40, Free processors: 3/3.\n",
      "210914-14:22:44,141 nipype.workflow INFO:\n",
      "\t [Job 62] Cached (_modelestimate0).\n"
     ]
    },
    {
     "name": "stdout",
     "output_type": "stream",
     "text": [
      "210914-14:22:44,144 nipype.workflow INFO:\n",
      "\t [Job 63] Cached (_modelestimate1).\n",
      "210914-14:22:44,148 nipype.workflow INFO:\n",
      "\t [Job 64] Cached (_modelestimate2).\n",
      "210914-14:22:46,63 nipype.workflow INFO:\n",
      "\t [MultiProc] Running 0 tasks, and 5 jobs ready. Free memory (GB): 14.40/14.40, Free processors: 3/3.\n",
      "210914-14:22:46,145 nipype.workflow INFO:\n",
      "\t [Job 65] Cached (_modelestimate3).\n",
      "210914-14:22:46,148 nipype.workflow INFO:\n",
      "\t [Job 66] Cached (_modelestimate4).\n",
      "210914-14:22:46,151 nipype.workflow INFO:\n",
      "\t [Job 67] Cached (_modelestimate5).\n",
      "210914-14:22:48,63 nipype.workflow INFO:\n",
      "\t [MultiProc] Running 0 tasks, and 2 jobs ready. Free memory (GB): 14.40/14.40, Free processors: 3/3.\n",
      "210914-14:22:48,144 nipype.workflow INFO:\n",
      "\t [Job 68] Cached (_modelestimate6).\n",
      "210914-14:22:48,147 nipype.workflow INFO:\n",
      "\t [Job 69] Cached (_modelestimate7).\n",
      "210914-14:22:50,67 nipype.workflow INFO:\n",
      "\t [MultiProc] Running 0 tasks, and 1 jobs ready. Free memory (GB): 14.40/14.40, Free processors: 3/3.\n",
      "210914-14:22:50,176 nipype.workflow INFO:\n",
      "\t [Job 8] Cached (fixedeffects.modelfit.modelestimate).\n",
      "210914-14:22:52,72 nipype.workflow INFO:\n",
      "\t [MultiProc] Running 0 tasks, and 3 jobs ready. Free memory (GB): 14.40/14.40, Free processors: 3/3.\n",
      "210914-14:22:52,155 nipype.workflow INFO:\n",
      "\t [Job 9] Cached (fixedeffects.modelfit.l2model).\n",
      "210914-14:22:54,77 nipype.workflow INFO:\n",
      "\t [MultiProc] Running 0 tasks, and 6 jobs ready. Free memory (GB): 14.40/14.40, Free processors: 3/3.\n",
      "210914-14:22:54,195 nipype.workflow INFO:\n",
      "\t [Job 70] Cached (_varcopemerge0).\n",
      "210914-14:22:54,200 nipype.workflow INFO:\n",
      "\t [Job 71] Cached (_varcopemerge1).\n",
      "210914-14:22:54,208 nipype.workflow INFO:\n",
      "\t [Job 72] Cached (_varcopemerge2).\n",
      "210914-14:22:56,80 nipype.workflow INFO:\n",
      "\t [MultiProc] Running 0 tasks, and 4 jobs ready. Free memory (GB): 14.40/14.40, Free processors: 3/3.\n",
      "210914-14:22:56,196 nipype.workflow INFO:\n",
      "\t [Job 10] Cached (fixedeffects.modelfit.varcopemerge).\n",
      "210914-14:22:56,202 nipype.workflow INFO:\n",
      "\t [Job 73] Cached (_copemerge0).\n",
      "210914-14:22:56,208 nipype.workflow INFO:\n",
      "\t [Job 74] Cached (_copemerge1).\n",
      "210914-14:22:58,83 nipype.workflow INFO:\n",
      "\t [MultiProc] Running 0 tasks, and 1 jobs ready. Free memory (GB): 14.40/14.40, Free processors: 3/3.\n",
      "210914-14:22:58,229 nipype.workflow INFO:\n",
      "\t [Job 75] Cached (_copemerge2).\n",
      "210914-14:23:00,192 nipype.workflow INFO:\n",
      "\t [Job 11] Cached (fixedeffects.modelfit.copemerge).\n",
      "210914-14:23:04,87 nipype.workflow INFO:\n",
      "\t [MultiProc] Running 0 tasks, and 3 jobs ready. Free memory (GB): 14.40/14.40, Free processors: 3/3.\n",
      "210914-14:23:04,162 nipype.workflow INFO:\n",
      "\t [Job 76] Cached (_flameo0).\n",
      "210914-14:23:04,165 nipype.workflow INFO:\n",
      "\t [Job 77] Cached (_flameo1).\n",
      "210914-14:23:04,168 nipype.workflow INFO:\n",
      "\t [Job 78] Cached (_flameo2).\n",
      "210914-14:23:06,90 nipype.workflow INFO:\n",
      "\t [MultiProc] Running 0 tasks, and 1 jobs ready. Free memory (GB): 14.40/14.40, Free processors: 3/3.\n",
      "210914-14:23:06,178 nipype.workflow INFO:\n",
      "\t [Job 12] Cached (fixedeffects.modelfit.flameo).\n",
      "210914-14:23:08,216 nipype.workflow INFO:\n",
      "\t [Node] Setting-up \"fixedeffects.modelfit.datasink\" in \"/Users/smerdis/Dropbox/data/LGN/BIDS/LL_combined/derivatives/streams/nipype_LL_20210511_mp_20210825/fixedeffects/modelfit/datasink\".\n",
      "210914-14:23:08,306 nipype.workflow INFO:\n",
      "\t [Node] Running \"datasink\" (\"nipype.interfaces.io.DataSink\")\n",
      "210914-14:23:10,104 nipype.workflow INFO:\n",
      "\t [MultiProc] Running 1 tasks, and 0 jobs ready. Free memory (GB): 14.20/14.40, Free processors: 2/3.\n",
      "                     Currently running:\n",
      "                       * fixedeffects.modelfit.datasink\n",
      "210914-14:23:18,68 nipype.workflow INFO:\n",
      "\t [Node] Finished \"fixedeffects.modelfit.datasink\".\n",
      "210914-14:23:18,101 nipype.workflow INFO:\n",
      "\t [Job 13] Completed (fixedeffects.modelfit.datasink).\n",
      "210914-14:23:18,105 nipype.workflow INFO:\n",
      "\t [MultiProc] Running 0 tasks, and 0 jobs ready. Free memory (GB): 14.40/14.40, Free processors: 3/3.\n",
      "CPU times: user 4.96 s, sys: 402 ms, total: 5.37 s\n",
      "Wall time: 1min 29s\n"
     ]
    }
   ],
   "source": [
    "%%time\n",
    "mp_workdir = utils.run_fixedeffects_glm(sub, ses_lgn, \"mp\", [1, 2, 3, 4, 5, 6, 7, 8], raw_data_dir, out_dir,\n",
    "                                       working_dir_suffix='20210825')"
   ]
  },
  {
   "cell_type": "code",
   "execution_count": 19,
   "metadata": {
    "ExecuteTime": {
     "end_time": "2020-02-24T21:53:21.033620Z",
     "start_time": "2020-02-24T21:53:20.809001Z"
    },
    "hidden": true,
    "scrolled": true
   },
   "outputs": [
    {
     "name": "stdout",
     "output_type": "stream",
     "text": [
      "/Users/smerdis/data/LGN/BIDS/LL_combined/derivatives/streams/nipype_LL_20210511_mp_20210825\n",
      "/Users/smerdis/data/LGN/BIDS/LL_combined/derivatives/streams/nipype_LL_20210511_mp_20210825/fixedeffects/modelfit/datasink\n",
      "_0x0beae56f2c89e1d43cfac9841120e1b1.json\n",
      "_inputs.pklz\n",
      "_node.pklz\n",
      "\u001b[34m_report\u001b[m\u001b[m\n",
      "\u001b[34mdesign_file\u001b[m\u001b[m\n",
      "\u001b[34mdesign_image\u001b[m\u001b[m\n",
      "\u001b[34mepi_masked_trimmed\u001b[m\u001b[m\n",
      "result_datasink.pklz\n",
      "\u001b[34mresults_dir\u001b[m\u001b[m\n",
      "\u001b[34mstats_dir\u001b[m\u001b[m\n"
     ]
    }
   ],
   "source": [
    "mp_datasink = f\"{mp_workdir}/fixedeffects/modelfit/datasink\"\n",
    "print(mp_workdir, mp_datasink, sep=\"\\n\")\n",
    "!ls {mp_datasink}"
   ]
  },
  {
   "cell_type": "code",
   "execution_count": 20,
   "metadata": {
    "ExecuteTime": {
     "end_time": "2020-02-24T21:53:21.126707Z",
     "start_time": "2020-02-24T21:53:21.038566Z"
    },
    "hidden": true,
    "scrolled": true
   },
   "outputs": [],
   "source": [
    "mp_l1, mp_l2 = utils.get_model_outputs(mp_datasink, [1])\n",
    "pm_l1, pm_l2 = utils.get_model_outputs(mp_datasink, [2])\n"
   ]
  },
  {
   "cell_type": "code",
   "execution_count": 21,
   "metadata": {
    "ExecuteTime": {
     "end_time": "2020-02-27T23:47:11.605262Z",
     "start_time": "2020-02-27T23:47:11.514339Z"
    },
    "hidden": true,
    "scrolled": true
   },
   "outputs": [],
   "source": [
    "beta_MP = mp_l2[0]\n",
    "beta_PM = pm_l2[0]\n",
    "beta_MP_img = load_img(beta_MP)"
   ]
  },
  {
   "cell_type": "code",
   "execution_count": 22,
   "metadata": {
    "ExecuteTime": {
     "end_time": "2020-02-24T21:53:21.364728Z",
     "start_time": "2020-02-24T21:53:21.295931Z"
    },
    "hidden": true,
    "scrolled": true
   },
   "outputs": [
    {
     "name": "stdout",
     "output_type": "stream",
     "text": [
      "/Users/smerdis/data/LGN/BIDS/LL_combined/derivatives/streams/nipype_LL_20210511_hemi/fixedeffects/modelfit/datasink/stats_dir/_flameo0/stats/cope1.nii.gz\n",
      "/Users/smerdis/data/LGN/BIDS/LL_combined/derivatives/streams/nipype_LL_20210511_hemi/fixedeffects/modelfit/datasink/stats_dir/_flameo1/stats/cope1.nii.gz\n",
      "/Users/smerdis/data/LGN/BIDS/LL_combined/derivatives/streams/nipype_LL_20210511_mp_20210825/fixedeffects/modelfit/datasink/stats_dir/_flameo0/stats/cope1.nii.gz\n"
     ]
    }
   ],
   "source": [
    "print(beta_RL, beta_LR, beta_MP, sep='\\n')"
   ]
  },
  {
   "cell_type": "code",
   "execution_count": 23,
   "metadata": {},
   "outputs": [
    {
     "data": {
      "text/plain": [
       "0"
      ]
     },
     "execution_count": 23,
     "metadata": {},
     "output_type": "execute_result"
    }
   ],
   "source": [
    "beta_RL_fn = f\"{out_dir}/sub-{sub}_ses-{ses_lgn}_task-hemi_desc-betaRL_space-lgn_map.nii.gz\"\n",
    "beta_LR_fn = f\"{out_dir}/sub-{sub}_ses-{ses_lgn}_task-hemi_desc-betaLR_space-lgn_map.nii.gz\"\n",
    "os.system(f\"cp {beta_RL} {beta_RL_fn}\")\n",
    "os.system(f\"cp {beta_LR} {beta_LR_fn}\")"
   ]
  },
  {
   "cell_type": "code",
   "execution_count": 24,
   "metadata": {},
   "outputs": [
    {
     "data": {
      "text/plain": [
       "0"
      ]
     },
     "execution_count": 24,
     "metadata": {},
     "output_type": "execute_result"
    }
   ],
   "source": [
    "beta_MP_fn = f\"{out_dir}/sub-{sub}_ses-{ses_lgn}_task-mp_desc-betaMP_space-lgn_map.nii.gz\"\n",
    "os.system((f\"cp {beta_MP} {beta_MP_fn}\"))"
   ]
  },
  {
   "cell_type": "code",
   "execution_count": 25,
   "metadata": {
    "ExecuteTime": {
     "end_time": "2020-02-24T21:53:21.206747Z",
     "start_time": "2020-02-24T21:53:21.131153Z"
    },
    "hidden": true,
    "scrolled": true
   },
   "outputs": [
    {
     "name": "stdout",
     "output_type": "stream",
     "text": [
      "fsleyes /Users/smerdis/data/LGN/BIDS/LL_combined/sub-LL/ses-20210511/anat/sub-LL_ses-20210511_T1w.nii.gz /Users/smerdis/data/LGN/BIDS/LL_combined/derivatives/streams/sub-LL/sub-LL_ses-20210511_task-hemi_refvol.nii.gz /Users/smerdis/data/LGN/BIDS/LL_combined/derivatives/streams/sub-LL/sub-LL_ses-20210511_task-hemi_desc-betaRL_space-lgn_map.nii.gz /Users/smerdis/data/LGN/BIDS/LL_combined/derivatives/streams/sub-LL/sub-LL_ses-20210511_task-hemi_desc-betaLR_space-lgn_map.nii.gz /Users/smerdis/data/LGN/BIDS/LL_combined/derivatives/streams/sub-LL/sub-LL_ses-20210511_task-mp_desc-betaMP_space-lgn_map.nii.gz\n"
     ]
    }
   ],
   "source": [
    "print(f\"fsleyes {anat_file} {lgn_ref_vol} {beta_RL_fn} {beta_LR_fn} {beta_MP_fn}\")"
   ]
  },
  {
   "cell_type": "markdown",
   "metadata": {},
   "source": [
    "### Grab the affine transformation matrix so we can convert EPI to scanner space"
   ]
  },
  {
   "cell_type": "code",
   "execution_count": null,
   "metadata": {},
   "outputs": [],
   "source": [
    "# epi_vox_center = (np.array(ref_vol_img.get_fdata().shape) - 1) / 2.\n",
    "# print('epi vox center: ', epi_vox_center)\n",
    "# print(ref_vol_path)"
   ]
  },
  {
   "cell_type": "markdown",
   "metadata": {},
   "source": [
    "### Assign M/P rois based on GLM Beta maps"
   ]
  },
  {
   "cell_type": "code",
   "execution_count": 26,
   "metadata": {},
   "outputs": [
    {
     "name": "stdout",
     "output_type": "stream",
     "text": [
      "/Users/smerdis/data/LGN/BIDS/LL_combined/derivatives/streams/sub-LL/sub-LL_ses-20210511_desc-LLGN_space-lgn_roi.nii.gz\n",
      "/Users/smerdis/data/LGN/BIDS/LL_combined/derivatives/streams/sub-LL/sub-LL_ses-20210511_desc-LLGNM80_space-lgn_roi.nii.gz\n",
      "/Users/smerdis/data/LGN/BIDS/LL_combined/derivatives/streams/sub-LL/sub-LL_ses-20210511_desc-LLGNP80_space-lgn_roi.nii.gz\n",
      "/Users/smerdis/data/LGN/BIDS/LL_combined/derivatives/streams/sub-LL/sub-LL_ses-20210511_desc-RLGN_space-lgn_roi.nii.gz\n",
      "/Users/smerdis/data/LGN/BIDS/LL_combined/derivatives/streams/sub-LL/sub-LL_ses-20210511_desc-RLGNM80_space-lgn_roi.nii.gz\n",
      "/Users/smerdis/data/LGN/BIDS/LL_combined/derivatives/streams/sub-LL/sub-LL_ses-20210511_desc-RLGNP80_space-lgn_roi.nii.gz\n"
     ]
    }
   ],
   "source": [
    "print('\\n'.join(rois))"
   ]
  },
  {
   "cell_type": "code",
   "execution_count": 27,
   "metadata": {},
   "outputs": [
    {
     "name": "stdout",
     "output_type": "stream",
     "text": [
      "/Users/smerdis/data/LGN/BIDS/LL_combined/derivatives/streams/sub-LL/sub-LL_ses-20210511_task-hemi_refvol.nii.gz\n"
     ]
    }
   ],
   "source": [
    "print(lgn_ref_vol)"
   ]
  },
  {
   "cell_type": "code",
   "execution_count": 28,
   "metadata": {
    "scrolled": false
   },
   "outputs": [
    {
     "name": "stdout",
     "output_type": "stream",
     "text": [
      "/Users/smerdis/data/LGN/BIDS/LL_combined/derivatives/streams/sub-LL/sub-LL_ses-20210511_desc-LLGN_space-lgn_roi.nii.gz\n",
      "(99, 3)\n",
      "ROI max and min coords [76 64 11] [69 57  8]\n",
      "ROI extent (total voxel span and max/min distance from center): \n",
      "[8 8 4]\n",
      "[2.303  3.8586 1.3131]\n",
      "[-4.697  -3.1414 -1.6869]\n",
      "ROI center in EPI and real-world coordinates: \n",
      "[73.697  60.1414  9.6869]\n",
      "[-16.9697   2.9392   8.7371]\n",
      "****\n",
      "/Users/smerdis/data/LGN/BIDS/LL_combined/derivatives/streams/sub-LL/sub-LL_ses-20210511_desc-LLGNM80_space-lgn_roi.nii.gz\n",
      "(20, 3)\n",
      "ROI max and min coords [76 63 10] [70 58  8]\n",
      "ROI extent (total voxel span and max/min distance from center): \n",
      "[7 6 3]\n",
      "[2.55 2.15 0.8 ]\n",
      "[-3.45 -2.85 -1.2 ]\n",
      "ROI center in EPI and real-world coordinates: \n",
      "[73.45 60.85  9.2 ]\n",
      "[-16.5375   4.3438   8.1981]\n",
      "****\n",
      "/Users/smerdis/data/LGN/BIDS/LL_combined/derivatives/streams/sub-LL/sub-LL_ses-20210511_desc-LLGNP80_space-lgn_roi.nii.gz\n",
      "(79, 3)\n",
      "ROI max and min coords [76 64 11] [69 57  8]\n",
      "ROI extent (total voxel span and max/min distance from center): \n",
      "[8 8 4]\n",
      "[2.2405 4.038  1.1899]\n",
      "[-4.7595 -2.962  -1.8101]\n",
      "ROI center in EPI and real-world coordinates: \n",
      "[73.7595 59.962   9.8101]\n",
      "[-17.0791   2.5835   8.8736]\n",
      "****\n",
      "/Users/smerdis/data/LGN/BIDS/LL_combined/derivatives/streams/sub-LL/sub-LL_ses-20210511_desc-RLGN_space-lgn_roi.nii.gz\n",
      "(87, 3)\n",
      "ROI max and min coords [53 62 12] [49 58  8]\n",
      "ROI extent (total voxel span and max/min distance from center): \n",
      "[5 5 5]\n",
      "[1.8506 1.9425 2.0345]\n",
      "[-2.1494 -2.0575 -1.9655]\n",
      "ROI center in EPI and real-world coordinates: \n",
      "[51.1494 60.0575  9.9655]\n",
      "[22.4885  2.6825  9.177 ]\n",
      "****\n",
      "/Users/smerdis/data/LGN/BIDS/LL_combined/derivatives/streams/sub-LL/sub-LL_ses-20210511_desc-RLGNM80_space-lgn_roi.nii.gz\n",
      "(18, 3)\n",
      "ROI max and min coords [53 62 10] [50 60  8]\n",
      "ROI extent (total voxel span and max/min distance from center): \n",
      "[4 3 3]\n",
      "[1.7222 0.5556 1.1667]\n",
      "[-1.2778 -1.4444 -0.8333]\n",
      "ROI center in EPI and real-world coordinates: \n",
      "[51.2778 61.4444  8.8333]\n",
      "[22.2639  5.5051  7.817 ]\n",
      "****\n",
      "/Users/smerdis/data/LGN/BIDS/LL_combined/derivatives/streams/sub-LL/sub-LL_ses-20210511_desc-RLGNP80_space-lgn_roi.nii.gz\n",
      "(69, 3)\n",
      "ROI max and min coords [53 62 12] [49 58  8]\n",
      "ROI extent (total voxel span and max/min distance from center): \n",
      "[5 5 5]\n",
      "[1.8841 2.3043 1.7391]\n",
      "[-2.1159 -1.6957 -2.2609]\n",
      "ROI center in EPI and real-world coordinates: \n",
      "[51.1159 59.6957 10.2609]\n",
      "[22.5471  1.9461  9.5318]\n",
      "****\n"
     ]
    }
   ],
   "source": [
    "for roi in rois:\n",
    "    utils.roi_stats({roi:load_img(roi)}, load_img(lgn_ref_vol))"
   ]
  },
  {
   "cell_type": "code",
   "execution_count": 29,
   "metadata": {},
   "outputs": [
    {
     "data": {
      "text/plain": [
       "['/Users/smerdis/data/LGN/BIDS/LL_combined/derivatives/streams/sub-LL/sub-LL_ses-20210511_desc-LLGN_space-lgn_roi.nii.gz',\n",
       " '/Users/smerdis/data/LGN/BIDS/LL_combined/derivatives/streams/sub-LL/sub-LL_ses-20210511_desc-RLGN_space-lgn_roi.nii.gz']"
      ]
     },
     "execution_count": 29,
     "metadata": {},
     "output_type": "execute_result"
    }
   ],
   "source": [
    "big_rois"
   ]
  },
  {
   "cell_type": "code",
   "execution_count": 30,
   "metadata": {},
   "outputs": [],
   "source": [
    "final_big_rois = big_rois # select the ones you want to subdivide"
   ]
  },
  {
   "cell_type": "code",
   "execution_count": 31,
   "metadata": {
    "scrolled": false
   },
   "outputs": [
    {
     "name": "stdout",
     "output_type": "stream",
     "text": [
      "/Users/smerdis/data/LGN/BIDS/LL_combined/derivatives/streams/sub-LL/sub-LL_ses-20210511_desc-LLGN_space-lgn_roi.nii.gz\n",
      "(99, 3)\n",
      "ROI max and min coords [76 64 11] [69 57  8]\n",
      "ROI extent (total voxel span and max/min distance from center): \n",
      "[8 8 4]\n",
      "[2.303  3.8586 1.3131]\n",
      "[-4.697  -3.1414 -1.6869]\n",
      "ROI center in EPI and real-world coordinates: \n",
      "[73.697  60.1414  9.6869]\n",
      "[-16.9697   2.9392   8.7371]\n",
      "****\n",
      "****\n",
      "****\n",
      "Given the LGN mask \n",
      "/Users/smerdis/data/LGN/BIDS/LL_combined/derivatives/streams/sub-LL/sub-LL_ses-20210511_desc-LLGN_space-lgn_roi.nii.gz\n",
      "which extends from [76 64 11] to [69 57  8]\n",
      "will partition at 80% and create\n",
      "/Users/smerdis/data/LGN/BIDS/LL_combined/derivatives/streams/sub-LL/sub-LL_ses-20210511_desc-LLGNP80_space-lgn_roi.nii.gz\n",
      "/Users/smerdis/data/LGN/BIDS/LL_combined/derivatives/streams/sub-LL/sub-LL_ses-20210511_desc-LLGNM80_space-lgn_roi.nii.gz\n",
      "Mask contains 99 voxels and 80th percentile is 3.697673225402832\n"
     ]
    },
    {
     "data": {
      "image/png": "[encoded data removed]",
      "text/plain": [
       "<Figure size 432x288 with 1 Axes>"
      ]
     },
     "metadata": {
      "needs_background": "light"
     },
     "output_type": "display_data"
    },
    {
     "name": "stdout",
     "output_type": "stream",
     "text": [
      "/Users/smerdis/data/LGN/BIDS/LL_combined/derivatives/streams/sub-LL/sub-LL_ses-20210511_desc-LLGNM80_space-lgn_roi.nii.gz: 20 voxels\n",
      "/Users/smerdis/data/LGN/BIDS/LL_combined/derivatives/streams/sub-LL/sub-LL_ses-20210511_desc-LLGNP80_space-lgn_roi.nii.gz: 79 voxels\n",
      "[79, 20, 97632]\n",
      "[79, 20, 99]\n",
      "beta_masked: (128, 128, 21)\n"
     ]
    },
    {
     "data": {
      "image/png": "[encoded data removed]",
      "text/plain": [
       "<Figure size 1152x432 with 5 Axes>"
      ]
     },
     "metadata": {
      "needs_background": "light"
     },
     "output_type": "display_data"
    },
    {
     "data": {
      "image/png": "[encoded data removed]",
      "text/plain": [
       "<Figure size 1152x432 with 8 Axes>"
      ]
     },
     "metadata": {},
     "output_type": "display_data"
    },
    {
     "name": "stdout",
     "output_type": "stream",
     "text": [
      "M\n",
      "(20, 3)\n",
      "ROI max and min coords [76 63 10] [70 58  8]\n",
      "ROI extent (total voxel span and max/min distance from center): \n",
      "[7 6 3]\n",
      "[2.55 2.15 0.8 ]\n",
      "[-3.45 -2.85 -1.2 ]\n",
      "ROI center in EPI and real-world coordinates: \n",
      "[73.45 60.85  9.2 ]\n",
      "[-16.5375   4.3438   8.1981]\n",
      "****\n",
      "P\n",
      "(79, 3)\n",
      "ROI max and min coords [76 64 11] [69 57  8]\n",
      "ROI extent (total voxel span and max/min distance from center): \n",
      "[8 8 4]\n",
      "[2.2405 4.038  1.1899]\n",
      "[-4.7595 -2.962  -1.8101]\n",
      "ROI center in EPI and real-world coordinates: \n",
      "[73.7595 59.962   9.8101]\n",
      "[-17.0791   2.5835   8.8736]\n",
      "****\n",
      "/Users/smerdis/data/LGN/BIDS/LL_combined/derivatives/streams/sub-LL/sub-LL_ses-20210511_desc-RLGN_space-lgn_roi.nii.gz\n",
      "(87, 3)\n",
      "ROI max and min coords [53 62 12] [49 58  8]\n",
      "ROI extent (total voxel span and max/min distance from center): \n",
      "[5 5 5]\n",
      "[1.8506 1.9425 2.0345]\n",
      "[-2.1494 -2.0575 -1.9655]\n",
      "ROI center in EPI and real-world coordinates: \n",
      "[51.1494 60.0575  9.9655]\n",
      "[22.4885  2.6825  9.177 ]\n",
      "****\n",
      "****\n",
      "****\n",
      "Given the LGN mask \n",
      "/Users/smerdis/data/LGN/BIDS/LL_combined/derivatives/streams/sub-LL/sub-LL_ses-20210511_desc-RLGN_space-lgn_roi.nii.gz\n",
      "which extends from [53 62 12] to [49 58  8]\n",
      "will partition at 80% and create\n",
      "/Users/smerdis/data/LGN/BIDS/LL_combined/derivatives/streams/sub-LL/sub-LL_ses-20210511_desc-RLGNP80_space-lgn_roi.nii.gz\n",
      "/Users/smerdis/data/LGN/BIDS/LL_combined/derivatives/streams/sub-LL/sub-LL_ses-20210511_desc-RLGNM80_space-lgn_roi.nii.gz\n",
      "Mask contains 87 voxels and 80th percentile is 2.4923857688903803\n"
     ]
    },
    {
     "data": {
      "image/png": "[encoded data removed]",
      "text/plain": [
       "<Figure size 432x288 with 1 Axes>"
      ]
     },
     "metadata": {
      "needs_background": "light"
     },
     "output_type": "display_data"
    },
    {
     "name": "stdout",
     "output_type": "stream",
     "text": [
      "/Users/smerdis/data/LGN/BIDS/LL_combined/derivatives/streams/sub-LL/sub-LL_ses-20210511_desc-RLGNM80_space-lgn_roi.nii.gz: 18 voxels\n",
      "/Users/smerdis/data/LGN/BIDS/LL_combined/derivatives/streams/sub-LL/sub-LL_ses-20210511_desc-RLGNP80_space-lgn_roi.nii.gz: 69 voxels\n",
      "[69, 18, 97632]\n",
      "[69, 18, 87]\n",
      "beta_masked: (128, 128, 21)\n"
     ]
    },
    {
     "data": {
      "image/png": "[encoded data removed]",
      "text/plain": [
       "<Figure size 1152x432 with 6 Axes>"
      ]
     },
     "metadata": {
      "needs_background": "light"
     },
     "output_type": "display_data"
    },
    {
     "data": {
      "image/png": "[encoded data removed]",
      "text/plain": [
       "<Figure size 1152x432 with 5 Axes>"
      ]
     },
     "metadata": {},
     "output_type": "display_data"
    },
    {
     "name": "stdout",
     "output_type": "stream",
     "text": [
      "M\n",
      "(18, 3)\n",
      "ROI max and min coords [53 62 10] [50 60  8]\n",
      "ROI extent (total voxel span and max/min distance from center): \n",
      "[4 3 3]\n",
      "[1.7222 0.5556 1.1667]\n",
      "[-1.2778 -1.4444 -0.8333]\n",
      "ROI center in EPI and real-world coordinates: \n",
      "[51.2778 61.4444  8.8333]\n",
      "[22.2639  5.5051  7.817 ]\n",
      "****\n",
      "P\n",
      "(69, 3)\n",
      "ROI max and min coords [53 62 12] [49 58  8]\n",
      "ROI extent (total voxel span and max/min distance from center): \n",
      "[5 5 5]\n",
      "[1.8841 2.3043 1.7391]\n",
      "[-2.1159 -1.6957 -2.2609]\n",
      "ROI center in EPI and real-world coordinates: \n",
      "[51.1159 59.6957 10.2609]\n",
      "[22.5471  1.9461  9.5318]\n",
      "****\n"
     ]
    }
   ],
   "source": [
    "for roi in final_big_rois:\n",
    "    utils.roi_stats({roi:load_img(roi)}, lgn_ref_img)\n",
    "    if 'desc-L' in roi:\n",
    "        M_roi, P_roi, threshold = utils.assign_roi_percentile(roi, beta_MP_img, 80, lgn_ref_img, 'L')\n",
    "    elif 'desc-R' in roi:\n",
    "        M_roi, P_roi, threshold = utils.assign_roi_percentile(roi, beta_MP_img, 80, lgn_ref_img, 'R')\n",
    "    else:\n",
    "        print('Error - not sure which hemisphere roi is in')\n",
    "    utils.roi_stats({'M':load_img(M_roi), 'P':load_img(P_roi)}, lgn_ref_img)"
   ]
  },
  {
   "cell_type": "code",
   "execution_count": 32,
   "metadata": {
    "scrolled": false
   },
   "outputs": [
    {
     "name": "stdout",
     "output_type": "stream",
     "text": [
      "Big roi extends from [-8.75  -1.717  4.583] to [-21.      8.969  12.548]\n",
      "Extent is [-12.25   10.686   7.965] and center is [-16.97    2.939   8.737]\n",
      "/Users/smerdis/data/LGN/BIDS/LL_combined/derivatives/streams/sub-LL/sub-LL_ses-20210511_desc-LLGNM80_space-lgn_roi.nii.gz\n",
      "[-16.537   4.344   8.198]\n",
      "[0.364 0.433 0.546]\n",
      "/Users/smerdis/data/LGN/BIDS/LL_combined/derivatives/streams/sub-LL/sub-LL_ses-20210511_desc-LLGNP80_space-lgn_roi.nii.gz\n",
      "[-17.079   2.584   8.874]\n",
      "[0.32  0.598 0.461]\n",
      "Big roi extends from [ 2.625e+01 -1.564e-02  4.992e+00] to [19.25   5.157 13.433]\n",
      "Extent is [-7.     5.172  8.441] and center is [22.489  2.682  9.177]\n",
      "/Users/smerdis/data/LGN/BIDS/LL_combined/derivatives/streams/sub-LL/sub-LL_ses-20210511_desc-RLGNM80_space-lgn_roi.nii.gz\n",
      "[22.264  5.505  7.817]\n",
      "[ 0.431 -0.067  0.665]\n",
      "/Users/smerdis/data/LGN/BIDS/LL_combined/derivatives/streams/sub-LL/sub-LL_ses-20210511_desc-RLGNP80_space-lgn_roi.nii.gz\n",
      "[22.547  1.946  9.532]\n",
      "[0.471 0.621 0.462]\n"
     ]
    },
    {
     "data": {
      "image/png": "[encoded data removed]",
      "text/plain": [
       "<Figure size 432x288 with 1 Axes>"
      ]
     },
     "metadata": {
      "needs_background": "light"
     },
     "output_type": "display_data"
    },
    {
     "data": {
      "image/png": "[encoded data removed]",
      "text/plain": [
       "<Figure size 432x288 with 1 Axes>"
      ]
     },
     "metadata": {
      "needs_background": "light"
     },
     "output_type": "display_data"
    }
   ],
   "source": [
    "for roi in final_big_rois:\n",
    "    parts = op.basename(roi).split('_')\n",
    "    part = [x for x in parts if 'desc' in x]\n",
    "    big_roi_stub = op.basename(roi).split('_')[-3]\n",
    "    subdivision_rois = [f for f in rois if big_roi_stub in f and ('P' in f or 'M' in f)]\n",
    "    utils.roi_centers(roi, subdivision_rois, load_img(lgn_ref_vol))"
   ]
  },
  {
   "cell_type": "markdown",
   "metadata": {},
   "source": [
    "### Look at pRF results"
   ]
  },
  {
   "cell_type": "code",
   "execution_count": 33,
   "metadata": {},
   "outputs": [],
   "source": [
    "lgn_rois_prf_space = preproc_layout.get(subject=sub, session=ses_lgn, space='prf', suffix='roi', return_type='file')"
   ]
  },
  {
   "cell_type": "code",
   "execution_count": 34,
   "metadata": {},
   "outputs": [
    {
     "name": "stdout",
     "output_type": "stream",
     "text": [
      "/Users/smerdis/data/LGN/BIDS/LL_combined/derivatives/streams/sub-LL/sub-LL_ses-20210511_desc-LLGN_space-prf_roi.nii.gz\n",
      "/Users/smerdis/data/LGN/BIDS/LL_combined/derivatives/streams/sub-LL/sub-LL_ses-20210511_desc-LLGNhighecc33_space-prf_roi.nii.gz\n",
      "/Users/smerdis/data/LGN/BIDS/LL_combined/derivatives/streams/sub-LL/sub-LL_ses-20210511_desc-LLGNhighecc50_space-prf_roi.nii.gz\n",
      "/Users/smerdis/data/LGN/BIDS/LL_combined/derivatives/streams/sub-LL/sub-LL_ses-20210511_desc-LLGNlowecc33_space-prf_roi.nii.gz\n",
      "/Users/smerdis/data/LGN/BIDS/LL_combined/derivatives/streams/sub-LL/sub-LL_ses-20210511_desc-LLGNlowecc50_space-prf_roi.nii.gz\n",
      "/Users/smerdis/data/LGN/BIDS/LL_combined/derivatives/streams/sub-LL/sub-LL_ses-20210511_desc-RLGN_space-prf_roi.nii.gz\n",
      "/Users/smerdis/data/LGN/BIDS/LL_combined/derivatives/streams/sub-LL/sub-LL_ses-20210511_desc-RLGNhighecc33_space-prf_roi.nii.gz\n",
      "/Users/smerdis/data/LGN/BIDS/LL_combined/derivatives/streams/sub-LL/sub-LL_ses-20210511_desc-RLGNhighecc50_space-prf_roi.nii.gz\n",
      "/Users/smerdis/data/LGN/BIDS/LL_combined/derivatives/streams/sub-LL/sub-LL_ses-20210511_desc-RLGNlowecc33_space-prf_roi.nii.gz\n",
      "/Users/smerdis/data/LGN/BIDS/LL_combined/derivatives/streams/sub-LL/sub-LL_ses-20210511_desc-RLGNlowecc50_space-prf_roi.nii.gz\n",
      "['/Users/smerdis/data/LGN/BIDS/LL_combined/derivatives/streams/sub-LL/sub-LL_ses-20210511_desc-LLGN_space-prf_roi.nii.gz', '/Users/smerdis/data/LGN/BIDS/LL_combined/derivatives/streams/sub-LL/sub-LL_ses-20210511_desc-RLGN_space-prf_roi.nii.gz']\n"
     ]
    }
   ],
   "source": [
    "big_lgn_rois_prf_space = [f for f in lgn_rois_prf_space if 'desc-LLGN_' in f or 'desc-RLGN_' in f]\n",
    "print('\\n'.join(lgn_rois_prf_space), big_lgn_rois_prf_space, sep='\\n')"
   ]
  },
  {
   "cell_type": "code",
   "execution_count": 35,
   "metadata": {},
   "outputs": [
    {
     "name": "stdout",
     "output_type": "stream",
     "text": [
      "0 /Users/smerdis/data/LGN/BIDS/LL_combined/derivatives/streams/sub-LL/sub-LL_ses-20210511_desc-LLGN_space-prf_roi.nii.gz\n",
      "0\n",
      "(81, 3)\n",
      "ROI max and min coords [76 60 14] [68 53 11]\n",
      "ROI extent (total voxel span and max/min distance from center): \n",
      "[9 8 4]\n",
      "[2.914 3.383 1.062]\n",
      "[-5.086 -3.617 -1.938]\n",
      "ROI center in EPI and real-world coordinates: \n",
      "[73.086 56.617 12.938]\n",
      "[-15.901 -10.379   2.898]\n",
      "****\n",
      "1 /Users/smerdis/data/LGN/BIDS/LL_combined/derivatives/streams/sub-LL/sub-LL_ses-20210511_desc-LLGNhighecc33_space-prf_roi.nii.gz\n",
      "1\n",
      "(57, 3)\n",
      "ROI max and min coords [77 57  6] [69 50  4]\n",
      "ROI extent (total voxel span and max/min distance from center): \n",
      "[9 8 3]\n",
      "[2.596 3.368 1.123]\n",
      "[-5.404 -3.632 -0.877]\n",
      "ROI center in EPI and real-world coordinates: \n",
      "[74.404 53.632  4.877]\n",
      "[-18.206 -14.304 -11.625]\n",
      "****\n",
      "2 /Users/smerdis/data/LGN/BIDS/LL_combined/derivatives/streams/sub-LL/sub-LL_ses-20210511_desc-LLGNhighecc50_space-prf_roi.nii.gz\n",
      "2\n",
      "(42, 3)\n",
      "ROI max and min coords [77 57  6] [69 50  4]\n",
      "ROI extent (total voxel span and max/min distance from center): \n",
      "[9 8 3]\n",
      "[2.333 3.19  1.119]\n",
      "[-5.667 -3.81  -0.881]\n",
      "ROI center in EPI and real-world coordinates: \n",
      "[74.667 53.81   4.881]\n",
      "[-18.667 -13.995 -11.59 ]\n",
      "****\n",
      "3 /Users/smerdis/data/LGN/BIDS/LL_combined/derivatives/streams/sub-LL/sub-LL_ses-20210511_desc-LLGNlowecc33_space-prf_roi.nii.gz\n",
      "3\n",
      "(24, 3)\n",
      "ROI max and min coords [77 56  6] [70 51  3]\n",
      "ROI extent (total voxel span and max/min distance from center): \n",
      "[8 6 4]\n",
      "[3.667 2.417 0.917]\n",
      "[-3.333 -2.583 -2.083]\n",
      "ROI center in EPI and real-world coordinates: \n",
      "[73.333 53.583  5.083]\n",
      "[-16.333 -14.421 -11.273]\n",
      "****\n",
      "4 /Users/smerdis/data/LGN/BIDS/LL_combined/derivatives/streams/sub-LL/sub-LL_ses-20210511_desc-LLGNlowecc50_space-prf_roi.nii.gz\n",
      "4\n",
      "(39, 3)\n",
      "ROI max and min coords [77 56  6] [70 51  3]\n",
      "ROI extent (total voxel span and max/min distance from center): \n",
      "[8 6 4]\n",
      "[3.538 2.59  1.   ]\n",
      "[-3.462 -2.41  -2.   ]\n",
      "ROI center in EPI and real-world coordinates: \n",
      "[73.462 53.41   5.   ]\n",
      "[-16.558 -14.709 -11.446]\n",
      "****\n",
      "5 /Users/smerdis/data/LGN/BIDS/LL_combined/derivatives/streams/sub-LL/sub-LL_ses-20210511_desc-RLGN_space-prf_roi.nii.gz\n",
      "5\n",
      "(74, 3)\n",
      "ROI max and min coords [53 60 15] [49 56 12]\n",
      "ROI extent (total voxel span and max/min distance from center): \n",
      "[5 5 4]\n",
      "[1.824 1.784 1.378]\n",
      "[-2.176 -2.216 -1.622]\n",
      "ROI center in EPI and real-world coordinates: \n",
      "[51.176 58.216 13.622]\n",
      "[22.443 -7.701  4.342]\n",
      "****\n",
      "6 /Users/smerdis/data/LGN/BIDS/LL_combined/derivatives/streams/sub-LL/sub-LL_ses-20210511_desc-RLGNhighecc33_space-prf_roi.nii.gz\n",
      "6\n",
      "(49, 3)\n",
      "ROI max and min coords [54 57  7] [50 53  4]\n",
      "ROI extent (total voxel span and max/min distance from center): \n",
      "[5 5 4]\n",
      "[1.898 1.959 1.449]\n",
      "[-2.102 -2.041 -1.551]\n",
      "ROI center in EPI and real-world coordinates: \n",
      "[52.102 55.041  5.551]\n",
      "[ 20.821 -11.955 -10.227]\n",
      "****\n",
      "7 /Users/smerdis/data/LGN/BIDS/LL_combined/derivatives/streams/sub-LL/sub-LL_ses-20210511_desc-RLGNhighecc50_space-prf_roi.nii.gz\n",
      "7\n",
      "(40, 3)\n",
      "ROI max and min coords [54 57  7] [50 53  4]\n",
      "ROI extent (total voxel span and max/min distance from center): \n",
      "[5 5 4]\n",
      "[1.925 1.95  1.55 ]\n",
      "[-2.075 -2.05  -1.45 ]\n",
      "ROI center in EPI and real-world coordinates: \n",
      "[52.075 55.05   5.45 ]\n",
      "[ 20.869 -11.923 -10.401]\n",
      "****\n",
      "8 /Users/smerdis/data/LGN/BIDS/LL_combined/derivatives/streams/sub-LL/sub-LL_ses-20210511_desc-RLGNlowecc33_space-prf_roi.nii.gz\n",
      "8\n",
      "(25, 3)\n",
      "ROI max and min coords [54 57  7] [50 53  4]\n",
      "ROI extent (total voxel span and max/min distance from center): \n",
      "[5 5 4]\n",
      "[1.68 1.44 1.24]\n",
      "[-2.32 -2.56 -1.76]\n",
      "ROI center in EPI and real-world coordinates: \n",
      "[52.32 55.56  5.76]\n",
      "[ 20.44  -11.083  -9.78 ]\n",
      "****\n",
      "9 /Users/smerdis/data/LGN/BIDS/LL_combined/derivatives/streams/sub-LL/sub-LL_ses-20210511_desc-RLGNlowecc50_space-prf_roi.nii.gz\n",
      "9\n",
      "(34, 3)\n",
      "ROI max and min coords [54 57  7] [50 53  4]\n",
      "ROI extent (total voxel span and max/min distance from center): \n",
      "[5 5 4]\n",
      "[1.706 1.588 1.176]\n",
      "[-2.294 -2.412 -1.824]\n",
      "ROI center in EPI and real-world coordinates: \n",
      "[52.294 55.412  5.824]\n",
      "[ 20.485 -11.352  -9.693]\n",
      "****\n"
     ]
    }
   ],
   "source": [
    "for i, x in zip(range(len(lgn_rois_prf_space)), lgn_rois_prf_space):\n",
    "    print(i, x)\n",
    "    utils.roi_stats({i: load_img(x)}, prf_ref_vol_img)"
   ]
  },
  {
   "cell_type": "code",
   "execution_count": 36,
   "metadata": {},
   "outputs": [],
   "source": [
    "# prf eccentricity map\n",
    "prf_ecc_map = \"/Users/smerdis/data/LGN/BIDS/LL_combined/derivatives/prf/sub-LL/20210908-081328/sub-LL_ses-20210810_desc-prfrho_space-func_map.nii.gz\"\n",
    "# prf_ecc_map = \"/Users/smerdis/data/LGN/BIDS/LL_combined/derivatives/prf/sub-LL/20210908-081328/sub-LL_ses-20210810_desc-prfrho_space-func_thresh-prfrho-12.00_map.nii.gz\""
   ]
  },
  {
   "cell_type": "code",
   "execution_count": 37,
   "metadata": {
    "scrolled": false
   },
   "outputs": [
    {
     "name": "stdout",
     "output_type": "stream",
     "text": [
      "****\n",
      "****\n",
      "Given the LGN mask \n",
      "/Users/smerdis/data/LGN/BIDS/LL_combined/derivatives/streams/sub-LL/sub-LL_ses-20210511_desc-LLGN_space-prf_roi.nii.gz\n",
      "which extends from [76 60 14] to [68 53 11]\n",
      "will partition at 33% and create\n",
      "/Users/smerdis/data/LGN/BIDS/LL_combined/derivatives/streams/sub-LL/sub-LL_ses-20210511_desc-LLGNlowecc33_space-prf_roi.nii.gz\n",
      "/Users/smerdis/data/LGN/BIDS/LL_combined/derivatives/streams/sub-LL/sub-LL_ses-20210511_desc-LLGNhighecc33_space-prf_roi.nii.gz\n",
      "Mask contains 81 voxels and 33th percentile is 9.637305861012722\n"
     ]
    },
    {
     "data": {
      "image/png": "[encoded data removed]",
      "text/plain": [
       "<Figure size 432x288 with 1 Axes>"
      ]
     },
     "metadata": {
      "needs_background": "light"
     },
     "output_type": "display_data"
    },
    {
     "name": "stdout",
     "output_type": "stream",
     "text": [
      "/Users/smerdis/data/LGN/BIDS/LL_combined/derivatives/streams/sub-LL/sub-LL_ses-20210511_desc-LLGNhighecc33_space-prf_roi.nii.gz: 57 voxels\n",
      "/Users/smerdis/data/LGN/BIDS/LL_combined/derivatives/streams/sub-LL/sub-LL_ses-20210511_desc-LLGNlowecc33_space-prf_roi.nii.gz: 24 voxels\n",
      "[24, 57, 51197]\n",
      "[24, 57, 81]\n",
      "beta_masked: (128, 128, 19)\n"
     ]
    },
    {
     "data": {
      "image/png": "[encoded data removed]",
      "text/plain": [
       "<Figure size 1152x432 with 5 Axes>"
      ]
     },
     "metadata": {
      "needs_background": "light"
     },
     "output_type": "display_data"
    },
    {
     "data": {
      "image/png": "[encoded data removed]",
      "text/plain": [
       "<Figure size 1152x432 with 8 Axes>"
      ]
     },
     "metadata": {},
     "output_type": "display_data"
    },
    {
     "name": "stdout",
     "output_type": "stream",
     "text": [
      "****\n",
      "****\n",
      "Given the LGN mask \n",
      "/Users/smerdis/data/LGN/BIDS/LL_combined/derivatives/streams/sub-LL/sub-LL_ses-20210511_desc-RLGN_space-prf_roi.nii.gz\n",
      "which extends from [53 60 15] to [49 56 12]\n",
      "will partition at 33% and create\n",
      "/Users/smerdis/data/LGN/BIDS/LL_combined/derivatives/streams/sub-LL/sub-LL_ses-20210511_desc-RLGNlowecc33_space-prf_roi.nii.gz\n",
      "/Users/smerdis/data/LGN/BIDS/LL_combined/derivatives/streams/sub-LL/sub-LL_ses-20210511_desc-RLGNhighecc33_space-prf_roi.nii.gz\n",
      "Mask contains 74 voxels and 33th percentile is 8.468276491982502\n"
     ]
    },
    {
     "data": {
      "image/png": "[encoded data removed]",
      "text/plain": [
       "<Figure size 432x288 with 1 Axes>"
      ]
     },
     "metadata": {
      "needs_background": "light"
     },
     "output_type": "display_data"
    },
    {
     "name": "stdout",
     "output_type": "stream",
     "text": [
      "/Users/smerdis/data/LGN/BIDS/LL_combined/derivatives/streams/sub-LL/sub-LL_ses-20210511_desc-RLGNhighecc33_space-prf_roi.nii.gz: 49 voxels\n",
      "/Users/smerdis/data/LGN/BIDS/LL_combined/derivatives/streams/sub-LL/sub-LL_ses-20210511_desc-RLGNlowecc33_space-prf_roi.nii.gz: 25 voxels\n",
      "[25, 49, 51197]\n",
      "[25, 49, 74]\n",
      "beta_masked: (128, 128, 19)\n"
     ]
    },
    {
     "data": {
      "image/png": "[encoded data removed]",
      "text/plain": [
       "<Figure size 1152x432 with 5 Axes>"
      ]
     },
     "metadata": {
      "needs_background": "light"
     },
     "output_type": "display_data"
    },
    {
     "data": {
      "image/png": "[encoded data removed]",
      "text/plain": [
       "<Figure size 1152x432 with 5 Axes>"
      ]
     },
     "metadata": {},
     "output_type": "display_data"
    }
   ],
   "source": [
    "for roi in big_lgn_rois_prf_space:\n",
    "    utils.assign_roi_percentile(roi, prf_ecc_map, 33, prf_ref_vol_img,\n",
    "                                roi_below_suffix='lowecc', roi_above_suffix='highecc')"
   ]
  },
  {
   "cell_type": "code",
   "execution_count": 38,
   "metadata": {},
   "outputs": [
    {
     "name": "stdout",
     "output_type": "stream",
     "text": [
      "/Users/smerdis/data/LGN/BIDS/LL_combined/derivatives/streams/sub-LL/sub-LL_ses-20210511_desc-LLGN_space-prf_roi.nii.gz\n",
      "Big roi extends from [ -7.    -16.376  -1.054] to [-21.     -4.652   5.285]\n",
      "Extent is [-14.     11.724   6.339] and center is [-15.901 -10.379   2.898]\n",
      "/Users/smerdis/data/LGN/BIDS/LL_combined/derivatives/streams/sub-LL/sub-LL_ses-20210511_desc-LLGNhighecc33_space-prf_roi.nii.gz\n",
      "[-18.206 -14.304 -11.625]\n",
      "[0.2   0.823 2.668]\n",
      "/Users/smerdis/data/LGN/BIDS/LL_combined/derivatives/streams/sub-LL/sub-LL_ses-20210511_desc-LLGNhighecc50_space-prf_roi.nii.gz\n",
      "[-18.667 -13.995 -11.59 ]\n",
      "[0.167 0.797 2.662]\n",
      "/Users/smerdis/data/LGN/BIDS/LL_combined/derivatives/streams/sub-LL/sub-LL_ses-20210511_desc-LLGNlowecc33_space-prf_roi.nii.gz\n",
      "[-16.333 -14.421 -11.273]\n",
      "[0.333 0.833 2.612]\n",
      "/Users/smerdis/data/LGN/BIDS/LL_combined/derivatives/streams/sub-LL/sub-LL_ses-20210511_desc-LLGNlowecc50_space-prf_roi.nii.gz\n",
      "[-16.558 -14.709 -11.446]\n",
      "[0.317 0.858 2.639]\n",
      "/Users/smerdis/data/LGN/BIDS/LL_combined/derivatives/streams/sub-LL/sub-LL_ses-20210511_desc-RLGN_space-prf_roi.nii.gz\n",
      "Big roi extends from [ 26.25  -11.306   1.165] to [19.25  -4.811  7.028]\n",
      "Extent is [-7.     6.495  5.863] and center is [22.443 -7.701  4.342]\n",
      "/Users/smerdis/data/LGN/BIDS/LL_combined/derivatives/streams/sub-LL/sub-LL_ses-20210511_desc-RLGNhighecc33_space-prf_roi.nii.gz\n",
      "[ 20.821 -11.955 -10.227]\n",
      "[0.224 1.1   2.943]\n",
      "/Users/smerdis/data/LGN/BIDS/LL_combined/derivatives/streams/sub-LL/sub-LL_ses-20210511_desc-RLGNhighecc50_space-prf_roi.nii.gz\n",
      "[ 20.869 -11.923 -10.401]\n",
      "[0.231 1.095 2.973]\n",
      "/Users/smerdis/data/LGN/BIDS/LL_combined/derivatives/streams/sub-LL/sub-LL_ses-20210511_desc-RLGNlowecc33_space-prf_roi.nii.gz\n",
      "[ 20.44  -11.083  -9.78 ]\n",
      "[0.17  0.966 2.867]\n",
      "/Users/smerdis/data/LGN/BIDS/LL_combined/derivatives/streams/sub-LL/sub-LL_ses-20210511_desc-RLGNlowecc50_space-prf_roi.nii.gz\n",
      "[ 20.485 -11.352  -9.693]\n",
      "[0.176 1.007 2.852]\n"
     ]
    },
    {
     "data": {
      "image/png": "[encoded data removed]",
      "text/plain": [
       "<Figure size 432x288 with 1 Axes>"
      ]
     },
     "metadata": {
      "needs_background": "light"
     },
     "output_type": "display_data"
    },
    {
     "data": {
      "image/png": "[encoded data removed]",
      "text/plain": [
       "<Figure size 432x288 with 1 Axes>"
      ]
     },
     "metadata": {
      "needs_background": "light"
     },
     "output_type": "display_data"
    }
   ],
   "source": [
    "for roi in big_lgn_rois_prf_space:\n",
    "    print(roi)\n",
    "    parts = op.basename(roi).split('_')\n",
    "    part = [x for x in parts if 'desc' in x]\n",
    "    if part:\n",
    "        big_roi_stub = part[0]\n",
    "        roi_list = preproc_layout.get(subject=sub, session=ses_lgn, space='prf', suffix='roi', return_type='file')\n",
    "        subdivision_rois = [f for f in roi_list if big_roi_stub in f and ('ecc' in f)]\n",
    "        #print(big_roi_stub, subdivision_rois)\n",
    "        utils.roi_centers(roi, subdivision_rois, load_img(prf_ref_vol_img))"
   ]
  },
  {
   "cell_type": "markdown",
   "metadata": {
    "collapsed": true
   },
   "source": [
    "## Coherence analysis to identify LGN voxels responding at flicker frequency"
   ]
  },
  {
   "cell_type": "markdown",
   "metadata": {
    "heading_collapsed": true
   },
   "source": [
    "### Use the actual utils.py function"
   ]
  },
  {
   "cell_type": "code",
   "execution_count": 9,
   "metadata": {
    "ExecuteTime": {
     "end_time": "2020-02-13T23:16:19.386723Z",
     "start_time": "2020-02-13T23:16:11.672124Z"
    },
    "hidden": true,
    "scrolled": true
   },
   "outputs": [
    {
     "name": "stdout",
     "output_type": "stream",
     "text": [
      "Space is None\n",
      "BOLDS: 2\n",
      "['/Users/smerdis/data/LGN/BIDS/LL_combined/derivatives/streams/sub-LL/ses-20210511/func/sub-LL_ses-20210511_task-hemi_run-01_desc-mcflirt_bold.nii.gz', '/Users/smerdis/data/LGN/BIDS/LL_combined/derivatives/streams/sub-LL/ses-20210511/func/sub-LL_ses-20210511_task-hemi_run-02_desc-mcflirt_bold.nii.gz']\n",
      "Masks: 2\n",
      "['/Users/smerdis/data/LGN/BIDS/LL_combined/derivatives/streams/sub-LL/sub-LL_ses-20210511_task-hemi_mask.nii.gz', '/Users/smerdis/data/LGN/BIDS/LL_combined/derivatives/streams/sub-LL/sub-LL_ses-20210511_task-hemi_mask.nii.gz']\n",
      "Eventfiles: 2\n",
      "['/Users/smerdis/data/LGN/BIDS/LL_combined/sub-LL/ses-20210511/func/sub-LL_ses-20210511_task-hemi_run-01_events.tsv', '/Users/smerdis/data/LGN/BIDS/LL_combined/sub-LL/ses-20210511/func/sub-LL_ses-20210511_task-hemi_run-02_events.tsv']\n",
      "[2.25, 2.25] 2\n",
      "Confounds: 0\n",
      "[]\n"
     ]
    }
   ],
   "source": [
    "hemi_bolds, hemi_masks, hemi_eventfiles, hemi_TR, hemi_confounds = utils.get_files(\n",
    "    sub, ses_lgn, \"hemi\", raw_data_dir, out_dir,\n",
    "    run=[1, 2])"
   ]
  },
  {
   "cell_type": "markdown",
   "metadata": {
    "heading_collapsed": true
   },
   "source": [
    "### Define hemifield alternation time series etc"
   ]
  },
  {
   "cell_type": "code",
   "execution_count": null,
   "metadata": {
    "ExecuteTime": {
     "end_time": "2020-01-27T20:34:21.626664Z",
     "start_time": "2020-01-27T20:34:21.366456Z"
    },
    "hidden": true,
    "scrolled": false
   },
   "outputs": [],
   "source": [
    "cycle_duration = 27 # (should be 27s)\n",
    "hemi_freq = (1.0/cycle_duration) # of hemifield alternation, in hertz\n",
    "n_trs_func = 139 # Length, in TRs, on a functional scan\n",
    "total_len = n_trs_func*hemi_TR # seconds\n",
    "Fs = 1/hemi_TR # Sampling freq\n",
    "trs_exc_beg = 6\n",
    "trs_exc_end = 1\n",
    "nfft = 61 #Number of time points to use in the window - 61 gives a band centered at .037037...\n",
    "#nperseg = n_trs_func - trs_exc_beg - trs_exc_end\n",
    "\n",
    "# frequency band of physiological relevance\n",
    "f_lb = 0.02\n",
    "f_ub = 0.15\n",
    "\n",
    "# frequency band within which hemifield alternation related activity exists\n",
    "f_lb_hemi = 0.035\n",
    "f_ub_hemi = 0.038\n",
    "\n",
    "print(hemi_freq)\n",
    "\n",
    "t = np.arange(0.0, total_len, hemi_TR)\n",
    "t_trim = np.arange((trs_exc_beg-1)*hemi_TR, (total_len - trs_exc_beg - trs_exc_end)+1, hemi_TR)\n",
    "hemifield_alternation_sinusoid = np.sin(hemi_freq*2*np.pi*t)\n",
    "hemi_alt_trim = hemifield_alternation_sinusoid[trs_exc_beg:(-1*trs_exc_end)]\n",
    "print(t, hemifield_alternation_sinusoid.shape)\n",
    "\n",
    "hemi_ts = ts.TimeSeries(data=hemifield_alternation_sinusoid,\n",
    "                         sampling_interval=hemi_TR)\n",
    "hemi_ts_trim = ts.TimeSeries(data=hemi_alt_trim,\n",
    "                         sampling_interval=hemi_TR)\n",
    "\n",
    "fig, ax = plt.subplots(1)\n",
    "ax.set_xlim(0, 50)\n",
    "ax.plot(t, hemifield_alternation_sinusoid)\n",
    "#ax.plot(t_trim, hemi_alt_trim)\n",
    "ax.set_xlabel(\"Time (sec)\")\n",
    "ax.set_ylabel(\"Hemifield alternation\")"
   ]
  },
  {
   "cell_type": "code",
   "execution_count": null,
   "metadata": {},
   "outputs": [],
   "source": [
    "print(final_big_rois)"
   ]
  },
  {
   "cell_type": "code",
   "execution_count": null,
   "metadata": {},
   "outputs": [],
   "source": [
    "roi = hemi_masks[0]"
   ]
  },
  {
   "cell_type": "markdown",
   "metadata": {},
   "source": [
    "##### Run 1 of hemifield"
   ]
  },
  {
   "cell_type": "code",
   "execution_count": null,
   "metadata": {},
   "outputs": [],
   "source": [
    "_, lgn_ts_run1 = utils.get_timeseries_from_file(hemi_bolds[0], roi, hemi_TR,\n",
    "                                detrend=True, standardize='psc', high_pass=f_lb, low_pass=f_ub)"
   ]
  },
  {
   "cell_type": "code",
   "execution_count": null,
   "metadata": {},
   "outputs": [],
   "source": [
    "_, (hemi_coh_by_voxel, hemi_phase_by_voxel) = utils.seed_coherence_timeseries(hemi_ts, lgn_ts_run1, f_ub, f_lb, dict(NFFT=nfft))"
   ]
  },
  {
   "cell_type": "markdown",
   "metadata": {},
   "source": [
    "##### Run 2 of hemifield"
   ]
  },
  {
   "cell_type": "markdown",
   "metadata": {},
   "source": [
    "##### No detrending or standardization"
   ]
  },
  {
   "cell_type": "code",
   "execution_count": null,
   "metadata": {},
   "outputs": [],
   "source": [
    "lgn_masker, lgn_ts_run2 = utils.get_timeseries_from_file(hemi_bolds[1], roi, hemi_TR,\n",
    "                                detrend=False, standardize=False, high_pass=f_lb, low_pass=f_ub)\n",
    "_, (hemi_coh_by_voxel, hemi_phase_by_voxel) = utils.seed_coherence_timeseries(hemi_ts, lgn_ts_run2, f_ub, f_lb, dict(NFFT=nfft))"
   ]
  },
  {
   "cell_type": "markdown",
   "metadata": {},
   "source": [
    "##### Detrended but no standardization"
   ]
  },
  {
   "cell_type": "code",
   "execution_count": null,
   "metadata": {},
   "outputs": [],
   "source": [
    "lgn_masker, lgn_ts_run2 = utils.get_timeseries_from_file(hemi_bolds[1], roi, hemi_TR,\n",
    "                                detrend=True, standardize=False, high_pass=f_lb, low_pass=f_ub)\n",
    "_, (hemi_coh_by_voxel, hemi_phase_by_voxel) = utils.seed_coherence_timeseries(hemi_ts, lgn_ts_run2, f_ub, f_lb, dict(NFFT=nfft))"
   ]
  },
  {
   "cell_type": "markdown",
   "metadata": {},
   "source": [
    "##### With detrending and conversion to percent signal change"
   ]
  },
  {
   "cell_type": "code",
   "execution_count": null,
   "metadata": {},
   "outputs": [],
   "source": [
    "lgn_masker, lgn_ts_run2 = utils.get_timeseries_from_file(hemi_bolds[1], roi, hemi_TR,\n",
    "                                detrend=True, standardize='psc', high_pass=f_lb, low_pass=f_ub)\n",
    "_, (hemi_coh_by_voxel, hemi_phase_by_voxel) = utils.seed_coherence_timeseries(hemi_ts, lgn_ts_run2, f_ub, f_lb, dict(NFFT=nfft))"
   ]
  },
  {
   "cell_type": "markdown",
   "metadata": {},
   "source": [
    "#### Average the runs for better SNR"
   ]
  },
  {
   "cell_type": "code",
   "execution_count": null,
   "metadata": {},
   "outputs": [],
   "source": [
    "lgn_masker"
   ]
  },
  {
   "cell_type": "code",
   "execution_count": null,
   "metadata": {
    "ExecuteTime": {
     "end_time": "2020-01-25T21:46:32.630821Z",
     "start_time": "2020-01-25T21:45:55.534961Z"
    },
    "hidden": true,
    "scrolled": true
   },
   "outputs": [],
   "source": [
    "mean_bold_timeseries = utils.average_timeseries(hemi_bolds, lgn_masker)"
   ]
  },
  {
   "cell_type": "code",
   "execution_count": null,
   "metadata": {
    "ExecuteTime": {
     "end_time": "2020-01-25T21:46:32.754830Z",
     "start_time": "2020-01-25T21:46:32.633525Z"
    },
    "hidden": true,
    "scrolled": true
   },
   "outputs": [],
   "source": [
    "mean_bold_timeseries.shape"
   ]
  },
  {
   "cell_type": "code",
   "execution_count": null,
   "metadata": {
    "ExecuteTime": {
     "end_time": "2020-01-25T21:46:33.506888Z",
     "start_time": "2020-01-25T21:46:33.390924Z"
    },
    "hidden": true,
    "scrolled": true
   },
   "outputs": [],
   "source": [
    "trim_bold_nm = mean_bold_timeseries[trs_exc_beg:(-1*trs_exc_end),:] # note we are using the mean of the two runs\n",
    "trim_bold_nm.shape"
   ]
  },
  {
   "cell_type": "code",
   "execution_count": null,
   "metadata": {},
   "outputs": [],
   "source": [
    "mean_ts = ts.TimeSeries(data=trim_bold_nm.T, sampling_interval=hemi_TR)\n",
    "hemi_analyzer, (hemi_coh_by_voxel, hemi_phase_by_voxel) = utils.seed_coherence_timeseries(hemi_ts_trim, mean_ts, f_ub, f_lb, dict(NFFT=nfft))"
   ]
  },
  {
   "cell_type": "markdown",
   "metadata": {},
   "source": [
    "##### Run it again but this time with a narrow frequency range for just hemifield alternation"
   ]
  },
  {
   "cell_type": "code",
   "execution_count": null,
   "metadata": {},
   "outputs": [],
   "source": [
    "hemi_analyzer, (hemi_coh_by_voxel, hemi_phase_by_voxel) = utils.seed_coherence_timeseries(hemi_ts_trim, mean_ts,\n",
    "                                                                   f_ub_hemi, f_lb_hemi, dict(NFFT=nfft))"
   ]
  },
  {
   "cell_type": "markdown",
   "metadata": {
    "hidden": true
   },
   "source": [
    "#### Write coherence values to Nifti file"
   ]
  },
  {
   "cell_type": "code",
   "execution_count": null,
   "metadata": {},
   "outputs": [],
   "source": [
    "lgn_masker"
   ]
  },
  {
   "cell_type": "code",
   "execution_count": null,
   "metadata": {},
   "outputs": [],
   "source": [
    "lgn_masker.get_params()"
   ]
  },
  {
   "cell_type": "code",
   "execution_count": null,
   "metadata": {},
   "outputs": [],
   "source": [
    "len(hemi_coh_by_voxel)"
   ]
  },
  {
   "cell_type": "code",
   "execution_count": null,
   "metadata": {
    "ExecuteTime": {
     "end_time": "2020-01-22T17:54:23.313468Z",
     "start_time": "2020-01-22T17:54:23.250220Z"
    },
    "hidden": true,
    "scrolled": true
   },
   "outputs": [],
   "source": [
    "coherence_img = lgn_masker.inverse_transform(hemi_coh_by_voxel)\n",
    "coherence_img.shape"
   ]
  },
  {
   "cell_type": "code",
   "execution_count": null,
   "metadata": {},
   "outputs": [],
   "source": [
    "phase_img = lgn_masker.inverse_transform(hemi_phase_by_voxel)\n",
    "phase_img.shape"
   ]
  },
  {
   "cell_type": "code",
   "execution_count": null,
   "metadata": {
    "ExecuteTime": {
     "end_time": "2020-01-22T17:54:24.449809Z",
     "start_time": "2020-01-22T17:54:24.391167Z"
    },
    "hidden": true,
    "scrolled": true
   },
   "outputs": [],
   "source": [
    "hemi_coh_fn = os.path.join(out_dir, f\"sub-{sub}_ses-{ses}_task-hemi_desc-hemialtCoh_map.nii\")\n",
    "hemi_phase_fn = os.path.join(out_dir, f\"sub-{sub}_ses-{ses}_task-hemi_desc-hemialtPhase_map.nii\")"
   ]
  },
  {
   "cell_type": "code",
   "execution_count": null,
   "metadata": {
    "ExecuteTime": {
     "end_time": "2020-01-22T17:54:27.974412Z",
     "start_time": "2020-01-22T17:54:27.910600Z"
    },
    "hidden": true,
    "scrolled": true
   },
   "outputs": [],
   "source": [
    "coherence_img.to_filename(hemi_coh_fn)\n",
    "phase_img.to_filename(hemi_phase_fn)"
   ]
  },
  {
   "cell_type": "markdown",
   "metadata": {},
   "source": [
    "#### Look at cortical ROI coherence with hemifield alternations"
   ]
  },
  {
   "cell_type": "code",
   "execution_count": null,
   "metadata": {},
   "outputs": [],
   "source": [
    "cortical_masker, cortical_ts_run2 = utils.get_timeseries_from_file(hemi_bolds[1], cortical_rois[0], hemi_TR,\n",
    "                                detrend=False, standardize='zscore', high_pass=f_lb, low_pass=f_ub)\n",
    "_, (hemi_coh_by_voxel_cortex, hemi_phase_by_voxel_cortex) = utils.seed_coherence_timeseries(hemi_ts, cortical_ts_run2, f_ub_hemi, f_lb_hemi, dict(NFFT=nfft))"
   ]
  },
  {
   "cell_type": "markdown",
   "metadata": {
    "hidden": true
   },
   "source": [
    "#### Write coherence values to Nifti file"
   ]
  },
  {
   "cell_type": "code",
   "execution_count": null,
   "metadata": {
    "ExecuteTime": {
     "end_time": "2020-01-22T17:54:23.313468Z",
     "start_time": "2020-01-22T17:54:23.250220Z"
    },
    "hidden": true,
    "scrolled": true
   },
   "outputs": [],
   "source": [
    "coherence_img = cortical_masker.inverse_transform(hemi_coh_by_voxel_cortex)\n",
    "coherence_img.shape"
   ]
  },
  {
   "cell_type": "code",
   "execution_count": null,
   "metadata": {
    "ExecuteTime": {
     "end_time": "2020-01-22T17:54:24.449809Z",
     "start_time": "2020-01-22T17:54:24.391167Z"
    },
    "hidden": true,
    "scrolled": true
   },
   "outputs": [],
   "source": [
    "print(cortex_coh_fn)"
   ]
  },
  {
   "cell_type": "code",
   "execution_count": null,
   "metadata": {
    "ExecuteTime": {
     "end_time": "2020-01-22T17:54:27.974412Z",
     "start_time": "2020-01-22T17:54:27.910600Z"
    },
    "hidden": true,
    "scrolled": true
   },
   "outputs": [],
   "source": [
    "coherence_img.to_filename(cortex_coh_fn)"
   ]
  },
  {
   "cell_type": "markdown",
   "metadata": {
    "hidden": true
   },
   "source": [
    "#### SpectralAnalyzer - view and plot FFT, PSD, etc."
   ]
  },
  {
   "cell_type": "code",
   "execution_count": null,
   "metadata": {
    "ExecuteTime": {
     "end_time": "2020-01-25T22:02:53.630910Z",
     "start_time": "2020-01-25T22:02:53.570465Z"
    },
    "hidden": true,
    "scrolled": true
   },
   "outputs": [],
   "source": [
    "def plot_spectra(S_original, voxid):\n",
    "    fig01 = plt.figure()\n",
    "    ax01 = fig01.add_subplot(1, 1, 1)\n",
    "    if voxid is None:\n",
    "        ax01.plot(S_original.psd[0],\n",
    "                  S_original.psd[1],\n",
    "                  label='PSD')\n",
    "        ax01.plot(S_original.spectrum_fourier[0],\n",
    "              np.abs(S_original.spectrum_fourier[1]),\n",
    "              label='FFT')\n",
    "#         ax01.plot(S_original.periodogram[0],\n",
    "#               np.abs(S_original.periodogram[1]),\n",
    "#               label='Periodogram')\n",
    "\n",
    "#         ax01.plot(S_original.spectrum_multi_taper[0],\n",
    "#               np.abs(S_original.spectrum_multi_taper[1]),\n",
    "#               label='Multitaper')\n",
    "        \n",
    "    else:\n",
    "        ax01.plot(S_original.psd[0],\n",
    "                  S_original.psd[1][voxid],\n",
    "                  label='PSD')\n",
    "        ax01.plot(S_original.spectrum_fourier[0],\n",
    "              np.abs(S_original.spectrum_fourier[1][voxid]),\n",
    "              label='FFT')\n",
    "#         ax01.plot(S_original.spectrum_multi_taper[0],\n",
    "#               np.abs(S_original.spectrum_multi_taper[1][voxid]),\n",
    "#               label='Multitaper')\n",
    "    print(S_original.psd[0], S_original.psd[1], len(S_original.psd[1]), sep='\\n')\n",
    "\n",
    "    ax01.set_xlabel('Frequency (Hz)')\n",
    "    ax01.set_ylabel('Power')\n",
    "\n",
    "    ax01.legend()"
   ]
  },
  {
   "cell_type": "code",
   "execution_count": null,
   "metadata": {},
   "outputs": [],
   "source": [
    "roi_mean_timeseries = ts.TimeSeries(np.mean(mean_ts.data, axis=0), sampling_interval=hemi_TR)"
   ]
  },
  {
   "cell_type": "code",
   "execution_count": null,
   "metadata": {},
   "outputs": [],
   "source": [
    "roi_mean_timeseries.data.shape"
   ]
  },
  {
   "cell_type": "code",
   "execution_count": null,
   "metadata": {},
   "outputs": [],
   "source": [
    "plot_spectra(\n",
    "    nta.SpectralAnalyzer(hemi_ts_trim, method={#'this_method':'welch',\n",
    "                                                        'NFFT':132,\n",
    "                                                        'Fs':hemi_ts_trim.sampling_rate})\n",
    "    , None)\n",
    "plot_spectra(\n",
    "    nta.SpectralAnalyzer(roi_mean_timeseries, method={#'this_method':'welch',\n",
    "                                                        'NFFT':132,\n",
    "                                                        'Fs':hemi_ts_trim.sampling_rate}), None)"
   ]
  },
  {
   "cell_type": "markdown",
   "metadata": {},
   "source": [
    "### Mean across voxels of ROI timerseries but with nfft bins"
   ]
  },
  {
   "cell_type": "code",
   "execution_count": null,
   "metadata": {},
   "outputs": [],
   "source": [
    "plot_spectra(\n",
    "    nta.SpectralAnalyzer(hemi_ts_trim, method={#'this_method':'welch',\n",
    "                                                        'NFFT':nfft,\n",
    "                                                        'Fs':hemi_ts_trim.sampling_rate})\n",
    "    , None)\n",
    "plot_spectra(\n",
    "    nta.SpectralAnalyzer(roi_mean_timeseries, method={#'this_method':'welch',\n",
    "                                                        'NFFT':nfft,\n",
    "                                                        'Fs':hemi_ts_trim.sampling_rate}), None)"
   ]
  },
  {
   "cell_type": "markdown",
   "metadata": {},
   "source": [
    "### SeedCoherenceAnalyzer for connectivity"
   ]
  },
  {
   "cell_type": "code",
   "execution_count": 10,
   "metadata": {},
   "outputs": [
    {
     "name": "stdout",
     "output_type": "stream",
     "text": [
      "Space is None\n",
      "BOLDS: 3\n",
      "['/Users/smerdis/data/LGN/BIDS/LL_combined/derivatives/streams/sub-LL/ses-20210909/func/sub-LL_ses-20210909_task-conn_run-01_desc-mcflirt_bold.nii.gz', '/Users/smerdis/data/LGN/BIDS/LL_combined/derivatives/streams/sub-LL/ses-20210909/func/sub-LL_ses-20210909_task-conn_run-05_desc-mcflirt_bold.nii.gz', '/Users/smerdis/data/LGN/BIDS/LL_combined/derivatives/streams/sub-LL/ses-20210909/func/sub-LL_ses-20210909_task-conn_run-09_desc-mcflirt_bold.nii.gz']\n",
      "Masks: 3\n",
      "['/Users/smerdis/data/LGN/BIDS/LL_combined/derivatives/streams/sub-LL/sub-LL_ses-20210909_task-conn_mask.nii.gz', '/Users/smerdis/data/LGN/BIDS/LL_combined/derivatives/streams/sub-LL/sub-LL_ses-20210909_task-conn_mask.nii.gz', '/Users/smerdis/data/LGN/BIDS/LL_combined/derivatives/streams/sub-LL/sub-LL_ses-20210909_task-conn_mask.nii.gz']\n",
      "Eventfiles: 0\n",
      "[]\n",
      "[2.25, 2.25, 2.25] 3\n",
      "Confounds: 0\n",
      "[]\n",
      "Some functional runs do not have corresponding event files!\n"
     ]
    }
   ],
   "source": [
    "conn_bolds, conn_masks, conn_eventfiles, conn_TR, conn_confounds = utils.get_files(\n",
    "    sub, ses_conn, \"conn\",\n",
    "    raw_data_dir, out_dir,\n",
    "    run=[1, 5, 9])"
   ]
  },
  {
   "cell_type": "code",
   "execution_count": 11,
   "metadata": {},
   "outputs": [],
   "source": [
    "f_lb = 0.025\n",
    "f_ub = 0.15"
   ]
  },
  {
   "cell_type": "code",
   "execution_count": 18,
   "metadata": {},
   "outputs": [
    {
     "name": "stdout",
     "output_type": "stream",
     "text": [
      "/Users/smerdis/data/LGN/BIDS/LL_combined/derivatives/streams/sub-LL/sub-LL_ses-20210511_desc-LLGN_roi.nii.gz\n",
      "/Users/smerdis/data/LGN/BIDS/LL_combined/derivatives/streams/sub-LL/sub-LL_ses-20210511_desc-LLGN_space-conn_roi.nii.gz\n",
      "/Users/smerdis/data/LGN/BIDS/LL_combined/derivatives/streams/sub-LL/sub-LL_ses-20210511_desc-RLGN_roi.nii.gz\n",
      "/Users/smerdis/data/LGN/BIDS/LL_combined/derivatives/streams/sub-LL/sub-LL_ses-20210511_desc-RLGN_space-conn_roi.nii.gz\n"
     ]
    }
   ],
   "source": [
    "print(\"\\n\".join(big_rois))"
   ]
  },
  {
   "cell_type": "code",
   "execution_count": 17,
   "metadata": {},
   "outputs": [
    {
     "name": "stdout",
     "output_type": "stream",
     "text": [
      "/Users/smerdis/data/LGN/BIDS/LL_combined/derivatives/streams/sub-LL/sub-LL_ses-20210909_desc-Lcortextest_space-conn_roi.nii.gz\n"
     ]
    }
   ],
   "source": [
    "print(\"\\n\".join(cortical_rois))\n",
    "cortical_roi = cortical_rois[0]"
   ]
  },
  {
   "cell_type": "code",
   "execution_count": null,
   "metadata": {
    "scrolled": false
   },
   "outputs": [],
   "source": [
    "for roi in left_lgn_rois:\n",
    "    #if 'M' in roi or 'P' in roi:\n",
    "    bn = op.basename(roi)\n",
    "    parts = bn.split('_')\n",
    "    print(parts)\n",
    "    cohs = []\n",
    "    phases = []\n",
    "    for i, bold in enumerate(conn_bolds):\n",
    "        print(i, bold)\n",
    "        bbn = op.basename(bold)\n",
    "        runpart = [p for p in bbn.split('_') if 'run-' in p][0]\n",
    "        conn_coh_fn = os.path.join(out_dir, f\"sub-{sub}_ses-{ses}_task-conn_{runpart}_{parts[-2]}_coherence_map.nii\")\n",
    "        conn_phase_fn = os.path.join(out_dir, f\"sub-{sub}_ses-{ses}_task-conn_{runpart}_{parts[-2]}_phase_map.nii\")\n",
    "        print(conn_coh_fn, conn_phase_fn, sep='\\n')\n",
    "        #below: wholebrain mask with mean of seed roi\n",
    "        # 2/3/21: cahnged to use cortical roi instead of wholebrain\n",
    "        a, target_masker, coherence_by_voxel, phase_by_voxel = utils.seed_coherence_analysis(bold, cortical_roi, roi,\n",
    "                          conn_TR, f_ub, f_lb, mean_seed=True, method=dict(NFFT=64))\n",
    "        coherence_map_img = target_masker.inverse_transform(coherence_by_voxel)\n",
    "        phase_img = target_masker.inverse_transform(phase_by_voxel)\n",
    "        coherence_map_img.to_filename(conn_coh_fn)\n",
    "        phase_img.to_filename(conn_phase_fn)\n",
    "        # below: roi with the mean of that roi\n",
    "        #a = utils.seed_coherence_analysis(bold, roi, roi,\n",
    "        #      conn_TR, f_ub, f_lb, conn_coh_fn, mean_seed=True)\n",
    "        # below: cortical roi (hand-defined and hardcoded) with mean of seed ROI\n",
    "#         a, _ = utils.seed_coherence_analysis(bold, cortical_rois[0], roi,\n",
    "#               conn_TR, f_ub, f_lb, conn_coh_fn, mean_seed=True)\n",
    "\n",
    "        cohs.append(a.coherence)\n",
    "        phases.append(a.relative_phases)    "
   ]
  },
  {
   "cell_type": "code",
   "execution_count": null,
   "metadata": {},
   "outputs": [],
   "source": [
    "img1 = '/Users/smerdis/data/LGN/BIDS/NB_2020/derivatives/streams/sub-NB/sub-NB_ses-20201029_task-conn_run-01_desc-LLGNsmallM80_phase_map.nii'\n",
    "img2 = '/Users/smerdis/data/LGN/BIDS/NB_2020/derivatives/streams/sub-NB/sub-NB_ses-20201029_task-conn_run-05_desc-LLGNsmallM80_phase_map.nii'\n"
   ]
  },
  {
   "cell_type": "code",
   "execution_count": null,
   "metadata": {},
   "outputs": [],
   "source": [
    "phase_diff_img = math_img(f\"img1 - img2\", img1=img1, img2=img2)\n",
    "phase_diff_path = f\"{out_dir}/sub-NB_ses-20201029_task-conn_desc-LLGNsmallM80_leftM_phasediff_map.nii\"\n",
    "phase_diff_img.to_filename(phase_diff_path)"
   ]
  },
  {
   "cell_type": "code",
   "execution_count": null,
   "metadata": {},
   "outputs": [],
   "source": [
    "print(f\"fsleyes {conn_ref_vol_path} {phase_diff_path}\")"
   ]
  },
  {
   "cell_type": "code",
   "execution_count": null,
   "metadata": {},
   "outputs": [],
   "source": [
    "cohs[0].shape"
   ]
  },
  {
   "cell_type": "code",
   "execution_count": null,
   "metadata": {},
   "outputs": [],
   "source": []
  }
 ],
 "metadata": {
  "kernelspec": {
   "display_name": "Python 3",
   "language": "python",
   "name": "python3"
  },
  "language_info": {
   "codemirror_mode": {
    "name": "ipython",
    "version": 3
   },
   "file_extension": ".py",
   "mimetype": "text/x-python",
   "name": "python",
   "nbconvert_exporter": "python",
   "pygments_lexer": "ipython3",
   "version": "3.7.9"
  },
  "varInspector": {
   "cols": {
    "lenName": 16,
    "lenType": 16,
    "lenVar": 40
   },
   "kernels_config": {
    "python": {
     "delete_cmd_postfix": "",
     "delete_cmd_prefix": "del ",
     "library": "var_list.py",
     "varRefreshCmd": "print(var_dic_list())"
    },
    "r": {
     "delete_cmd_postfix": ") ",
     "delete_cmd_prefix": "rm(",
     "library": "var_list.r",
     "varRefreshCmd": "cat(var_dic_list()) "
    }
   },
   "types_to_exclude": [
    "module",
    "function",
    "builtin_function_or_method",
    "instance",
    "_Feature"
   ],
   "window_display": false
  }
 },
 "nbformat": 4,
 "nbformat_minor": 2
}
