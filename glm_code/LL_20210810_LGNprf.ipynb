{
 "cells": [
  {
   "cell_type": "markdown",
   "metadata": {},
   "source": [
    "# PRFs for subject LL collected 20210810, analyzed using popeye"
   ]
  },
  {
   "cell_type": "markdown",
   "metadata": {},
   "source": [
    "# Setup"
   ]
  },
  {
   "cell_type": "code",
   "execution_count": 1,
   "metadata": {},
   "outputs": [],
   "source": [
    "import os, pickle, glob\n",
    "import pathlib\n",
    "from bids import BIDSLayout\n",
    "\n",
    "import numpy as np\n",
    "\n",
    "import matplotlib.pyplot as plt\n",
    "\n",
    "import nibabel as nib\n",
    "\n",
    "import nilearn\n",
    "from nilearn.input_data import NiftiMasker\n",
    "from nilearn.image import get_data, math_img, index_img, load_img, concat_imgs\n",
    "\n",
    "import utils\n",
    "\n",
    "from PIL import Image\n",
    "import cv2 as cv"
   ]
  },
  {
   "cell_type": "code",
   "execution_count": 2,
   "metadata": {},
   "outputs": [
    {
     "name": "stdout",
     "output_type": "stream",
     "text": [
      " numpy:  1.20.0 \n",
      " nibabel:  3.2.1 \n",
      " nilearn:  0.7.0 \n",
      "\n"
     ]
    }
   ],
   "source": [
    "print(' numpy: ', np.__version__, '\\n',\n",
    "      'nibabel: ', nib.__version__, '\\n',\n",
    "      'nilearn: ', nilearn.__version__, '\\n')"
   ]
  },
  {
   "cell_type": "code",
   "execution_count": 3,
   "metadata": {},
   "outputs": [
    {
     "name": "stderr",
     "output_type": "stream",
     "text": [
      "//anaconda/envs/streams/lib/python3.7/site-packages/bids/layout/models.py:152: FutureWarning: The 'extension' entity currently excludes the leading dot ('.'). As of version 0.14.0, it will include the leading dot. To suppress this warning and include the leading dot, use `bids.config.set_option('extension_initial_dot', True)`.\n",
      "  FutureWarning)\n"
     ]
    }
   ],
   "source": [
    "sub = \"LL\"\n",
    "ses = \"20210810\"\n",
    "\n",
    "root_dir = \"/Users/smerdis/data/LGN/BIDS/LL_combined\"\n",
    "raw_data_dir = os.path.abspath(f\"{root_dir}/sub-{sub}/\")\n",
    "raw_layout = BIDSLayout(raw_data_dir, validate=False, derivatives=False)\n",
    "derivs_dir = os.path.abspath(f\"{root_dir}/derivatives/prf\")\n",
    "freesurfer_dir = os.path.abspath(f\"{root_dir}/derivatives/freesurfer\")\n",
    "\n",
    "out_dir = os.path.abspath(f\"{derivs_dir}/sub-{sub}\")\n",
    "if not os.path.exists(out_dir): # if we haven't preprocessed the LGNpRF data yet\n",
    "    pathlib.Path(out_dir).mkdir(parents=True, exist_ok=False)\n",
    "    # Go to Preprocessing section and mcflirt the runs etc"
   ]
  },
  {
   "cell_type": "code",
   "execution_count": 4,
   "metadata": {},
   "outputs": [
    {
     "name": "stdout",
     "output_type": "stream",
     "text": [
      "\u001b[34m20210831-111808\u001b[m\u001b[m\r\n",
      "\u001b[34m20210907-113646\u001b[m\u001b[m\r\n",
      "\u001b[34m20210908-081328\u001b[m\u001b[m\r\n",
      "\u001b[34mScreenshots\u001b[m\u001b[m\r\n",
      "bigstack-LL-AB.pkl\r\n",
      "bigstack-LL-B.pkl\r\n",
      "bigstack-LL.pkl\r\n",
      "\u001b[34mses-20210810\u001b[m\u001b[m\r\n",
      "sub-LL_ses-20210810_desc-wholebrainmask-back40_roi.nii.gz\r\n",
      "sub-LL_ses-20210810_desc-wholebrainmask-back_roi.nii.gz\r\n",
      "sub-LL_ses-20210810_mask.nii.gz\r\n",
      "sub-LL_ses-20210810_mcflirt_mean_trim.nii\r\n",
      "sub-LL_ses-20210810_mcflirt_mean_trim_evenrunsonly.nii\r\n",
      "sub-LL_ses-20210810_mcflirt_mean_trim_oddevenconcat.nii\r\n",
      "sub-LL_ses-20210810_mcflirt_mean_trim_oddrunsonly.nii\r\n",
      "sub-LL_ses-20210810_refvol.json\r\n",
      "sub-LL_ses-20210810_refvol.nii.gz\r\n"
     ]
    }
   ],
   "source": [
    "!ls {out_dir}"
   ]
  },
  {
   "cell_type": "code",
   "execution_count": 5,
   "metadata": {},
   "outputs": [
    {
     "name": "stdout",
     "output_type": "stream",
     "text": [
      "anat file: /Users/smerdis/data/LGN/BIDS/LL_combined/sub-LL/ses-20210810/anat/sub-LL_ses-20210810_T1w.nii.gz\n"
     ]
    }
   ],
   "source": [
    "preproc_layout = BIDSLayout(out_dir, validate=False)\n",
    "\n",
    "anat_file = sorted([f for f in raw_layout.get(subject=sub, session=ses, suffix='T1w',\n",
    "            extension=['nii.gz'], return_type='file')])[0]\n",
    "print(f\"anat file: {anat_file}\")\n",
    "raw_bolds_prf = sorted([f for f in raw_layout.get(subject=sub, session=ses, task='prf', suffix='bold',\n",
    "            extension=['nii.gz'], return_type='file')])\n",
    "mcf_bolds_prf = sorted([f for f in preproc_layout.get(subject=sub, session=ses, task='prf', suffix='bold',\n",
    "            extension=['nii.gz'], return_type='file') if 'mcflirt' in f])\n",
    "\n",
    "prf_mask_file = os.path.abspath(f\"{out_dir}/sub-{sub}_ses-{ses}_mask.nii.gz\")"
   ]
  },
  {
   "cell_type": "code",
   "execution_count": 7,
   "metadata": {},
   "outputs": [
    {
     "name": "stdout",
     "output_type": "stream",
     "text": [
      "/Users/smerdis/data/LGN/BIDS/LL_combined/derivatives/prf/sub-LL/sub-LL_ses-20210810_refvol.nii.gz\n",
      "/Users/smerdis/data/LGN/BIDS/LL_combined/derivatives/prf/sub-LL/sub-LL_ses-20210810_refvol.nii.gz\r\n"
     ]
    }
   ],
   "source": [
    "prf_ref_vol_noext = f\"sub-{sub}_ses-{ses}_refvol\"\n",
    "prf_ref_vol_name = f\"{prf_ref_vol_noext}.nii.gz\"\n",
    "prf_ref_vol_path = f\"{out_dir}/{prf_ref_vol_name}\"\n",
    "print(prf_ref_vol_path)\n",
    "!ls {prf_ref_vol_path}"
   ]
  },
  {
   "cell_type": "markdown",
   "metadata": {},
   "source": [
    "# Preprocessing"
   ]
  },
  {
   "cell_type": "markdown",
   "metadata": {},
   "source": [
    "## Make reference volume from first dicom - make sure to change this"
   ]
  },
  {
   "cell_type": "code",
   "execution_count": 11,
   "metadata": {},
   "outputs": [],
   "source": [
    "first_dicom_prf = \"/Users/smerdis/Dropbox/data/LGN/Ll_Lgnprf_20210810/flat_dicoms/IM-0007-0001.dcm\""
   ]
  },
  {
   "cell_type": "code",
   "execution_count": 12,
   "metadata": {},
   "outputs": [
    {
     "name": "stdout",
     "output_type": "stream",
     "text": [
      "dcm2niix -v 2 -s y -f sub-LL_ses-20210810_refvol -z y -o /Users/smerdis/data/LGN/BIDS/LL_combined/derivatives/prf/sub-LL /Users/smerdis/Dropbox/data/LGN/Ll_Lgnprf_20210810/flat_dicoms/IM-0007-0001.dcm\n"
     ]
    }
   ],
   "source": [
    "dcm2niix_cmd = f\"dcm2niix -v 2 -s y -f {prf_ref_vol_noext} -z y -o {out_dir} {first_dicom_prf}\"\n",
    "print(dcm2niix_cmd)"
   ]
  },
  {
   "cell_type": "markdown",
   "metadata": {},
   "source": [
    "## Motion correct BOLD runs to this refvol"
   ]
  },
  {
   "cell_type": "code",
   "execution_count": 16,
   "metadata": {},
   "outputs": [
    {
     "name": "stdout",
     "output_type": "stream",
     "text": [
      "mcflirt -reffile /Users/smerdis/data/LGN/BIDS/LL_combined/derivatives/prf/sub-LL/sub-LL_ses-20210810_refvol.nii.gz -mats -plots -report -cost mutualinfo -smooth 16 -in /Users/smerdis/data/LGN/BIDS/LL_combined/sub-LL/ses-20210810/func/sub-LL_ses-20210810_task-prf_run-01_bold.nii.gz -o /Users/smerdis/data/LGN/BIDS/LL_combined/derivatives/prf/sub-LL/ses-20210810/func/sub-LL_ses-20210810_task-prf_run-01_desc-mcflirt_bold\n",
      "mcflirt -reffile /Users/smerdis/data/LGN/BIDS/LL_combined/derivatives/prf/sub-LL/sub-LL_ses-20210810_refvol.nii.gz -mats -plots -report -cost mutualinfo -smooth 16 -in /Users/smerdis/data/LGN/BIDS/LL_combined/sub-LL/ses-20210810/func/sub-LL_ses-20210810_task-prf_run-02_bold.nii.gz -o /Users/smerdis/data/LGN/BIDS/LL_combined/derivatives/prf/sub-LL/ses-20210810/func/sub-LL_ses-20210810_task-prf_run-02_desc-mcflirt_bold\n",
      "mcflirt -reffile /Users/smerdis/data/LGN/BIDS/LL_combined/derivatives/prf/sub-LL/sub-LL_ses-20210810_refvol.nii.gz -mats -plots -report -cost mutualinfo -smooth 16 -in /Users/smerdis/data/LGN/BIDS/LL_combined/sub-LL/ses-20210810/func/sub-LL_ses-20210810_task-prf_run-03_bold.nii.gz -o /Users/smerdis/data/LGN/BIDS/LL_combined/derivatives/prf/sub-LL/ses-20210810/func/sub-LL_ses-20210810_task-prf_run-03_desc-mcflirt_bold\n",
      "mcflirt -reffile /Users/smerdis/data/LGN/BIDS/LL_combined/derivatives/prf/sub-LL/sub-LL_ses-20210810_refvol.nii.gz -mats -plots -report -cost mutualinfo -smooth 16 -in /Users/smerdis/data/LGN/BIDS/LL_combined/sub-LL/ses-20210810/func/sub-LL_ses-20210810_task-prf_run-04_bold.nii.gz -o /Users/smerdis/data/LGN/BIDS/LL_combined/derivatives/prf/sub-LL/ses-20210810/func/sub-LL_ses-20210810_task-prf_run-04_desc-mcflirt_bold\n",
      "mcflirt -reffile /Users/smerdis/data/LGN/BIDS/LL_combined/derivatives/prf/sub-LL/sub-LL_ses-20210810_refvol.nii.gz -mats -plots -report -cost mutualinfo -smooth 16 -in /Users/smerdis/data/LGN/BIDS/LL_combined/sub-LL/ses-20210810/func/sub-LL_ses-20210810_task-prf_run-05_bold.nii.gz -o /Users/smerdis/data/LGN/BIDS/LL_combined/derivatives/prf/sub-LL/ses-20210810/func/sub-LL_ses-20210810_task-prf_run-05_desc-mcflirt_bold\n",
      "mcflirt -reffile /Users/smerdis/data/LGN/BIDS/LL_combined/derivatives/prf/sub-LL/sub-LL_ses-20210810_refvol.nii.gz -mats -plots -report -cost mutualinfo -smooth 16 -in /Users/smerdis/data/LGN/BIDS/LL_combined/sub-LL/ses-20210810/func/sub-LL_ses-20210810_task-prf_run-06_bold.nii.gz -o /Users/smerdis/data/LGN/BIDS/LL_combined/derivatives/prf/sub-LL/ses-20210810/func/sub-LL_ses-20210810_task-prf_run-06_desc-mcflirt_bold\n",
      "mcflirt -reffile /Users/smerdis/data/LGN/BIDS/LL_combined/derivatives/prf/sub-LL/sub-LL_ses-20210810_refvol.nii.gz -mats -plots -report -cost mutualinfo -smooth 16 -in /Users/smerdis/data/LGN/BIDS/LL_combined/sub-LL/ses-20210810/func/sub-LL_ses-20210810_task-prf_run-07_bold.nii.gz -o /Users/smerdis/data/LGN/BIDS/LL_combined/derivatives/prf/sub-LL/ses-20210810/func/sub-LL_ses-20210810_task-prf_run-07_desc-mcflirt_bold\n",
      "mcflirt -reffile /Users/smerdis/data/LGN/BIDS/LL_combined/derivatives/prf/sub-LL/sub-LL_ses-20210810_refvol.nii.gz -mats -plots -report -cost mutualinfo -smooth 16 -in /Users/smerdis/data/LGN/BIDS/LL_combined/sub-LL/ses-20210810/func/sub-LL_ses-20210810_task-prf_run-08_bold.nii.gz -o /Users/smerdis/data/LGN/BIDS/LL_combined/derivatives/prf/sub-LL/ses-20210810/func/sub-LL_ses-20210810_task-prf_run-08_desc-mcflirt_bold\n",
      "mcflirt -reffile /Users/smerdis/data/LGN/BIDS/LL_combined/derivatives/prf/sub-LL/sub-LL_ses-20210810_refvol.nii.gz -mats -plots -report -cost mutualinfo -smooth 16 -in /Users/smerdis/data/LGN/BIDS/LL_combined/sub-LL/ses-20210810/func/sub-LL_ses-20210810_task-prf_run-09_bold.nii.gz -o /Users/smerdis/data/LGN/BIDS/LL_combined/derivatives/prf/sub-LL/ses-20210810/func/sub-LL_ses-20210810_task-prf_run-09_desc-mcflirt_bold\n",
      "mcflirt -reffile /Users/smerdis/data/LGN/BIDS/LL_combined/derivatives/prf/sub-LL/sub-LL_ses-20210810_refvol.nii.gz -mats -plots -report -cost mutualinfo -smooth 16 -in /Users/smerdis/data/LGN/BIDS/LL_combined/sub-LL/ses-20210810/func/sub-LL_ses-20210810_task-prf_run-10_bold.nii.gz -o /Users/smerdis/data/LGN/BIDS/LL_combined/derivatives/prf/sub-LL/ses-20210810/func/sub-LL_ses-20210810_task-prf_run-10_desc-mcflirt_bold\n"
     ]
    }
   ],
   "source": [
    "for this_epi in raw_bolds_prf:\n",
    "    epi_stub_mcf = utils.change_bids_description(this_epi, 'desc-mcflirt')\n",
    "    if not os.path.isdir(os.path.join(out_dir, f\"ses-{ses}\", \"func\")):\n",
    "        os.makedirs(os.path.join(out_dir, f\"ses-{ses}\", \"func\"))\n",
    "    full_outpath = os.path.join(out_dir, f\"ses-{ses}\", \"func\", epi_stub_mcf)\n",
    "    mcflirt_cmd = f\"mcflirt -reffile {prf_ref_vol_path} -mats -plots -report -cost mutualinfo -smooth 16 -in {this_epi} -o {full_outpath}\"\n",
    "    print(mcflirt_cmd)\n",
    "    os.system(mcflirt_cmd)"
   ]
  },
  {
   "cell_type": "markdown",
   "metadata": {},
   "source": [
    "## Make brainmask from first run"
   ]
  },
  {
   "cell_type": "code",
   "execution_count": 7,
   "metadata": {},
   "outputs": [
    {
     "name": "stdout",
     "output_type": "stream",
     "text": [
      "/Users/smerdis/data/LGN/BIDS/LL_combined/derivatives/prf/sub-LL/sub-LL_ses-20210810_mask.nii.gz\r\n"
     ]
    }
   ],
   "source": [
    "!ls {prf_mask_file}"
   ]
  },
  {
   "cell_type": "code",
   "execution_count": 22,
   "metadata": {},
   "outputs": [
    {
     "name": "stdout",
     "output_type": "stream",
     "text": [
      "/Users/smerdis/data/LGN/BIDS/LL_combined/derivatives/prf/sub-LL/sub-LL_ses-20210810_mask.nii.gz (128, 128, 19)\n"
     ]
    }
   ],
   "source": [
    "prf_masker = NiftiMasker(detrend=False, standardize=False, mask_strategy=\"epi\", t_r=2.0)\n",
    "prf_masker.fit(mcf_bolds_prf[0])\n",
    "prf_masker.mask_img_.to_filename(prf_mask_file)\n",
    "prf_mask_img = prf_masker.mask_img_\n",
    "print(prf_mask_file, prf_mask_img.shape)"
   ]
  },
  {
   "cell_type": "markdown",
   "metadata": {},
   "source": [
    "## Read in, highpass filter, normalize to psc, and save"
   ]
  },
  {
   "cell_type": "code",
   "execution_count": null,
   "metadata": {},
   "outputs": [],
   "source": [
    "# m = NiftiMasker(mask_img=prf_mask_file, standardize='psc', detrend=True,\n",
    "#                 high_pass=0.02, t_r=2, mask_strategy='epi', verbose=1)\n",
    "# m = NiftiMasker(mask_img=prf_mask_file, standardize='psc', t_r=2,\n",
    "#                 verbose=1) # no highpass\n",
    "# preproc_desc = 'desc-preproc-nohighpass'\n",
    "m = NiftiMasker(mask_img=prf_mask_file, standardize=False, t_r=2, high_pass=0.02,\n",
    "                verbose=1) # highpass, no psc\n",
    "preproc_desc = 'desc-preproc-highpassnopsc'"
   ]
  },
  {
   "cell_type": "code",
   "execution_count": null,
   "metadata": {},
   "outputs": [],
   "source": [
    "for epi in mcf_bolds_prf:\n",
    "    preproc_fn = utils.change_bids_description(epi, preproc_desc)\n",
    "    print(preproc_fn)\n",
    "    preproc_func_dir = os.path.join(out_dir, f\"ses-{ses}\", \"func\")\n",
    "    if not os.path.isdir(preproc_func_dir):\n",
    "        os.mkdir(preproc_func_dir)\n",
    "    full_outpath = os.path.join(preproc_func_dir, preproc_fn)\n",
    "    preproc_data = m.fit_transform(epi)\n",
    "    preproc_img = m.inverse_transform(preproc_data)\n",
    "    print(full_outpath, preproc_img.shape)\n",
    "    preproc_img.to_filename(full_outpath)"
   ]
  },
  {
   "cell_type": "code",
   "execution_count": null,
   "metadata": {},
   "outputs": [],
   "source": [
    "!ls {preproc_func_dir}"
   ]
  },
  {
   "cell_type": "markdown",
   "metadata": {},
   "source": [
    "## Average"
   ]
  },
  {
   "cell_type": "code",
   "execution_count": null,
   "metadata": {},
   "outputs": [],
   "source": [
    "preproc_desc"
   ]
  },
  {
   "cell_type": "code",
   "execution_count": null,
   "metadata": {},
   "outputs": [],
   "source": [
    "preproc_bolds_prf = sorted([f for f in preproc_layout.get(subject=sub, session=ses, task='prf', suffix='bold',\n",
    "            extension=['nii'], return_type='file') if preproc_desc in f])\n",
    "print('\\n'.join(preproc_bolds_prf))"
   ]
  },
  {
   "cell_type": "code",
   "execution_count": null,
   "metadata": {},
   "outputs": [],
   "source": [
    "# have a look at the affine\n",
    "print(load_img(preproc_bolds_prf[0]).affine)"
   ]
  },
  {
   "cell_type": "code",
   "execution_count": null,
   "metadata": {
    "scrolled": true
   },
   "outputs": [],
   "source": [
    "prf_input_img = utils.make_timeseries_for_prf(preproc_bolds_prf)"
   ]
  },
  {
   "cell_type": "code",
   "execution_count": null,
   "metadata": {},
   "outputs": [],
   "source": [
    "prf_input_img.shape"
   ]
  },
  {
   "cell_type": "code",
   "execution_count": null,
   "metadata": {},
   "outputs": [],
   "source": [
    "nib.save(prf_input_img, \n",
    "         f\"{out_dir}/sub-{sub}_ses-{ses}_{preproc_desc}_mean_trim.nii\")"
   ]
  },
  {
   "cell_type": "markdown",
   "metadata": {},
   "source": [
    "## Try a different approach to see if this fixes prfs - just avg the motion-corrected runs, no conversion to % signal change, no highpass"
   ]
  },
  {
   "cell_type": "code",
   "execution_count": 55,
   "metadata": {},
   "outputs": [
    {
     "data": {
      "text/plain": [
       "['/Users/smerdis/data/LGN/BIDS/LL_combined/derivatives/prf/sub-LL/ses-20210810/func/sub-LL_ses-20210810_task-prf_run-02_desc-mcflirt_bold.nii.gz',\n",
       " '/Users/smerdis/data/LGN/BIDS/LL_combined/derivatives/prf/sub-LL/ses-20210810/func/sub-LL_ses-20210810_task-prf_run-04_desc-mcflirt_bold.nii.gz',\n",
       " '/Users/smerdis/data/LGN/BIDS/LL_combined/derivatives/prf/sub-LL/ses-20210810/func/sub-LL_ses-20210810_task-prf_run-06_desc-mcflirt_bold.nii.gz',\n",
       " '/Users/smerdis/data/LGN/BIDS/LL_combined/derivatives/prf/sub-LL/ses-20210810/func/sub-LL_ses-20210810_task-prf_run-08_desc-mcflirt_bold.nii.gz',\n",
       " '/Users/smerdis/data/LGN/BIDS/LL_combined/derivatives/prf/sub-LL/ses-20210810/func/sub-LL_ses-20210810_task-prf_run-10_desc-mcflirt_bold.nii.gz']"
      ]
     },
     "execution_count": 55,
     "metadata": {},
     "output_type": "execute_result"
    }
   ],
   "source": [
    "mcf_bolds_prf[1::2]"
   ]
  },
  {
   "cell_type": "code",
   "execution_count": 56,
   "metadata": {},
   "outputs": [
    {
     "name": "stdout",
     "output_type": "stream",
     "text": [
      "(128, 128, 19, 139)\n",
      "(128, 128, 19, 139)\n",
      "(128, 128, 19, 139)\n",
      "(128, 128, 19, 139)\n",
      "(128, 128, 19, 139)\n"
     ]
    }
   ],
   "source": [
    "prf_input_mcflirtonly = utils.make_timeseries_for_prf(mcf_bolds_prf[1::2]) # [::2] = odd runs = A stim\n",
    "nib.save(prf_input_mcflirtonly, \n",
    "         f\"{out_dir}/sub-{sub}_ses-{ses}_mcflirt_mean_trim_evenrunsonly.nii\")"
   ]
  },
  {
   "cell_type": "code",
   "execution_count": 62,
   "metadata": {},
   "outputs": [
    {
     "name": "stdout",
     "output_type": "stream",
     "text": [
      "data_type\tFLOAT64\r\n",
      "dim1\t\t128\r\n",
      "dim2\t\t128\r\n",
      "dim3\t\t19\r\n",
      "dim4\t\t138\r\n",
      "datatype\t64\r\n",
      "pixdim1\t\t1.750000\r\n",
      "pixdim2\t\t1.750000\r\n",
      "pixdim3\t\t1.750000\r\n",
      "pixdim4\t\t1.000000\r\n",
      "cal_max\t\t0.000000\r\n",
      "cal_min\t\t0.000000\r\n",
      "file_type\tNIFTI-1+\r\n"
     ]
    }
   ],
   "source": [
    "!fslinfo \"{out_dir}/sub-{sub}_ses-{ses}_mcflirt_mean_trim_oddrunsonly.nii\""
   ]
  },
  {
   "cell_type": "code",
   "execution_count": 66,
   "metadata": {},
   "outputs": [
    {
     "name": "stdout",
     "output_type": "stream",
     "text": [
      "data_type\tFLOAT64\r\n",
      "dim1\t\t128\r\n",
      "dim2\t\t128\r\n",
      "dim3\t\t19\r\n",
      "dim4\t\t138\r\n",
      "datatype\t64\r\n",
      "pixdim1\t\t1.750000\r\n",
      "pixdim2\t\t1.750000\r\n",
      "pixdim3\t\t1.750000\r\n",
      "pixdim4\t\t1.000000\r\n",
      "cal_max\t\t0.000000\r\n",
      "cal_min\t\t0.000000\r\n",
      "file_type\tNIFTI-1+\r\n"
     ]
    }
   ],
   "source": [
    "!fslinfo \"{out_dir}/sub-{sub}_ses-{ses}_mcflirt_mean_trim_evenrunsonly.nii\""
   ]
  },
  {
   "cell_type": "code",
   "execution_count": 67,
   "metadata": {},
   "outputs": [],
   "source": [
    "prf_input_concat = concat_imgs(\n",
    "    [f\"{out_dir}/sub-{sub}_ses-{ses}_mcflirt_mean_trim_oddrunsonly.nii\",\n",
    "    f\"{out_dir}/sub-{sub}_ses-{ses}_mcflirt_mean_trim_evenrunsonly.nii\"])"
   ]
  },
  {
   "cell_type": "code",
   "execution_count": 70,
   "metadata": {},
   "outputs": [
    {
     "data": {
      "text/plain": [
       "(128, 128, 19, 276)"
      ]
     },
     "execution_count": 70,
     "metadata": {},
     "output_type": "execute_result"
    }
   ],
   "source": [
    "prf_input_concat.shape"
   ]
  },
  {
   "cell_type": "code",
   "execution_count": 71,
   "metadata": {},
   "outputs": [],
   "source": [
    "nib.save(prf_input_concat, f\"{out_dir}/sub-{sub}_ses-{ses}_mcflirt_mean_trim_oddevenconcat.nii\")"
   ]
  },
  {
   "cell_type": "markdown",
   "metadata": {},
   "source": [
    "# Make cortical mask"
   ]
  },
  {
   "cell_type": "markdown",
   "metadata": {},
   "source": [
    "## Convert some freesurfer mgz files to nifti"
   ]
  },
  {
   "cell_type": "code",
   "execution_count": null,
   "metadata": {},
   "outputs": [],
   "source": [
    "ribbon_mgz = f\"{freesurfer_dir}/{sub}/mri/ribbon.mgz\"\n",
    "ribbon_nii = f\"{out_dir}/ribbon.nii.gz\"\n",
    "!ls {ribbon_mgz}"
   ]
  },
  {
   "cell_type": "code",
   "execution_count": null,
   "metadata": {},
   "outputs": [],
   "source": [
    "mriconv_cmd = f\"mri_convert --in_type mgz --out_type nii --out_orientation RAS \\\n",
    "{freesurfer_dir}/{sub}/mri/brain.mgz {out_dir}/brain.nii.gz\"\n",
    "print(mriconv_cmd)\n",
    "os.system(mriconv_cmd)\n",
    "mriconv_cmd = f\"mri_convert --in_type mgz --out_type nii --out_orientation RAS \\\n",
    "{freesurfer_dir}/{sub}/mri/wm.seg.mgz {out_dir}/wmseg.nii.gz\"\n",
    "print(mriconv_cmd)\n",
    "os.system(mriconv_cmd)\n",
    "mriconv_cmd = f\"mri_convert --in_type mgz --out_type nii --out_orientation RAS \\\n",
    "{ribbon_mgz} {ribbon_nii}\"\n",
    "print(mriconv_cmd)\n",
    "os.system(mriconv_cmd)"
   ]
  },
  {
   "cell_type": "markdown",
   "metadata": {},
   "source": [
    "## Use FLIRT to register func ref vol to anat, save transform"
   ]
  },
  {
   "cell_type": "code",
   "execution_count": null,
   "metadata": {},
   "outputs": [],
   "source": [
    "flirt_cmd = f\"flirt -in {prf_ref_vol_path} -ref {out_dir}/brain.nii.gz -wmseg \\\n",
    "{out_dir}/wmseg.nii.gz -dof 6 -omat {out_dir}/func2brain.mat \\\n",
    "-out {out_dir}/mb3refvol2t1\"\n",
    "print(flirt_cmd)\n",
    "os.system(flirt_cmd)"
   ]
  },
  {
   "cell_type": "code",
   "execution_count": null,
   "metadata": {},
   "outputs": [],
   "source": [
    "# # Register Dev's EPI to the anat and save it\n",
    "# flirt_cmd = f\"flirt -in {out_dir}/5_epi_retino.nii -ref {out_dir}/brain.nii.gz -wmseg \\\n",
    "# {out_dir}/wmseg.nii.gz -dof 6 -omat {out_dir}/func2brain_dev.mat \\\n",
    "# -out {out_dir}/devepi2t1\"\n",
    "# print(flirt_cmd)\n",
    "# os.system(flirt_cmd)"
   ]
  },
  {
   "cell_type": "markdown",
   "metadata": {},
   "source": [
    "## Invert the transform and save it"
   ]
  },
  {
   "cell_type": "code",
   "execution_count": null,
   "metadata": {},
   "outputs": [],
   "source": [
    "# For Dev's data\n",
    "# invxfm_cmd = f\"convert_xfm -omat {out_dir}/brain2func_dev.mat -inverse {out_dir}/func2brain_dev.mat\"\n",
    "# print(invxfm_cmd)\n",
    "# os.system(invxfm_cmd)"
   ]
  },
  {
   "cell_type": "code",
   "execution_count": null,
   "metadata": {},
   "outputs": [],
   "source": [
    "invxfm_cmd = f\"convert_xfm -omat {out_dir}/brain2func.mat -inverse {out_dir}/func2brain.mat\"\n",
    "print(invxfm_cmd)\n",
    "os.system(invxfm_cmd)"
   ]
  },
  {
   "cell_type": "markdown",
   "metadata": {},
   "source": [
    "## Apply inverse transform to convert freesurfer outputs to functional space"
   ]
  },
  {
   "cell_type": "code",
   "execution_count": null,
   "metadata": {},
   "outputs": [],
   "source": [
    "brain2func_cmd = f\"flirt -ref {prf_ref_vol_path} -in {out_dir}/brain.nii.gz -out {out_dir}/brain_funcspace.nii.gz \\\n",
    "-init {out_dir}/brain2func.mat -applyxfm\"\n",
    "print(brain2func_cmd)\n",
    "os.system(brain2func_cmd)"
   ]
  },
  {
   "cell_type": "code",
   "execution_count": null,
   "metadata": {},
   "outputs": [],
   "source": [
    "# For Dev's data\n",
    "# brain2func_cmd = f\"flirt -ref {out_dir}/5_epi_retino.nii -in {out_dir}/brain.nii.gz -out {out_dir}/brain_funcspace_dev.nii.gz \\\n",
    "# -init {out_dir}/brain2func_dev.mat -applyxfm\"\n",
    "# print(brain2func_cmd)\n",
    "# os.system(brain2func_cmd)"
   ]
  },
  {
   "cell_type": "markdown",
   "metadata": {},
   "source": [
    "## Load ribbon and extract cortex only"
   ]
  },
  {
   "cell_type": "code",
   "execution_count": null,
   "metadata": {},
   "outputs": [],
   "source": [
    "def make_func_parc_mask(ribbon_nii, parc_codes, out_fn):\n",
    "    ribbon_img = load_img(ribbon_nii)\n",
    "    ribbon_data = ribbon_img.get_fdata()\n",
    "    cortex_mask = np.zeros_like(ribbon_data)\n",
    "    print(np.count_nonzero(cortex_mask))\n",
    "    for c in parc_codes:\n",
    "        cortex_mask[ribbon_data==c] = 1\n",
    "    print(np.count_nonzero(cortex_mask))\n",
    "    cortex_mask_img = nib.Nifti1Image(cortex_mask, ribbon_img.affine)\n",
    "    nib.save(cortex_mask_img, out_fn)\n",
    "    cmd = f\"flirt -ref {prf_ref_vol_path} -in {out_fn} -out {out_fn}_funcspace.nii.gz -init {out_dir}/brain2func.mat -applyxfm\"\n",
    "    print(cmd)\n",
    "    os.system(cmd)"
   ]
  },
  {
   "cell_type": "code",
   "execution_count": null,
   "metadata": {},
   "outputs": [],
   "source": [
    "make_func_parc_mask(ribbon_nii, [3, 42], f\"{out_dir}/cortex_mask\")"
   ]
  },
  {
   "cell_type": "code",
   "execution_count": null,
   "metadata": {},
   "outputs": [],
   "source": [
    "make_func_parc_mask(ribbon_nii, [3], f\"{out_dir}/Lcortex_mask\")\n",
    "make_func_parc_mask(ribbon_nii, [42], f\"{out_dir}/Rcortex_mask\")"
   ]
  },
  {
   "cell_type": "code",
   "execution_count": null,
   "metadata": {},
   "outputs": [],
   "source": [
    "ribbon2func_cmd = f\"flirt -ref {prf_ref_vol_path} -in {out_dir}/ribbon.nii.gz -out {out_dir}/ribbon_funcspace.nii.gz \\\n",
    "-init {out_dir}/brain2func.mat -applyxfm\"\n",
    "print(ribbon2func_cmd)\n",
    "os.system(ribbon2func_cmd)"
   ]
  },
  {
   "cell_type": "code",
   "execution_count": null,
   "metadata": {},
   "outputs": [],
   "source": [
    "print(f\"fsleyes {anat_file} {out_dir}/wmseg.nii.gz {out_dir}/ribbon.nii.gz\")\n"
   ]
  },
  {
   "cell_type": "markdown",
   "metadata": {},
   "source": [
    "# Screenshots to make prfs better"
   ]
  },
  {
   "cell_type": "code",
   "execution_count": 73,
   "metadata": {},
   "outputs": [],
   "source": [
    "# sshots_dir = f\"{out_dir}/Screenshots\"\n",
    "# imlist = [\n",
    "#     f\"{sshots_dir}/Sc_1LLTest_A_001.png\",\n",
    "#     f\"{sshots_dir}/Sc_1LLTest_A_002.png\",\n",
    "#     f\"{sshots_dir}/Sc_1LLTest_A_003.png\",\n",
    "#     f\"{sshots_dir}/Sc_1LLTest_A_004.png\",\n",
    "#     f\"{sshots_dir}/Sc_1LLTest_A_005.png\",\n",
    "#     f\"{sshots_dir}/Sc_1LLTest_A_006.png\",\n",
    "#     f\"{sshots_dir}/Sc_1LLTest_A_007.png\",\n",
    "#     f\"{sshots_dir}/Blank.png\",\n",
    "#     f\"{sshots_dir}/Sc_1LLTest_A_008.png\",\n",
    "#     f\"{sshots_dir}/Sc_1LLTest_A_009.png\",\n",
    "#     f\"{sshots_dir}/Sc_1LLTest_A_010.png\",\n",
    "#     f\"{sshots_dir}/Sc_1LLTest_A_011.png\",\n",
    "#     f\"{sshots_dir}/Sc_1LLTest_A_012.png\",\n",
    "#     f\"{sshots_dir}/Sc_1LLTest_A_013.png\",\n",
    "#     f\"{sshots_dir}/Sc_1LLTest_A_014.png\",\n",
    "#     f\"{sshots_dir}/Blank.png\",\n",
    "#     f\"{sshots_dir}/Sc_1LLTest_A_015.png\",\n",
    "#     f\"{sshots_dir}/Sc_1LLTest_A_016.png\",\n",
    "#     f\"{sshots_dir}/Sc_1LLTest_A_017.png\",\n",
    "#     f\"{sshots_dir}/Sc_1LLTest_A_018.png\",\n",
    "#     f\"{sshots_dir}/Sc_1LLTest_A_019.png\",\n",
    "#     f\"{sshots_dir}/Sc_1LLTest_A_020.png\",\n",
    "#     f\"{sshots_dir}/Sc_1LLTest_A_021.png\",\n",
    "#     f\"{sshots_dir}/Blank.png\",\n",
    "#     f\"{sshots_dir}/Sc_1LLTest_A_022.png\",\n",
    "#     f\"{sshots_dir}/Sc_1LLTest_A_023.png\",\n",
    "#     f\"{sshots_dir}/Sc_1LLTest_A_024.png\",\n",
    "#     f\"{sshots_dir}/Sc_1LLTest_A_025.png\",\n",
    "#     f\"{sshots_dir}/Sc_1LLTest_A_026.png\",\n",
    "#     f\"{sshots_dir}/Sc_1LLTest_A_027.png\",\n",
    "#     f\"{sshots_dir}/Sc_1LLTest_A_028.png\",\n",
    "#     f\"{sshots_dir}/Blank.png\",\n",
    "#     f\"{sshots_dir}/Sc_1LLTest_A_029.png\",\n",
    "#     f\"{sshots_dir}/Sc_1LLTest_A_030.png\",\n",
    "#     f\"{sshots_dir}/Sc_1LLTest_A_031.png\",\n",
    "#     f\"{sshots_dir}/Sc_1LLTest_A_032.png\",\n",
    "#     f\"{sshots_dir}/Sc_1LLTest_A_033.png\",\n",
    "#     f\"{sshots_dir}/Sc_1LLTest_A_034.png\",\n",
    "#     f\"{sshots_dir}/Sc_1LLTest_A_035.png\",\n",
    "#     f\"{sshots_dir}/Blank.png\",\n",
    "#     f\"{sshots_dir}/Sc_1LLTest_A_036.png\",\n",
    "#     f\"{sshots_dir}/Sc_1LLTest_A_037.png\",\n",
    "#     f\"{sshots_dir}/Sc_1LLTest_A_038.png\",\n",
    "#     f\"{sshots_dir}/Sc_1LLTest_A_039.png\",\n",
    "#     f\"{sshots_dir}/Sc_1LLTest_A_040.png\",\n",
    "#     f\"{sshots_dir}/Sc_1LLTest_A_041.png\",\n",
    "#     f\"{sshots_dir}/Sc_1LLTest_A_042.png\",\n",
    "#     f\"{sshots_dir}/Blank.png\",\n",
    "#     f\"{sshots_dir}/Sc_1LLTest_A_043.png\",\n",
    "#     f\"{sshots_dir}/Sc_1LLTest_A_044.png\",\n",
    "#     f\"{sshots_dir}/Sc_1LLTest_A_045.png\",\n",
    "#     f\"{sshots_dir}/Sc_1LLTest_A_046.png\",\n",
    "#     f\"{sshots_dir}/Sc_1LLTest_A_047.png\",\n",
    "#     f\"{sshots_dir}/Sc_1LLTest_A_048.png\",\n",
    "#     f\"{sshots_dir}/Sc_1LLTest_A_049.png\",\n",
    "#     f\"{sshots_dir}/Blank.png\",\n",
    "#     f\"{sshots_dir}/Sc_1LLTest_A_050.png\",\n",
    "#     f\"{sshots_dir}/Sc_1LLTest_A_051.png\",\n",
    "#     f\"{sshots_dir}/Sc_1LLTest_A_052.png\",\n",
    "#     f\"{sshots_dir}/Sc_1LLTest_A_053.png\",\n",
    "#     f\"{sshots_dir}/Sc_1LLTest_A_054.png\",\n",
    "#     f\"{sshots_dir}/Sc_1LLTest_A_055.png\",\n",
    "#     f\"{sshots_dir}/Sc_1LLTest_A_056.png\",\n",
    "#     f\"{sshots_dir}/Blank.png\",\n",
    "#     f\"{sshots_dir}/Sc_1LLTest_A_057.png\",\n",
    "#     f\"{sshots_dir}/Sc_1LLTest_A_058.png\",\n",
    "#     f\"{sshots_dir}/Sc_1LLTest_A_059.png\",\n",
    "#     f\"{sshots_dir}/Sc_1LLTest_A_060.png\",\n",
    "#     f\"{sshots_dir}/Sc_1LLTest_A_061.png\",\n",
    "#     f\"{sshots_dir}/Sc_1LLTest_A_062.png\",\n",
    "#     f\"{sshots_dir}/Sc_1LLTest_A_063.png\",\n",
    "#     f\"{sshots_dir}/Blank.png\",\n",
    "#     f\"{sshots_dir}/Sc_1LLTest_A_064.png\",\n",
    "#     f\"{sshots_dir}/Sc_1LLTest_A_065.png\",\n",
    "#     f\"{sshots_dir}/Sc_1LLTest_A_066.png\",\n",
    "#     f\"{sshots_dir}/Sc_1LLTest_A_067.png\",\n",
    "#     f\"{sshots_dir}/Sc_1LLTest_A_068.png\",\n",
    "#     f\"{sshots_dir}/Sc_1LLTest_A_069.png\",\n",
    "#     f\"{sshots_dir}/Sc_1LLTest_A_070.png\",\n",
    "#     f\"{sshots_dir}/Blank.png\",\n",
    "#     f\"{sshots_dir}/Sc_1LLTest_A_072.png\",\n",
    "#     f\"{sshots_dir}/Sc_1LLTest_A_073.png\",\n",
    "#     f\"{sshots_dir}/Sc_1LLTest_A_074.png\",\n",
    "#     f\"{sshots_dir}/Sc_1LLTest_A_075.png\",\n",
    "#     f\"{sshots_dir}/Sc_1LLTest_A_076.png\",\n",
    "#     f\"{sshots_dir}/Sc_1LLTest_A_077.png\",\n",
    "#     f\"{sshots_dir}/Sc_1LLTest_A_078.png\",\n",
    "#     f\"{sshots_dir}/Blank.png\",\n",
    "#     f\"{sshots_dir}/Sc_1LLTest_A_080.png\",\n",
    "#     f\"{sshots_dir}/Sc_1LLTest_A_081.png\",\n",
    "#     f\"{sshots_dir}/Sc_1LLTest_A_082.png\",\n",
    "#     f\"{sshots_dir}/Sc_1LLTest_A_083.png\",\n",
    "#     f\"{sshots_dir}/Sc_1LLTest_A_084.png\",\n",
    "#     f\"{sshots_dir}/Sc_1LLTest_A_085.png\",\n",
    "#     f\"{sshots_dir}/Sc_1LLTest_A_086.png\",\n",
    "#     f\"{sshots_dir}/Blank.png\",\n",
    "#     f\"{sshots_dir}/Sc_1LLTest_A_087.png\",\n",
    "#     f\"{sshots_dir}/Sc_1LLTest_A_088.png\",\n",
    "#     f\"{sshots_dir}/Sc_1LLTest_A_089.png\",\n",
    "#     f\"{sshots_dir}/Sc_1LLTest_A_090.png\",\n",
    "#     f\"{sshots_dir}/Sc_1LLTest_A_091.png\",\n",
    "#     f\"{sshots_dir}/Sc_1LLTest_A_092.png\",\n",
    "#     f\"{sshots_dir}/Sc_1LLTest_A_093.png\",\n",
    "#     f\"{sshots_dir}/Blank.png\",\n",
    "#     f\"{sshots_dir}/Sc_1LLTest_A_094.png\",\n",
    "#     f\"{sshots_dir}/Sc_1LLTest_A_095.png\",\n",
    "#     f\"{sshots_dir}/Sc_1LLTest_A_096.png\",\n",
    "#     f\"{sshots_dir}/Sc_1LLTest_A_097.png\",\n",
    "#     f\"{sshots_dir}/Sc_1LLTest_A_098.png\",\n",
    "#     f\"{sshots_dir}/Sc_1LLTest_A_099.png\",\n",
    "#     f\"{sshots_dir}/Sc_1LLTest_A_100.png\",\n",
    "#     f\"{sshots_dir}/Blank.png\",\n",
    "#     f\"{sshots_dir}/Sc_1LLTest_A_101.png\",\n",
    "#     f\"{sshots_dir}/Sc_1LLTest_A_102.png\",\n",
    "#     f\"{sshots_dir}/Sc_1LLTest_A_103.png\",\n",
    "#     f\"{sshots_dir}/Sc_1LLTest_A_104.png\",\n",
    "#     f\"{sshots_dir}/Sc_1LLTest_A_105.png\",\n",
    "#     f\"{sshots_dir}/Sc_1LLTest_A_106.png\",\n",
    "#     f\"{sshots_dir}/Sc_1LLTest_A_107.png\",\n",
    "#     f\"{sshots_dir}/Blank.png\",\n",
    "#     f\"{sshots_dir}/Sc_1LLTest_A_108.png\",\n",
    "#     f\"{sshots_dir}/Sc_1LLTest_A_109.png\",\n",
    "#     f\"{sshots_dir}/Sc_1LLTest_A_110.png\",\n",
    "#     f\"{sshots_dir}/Sc_1LLTest_A_111.png\",\n",
    "#     f\"{sshots_dir}/Sc_1LLTest_A_112.png\",\n",
    "#     f\"{sshots_dir}/Sc_1LLTest_A_113.png\",\n",
    "#     f\"{sshots_dir}/Sc_1LLTest_A_114.png\",\n",
    "#     f\"{sshots_dir}/Blank.png\",\n",
    "# ]"
   ]
  },
  {
   "cell_type": "code",
   "execution_count": 79,
   "metadata": {},
   "outputs": [],
   "source": [
    "imlist = [\n",
    "    f\"{sshots_dir}/Sc_1LLTest_B_001.png\",\n",
    "    f\"{sshots_dir}/Sc_1LLTest_B_002.png\",\n",
    "    f\"{sshots_dir}/Sc_1LLTest_B_003.png\",\n",
    "    f\"{sshots_dir}/Sc_1LLTest_B_004.png\",\n",
    "    f\"{sshots_dir}/Sc_1LLTest_B_005.png\",\n",
    "    f\"{sshots_dir}/Sc_1LLTest_B_006.png\",\n",
    "    f\"{sshots_dir}/Sc_1LLTest_B_007.png\",\n",
    "    f\"{sshots_dir}/Blank.png\",\n",
    "    f\"{sshots_dir}/Sc_1LLTest_B_008.png\",\n",
    "    f\"{sshots_dir}/Sc_1LLTest_B_009.png\",\n",
    "    f\"{sshots_dir}/Sc_1LLTest_B_010.png\",\n",
    "    f\"{sshots_dir}/Sc_1LLTest_B_011.png\",\n",
    "    f\"{sshots_dir}/Sc_1LLTest_B_012.png\",\n",
    "    f\"{sshots_dir}/Sc_1LLTest_B_013.png\",\n",
    "    f\"{sshots_dir}/Sc_1LLTest_B_014.png\",\n",
    "    f\"{sshots_dir}/Blank.png\",\n",
    "    f\"{sshots_dir}/Sc_1LLTest_B_015.png\",\n",
    "    f\"{sshots_dir}/Sc_1LLTest_B_016.png\",\n",
    "    f\"{sshots_dir}/Sc_1LLTest_B_017.png\",\n",
    "    f\"{sshots_dir}/Sc_1LLTest_B_018.png\",\n",
    "    f\"{sshots_dir}/Sc_1LLTest_B_019.png\",\n",
    "    f\"{sshots_dir}/Sc_1LLTest_B_020.png\",\n",
    "    f\"{sshots_dir}/Sc_1LLTest_B_021.png\",\n",
    "    f\"{sshots_dir}/Blank.png\",\n",
    "    f\"{sshots_dir}/Sc_1LLTest_B_022.png\",\n",
    "    f\"{sshots_dir}/Sc_1LLTest_B_023.png\",\n",
    "    f\"{sshots_dir}/Sc_1LLTest_B_024.png\",\n",
    "    f\"{sshots_dir}/Sc_1LLTest_B_025.png\",\n",
    "    f\"{sshots_dir}/Sc_1LLTest_B_026.png\",\n",
    "    f\"{sshots_dir}/Sc_1LLTest_B_027.png\",\n",
    "    f\"{sshots_dir}/Sc_1LLTest_B_028.png\",\n",
    "    f\"{sshots_dir}/Blank.png\",\n",
    "    f\"{sshots_dir}/Sc_1LLTest_B_029.png\",\n",
    "    f\"{sshots_dir}/Sc_1LLTest_B_030.png\",\n",
    "    f\"{sshots_dir}/Sc_1LLTest_B_031.png\",\n",
    "    f\"{sshots_dir}/Sc_1LLTest_B_032.png\",\n",
    "    f\"{sshots_dir}/Sc_1LLTest_B_033.png\",\n",
    "    f\"{sshots_dir}/Sc_1LLTest_B_034.png\",\n",
    "    f\"{sshots_dir}/Sc_1LLTest_B_035.png\",\n",
    "    f\"{sshots_dir}/Blank.png\",\n",
    "    f\"{sshots_dir}/Sc_1LLTest_B_036.png\",\n",
    "    f\"{sshots_dir}/Sc_1LLTest_B_037.png\",\n",
    "    f\"{sshots_dir}/Sc_1LLTest_B_038.png\",\n",
    "    f\"{sshots_dir}/Sc_1LLTest_B_039.png\",\n",
    "    f\"{sshots_dir}/Sc_1LLTest_B_040.png\",\n",
    "    f\"{sshots_dir}/Sc_1LLTest_B_041.png\",\n",
    "    f\"{sshots_dir}/Sc_1LLTest_B_042.png\",\n",
    "    f\"{sshots_dir}/Blank.png\",\n",
    "    f\"{sshots_dir}/Sc_1LLTest_B_043.png\",\n",
    "    f\"{sshots_dir}/Sc_1LLTest_B_044.png\",\n",
    "    f\"{sshots_dir}/Sc_1LLTest_B_045.png\",\n",
    "    f\"{sshots_dir}/Sc_1LLTest_B_046.png\",\n",
    "    f\"{sshots_dir}/Sc_1LLTest_B_047.png\",\n",
    "    f\"{sshots_dir}/Sc_1LLTest_B_048.png\",\n",
    "    f\"{sshots_dir}/Sc_1LLTest_B_049.png\",\n",
    "    f\"{sshots_dir}/Blank.png\",\n",
    "    f\"{sshots_dir}/Sc_1LLTest_B_050.png\",\n",
    "    f\"{sshots_dir}/Sc_1LLTest_B_051.png\",\n",
    "    f\"{sshots_dir}/Sc_1LLTest_B_052.png\",\n",
    "    f\"{sshots_dir}/Sc_1LLTest_B_053.png\",\n",
    "    f\"{sshots_dir}/Sc_1LLTest_B_054.png\",\n",
    "    f\"{sshots_dir}/Sc_1LLTest_B_055.png\",\n",
    "    f\"{sshots_dir}/Sc_1LLTest_B_056.png\",\n",
    "    f\"{sshots_dir}/Blank.png\",\n",
    "    f\"{sshots_dir}/Sc_1LLTest_B_057.png\",\n",
    "    f\"{sshots_dir}/Sc_1LLTest_B_058.png\",\n",
    "    f\"{sshots_dir}/Sc_1LLTest_B_059.png\",\n",
    "    f\"{sshots_dir}/Sc_1LLTest_B_060.png\",\n",
    "    f\"{sshots_dir}/Sc_1LLTest_B_061.png\",\n",
    "    f\"{sshots_dir}/Sc_1LLTest_B_062.png\",\n",
    "    f\"{sshots_dir}/Sc_1LLTest_B_063.png\",\n",
    "    f\"{sshots_dir}/Blank.png\",\n",
    "    f\"{sshots_dir}/Sc_1LLTest_B_064.png\",\n",
    "    f\"{sshots_dir}/Sc_1LLTest_B_065.png\",\n",
    "    f\"{sshots_dir}/Sc_1LLTest_B_066.png\",\n",
    "    f\"{sshots_dir}/Sc_1LLTest_B_067.png\",\n",
    "    f\"{sshots_dir}/Sc_1LLTest_B_068.png\",\n",
    "    f\"{sshots_dir}/Sc_1LLTest_B_069.png\",\n",
    "    f\"{sshots_dir}/Sc_1LLTest_B_070.png\",\n",
    "    f\"{sshots_dir}/Blank.png\",\n",
    "    f\"{sshots_dir}/Sc_1LLTest_B_071.png\",\n",
    "    f\"{sshots_dir}/Sc_1LLTest_B_072.png\",\n",
    "    f\"{sshots_dir}/Sc_1LLTest_B_073.png\",\n",
    "    f\"{sshots_dir}/Sc_1LLTest_B_074.png\",\n",
    "    f\"{sshots_dir}/Sc_1LLTest_B_075.png\",\n",
    "    f\"{sshots_dir}/Sc_1LLTest_B_076.png\",\n",
    "    f\"{sshots_dir}/Sc_1LLTest_B_077.png\",\n",
    "    f\"{sshots_dir}/Blank.png\",\n",
    "    f\"{sshots_dir}/Sc_1LLTest_B_078.png\",\n",
    "    f\"{sshots_dir}/Sc_1LLTest_B_079.png\",\n",
    "    f\"{sshots_dir}/Sc_1LLTest_B_080.png\",\n",
    "    f\"{sshots_dir}/Sc_1LLTest_B_081.png\",\n",
    "    f\"{sshots_dir}/Sc_1LLTest_B_082.png\",\n",
    "    f\"{sshots_dir}/Sc_1LLTest_B_083.png\",\n",
    "    f\"{sshots_dir}/Sc_1LLTest_B_084.png\",\n",
    "    f\"{sshots_dir}/Blank.png\",\n",
    "    f\"{sshots_dir}/Sc_1LLTest_B_085.png\",\n",
    "    f\"{sshots_dir}/Sc_1LLTest_B_086.png\",\n",
    "    f\"{sshots_dir}/Sc_1LLTest_B_087.png\",\n",
    "    f\"{sshots_dir}/Sc_1LLTest_B_088.png\",\n",
    "    f\"{sshots_dir}/Sc_1LLTest_B_089.png\",\n",
    "    f\"{sshots_dir}/Sc_1LLTest_B_090.png\",\n",
    "    f\"{sshots_dir}/Sc_1LLTest_B_091.png\",\n",
    "    f\"{sshots_dir}/Blank.png\",\n",
    "    f\"{sshots_dir}/Sc_1LLTest_B_092.png\",\n",
    "    f\"{sshots_dir}/Sc_1LLTest_B_093.png\",\n",
    "    f\"{sshots_dir}/Sc_1LLTest_B_094.png\",\n",
    "    f\"{sshots_dir}/Sc_1LLTest_B_095.png\",\n",
    "    f\"{sshots_dir}/Sc_1LLTest_B_096.png\",\n",
    "    f\"{sshots_dir}/Sc_1LLTest_B_097.png\",\n",
    "    f\"{sshots_dir}/Sc_1LLTest_B_098.png\",\n",
    "    f\"{sshots_dir}/Blank.png\",\n",
    "    f\"{sshots_dir}/Sc_1LLTest_B_099.png\",\n",
    "    f\"{sshots_dir}/Sc_1LLTest_B_100.png\",\n",
    "    f\"{sshots_dir}/Sc_1LLTest_B_101.png\",\n",
    "    f\"{sshots_dir}/Sc_1LLTest_B_102.png\",\n",
    "    f\"{sshots_dir}/Sc_1LLTest_B_103.png\",\n",
    "    f\"{sshots_dir}/Sc_1LLTest_B_104.png\",\n",
    "    f\"{sshots_dir}/Sc_1LLTest_B_105.png\",\n",
    "    f\"{sshots_dir}/Blank.png\",\n",
    "    f\"{sshots_dir}/Sc_1LLTest_B_106.png\",\n",
    "    f\"{sshots_dir}/Sc_1LLTest_B_107.png\",\n",
    "    f\"{sshots_dir}/Sc_1LLTest_B_108.png\",\n",
    "    f\"{sshots_dir}/Sc_1LLTest_B_109.png\",\n",
    "    f\"{sshots_dir}/Sc_1LLTest_B_110.png\",\n",
    "    f\"{sshots_dir}/Sc_1LLTest_B_111.png\",\n",
    "    f\"{sshots_dir}/Sc_1LLTest_B_112.png\",\n",
    "    f\"{sshots_dir}/Blank.png\",\n",
    "]"
   ]
  },
  {
   "cell_type": "code",
   "execution_count": 80,
   "metadata": {},
   "outputs": [
    {
     "data": {
      "text/plain": [
       "128"
      ]
     },
     "execution_count": 80,
     "metadata": {},
     "output_type": "execute_result"
    }
   ],
   "source": [
    "len(imlist)"
   ]
  },
  {
   "cell_type": "code",
   "execution_count": 81,
   "metadata": {},
   "outputs": [],
   "source": [
    "save_dir = sshots_dir"
   ]
  },
  {
   "cell_type": "code",
   "execution_count": 82,
   "metadata": {},
   "outputs": [],
   "source": [
    "for i in range(len(imlist)):\n",
    "    im = Image.open(imlist[i])\n",
    "    if 'Blank' in imlist[i]:\n",
    "        if \"_A_\" in imlist[0]:\n",
    "            fn = f\"{save_dir}/screen_A_{i+1:03d}.png\"\n",
    "        elif \"_B_\" in imlist[0]:\n",
    "            fn = f\"{save_dir}/screen_B_{i+1:03d}.png\"\n",
    "        im.save(fn,'PNG')\n",
    "    else:\n",
    "        im_mat = np.array(im)\n",
    "        im_mat[im_mat[:,:,0] != 128] = 0\n",
    "        im_mat[im_mat[:,:,1] != 128] = 0\n",
    "        im_mat[im_mat[:,:,2] != 128] = 0\n",
    "        #plt.imshow(im_mat)\n",
    "        im_mat[im_mat[:,:,0] == 128] = -1\n",
    "        im_mat[im_mat[:,:,1] == 128] = -1\n",
    "        im_mat[im_mat[:,:,2] == 128] = -1\n",
    "        #plt.imshow(im_mat)\n",
    "        img2ar = Image.fromarray(im_mat.astype('uint8'), 'RGB')\n",
    "        if \"_A_\" in imlist[i]:\n",
    "            fn = f\"{save_dir}/screen_A_{i+1:03d}.png\"\n",
    "        elif \"_B_\" in imlist[i]:\n",
    "            fn = f\"{save_dir}/screen_B_{i+1:03d}.png\"\n",
    "        img2ar.save(fn,'PNG')\n",
    "\n",
    "\n",
    "#This will make the images but you should go over them individually to make sure that there are no stray pixels..else it will mess you pRF models\n",
    "# The manual editing is required because of the complex visual stimuli."
   ]
  },
  {
   "cell_type": "code",
   "execution_count": 51,
   "metadata": {},
   "outputs": [],
   "source": [
    "# #edited_sshots_dir = f\"{out_dir}/edited-screenshots\"\n",
    "# for i, s in enumerate(sorted(glob.glob(f\"{save_dir}/screen*.png\"))):\n",
    "#     print(i, s)\n",
    "#     im = Image.open(s)\n",
    "#     im.save(f\"{sshots_dir}/screen{i+65:03d}.png\")"
   ]
  },
  {
   "cell_type": "code",
   "execution_count": 83,
   "metadata": {},
   "outputs": [
    {
     "name": "stdout",
     "output_type": "stream",
     "text": [
      "128 138\n",
      "128 276\n"
     ]
    }
   ],
   "source": [
    "concat_sshot_list = []\n",
    "for part in [\"A\", \"B\"]:\n",
    "    img_list = sorted(glob.glob(f\"{save_dir}/screen_{part}_*.png\"))\n",
    "    blanks_to_pad = 138-len(img_list)\n",
    "    img_list.extend([img_list[-1]] * blanks_to_pad)\n",
    "    concat_sshot_list.extend(img_list)\n",
    "    print(len(imlist), len(concat_sshot_list))\n"
   ]
  },
  {
   "cell_type": "code",
   "execution_count": 84,
   "metadata": {
    "scrolled": false
   },
   "outputs": [
    {
     "name": "stdout",
     "output_type": "stream",
     "text": [
      "/Users/smerdis/data/LGN/BIDS/LL_combined/derivatives/prf/sub-LL/Screenshots/screen_A_001.png\n",
      "/Users/smerdis/data/LGN/BIDS/LL_combined/derivatives/prf/sub-LL/Screenshots/screen_A_002.png\n",
      "/Users/smerdis/data/LGN/BIDS/LL_combined/derivatives/prf/sub-LL/Screenshots/screen_A_003.png\n",
      "/Users/smerdis/data/LGN/BIDS/LL_combined/derivatives/prf/sub-LL/Screenshots/screen_A_004.png\n",
      "/Users/smerdis/data/LGN/BIDS/LL_combined/derivatives/prf/sub-LL/Screenshots/screen_A_005.png\n",
      "/Users/smerdis/data/LGN/BIDS/LL_combined/derivatives/prf/sub-LL/Screenshots/screen_A_006.png\n",
      "/Users/smerdis/data/LGN/BIDS/LL_combined/derivatives/prf/sub-LL/Screenshots/screen_A_007.png\n",
      "/Users/smerdis/data/LGN/BIDS/LL_combined/derivatives/prf/sub-LL/Screenshots/screen_A_008.png\n",
      "/Users/smerdis/data/LGN/BIDS/LL_combined/derivatives/prf/sub-LL/Screenshots/screen_A_009.png\n",
      "/Users/smerdis/data/LGN/BIDS/LL_combined/derivatives/prf/sub-LL/Screenshots/screen_A_010.png\n",
      "/Users/smerdis/data/LGN/BIDS/LL_combined/derivatives/prf/sub-LL/Screenshots/screen_A_011.png\n",
      "/Users/smerdis/data/LGN/BIDS/LL_combined/derivatives/prf/sub-LL/Screenshots/screen_A_012.png\n",
      "/Users/smerdis/data/LGN/BIDS/LL_combined/derivatives/prf/sub-LL/Screenshots/screen_A_013.png\n",
      "/Users/smerdis/data/LGN/BIDS/LL_combined/derivatives/prf/sub-LL/Screenshots/screen_A_014.png\n",
      "/Users/smerdis/data/LGN/BIDS/LL_combined/derivatives/prf/sub-LL/Screenshots/screen_A_015.png\n",
      "/Users/smerdis/data/LGN/BIDS/LL_combined/derivatives/prf/sub-LL/Screenshots/screen_A_016.png\n",
      "/Users/smerdis/data/LGN/BIDS/LL_combined/derivatives/prf/sub-LL/Screenshots/screen_A_017.png\n",
      "/Users/smerdis/data/LGN/BIDS/LL_combined/derivatives/prf/sub-LL/Screenshots/screen_A_018.png\n",
      "/Users/smerdis/data/LGN/BIDS/LL_combined/derivatives/prf/sub-LL/Screenshots/screen_A_019.png\n",
      "/Users/smerdis/data/LGN/BIDS/LL_combined/derivatives/prf/sub-LL/Screenshots/screen_A_020.png\n",
      "/Users/smerdis/data/LGN/BIDS/LL_combined/derivatives/prf/sub-LL/Screenshots/screen_A_021.png\n",
      "/Users/smerdis/data/LGN/BIDS/LL_combined/derivatives/prf/sub-LL/Screenshots/screen_A_022.png\n",
      "/Users/smerdis/data/LGN/BIDS/LL_combined/derivatives/prf/sub-LL/Screenshots/screen_A_023.png\n",
      "/Users/smerdis/data/LGN/BIDS/LL_combined/derivatives/prf/sub-LL/Screenshots/screen_A_024.png\n",
      "/Users/smerdis/data/LGN/BIDS/LL_combined/derivatives/prf/sub-LL/Screenshots/screen_A_025.png\n",
      "/Users/smerdis/data/LGN/BIDS/LL_combined/derivatives/prf/sub-LL/Screenshots/screen_A_026.png\n",
      "/Users/smerdis/data/LGN/BIDS/LL_combined/derivatives/prf/sub-LL/Screenshots/screen_A_027.png\n",
      "/Users/smerdis/data/LGN/BIDS/LL_combined/derivatives/prf/sub-LL/Screenshots/screen_A_028.png\n",
      "/Users/smerdis/data/LGN/BIDS/LL_combined/derivatives/prf/sub-LL/Screenshots/screen_A_029.png\n",
      "/Users/smerdis/data/LGN/BIDS/LL_combined/derivatives/prf/sub-LL/Screenshots/screen_A_030.png\n",
      "/Users/smerdis/data/LGN/BIDS/LL_combined/derivatives/prf/sub-LL/Screenshots/screen_A_031.png\n",
      "/Users/smerdis/data/LGN/BIDS/LL_combined/derivatives/prf/sub-LL/Screenshots/screen_A_032.png\n",
      "/Users/smerdis/data/LGN/BIDS/LL_combined/derivatives/prf/sub-LL/Screenshots/screen_A_033.png\n",
      "/Users/smerdis/data/LGN/BIDS/LL_combined/derivatives/prf/sub-LL/Screenshots/screen_A_034.png\n",
      "/Users/smerdis/data/LGN/BIDS/LL_combined/derivatives/prf/sub-LL/Screenshots/screen_A_035.png\n",
      "/Users/smerdis/data/LGN/BIDS/LL_combined/derivatives/prf/sub-LL/Screenshots/screen_A_036.png\n",
      "/Users/smerdis/data/LGN/BIDS/LL_combined/derivatives/prf/sub-LL/Screenshots/screen_A_037.png\n",
      "/Users/smerdis/data/LGN/BIDS/LL_combined/derivatives/prf/sub-LL/Screenshots/screen_A_038.png\n",
      "/Users/smerdis/data/LGN/BIDS/LL_combined/derivatives/prf/sub-LL/Screenshots/screen_A_039.png\n",
      "/Users/smerdis/data/LGN/BIDS/LL_combined/derivatives/prf/sub-LL/Screenshots/screen_A_040.png\n",
      "/Users/smerdis/data/LGN/BIDS/LL_combined/derivatives/prf/sub-LL/Screenshots/screen_A_041.png\n",
      "/Users/smerdis/data/LGN/BIDS/LL_combined/derivatives/prf/sub-LL/Screenshots/screen_A_042.png\n",
      "/Users/smerdis/data/LGN/BIDS/LL_combined/derivatives/prf/sub-LL/Screenshots/screen_A_043.png\n",
      "/Users/smerdis/data/LGN/BIDS/LL_combined/derivatives/prf/sub-LL/Screenshots/screen_A_044.png\n",
      "/Users/smerdis/data/LGN/BIDS/LL_combined/derivatives/prf/sub-LL/Screenshots/screen_A_045.png\n",
      "/Users/smerdis/data/LGN/BIDS/LL_combined/derivatives/prf/sub-LL/Screenshots/screen_A_046.png\n",
      "/Users/smerdis/data/LGN/BIDS/LL_combined/derivatives/prf/sub-LL/Screenshots/screen_A_047.png\n",
      "/Users/smerdis/data/LGN/BIDS/LL_combined/derivatives/prf/sub-LL/Screenshots/screen_A_048.png\n",
      "/Users/smerdis/data/LGN/BIDS/LL_combined/derivatives/prf/sub-LL/Screenshots/screen_A_049.png\n",
      "/Users/smerdis/data/LGN/BIDS/LL_combined/derivatives/prf/sub-LL/Screenshots/screen_A_050.png\n",
      "/Users/smerdis/data/LGN/BIDS/LL_combined/derivatives/prf/sub-LL/Screenshots/screen_A_051.png\n",
      "/Users/smerdis/data/LGN/BIDS/LL_combined/derivatives/prf/sub-LL/Screenshots/screen_A_052.png\n",
      "/Users/smerdis/data/LGN/BIDS/LL_combined/derivatives/prf/sub-LL/Screenshots/screen_A_053.png\n",
      "/Users/smerdis/data/LGN/BIDS/LL_combined/derivatives/prf/sub-LL/Screenshots/screen_A_054.png\n",
      "/Users/smerdis/data/LGN/BIDS/LL_combined/derivatives/prf/sub-LL/Screenshots/screen_A_055.png\n",
      "/Users/smerdis/data/LGN/BIDS/LL_combined/derivatives/prf/sub-LL/Screenshots/screen_A_056.png\n",
      "/Users/smerdis/data/LGN/BIDS/LL_combined/derivatives/prf/sub-LL/Screenshots/screen_A_057.png\n",
      "/Users/smerdis/data/LGN/BIDS/LL_combined/derivatives/prf/sub-LL/Screenshots/screen_A_058.png\n",
      "/Users/smerdis/data/LGN/BIDS/LL_combined/derivatives/prf/sub-LL/Screenshots/screen_A_059.png\n",
      "/Users/smerdis/data/LGN/BIDS/LL_combined/derivatives/prf/sub-LL/Screenshots/screen_A_060.png\n",
      "/Users/smerdis/data/LGN/BIDS/LL_combined/derivatives/prf/sub-LL/Screenshots/screen_A_061.png\n",
      "/Users/smerdis/data/LGN/BIDS/LL_combined/derivatives/prf/sub-LL/Screenshots/screen_A_062.png\n",
      "/Users/smerdis/data/LGN/BIDS/LL_combined/derivatives/prf/sub-LL/Screenshots/screen_A_063.png\n",
      "/Users/smerdis/data/LGN/BIDS/LL_combined/derivatives/prf/sub-LL/Screenshots/screen_A_064.png\n",
      "/Users/smerdis/data/LGN/BIDS/LL_combined/derivatives/prf/sub-LL/Screenshots/screen_A_065.png\n",
      "/Users/smerdis/data/LGN/BIDS/LL_combined/derivatives/prf/sub-LL/Screenshots/screen_A_066.png\n",
      "/Users/smerdis/data/LGN/BIDS/LL_combined/derivatives/prf/sub-LL/Screenshots/screen_A_067.png\n",
      "/Users/smerdis/data/LGN/BIDS/LL_combined/derivatives/prf/sub-LL/Screenshots/screen_A_068.png\n",
      "/Users/smerdis/data/LGN/BIDS/LL_combined/derivatives/prf/sub-LL/Screenshots/screen_A_069.png\n",
      "/Users/smerdis/data/LGN/BIDS/LL_combined/derivatives/prf/sub-LL/Screenshots/screen_A_070.png\n",
      "/Users/smerdis/data/LGN/BIDS/LL_combined/derivatives/prf/sub-LL/Screenshots/screen_A_071.png\n",
      "/Users/smerdis/data/LGN/BIDS/LL_combined/derivatives/prf/sub-LL/Screenshots/screen_A_072.png\n",
      "/Users/smerdis/data/LGN/BIDS/LL_combined/derivatives/prf/sub-LL/Screenshots/screen_A_073.png\n",
      "/Users/smerdis/data/LGN/BIDS/LL_combined/derivatives/prf/sub-LL/Screenshots/screen_A_074.png\n",
      "/Users/smerdis/data/LGN/BIDS/LL_combined/derivatives/prf/sub-LL/Screenshots/screen_A_075.png\n",
      "/Users/smerdis/data/LGN/BIDS/LL_combined/derivatives/prf/sub-LL/Screenshots/screen_A_076.png\n",
      "/Users/smerdis/data/LGN/BIDS/LL_combined/derivatives/prf/sub-LL/Screenshots/screen_A_077.png\n",
      "/Users/smerdis/data/LGN/BIDS/LL_combined/derivatives/prf/sub-LL/Screenshots/screen_A_078.png\n",
      "/Users/smerdis/data/LGN/BIDS/LL_combined/derivatives/prf/sub-LL/Screenshots/screen_A_079.png\n",
      "/Users/smerdis/data/LGN/BIDS/LL_combined/derivatives/prf/sub-LL/Screenshots/screen_A_080.png\n",
      "/Users/smerdis/data/LGN/BIDS/LL_combined/derivatives/prf/sub-LL/Screenshots/screen_A_081.png\n",
      "/Users/smerdis/data/LGN/BIDS/LL_combined/derivatives/prf/sub-LL/Screenshots/screen_A_082.png\n",
      "/Users/smerdis/data/LGN/BIDS/LL_combined/derivatives/prf/sub-LL/Screenshots/screen_A_083.png\n",
      "/Users/smerdis/data/LGN/BIDS/LL_combined/derivatives/prf/sub-LL/Screenshots/screen_A_084.png\n",
      "/Users/smerdis/data/LGN/BIDS/LL_combined/derivatives/prf/sub-LL/Screenshots/screen_A_085.png\n",
      "/Users/smerdis/data/LGN/BIDS/LL_combined/derivatives/prf/sub-LL/Screenshots/screen_A_086.png\n",
      "/Users/smerdis/data/LGN/BIDS/LL_combined/derivatives/prf/sub-LL/Screenshots/screen_A_087.png\n",
      "/Users/smerdis/data/LGN/BIDS/LL_combined/derivatives/prf/sub-LL/Screenshots/screen_A_088.png\n",
      "/Users/smerdis/data/LGN/BIDS/LL_combined/derivatives/prf/sub-LL/Screenshots/screen_A_089.png\n",
      "/Users/smerdis/data/LGN/BIDS/LL_combined/derivatives/prf/sub-LL/Screenshots/screen_A_090.png\n",
      "/Users/smerdis/data/LGN/BIDS/LL_combined/derivatives/prf/sub-LL/Screenshots/screen_A_091.png\n",
      "/Users/smerdis/data/LGN/BIDS/LL_combined/derivatives/prf/sub-LL/Screenshots/screen_A_092.png\n",
      "/Users/smerdis/data/LGN/BIDS/LL_combined/derivatives/prf/sub-LL/Screenshots/screen_A_093.png\n",
      "/Users/smerdis/data/LGN/BIDS/LL_combined/derivatives/prf/sub-LL/Screenshots/screen_A_094.png\n",
      "/Users/smerdis/data/LGN/BIDS/LL_combined/derivatives/prf/sub-LL/Screenshots/screen_A_095.png\n",
      "/Users/smerdis/data/LGN/BIDS/LL_combined/derivatives/prf/sub-LL/Screenshots/screen_A_096.png\n",
      "/Users/smerdis/data/LGN/BIDS/LL_combined/derivatives/prf/sub-LL/Screenshots/screen_A_097.png\n",
      "/Users/smerdis/data/LGN/BIDS/LL_combined/derivatives/prf/sub-LL/Screenshots/screen_A_098.png\n",
      "/Users/smerdis/data/LGN/BIDS/LL_combined/derivatives/prf/sub-LL/Screenshots/screen_A_099.png\n",
      "/Users/smerdis/data/LGN/BIDS/LL_combined/derivatives/prf/sub-LL/Screenshots/screen_A_100.png\n",
      "/Users/smerdis/data/LGN/BIDS/LL_combined/derivatives/prf/sub-LL/Screenshots/screen_A_101.png\n",
      "/Users/smerdis/data/LGN/BIDS/LL_combined/derivatives/prf/sub-LL/Screenshots/screen_A_102.png\n",
      "/Users/smerdis/data/LGN/BIDS/LL_combined/derivatives/prf/sub-LL/Screenshots/screen_A_103.png\n",
      "/Users/smerdis/data/LGN/BIDS/LL_combined/derivatives/prf/sub-LL/Screenshots/screen_A_104.png\n",
      "/Users/smerdis/data/LGN/BIDS/LL_combined/derivatives/prf/sub-LL/Screenshots/screen_A_105.png\n",
      "/Users/smerdis/data/LGN/BIDS/LL_combined/derivatives/prf/sub-LL/Screenshots/screen_A_106.png\n",
      "/Users/smerdis/data/LGN/BIDS/LL_combined/derivatives/prf/sub-LL/Screenshots/screen_A_107.png\n",
      "/Users/smerdis/data/LGN/BIDS/LL_combined/derivatives/prf/sub-LL/Screenshots/screen_A_108.png\n"
     ]
    },
    {
     "name": "stdout",
     "output_type": "stream",
     "text": [
      "/Users/smerdis/data/LGN/BIDS/LL_combined/derivatives/prf/sub-LL/Screenshots/screen_A_109.png\n",
      "/Users/smerdis/data/LGN/BIDS/LL_combined/derivatives/prf/sub-LL/Screenshots/screen_A_110.png\n",
      "/Users/smerdis/data/LGN/BIDS/LL_combined/derivatives/prf/sub-LL/Screenshots/screen_A_111.png\n",
      "/Users/smerdis/data/LGN/BIDS/LL_combined/derivatives/prf/sub-LL/Screenshots/screen_A_112.png\n",
      "/Users/smerdis/data/LGN/BIDS/LL_combined/derivatives/prf/sub-LL/Screenshots/screen_A_113.png\n",
      "/Users/smerdis/data/LGN/BIDS/LL_combined/derivatives/prf/sub-LL/Screenshots/screen_A_114.png\n",
      "/Users/smerdis/data/LGN/BIDS/LL_combined/derivatives/prf/sub-LL/Screenshots/screen_A_115.png\n",
      "/Users/smerdis/data/LGN/BIDS/LL_combined/derivatives/prf/sub-LL/Screenshots/screen_A_116.png\n",
      "/Users/smerdis/data/LGN/BIDS/LL_combined/derivatives/prf/sub-LL/Screenshots/screen_A_117.png\n",
      "/Users/smerdis/data/LGN/BIDS/LL_combined/derivatives/prf/sub-LL/Screenshots/screen_A_118.png\n",
      "/Users/smerdis/data/LGN/BIDS/LL_combined/derivatives/prf/sub-LL/Screenshots/screen_A_119.png\n",
      "/Users/smerdis/data/LGN/BIDS/LL_combined/derivatives/prf/sub-LL/Screenshots/screen_A_120.png\n",
      "/Users/smerdis/data/LGN/BIDS/LL_combined/derivatives/prf/sub-LL/Screenshots/screen_A_121.png\n",
      "/Users/smerdis/data/LGN/BIDS/LL_combined/derivatives/prf/sub-LL/Screenshots/screen_A_122.png\n",
      "/Users/smerdis/data/LGN/BIDS/LL_combined/derivatives/prf/sub-LL/Screenshots/screen_A_123.png\n",
      "/Users/smerdis/data/LGN/BIDS/LL_combined/derivatives/prf/sub-LL/Screenshots/screen_A_124.png\n",
      "/Users/smerdis/data/LGN/BIDS/LL_combined/derivatives/prf/sub-LL/Screenshots/screen_A_125.png\n",
      "/Users/smerdis/data/LGN/BIDS/LL_combined/derivatives/prf/sub-LL/Screenshots/screen_A_126.png\n",
      "/Users/smerdis/data/LGN/BIDS/LL_combined/derivatives/prf/sub-LL/Screenshots/screen_A_127.png\n",
      "/Users/smerdis/data/LGN/BIDS/LL_combined/derivatives/prf/sub-LL/Screenshots/screen_A_128.png\n",
      "/Users/smerdis/data/LGN/BIDS/LL_combined/derivatives/prf/sub-LL/Screenshots/screen_A_128.png\n",
      "/Users/smerdis/data/LGN/BIDS/LL_combined/derivatives/prf/sub-LL/Screenshots/screen_A_128.png\n",
      "/Users/smerdis/data/LGN/BIDS/LL_combined/derivatives/prf/sub-LL/Screenshots/screen_A_128.png\n",
      "/Users/smerdis/data/LGN/BIDS/LL_combined/derivatives/prf/sub-LL/Screenshots/screen_A_128.png\n",
      "/Users/smerdis/data/LGN/BIDS/LL_combined/derivatives/prf/sub-LL/Screenshots/screen_A_128.png\n",
      "/Users/smerdis/data/LGN/BIDS/LL_combined/derivatives/prf/sub-LL/Screenshots/screen_A_128.png\n",
      "/Users/smerdis/data/LGN/BIDS/LL_combined/derivatives/prf/sub-LL/Screenshots/screen_A_128.png\n",
      "/Users/smerdis/data/LGN/BIDS/LL_combined/derivatives/prf/sub-LL/Screenshots/screen_A_128.png\n",
      "/Users/smerdis/data/LGN/BIDS/LL_combined/derivatives/prf/sub-LL/Screenshots/screen_A_128.png\n",
      "/Users/smerdis/data/LGN/BIDS/LL_combined/derivatives/prf/sub-LL/Screenshots/screen_A_128.png\n",
      "/Users/smerdis/data/LGN/BIDS/LL_combined/derivatives/prf/sub-LL/Screenshots/screen_B_001.png\n",
      "/Users/smerdis/data/LGN/BIDS/LL_combined/derivatives/prf/sub-LL/Screenshots/screen_B_002.png\n",
      "/Users/smerdis/data/LGN/BIDS/LL_combined/derivatives/prf/sub-LL/Screenshots/screen_B_003.png\n",
      "/Users/smerdis/data/LGN/BIDS/LL_combined/derivatives/prf/sub-LL/Screenshots/screen_B_004.png\n",
      "/Users/smerdis/data/LGN/BIDS/LL_combined/derivatives/prf/sub-LL/Screenshots/screen_B_005.png\n",
      "/Users/smerdis/data/LGN/BIDS/LL_combined/derivatives/prf/sub-LL/Screenshots/screen_B_006.png\n",
      "/Users/smerdis/data/LGN/BIDS/LL_combined/derivatives/prf/sub-LL/Screenshots/screen_B_007.png\n",
      "/Users/smerdis/data/LGN/BIDS/LL_combined/derivatives/prf/sub-LL/Screenshots/screen_B_008.png\n",
      "/Users/smerdis/data/LGN/BIDS/LL_combined/derivatives/prf/sub-LL/Screenshots/screen_B_009.png\n",
      "/Users/smerdis/data/LGN/BIDS/LL_combined/derivatives/prf/sub-LL/Screenshots/screen_B_010.png\n",
      "/Users/smerdis/data/LGN/BIDS/LL_combined/derivatives/prf/sub-LL/Screenshots/screen_B_011.png\n",
      "/Users/smerdis/data/LGN/BIDS/LL_combined/derivatives/prf/sub-LL/Screenshots/screen_B_012.png\n",
      "/Users/smerdis/data/LGN/BIDS/LL_combined/derivatives/prf/sub-LL/Screenshots/screen_B_013.png\n",
      "/Users/smerdis/data/LGN/BIDS/LL_combined/derivatives/prf/sub-LL/Screenshots/screen_B_014.png\n",
      "/Users/smerdis/data/LGN/BIDS/LL_combined/derivatives/prf/sub-LL/Screenshots/screen_B_015.png\n",
      "/Users/smerdis/data/LGN/BIDS/LL_combined/derivatives/prf/sub-LL/Screenshots/screen_B_016.png\n",
      "/Users/smerdis/data/LGN/BIDS/LL_combined/derivatives/prf/sub-LL/Screenshots/screen_B_017.png\n",
      "/Users/smerdis/data/LGN/BIDS/LL_combined/derivatives/prf/sub-LL/Screenshots/screen_B_018.png\n",
      "/Users/smerdis/data/LGN/BIDS/LL_combined/derivatives/prf/sub-LL/Screenshots/screen_B_019.png\n",
      "/Users/smerdis/data/LGN/BIDS/LL_combined/derivatives/prf/sub-LL/Screenshots/screen_B_020.png\n",
      "/Users/smerdis/data/LGN/BIDS/LL_combined/derivatives/prf/sub-LL/Screenshots/screen_B_021.png\n",
      "/Users/smerdis/data/LGN/BIDS/LL_combined/derivatives/prf/sub-LL/Screenshots/screen_B_022.png\n",
      "/Users/smerdis/data/LGN/BIDS/LL_combined/derivatives/prf/sub-LL/Screenshots/screen_B_023.png\n",
      "/Users/smerdis/data/LGN/BIDS/LL_combined/derivatives/prf/sub-LL/Screenshots/screen_B_024.png\n",
      "/Users/smerdis/data/LGN/BIDS/LL_combined/derivatives/prf/sub-LL/Screenshots/screen_B_025.png\n",
      "/Users/smerdis/data/LGN/BIDS/LL_combined/derivatives/prf/sub-LL/Screenshots/screen_B_026.png\n",
      "/Users/smerdis/data/LGN/BIDS/LL_combined/derivatives/prf/sub-LL/Screenshots/screen_B_027.png\n",
      "/Users/smerdis/data/LGN/BIDS/LL_combined/derivatives/prf/sub-LL/Screenshots/screen_B_028.png\n",
      "/Users/smerdis/data/LGN/BIDS/LL_combined/derivatives/prf/sub-LL/Screenshots/screen_B_029.png\n",
      "/Users/smerdis/data/LGN/BIDS/LL_combined/derivatives/prf/sub-LL/Screenshots/screen_B_030.png\n",
      "/Users/smerdis/data/LGN/BIDS/LL_combined/derivatives/prf/sub-LL/Screenshots/screen_B_031.png\n",
      "/Users/smerdis/data/LGN/BIDS/LL_combined/derivatives/prf/sub-LL/Screenshots/screen_B_032.png\n",
      "/Users/smerdis/data/LGN/BIDS/LL_combined/derivatives/prf/sub-LL/Screenshots/screen_B_033.png\n",
      "/Users/smerdis/data/LGN/BIDS/LL_combined/derivatives/prf/sub-LL/Screenshots/screen_B_034.png\n",
      "/Users/smerdis/data/LGN/BIDS/LL_combined/derivatives/prf/sub-LL/Screenshots/screen_B_035.png\n",
      "/Users/smerdis/data/LGN/BIDS/LL_combined/derivatives/prf/sub-LL/Screenshots/screen_B_036.png\n",
      "/Users/smerdis/data/LGN/BIDS/LL_combined/derivatives/prf/sub-LL/Screenshots/screen_B_037.png\n",
      "/Users/smerdis/data/LGN/BIDS/LL_combined/derivatives/prf/sub-LL/Screenshots/screen_B_038.png\n",
      "/Users/smerdis/data/LGN/BIDS/LL_combined/derivatives/prf/sub-LL/Screenshots/screen_B_039.png\n",
      "/Users/smerdis/data/LGN/BIDS/LL_combined/derivatives/prf/sub-LL/Screenshots/screen_B_040.png\n",
      "/Users/smerdis/data/LGN/BIDS/LL_combined/derivatives/prf/sub-LL/Screenshots/screen_B_041.png\n",
      "/Users/smerdis/data/LGN/BIDS/LL_combined/derivatives/prf/sub-LL/Screenshots/screen_B_042.png\n",
      "/Users/smerdis/data/LGN/BIDS/LL_combined/derivatives/prf/sub-LL/Screenshots/screen_B_043.png\n",
      "/Users/smerdis/data/LGN/BIDS/LL_combined/derivatives/prf/sub-LL/Screenshots/screen_B_044.png\n",
      "/Users/smerdis/data/LGN/BIDS/LL_combined/derivatives/prf/sub-LL/Screenshots/screen_B_045.png\n",
      "/Users/smerdis/data/LGN/BIDS/LL_combined/derivatives/prf/sub-LL/Screenshots/screen_B_046.png\n",
      "/Users/smerdis/data/LGN/BIDS/LL_combined/derivatives/prf/sub-LL/Screenshots/screen_B_047.png\n",
      "/Users/smerdis/data/LGN/BIDS/LL_combined/derivatives/prf/sub-LL/Screenshots/screen_B_048.png\n",
      "/Users/smerdis/data/LGN/BIDS/LL_combined/derivatives/prf/sub-LL/Screenshots/screen_B_049.png\n",
      "/Users/smerdis/data/LGN/BIDS/LL_combined/derivatives/prf/sub-LL/Screenshots/screen_B_050.png\n",
      "/Users/smerdis/data/LGN/BIDS/LL_combined/derivatives/prf/sub-LL/Screenshots/screen_B_051.png\n",
      "/Users/smerdis/data/LGN/BIDS/LL_combined/derivatives/prf/sub-LL/Screenshots/screen_B_052.png\n",
      "/Users/smerdis/data/LGN/BIDS/LL_combined/derivatives/prf/sub-LL/Screenshots/screen_B_053.png\n",
      "/Users/smerdis/data/LGN/BIDS/LL_combined/derivatives/prf/sub-LL/Screenshots/screen_B_054.png\n",
      "/Users/smerdis/data/LGN/BIDS/LL_combined/derivatives/prf/sub-LL/Screenshots/screen_B_055.png\n",
      "/Users/smerdis/data/LGN/BIDS/LL_combined/derivatives/prf/sub-LL/Screenshots/screen_B_056.png\n",
      "/Users/smerdis/data/LGN/BIDS/LL_combined/derivatives/prf/sub-LL/Screenshots/screen_B_057.png\n",
      "/Users/smerdis/data/LGN/BIDS/LL_combined/derivatives/prf/sub-LL/Screenshots/screen_B_058.png\n",
      "/Users/smerdis/data/LGN/BIDS/LL_combined/derivatives/prf/sub-LL/Screenshots/screen_B_059.png\n",
      "/Users/smerdis/data/LGN/BIDS/LL_combined/derivatives/prf/sub-LL/Screenshots/screen_B_060.png\n",
      "/Users/smerdis/data/LGN/BIDS/LL_combined/derivatives/prf/sub-LL/Screenshots/screen_B_061.png\n",
      "/Users/smerdis/data/LGN/BIDS/LL_combined/derivatives/prf/sub-LL/Screenshots/screen_B_062.png\n",
      "/Users/smerdis/data/LGN/BIDS/LL_combined/derivatives/prf/sub-LL/Screenshots/screen_B_063.png\n",
      "/Users/smerdis/data/LGN/BIDS/LL_combined/derivatives/prf/sub-LL/Screenshots/screen_B_064.png\n",
      "/Users/smerdis/data/LGN/BIDS/LL_combined/derivatives/prf/sub-LL/Screenshots/screen_B_065.png\n",
      "/Users/smerdis/data/LGN/BIDS/LL_combined/derivatives/prf/sub-LL/Screenshots/screen_B_066.png\n",
      "/Users/smerdis/data/LGN/BIDS/LL_combined/derivatives/prf/sub-LL/Screenshots/screen_B_067.png\n",
      "/Users/smerdis/data/LGN/BIDS/LL_combined/derivatives/prf/sub-LL/Screenshots/screen_B_068.png\n",
      "/Users/smerdis/data/LGN/BIDS/LL_combined/derivatives/prf/sub-LL/Screenshots/screen_B_069.png\n"
     ]
    },
    {
     "name": "stdout",
     "output_type": "stream",
     "text": [
      "/Users/smerdis/data/LGN/BIDS/LL_combined/derivatives/prf/sub-LL/Screenshots/screen_B_070.png\n",
      "/Users/smerdis/data/LGN/BIDS/LL_combined/derivatives/prf/sub-LL/Screenshots/screen_B_071.png\n",
      "/Users/smerdis/data/LGN/BIDS/LL_combined/derivatives/prf/sub-LL/Screenshots/screen_B_072.png\n",
      "/Users/smerdis/data/LGN/BIDS/LL_combined/derivatives/prf/sub-LL/Screenshots/screen_B_073.png\n",
      "/Users/smerdis/data/LGN/BIDS/LL_combined/derivatives/prf/sub-LL/Screenshots/screen_B_074.png\n",
      "/Users/smerdis/data/LGN/BIDS/LL_combined/derivatives/prf/sub-LL/Screenshots/screen_B_075.png\n",
      "/Users/smerdis/data/LGN/BIDS/LL_combined/derivatives/prf/sub-LL/Screenshots/screen_B_076.png\n",
      "/Users/smerdis/data/LGN/BIDS/LL_combined/derivatives/prf/sub-LL/Screenshots/screen_B_077.png\n",
      "/Users/smerdis/data/LGN/BIDS/LL_combined/derivatives/prf/sub-LL/Screenshots/screen_B_078.png\n",
      "/Users/smerdis/data/LGN/BIDS/LL_combined/derivatives/prf/sub-LL/Screenshots/screen_B_079.png\n",
      "/Users/smerdis/data/LGN/BIDS/LL_combined/derivatives/prf/sub-LL/Screenshots/screen_B_080.png\n",
      "/Users/smerdis/data/LGN/BIDS/LL_combined/derivatives/prf/sub-LL/Screenshots/screen_B_081.png\n",
      "/Users/smerdis/data/LGN/BIDS/LL_combined/derivatives/prf/sub-LL/Screenshots/screen_B_082.png\n",
      "/Users/smerdis/data/LGN/BIDS/LL_combined/derivatives/prf/sub-LL/Screenshots/screen_B_083.png\n",
      "/Users/smerdis/data/LGN/BIDS/LL_combined/derivatives/prf/sub-LL/Screenshots/screen_B_084.png\n",
      "/Users/smerdis/data/LGN/BIDS/LL_combined/derivatives/prf/sub-LL/Screenshots/screen_B_085.png\n",
      "/Users/smerdis/data/LGN/BIDS/LL_combined/derivatives/prf/sub-LL/Screenshots/screen_B_086.png\n",
      "/Users/smerdis/data/LGN/BIDS/LL_combined/derivatives/prf/sub-LL/Screenshots/screen_B_087.png\n",
      "/Users/smerdis/data/LGN/BIDS/LL_combined/derivatives/prf/sub-LL/Screenshots/screen_B_088.png\n",
      "/Users/smerdis/data/LGN/BIDS/LL_combined/derivatives/prf/sub-LL/Screenshots/screen_B_089.png\n",
      "/Users/smerdis/data/LGN/BIDS/LL_combined/derivatives/prf/sub-LL/Screenshots/screen_B_090.png\n",
      "/Users/smerdis/data/LGN/BIDS/LL_combined/derivatives/prf/sub-LL/Screenshots/screen_B_091.png\n",
      "/Users/smerdis/data/LGN/BIDS/LL_combined/derivatives/prf/sub-LL/Screenshots/screen_B_092.png\n",
      "/Users/smerdis/data/LGN/BIDS/LL_combined/derivatives/prf/sub-LL/Screenshots/screen_B_093.png\n",
      "/Users/smerdis/data/LGN/BIDS/LL_combined/derivatives/prf/sub-LL/Screenshots/screen_B_094.png\n",
      "/Users/smerdis/data/LGN/BIDS/LL_combined/derivatives/prf/sub-LL/Screenshots/screen_B_095.png\n",
      "/Users/smerdis/data/LGN/BIDS/LL_combined/derivatives/prf/sub-LL/Screenshots/screen_B_096.png\n",
      "/Users/smerdis/data/LGN/BIDS/LL_combined/derivatives/prf/sub-LL/Screenshots/screen_B_097.png\n",
      "/Users/smerdis/data/LGN/BIDS/LL_combined/derivatives/prf/sub-LL/Screenshots/screen_B_098.png\n",
      "/Users/smerdis/data/LGN/BIDS/LL_combined/derivatives/prf/sub-LL/Screenshots/screen_B_099.png\n",
      "/Users/smerdis/data/LGN/BIDS/LL_combined/derivatives/prf/sub-LL/Screenshots/screen_B_100.png\n",
      "/Users/smerdis/data/LGN/BIDS/LL_combined/derivatives/prf/sub-LL/Screenshots/screen_B_101.png\n",
      "/Users/smerdis/data/LGN/BIDS/LL_combined/derivatives/prf/sub-LL/Screenshots/screen_B_102.png\n",
      "/Users/smerdis/data/LGN/BIDS/LL_combined/derivatives/prf/sub-LL/Screenshots/screen_B_103.png\n",
      "/Users/smerdis/data/LGN/BIDS/LL_combined/derivatives/prf/sub-LL/Screenshots/screen_B_104.png\n",
      "/Users/smerdis/data/LGN/BIDS/LL_combined/derivatives/prf/sub-LL/Screenshots/screen_B_105.png\n",
      "/Users/smerdis/data/LGN/BIDS/LL_combined/derivatives/prf/sub-LL/Screenshots/screen_B_106.png\n",
      "/Users/smerdis/data/LGN/BIDS/LL_combined/derivatives/prf/sub-LL/Screenshots/screen_B_107.png\n",
      "/Users/smerdis/data/LGN/BIDS/LL_combined/derivatives/prf/sub-LL/Screenshots/screen_B_108.png\n",
      "/Users/smerdis/data/LGN/BIDS/LL_combined/derivatives/prf/sub-LL/Screenshots/screen_B_109.png\n",
      "/Users/smerdis/data/LGN/BIDS/LL_combined/derivatives/prf/sub-LL/Screenshots/screen_B_110.png\n",
      "/Users/smerdis/data/LGN/BIDS/LL_combined/derivatives/prf/sub-LL/Screenshots/screen_B_111.png\n",
      "/Users/smerdis/data/LGN/BIDS/LL_combined/derivatives/prf/sub-LL/Screenshots/screen_B_112.png\n",
      "/Users/smerdis/data/LGN/BIDS/LL_combined/derivatives/prf/sub-LL/Screenshots/screen_B_113.png\n",
      "/Users/smerdis/data/LGN/BIDS/LL_combined/derivatives/prf/sub-LL/Screenshots/screen_B_114.png\n",
      "/Users/smerdis/data/LGN/BIDS/LL_combined/derivatives/prf/sub-LL/Screenshots/screen_B_115.png\n",
      "/Users/smerdis/data/LGN/BIDS/LL_combined/derivatives/prf/sub-LL/Screenshots/screen_B_116.png\n",
      "/Users/smerdis/data/LGN/BIDS/LL_combined/derivatives/prf/sub-LL/Screenshots/screen_B_117.png\n",
      "/Users/smerdis/data/LGN/BIDS/LL_combined/derivatives/prf/sub-LL/Screenshots/screen_B_118.png\n",
      "/Users/smerdis/data/LGN/BIDS/LL_combined/derivatives/prf/sub-LL/Screenshots/screen_B_119.png\n",
      "/Users/smerdis/data/LGN/BIDS/LL_combined/derivatives/prf/sub-LL/Screenshots/screen_B_120.png\n",
      "/Users/smerdis/data/LGN/BIDS/LL_combined/derivatives/prf/sub-LL/Screenshots/screen_B_121.png\n",
      "/Users/smerdis/data/LGN/BIDS/LL_combined/derivatives/prf/sub-LL/Screenshots/screen_B_122.png\n",
      "/Users/smerdis/data/LGN/BIDS/LL_combined/derivatives/prf/sub-LL/Screenshots/screen_B_123.png\n",
      "/Users/smerdis/data/LGN/BIDS/LL_combined/derivatives/prf/sub-LL/Screenshots/screen_B_124.png\n",
      "/Users/smerdis/data/LGN/BIDS/LL_combined/derivatives/prf/sub-LL/Screenshots/screen_B_125.png\n",
      "/Users/smerdis/data/LGN/BIDS/LL_combined/derivatives/prf/sub-LL/Screenshots/screen_B_126.png\n",
      "/Users/smerdis/data/LGN/BIDS/LL_combined/derivatives/prf/sub-LL/Screenshots/screen_B_127.png\n",
      "/Users/smerdis/data/LGN/BIDS/LL_combined/derivatives/prf/sub-LL/Screenshots/screen_B_128.png\n",
      "/Users/smerdis/data/LGN/BIDS/LL_combined/derivatives/prf/sub-LL/Screenshots/screen_B_128.png\n",
      "/Users/smerdis/data/LGN/BIDS/LL_combined/derivatives/prf/sub-LL/Screenshots/screen_B_128.png\n",
      "/Users/smerdis/data/LGN/BIDS/LL_combined/derivatives/prf/sub-LL/Screenshots/screen_B_128.png\n",
      "/Users/smerdis/data/LGN/BIDS/LL_combined/derivatives/prf/sub-LL/Screenshots/screen_B_128.png\n",
      "/Users/smerdis/data/LGN/BIDS/LL_combined/derivatives/prf/sub-LL/Screenshots/screen_B_128.png\n",
      "/Users/smerdis/data/LGN/BIDS/LL_combined/derivatives/prf/sub-LL/Screenshots/screen_B_128.png\n",
      "/Users/smerdis/data/LGN/BIDS/LL_combined/derivatives/prf/sub-LL/Screenshots/screen_B_128.png\n",
      "/Users/smerdis/data/LGN/BIDS/LL_combined/derivatives/prf/sub-LL/Screenshots/screen_B_128.png\n",
      "/Users/smerdis/data/LGN/BIDS/LL_combined/derivatives/prf/sub-LL/Screenshots/screen_B_128.png\n",
      "/Users/smerdis/data/LGN/BIDS/LL_combined/derivatives/prf/sub-LL/Screenshots/screen_B_128.png\n"
     ]
    }
   ],
   "source": [
    "biglist = [np.array([]) for _ in range(len(concat_sshot_list))]\n",
    "\n",
    "#This flips the images around to make it like how popeye uses it\n",
    "    \n",
    "for i in range(0,len(concat_sshot_list)):\n",
    "    im_read = cv.imread(concat_sshot_list[i])\n",
    "    im_rgb = cv.cvtColor(im_read, cv.COLOR_BGR2RGB)\n",
    "    im_gr = cv.cvtColor(im_rgb, cv.COLOR_BGR2GRAY)\n",
    "    # im_grd = np.divide(im_gr,255)\n",
    "    print(concat_sshot_list[i])\n",
    "    ret,thresh = cv.threshold(im_gr,0,1,cv.THRESH_BINARY_INV)\n",
    "    biglist[i] = thresh\n",
    "\n",
    "bigstack = np.dstack((biglist))\n",
    "pickle.dump(bigstack, open(f\"{out_dir}/bigstack-{sub}-AB.pkl\", 'wb'))\n"
   ]
  },
  {
   "cell_type": "code",
   "execution_count": 85,
   "metadata": {},
   "outputs": [
    {
     "data": {
      "text/plain": [
       "['/Users/smerdis/data/LGN/BIDS/LL_combined/derivatives/prf/sub-LL/bigstack-LL-B.pkl',\n",
       " '/Users/smerdis/data/LGN/BIDS/LL_combined/derivatives/prf/sub-LL/bigstack-LL.pkl',\n",
       " '/Users/smerdis/data/LGN/BIDS/LL_combined/derivatives/prf/sub-LL/bigstack-LL-AB.pkl']"
      ]
     },
     "execution_count": 85,
     "metadata": {},
     "output_type": "execute_result"
    }
   ],
   "source": [
    "glob.glob(f\"{out_dir}/bigstack*.pkl\")"
   ]
  },
  {
   "cell_type": "markdown",
   "metadata": {},
   "source": [
    "## Mask manipulation"
   ]
  },
  {
   "cell_type": "code",
   "execution_count": 8,
   "metadata": {},
   "outputs": [
    {
     "name": "stdout",
     "output_type": "stream",
     "text": [
      "/Users/smerdis/data/LGN/BIDS/LL_combined/derivatives/prf/sub-LL/sub-LL_ses-20210810_mask.nii.gz\n",
      "/Users/smerdis/data/LGN/BIDS/LL_combined/derivatives/prf/sub-LL/sub-LL_ses-20210810_mask.nii.gz\r\n"
     ]
    }
   ],
   "source": [
    "print(prf_mask_file)\n",
    "!ls {prf_mask_file}"
   ]
  },
  {
   "cell_type": "code",
   "execution_count": 12,
   "metadata": {},
   "outputs": [],
   "source": [
    "#m = nib.load(f\"{out_dir}/cortex_mask_funcspace.nii.gz\")\n",
    "m = nib.load(prf_mask_file)\n",
    "m_chop = m.get_fdata().copy()\n",
    "m_chop[:, 70:, :] = 0\n",
    "chopped_mask_img = nib.Nifti1Image(m_chop, m.affine, m.header)\n",
    "#chopped_mask_path = f\"{out_dir}/sub-{sub}_ses-{ses}_desc-cortex-mask-back40_roi.nii.gz\"\n",
    "chopped_mask_path = f\"{out_dir}/sub-{sub}_ses-{ses}_desc-wholebrainmask-back_roi.nii.gz\"\n",
    "nib.save(chopped_mask_img, chopped_mask_path)"
   ]
  },
  {
   "cell_type": "code",
   "execution_count": 10,
   "metadata": {},
   "outputs": [
    {
     "name": "stdout",
     "output_type": "stream",
     "text": [
      "fsleyes /Users/smerdis/data/LGN/BIDS/LL_combined/sub-LL/ses-20210810/anat/sub-LL_ses-20210810_T1w.nii.gz /Users/smerdis/data/LGN/BIDS/LL_combined/derivatives/prf/sub-LL/sub-LL_ses-20210810_refvol.nii.gz /Users/smerdis/data/LGN/BIDS/LL_combined/derivatives/prf/sub-LL/sub-LL_ses-20210810_mask.nii.gz /Users/smerdis/data/LGN/BIDS/LL_combined/derivatives/prf/sub-LL/sub-LL_ses-20210810_desc-wholebrainmask-back40_roi.nii.gz\n"
     ]
    }
   ],
   "source": [
    "print(f\"fsleyes {anat_file} {prf_ref_vol_path} {prf_mask_file} {chopped_mask_path}\")\n"
   ]
  },
  {
   "cell_type": "markdown",
   "metadata": {},
   "source": [
    "## Look at prf results (prfs run on cluster)"
   ]
  },
  {
   "cell_type": "code",
   "execution_count": 8,
   "metadata": {},
   "outputs": [
    {
     "name": "stdout",
     "output_type": "stream",
     "text": [
      "\u001b[34m20210831-111808\u001b[m\u001b[m\r\n",
      "\u001b[34m20210907-113646\u001b[m\u001b[m\r\n",
      "\u001b[34m20210908-081328\u001b[m\u001b[m\r\n",
      "\u001b[34mScreenshots\u001b[m\u001b[m\r\n",
      "bigstack-LL-AB.pkl\r\n",
      "bigstack-LL-B.pkl\r\n",
      "bigstack-LL.pkl\r\n",
      "\u001b[34mses-20210810\u001b[m\u001b[m\r\n",
      "sub-LL_ses-20210810_desc-wholebrainmask-back40_roi.nii.gz\r\n",
      "sub-LL_ses-20210810_desc-wholebrainmask-back_roi.nii.gz\r\n",
      "sub-LL_ses-20210810_mask.nii.gz\r\n",
      "sub-LL_ses-20210810_mcflirt_mean_trim.nii\r\n",
      "sub-LL_ses-20210810_mcflirt_mean_trim_evenrunsonly.nii\r\n",
      "sub-LL_ses-20210810_mcflirt_mean_trim_oddevenconcat.nii\r\n",
      "sub-LL_ses-20210810_mcflirt_mean_trim_oddrunsonly.nii\r\n",
      "sub-LL_ses-20210810_refvol.json\r\n",
      "sub-LL_ses-20210810_refvol.nii.gz\r\n"
     ]
    }
   ],
   "source": [
    "!ls {out_dir}"
   ]
  },
  {
   "cell_type": "code",
   "execution_count": 10,
   "metadata": {},
   "outputs": [],
   "source": [
    "#main_analysis_dir = \"/Users/smerdis/data/LGN/BIDS/LL_combined/derivatives/streams/sub-LL/cluster_bin\"\n",
    "#prf_dir = f\"{main_analysis_dir}/20210831-100746\"\n",
    "#prf_dir = f\"{out_dir}/20210831-111808\" # B runs (evens) only with bigstack B screenshots\n",
    "#prf_dir = f\"{out_dir}/20210907-113646\" # AB concat (mean of odds, mean of evens)\n",
    "prf_dir = f\"{out_dir}/20210908-081328\" # AB concat, 50k voxels (posterior 2/3rds of brain)"
   ]
  },
  {
   "cell_type": "code",
   "execution_count": 11,
   "metadata": {},
   "outputs": [
    {
     "name": "stdout",
     "output_type": "stream",
     "text": [
      "bar.pkl\r\n",
      "info.txt\r\n",
      "sub-LL_ses-20210810_desc-prfmask_space-func_map.nii.gz\r\n",
      "sub-LL_ses-20210810_desc-prfrho_space-func_map.nii.gz\r\n",
      "sub-LL_ses-20210810_desc-prfrsq_space-func_map.nii.gz\r\n",
      "sub-LL_ses-20210810_desc-prfsig_space-func_map.nii.gz\r\n",
      "sub-LL_ses-20210810_desc-prftheta_space-func_map.nii.gz\r\n",
      "sub-LL_ses-20210810_desc-prfxx_space-func_map.nii.gz\r\n",
      "sub-LL_ses-20210810_desc-prfyy_space-func_map.nii.gz\r\n"
     ]
    }
   ],
   "source": [
    "!ls {prf_dir}"
   ]
  },
  {
   "cell_type": "code",
   "execution_count": 12,
   "metadata": {},
   "outputs": [
    {
     "name": "stdout",
     "output_type": "stream",
     "text": [
      "/Users/smerdis/data/LGN/BIDS/LL_combined/derivatives/prf/sub-LL/20210908-081328/sub-LL_ses-20210810_desc-prfyy_space-func_map.nii.gz\n",
      "/Users/smerdis/data/LGN/BIDS/LL_combined/derivatives/prf/sub-LL/20210908-081328/sub-LL_ses-20210810_desc-prftheta_space-func_map.nii.gz\n",
      "/Users/smerdis/data/LGN/BIDS/LL_combined/derivatives/prf/sub-LL/20210908-081328/sub-LL_ses-20210810_desc-prfxx_space-func_map.nii.gz\n",
      "/Users/smerdis/data/LGN/BIDS/LL_combined/derivatives/prf/sub-LL/20210908-081328/sub-LL_ses-20210810_desc-prfrho_space-func_map.nii.gz\n",
      "/Users/smerdis/data/LGN/BIDS/LL_combined/derivatives/prf/sub-LL/20210908-081328/sub-LL_ses-20210810_desc-prfrsq_space-func_map.nii.gz\n"
     ]
    }
   ],
   "source": [
    "prf_outputs = glob.glob(f\"{prf_dir}/sub-{sub}*desc-prf[!mask]*map*\")\n",
    "print(\"\\n\".join(prf_outputs))"
   ]
  },
  {
   "cell_type": "code",
   "execution_count": 13,
   "metadata": {},
   "outputs": [
    {
     "name": "stdout",
     "output_type": "stream",
     "text": [
      "/Users/smerdis/data/LGN/BIDS/LL_combined/derivatives/prf/sub-LL/20210908-081328/sub-LL_ses-20210810_desc-prftheta_space-func_map.nii.gz\n",
      "/Users/smerdis/data/LGN/BIDS/LL_combined/derivatives/prf/sub-LL/20210908-081328/sub-LL_ses-20210810_desc-prfrho_space-func_map.nii.gz\n",
      "/Users/smerdis/data/LGN/BIDS/LL_combined/derivatives/prf/sub-LL/20210908-081328/sub-LL_ses-20210810_desc-prfrsq_space-func_map.nii.gz\n",
      "fsleyes /Users/smerdis/data/LGN/BIDS/LL_combined/sub-LL/ses-20210810/anat/sub-LL_ses-20210810_T1w.nii.gz /Users/smerdis/data/LGN/BIDS/LL_combined/derivatives/prf/sub-LL/sub-LL_ses-20210810_refvol.nii.gz /Users/smerdis/data/LGN/BIDS/LL_combined/derivatives/prf/sub-LL/20210908-081328/sub-LL_ses-20210810_desc-prftheta_space-func_map.nii.gz /Users/smerdis/data/LGN/BIDS/LL_combined/derivatives/prf/sub-LL/20210908-081328/sub-LL_ses-20210810_desc-prfrho_space-func_map.nii.gz /Users/smerdis/data/LGN/BIDS/LL_combined/derivatives/prf/sub-LL/20210908-081328/sub-LL_ses-20210810_desc-prfrsq_space-func_map.nii.gz\n"
     ]
    }
   ],
   "source": [
    "files_volspace = [x for x in prf_outputs if ('space-anat' not in x) \\\n",
    "        and (('rsq' in x) or ('rho' in x) or ('theta' in x)) \\\n",
    "        and 'thresh' not in x\n",
    "]\n",
    "print('\\n'.join(files_volspace))\n",
    "print(f\"fsleyes {anat_file} {prf_ref_vol_path} {' '.join(files_volspace)}\")"
   ]
  },
  {
   "cell_type": "markdown",
   "metadata": {},
   "source": [
    "#### Threshold by rsq"
   ]
  },
  {
   "cell_type": "code",
   "execution_count": 90,
   "metadata": {},
   "outputs": [
    {
     "name": "stdout",
     "output_type": "stream",
     "text": [
      "/Users/smerdis/data/LGN/BIDS/LL_combined/derivatives/prf/sub-LL/20210907-113646/sub-LL_ses-20210810_desc-prfyy_space-func_map.nii.gz\n",
      "Thresholding /Users/smerdis/data/LGN/BIDS/LL_combined/derivatives/prf/sub-LL/20210907-113646/sub-LL_ses-20210810_desc-prfyy_space-func_map.nii.gz by /Users/smerdis/data/LGN/BIDS/LL_combined/derivatives/prf/sub-LL/20210907-113646/sub-LL_ses-20210810_desc-prfrsq_space-func_map.nii.gz at thresh 0.05...\n",
      " (128, 128, 19) (128, 128, 19) 310272 1024\n",
      "prfrsq\n",
      "['sub-LL', 'ses-20210810', 'desc-prfyy', 'space-func', 'thresh-prfrsq-0.05', 'map.nii.gz']\n",
      "sub-LL_ses-20210810_desc-prfyy_space-func_thresh-prfrsq-0.05_map.nii.gz\n",
      "/Users/smerdis/data/LGN/BIDS/LL_combined/derivatives/prf/sub-LL/20210907-113646/sub-LL_ses-20210810_desc-prftheta_space-func_map.nii.gz\n",
      "Thresholding /Users/smerdis/data/LGN/BIDS/LL_combined/derivatives/prf/sub-LL/20210907-113646/sub-LL_ses-20210810_desc-prftheta_space-func_map.nii.gz by /Users/smerdis/data/LGN/BIDS/LL_combined/derivatives/prf/sub-LL/20210907-113646/sub-LL_ses-20210810_desc-prfrsq_space-func_map.nii.gz at thresh 0.05...\n",
      " (128, 128, 19) (128, 128, 19) 310272 1024\n",
      "prfrsq\n",
      "['sub-LL', 'ses-20210810', 'desc-prftheta', 'space-func', 'thresh-prfrsq-0.05', 'map.nii.gz']\n",
      "sub-LL_ses-20210810_desc-prftheta_space-func_thresh-prfrsq-0.05_map.nii.gz\n",
      "/Users/smerdis/data/LGN/BIDS/LL_combined/derivatives/prf/sub-LL/20210907-113646/sub-LL_ses-20210810_desc-prfxx_space-func_map.nii.gz\n",
      "Thresholding /Users/smerdis/data/LGN/BIDS/LL_combined/derivatives/prf/sub-LL/20210907-113646/sub-LL_ses-20210810_desc-prfxx_space-func_map.nii.gz by /Users/smerdis/data/LGN/BIDS/LL_combined/derivatives/prf/sub-LL/20210907-113646/sub-LL_ses-20210810_desc-prfrsq_space-func_map.nii.gz at thresh 0.05...\n",
      " (128, 128, 19) (128, 128, 19) 310272 1024\n",
      "prfrsq\n",
      "['sub-LL', 'ses-20210810', 'desc-prfxx', 'space-func', 'thresh-prfrsq-0.05', 'map.nii.gz']\n",
      "sub-LL_ses-20210810_desc-prfxx_space-func_thresh-prfrsq-0.05_map.nii.gz\n",
      "/Users/smerdis/data/LGN/BIDS/LL_combined/derivatives/prf/sub-LL/20210907-113646/sub-LL_ses-20210810_desc-prfrho_space-func_map.nii.gz\n",
      "Thresholding /Users/smerdis/data/LGN/BIDS/LL_combined/derivatives/prf/sub-LL/20210907-113646/sub-LL_ses-20210810_desc-prfrho_space-func_map.nii.gz by /Users/smerdis/data/LGN/BIDS/LL_combined/derivatives/prf/sub-LL/20210907-113646/sub-LL_ses-20210810_desc-prfrsq_space-func_map.nii.gz at thresh 0.05...\n",
      " (128, 128, 19) (128, 128, 19) 310272 1024\n",
      "prfrsq\n",
      "['sub-LL', 'ses-20210810', 'desc-prfrho', 'space-func', 'thresh-prfrsq-0.05', 'map.nii.gz']\n",
      "sub-LL_ses-20210810_desc-prfrho_space-func_thresh-prfrsq-0.05_map.nii.gz\n",
      "/Users/smerdis/data/LGN/BIDS/LL_combined/derivatives/prf/sub-LL/20210907-113646/sub-LL_ses-20210810_desc-prfrsq_space-func_map.nii.gz\n",
      "Thresholding /Users/smerdis/data/LGN/BIDS/LL_combined/derivatives/prf/sub-LL/20210907-113646/sub-LL_ses-20210810_desc-prfrsq_space-func_map.nii.gz by /Users/smerdis/data/LGN/BIDS/LL_combined/derivatives/prf/sub-LL/20210907-113646/sub-LL_ses-20210810_desc-prfrsq_space-func_map.nii.gz at thresh 0.05...\n",
      " (128, 128, 19) (128, 128, 19) 310272 1024\n",
      "prfrsq\n",
      "['sub-LL', 'ses-20210810', 'desc-prfrsq', 'space-func', 'thresh-prfrsq-0.05', 'map.nii.gz']\n",
      "sub-LL_ses-20210810_desc-prfrsq_space-func_thresh-prfrsq-0.05_map.nii.gz\n"
     ]
    }
   ],
   "source": [
    "rsq_file = [f for f in prf_outputs if 'desc-prfrsq' in f and 'thresh' not in f][0]\n",
    "\n",
    "for output in glob.glob(f\"{prf_dir}/sub-{sub}*desc-prf[!mask]*map*\"):\n",
    "    if 'thresh-' not in output and 'space-func' in output:\n",
    "        print(output)\n",
    "        _ = utils.threshold(output, rsq_file, .05, prf_dir)"
   ]
  },
  {
   "cell_type": "markdown",
   "metadata": {},
   "source": [
    "#### Threshold by ecc (to filter out huge eccentricities that are a result of improper fits)"
   ]
  },
  {
   "cell_type": "code",
   "execution_count": 14,
   "metadata": {},
   "outputs": [
    {
     "name": "stdout",
     "output_type": "stream",
     "text": [
      "Thresholding /Users/smerdis/data/LGN/BIDS/LL_combined/derivatives/prf/sub-LL/20210908-081328/sub-LL_ses-20210810_desc-prfyy_space-func_map.nii.gz by /Users/smerdis/data/LGN/BIDS/LL_combined/derivatives/prf/sub-LL/20210908-081328/sub-LL_ses-20210810_desc-prfrho_space-func_map.nii.gz at thresh 12.00...\n",
      " (128, 128, 19) (128, 128, 19) 28133 23064\n",
      "prfrho\n",
      "['sub-LL', 'ses-20210810', 'desc-prfyy', 'space-func', 'thresh-prfrho-12.00', 'map.nii.gz']\n",
      "sub-LL_ses-20210810_desc-prfyy_space-func_thresh-prfrho-12.00_map.nii.gz\n",
      "Thresholding /Users/smerdis/data/LGN/BIDS/LL_combined/derivatives/prf/sub-LL/20210908-081328/sub-LL_ses-20210810_desc-prftheta_space-func_map.nii.gz by /Users/smerdis/data/LGN/BIDS/LL_combined/derivatives/prf/sub-LL/20210908-081328/sub-LL_ses-20210810_desc-prfrho_space-func_map.nii.gz at thresh 12.00...\n",
      " (128, 128, 19) (128, 128, 19) 28133 23064\n",
      "prfrho\n",
      "['sub-LL', 'ses-20210810', 'desc-prftheta', 'space-func', 'thresh-prfrho-12.00', 'map.nii.gz']\n",
      "sub-LL_ses-20210810_desc-prftheta_space-func_thresh-prfrho-12.00_map.nii.gz\n",
      "Thresholding /Users/smerdis/data/LGN/BIDS/LL_combined/derivatives/prf/sub-LL/20210908-081328/sub-LL_ses-20210810_desc-prfxx_space-func_map.nii.gz by /Users/smerdis/data/LGN/BIDS/LL_combined/derivatives/prf/sub-LL/20210908-081328/sub-LL_ses-20210810_desc-prfrho_space-func_map.nii.gz at thresh 12.00...\n",
      " (128, 128, 19) (128, 128, 19) 28133 23064\n",
      "prfrho\n",
      "['sub-LL', 'ses-20210810', 'desc-prfxx', 'space-func', 'thresh-prfrho-12.00', 'map.nii.gz']\n",
      "sub-LL_ses-20210810_desc-prfxx_space-func_thresh-prfrho-12.00_map.nii.gz\n",
      "Thresholding /Users/smerdis/data/LGN/BIDS/LL_combined/derivatives/prf/sub-LL/20210908-081328/sub-LL_ses-20210810_desc-prfrho_space-func_map.nii.gz by /Users/smerdis/data/LGN/BIDS/LL_combined/derivatives/prf/sub-LL/20210908-081328/sub-LL_ses-20210810_desc-prfrho_space-func_map.nii.gz at thresh 12.00...\n",
      " (128, 128, 19) (128, 128, 19) 28133 23064\n",
      "prfrho\n",
      "['sub-LL', 'ses-20210810', 'desc-prfrho', 'space-func', 'thresh-prfrho-12.00', 'map.nii.gz']\n",
      "sub-LL_ses-20210810_desc-prfrho_space-func_thresh-prfrho-12.00_map.nii.gz\n",
      "Thresholding /Users/smerdis/data/LGN/BIDS/LL_combined/derivatives/prf/sub-LL/20210908-081328/sub-LL_ses-20210810_desc-prfrsq_space-func_map.nii.gz by /Users/smerdis/data/LGN/BIDS/LL_combined/derivatives/prf/sub-LL/20210908-081328/sub-LL_ses-20210810_desc-prfrho_space-func_map.nii.gz at thresh 12.00...\n",
      " (128, 128, 19) (128, 128, 19) 28133 23064\n",
      "prfrho\n",
      "['sub-LL', 'ses-20210810', 'desc-prfrsq', 'space-func', 'thresh-prfrho-12.00', 'map.nii.gz']\n",
      "sub-LL_ses-20210810_desc-prfrsq_space-func_thresh-prfrho-12.00_map.nii.gz\n"
     ]
    }
   ],
   "source": [
    "ecc_file = [f for f in prf_outputs if 'desc-prfrho' in f and 'thresh' not in f][0]\n",
    "max_ecc = 12\n",
    "for output in glob.glob(f\"{prf_dir}/sub-{sub}*desc-prf[!mask]*map*\"):\n",
    "    _ = utils.threshold(output, ecc_file, max_ecc, prf_dir, how='less')\n",
    "#     if f\"thresh-prfrsq-0.20\" not in output and f\"thresh-prfrho\" not in output:\n",
    "#         #_ = threshold(output, ecc_file, max_ecc, prf_dir, how='less')\n",
    "#         #_ = threshold(output, ecc_file, max_ecc, prf_dir, how='less')\n",
    "#         print(output)"
   ]
  },
  {
   "cell_type": "code",
   "execution_count": 11,
   "metadata": {},
   "outputs": [
    {
     "name": "stdout",
     "output_type": "stream",
     "text": [
      "/Users/smerdis/data/LGN/BIDS/JB_combined/derivatives/prf/sub-JB/20210604-142202/sub-JB_ses-20210402_desc-prftheta_space-func_thresh-prfrsq-0.10_map.nii.gz\n",
      "/Users/smerdis/data/LGN/BIDS/JB_combined/derivatives/prf/sub-JB/20210604-142202/sub-JB_ses-20210402_desc-prfrho_space-func_thresh-prfrsq-0.10_map.nii.gz\n",
      "/Users/smerdis/data/LGN/BIDS/JB_combined/derivatives/prf/sub-JB/20210604-142202/sub-JB_ses-20210402_desc-prfrsq_space-func_thresh-prfrsq-0.10_map.nii.gz\n",
      "/Users/smerdis/data/LGN/BIDS/JB_combined/derivatives/prf/sub-JB/20210604-142202/sub-JB_ses-20210402_desc-prfrsq_space-func_map.nii.gz\n",
      "/Users/smerdis/data/LGN/BIDS/JB_combined/derivatives/prf/sub-JB/20210604-142202/sub-JB_ses-20210402_desc-prfrho_space-func_map.nii.gz\n",
      "/Users/smerdis/data/LGN/BIDS/JB_combined/derivatives/prf/sub-JB/20210604-142202/sub-JB_ses-20210402_desc-prftheta_space-func_map.nii.gz\n",
      "fsleyes /Users/smerdis/data/LGN/BIDS/JB_combined/sub-JB/ses-20210402/anat/sub-JB_ses-20210402_T1w.nii.gz /Users/smerdis/data/LGN/BIDS/JB_combined/derivatives/prf/sub-JB/sub-JB_ses-20210402_refvol.nii.gz /Users/smerdis/data/LGN/BIDS/JB_combined/derivatives/prf/sub-JB/20210604-142202/sub-JB_ses-20210402_desc-prftheta_space-func_thresh-prfrsq-0.10_map.nii.gz /Users/smerdis/data/LGN/BIDS/JB_combined/derivatives/prf/sub-JB/20210604-142202/sub-JB_ses-20210402_desc-prfrho_space-func_thresh-prfrsq-0.10_map.nii.gz /Users/smerdis/data/LGN/BIDS/JB_combined/derivatives/prf/sub-JB/20210604-142202/sub-JB_ses-20210402_desc-prfrsq_space-func_thresh-prfrsq-0.10_map.nii.gz /Users/smerdis/data/LGN/BIDS/JB_combined/derivatives/prf/sub-JB/20210604-142202/sub-JB_ses-20210402_desc-prfrsq_space-func_map.nii.gz /Users/smerdis/data/LGN/BIDS/JB_combined/derivatives/prf/sub-JB/20210604-142202/sub-JB_ses-20210402_desc-prfrho_space-func_map.nii.gz /Users/smerdis/data/LGN/BIDS/JB_combined/derivatives/prf/sub-JB/20210604-142202/sub-JB_ses-20210402_desc-prftheta_space-func_map.nii.gz\n"
     ]
    }
   ],
   "source": [
    "files = [x for x in glob.glob(f\"{prf_dir}/sub-{sub}*desc-prf[!mask]*map*\") if ('space-anat' not in x)\n",
    "                      and (('desc-prfrsq' in x) or ('desc-prfrho' in x) or ('desc-prftheta' in x))\n",
    "        ] #and 'thresh-prfrsq' in x]\n",
    "print('\\n'.join(files))\n",
    "print(f\"fsleyes {anat_file} {prf_ref_vol_path} {' '.join(files)}\")"
   ]
  },
  {
   "cell_type": "markdown",
   "metadata": {},
   "source": []
  },
  {
   "cell_type": "code",
   "execution_count": null,
   "metadata": {},
   "outputs": [],
   "source": [
    "for output in files:\n",
    "    print(output)\n",
    "    #if 'thresh-prfrsq' in output:\n",
    "    utils.prf_to_anat(sub, f\"{out_dir}/brain.nii.gz\", output, f\"{out_dir}/func2brain.mat\", prf_dir) # my data\n",
    "    #utils.prf_to_anat(sub, f\"{out_dir}/brain.nii.gz\", output, f\"{out_dir}/func2brain_dev.mat\", prf_dir) # dev's data"
   ]
  },
  {
   "cell_type": "code",
   "execution_count": null,
   "metadata": {},
   "outputs": [],
   "source": [
    "files"
   ]
  },
  {
   "cell_type": "code",
   "execution_count": null,
   "metadata": {},
   "outputs": [],
   "source": [
    "utils.freeview_prfs(sub, 'lh', prf_dir)"
   ]
  },
  {
   "cell_type": "code",
   "execution_count": null,
   "metadata": {},
   "outputs": [],
   "source": [
    "utils.freeview_prfs(sub, 'rh', prf_dir)"
   ]
  },
  {
   "cell_type": "code",
   "execution_count": null,
   "metadata": {},
   "outputs": [],
   "source": [
    "utils.freeview_prfs(sub, 'lh', f\"{out_dir}/20210428-114114\")"
   ]
  },
  {
   "cell_type": "markdown",
   "metadata": {},
   "source": [
    "## Threshold ROI by pRF outputs and put into sub-ROIs"
   ]
  },
  {
   "cell_type": "code",
   "execution_count": 91,
   "metadata": {},
   "outputs": [],
   "source": [
    "final_big_rois = ['/Users/smerdis/data/LGN/BIDS/LL_combined/derivatives/streams/sub-LL/sub-LL_ses-20210511_desc-LLGN_roi.nii.gz',\n",
    " '/Users/smerdis/data/LGN/BIDS/LL_combined/derivatives/streams/sub-LL/sub-LL_ses-20210511_desc-RLGN_roi.nii.gz']"
   ]
  },
  {
   "cell_type": "code",
   "execution_count": null,
   "metadata": {},
   "outputs": [],
   "source": [
    "for roi in final_big_rois:\n",
    "    utils.roi_stats({roi:load_img(roi)}, lgn_ref_img)\n",
    "    if 'desc-L' in roi:\n",
    "        high_roi, low_roi, threshold = utils.assign_roi_percentile(roi,\n",
    "                                                           beta_MP_img,\n",
    "                                                           80,\n",
    "                                                           lgn_ref_img,\n",
    "                                                           'L')\n",
    "    elif 'desc-R' in roi:\n",
    "        high_roi, low_roi, threshold = utils.assign_roi_percentile(roi,\n",
    "                                                           beta_MP_img,\n",
    "                                                           80,\n",
    "                                                           lgn_ref_img,\n",
    "                                                           'R')\n",
    "    else:\n",
    "        print('Error - not sure which hemisphere roi is in')\n",
    "    utils.roi_stats({'high':load_img(high_roi), 'low':load_img(low_roi)}, prf_ref_img)"
   ]
  }
 ],
 "metadata": {
  "kernelspec": {
   "display_name": "Python 3",
   "language": "python",
   "name": "python3"
  },
  "language_info": {
   "codemirror_mode": {
    "name": "ipython",
    "version": 3
   },
   "file_extension": ".py",
   "mimetype": "text/x-python",
   "name": "python",
   "nbconvert_exporter": "python",
   "pygments_lexer": "ipython3",
   "version": "3.7.9"
  }
 },
 "nbformat": 4,
 "nbformat_minor": 4
}
